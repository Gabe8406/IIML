{
  "nbformat": 4,
  "nbformat_minor": 0,
  "metadata": {
    "colab": {
      "name": "lecture7_gubelmann.ipynb",
      "provenance": []
    },
    "kernelspec": {
      "name": "python3",
      "display_name": "Python 3"
    },
    "language_info": {
      "name": "python"
    }
  },
  "cells": [
    {
      "cell_type": "code",
      "execution_count": null,
      "metadata": {
        "id": "ARzULGdaXEzn"
      },
      "outputs": [],
      "source": []
    },
    {
      "cell_type": "markdown",
      "source": [
        "***Question Block 1: Origins of Autonomy***"
      ],
      "metadata": {
        "id": "4S1qwM2pdIPk"
      }
    },
    {
      "cell_type": "markdown",
      "source": [
        "Question 1.1: What does autonomy mean, and what are its original uses?\n",
        "\n",
        "Answer 1.1: It means self-legislating, and it has been used to designate a certain political status, namely one where the political entity in question enjoys the right to declare its own rights.\n",
        "\n",
        "Question 1.2: What significance does autonomy have for Kant?\n",
        "Answer 1.2: It is central to his understanding of understanding, morality, and the phenomenon of life. It is one of the single most important concepts for him.\n"
      ],
      "metadata": {
        "id": "x4ybWW93kWS7"
      }
    },
    {
      "cell_type": "markdown",
      "source": [
        "***Question Block 2: Speech acts***"
      ],
      "metadata": {
        "id": "nBEsO5tQkpdE"
      }
    },
    {
      "cell_type": "markdown",
      "source": [
        "Question 2.1: What is a speech act? Explain by means of an example.\n",
        "\n",
        "Answer 2.1: It is a single action that is executed using language. Within a single speech act, utterance, propositional, illocutionary, and perlocutionary acts can be distinguished. For instance, consider a writing on a wall \"Dogs must be leashed.\". The utterance act is simply the material sign on the wall. The propositional act is the propositional content of the act, namely that whatever is a dog must be lead on a leash here. The illocutionary act is that there is an obligation (probably a legally backed one) issued that all dogs must be leashed. The perlocution is, simply, that people obey the order (which, in Switzerland, they hardly do) and lead their dogs on a leash.\n",
        "\n",
        "Question 2.2: Is there language that is not embedded in a speech act?\n",
        "\n",
        "Answer: 2.2: No. Assuming so rests on a misunderstanding of what language is. All language is produced to to do certain things, to successfully commit certain acts."
      ],
      "metadata": {
        "id": "oCJBaupKkuDR"
      }
    },
    {
      "cell_type": "markdown",
      "source": [
        "***Question 3: What is needed for a machine or a human to successfully engage in speech acts?***"
      ],
      "metadata": {
        "id": "MAgNt7NblHnB"
      }
    },
    {
      "cell_type": "markdown",
      "source": [
        "Question, see above.\n",
        "Answer: A more robust conception of autonomy than with understanding alone. The machine has to be able to act. More specifically, we, as counterparts in conversation, have to trust the machine that it is sufficiently capable to make good of the commitments that the machine incurs with a given speech act. This is not so different with humans. Imagine a four-year-old saying: \"I want to buy your house for two million dollars.\" In normal circumstances, this speech act is bound to fail: Nobody will believe that a four-year-old is capable of paying such a sum (legally, this might be outright impossible). \n",
        "\n",
        "As a consequence, it is in principle possible that machines can successfully engage in speech acts. It depends on whether they are sufficiently autonomous and capable, and whether we as recipients are thinking that they are. "
      ],
      "metadata": {
        "id": "TQAZ5ierlXMg"
      }
    },
    {
      "cell_type": "markdown",
      "source": [
        "***Question Block 4: Transformers & Speech acts?***"
      ],
      "metadata": {
        "id": "_sNMkzQKlf-D"
      }
    },
    {
      "cell_type": "markdown",
      "source": [
        "Can transformers successfully engage in speech acts?\n",
        "\n",
        "Answer: This depends on how they are embedded, both socially and technically, but in principle: Yes, appropriately embedded transformer-based langauge models are capable of succeeding at certain speech acts. For instance, imagine google assistant saying \"It will rain in an hour\". Given that its correctly wired up with an accurate weather service, and given that you know that this is the case, the speech act will be successful: you will behave appropriately, say, take an umbrella. They are certainly not able to successfully engage in the full range of speech acts, but no single human being is able to do so, compare the example of the four-year-old above."
      ],
      "metadata": {
        "id": "uKrkr6ZUmPhj"
      }
    }
  ]
}