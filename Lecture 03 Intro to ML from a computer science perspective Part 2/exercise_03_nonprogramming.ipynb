{
 "cells": [
  {
   "cell_type": "markdown",
   "metadata": {},
   "source": [
    "# Welcome to Machine Learning -- An Interdisciplinary Introduction\n",
    "\n",
    "## Facial Recognition\n",
    "\n",
    "One application of deep neural networks is automatic face recognition.\n",
    "Due to its prediction accuracy and the easy accessibility of training data on the web, all modern face recognition systems are built using deep neural networks.\n",
    "Generally, super-human performance can be obtained when comparing images of unfamiliar faces (this changes dramatically when you actually know the person in the image).\n",
    "\n",
    "## Task 1: Applications of Face Recognition\n",
    "\n",
    "Think about different application scenarios for automatic face recognition.\n",
    "Describe at least three applications in detail.\n",
    "Discuss the advantages and disadvantages of using automatic face recognition systems in your applications."
   ]
  },
  {
   "cell_type": "markdown",
   "metadata": {},
   "source": [
    "..."
   ]
  },
  {
   "cell_type": "markdown",
   "metadata": {},
   "source": [
    "Typically, training data for face recognition algorithms are collected from the web.\n",
    "Most large-scale training datasets contain public figures, such as actors, politicians or other types of celebrities.\n",
    "\n",
    "## Task 2: Training Data Collection\n",
    "\n",
    "Discuss at least two advantages of using images of public figures in such a training dataset?\n",
    "What kinds of problems do you see with this approach? In which cases will deep networks trained on such data likely fail?"
   ]
  },
  {
   "cell_type": "markdown",
   "metadata": {},
   "source": [
    "..."
   ]
  },
  {
   "cell_type": "markdown",
   "metadata": {},
   "source": [
    "If no countermeasures are taken, face recognition systems can be easily fooled by so-called presentation attacks.\n",
    "For example, someone can download a photo from your social media profile, print it and hold it in front of your telephone to unlock it.\n",
    "\n",
    "## Task 3: Presentation Attack Detection (PAD)\n",
    "\n",
    "For such simple print attacks there exist several different strategies to detect them.\n",
    "Discuss two different strategies by either doing a short literature search on PAD, or by coming up with your own ideas.\n",
    "How can machine learning/deep learning be helpful in these strategies?"
   ]
  },
  {
   "cell_type": "markdown",
   "metadata": {},
   "source": [
    "..."
   ]
  },
  {
   "cell_type": "markdown",
   "metadata": {},
   "source": [
    "The usage of automatic face recognition systems in public areas is widely disputed, e.g. in 2020 The Guardian reported [anger over the use face recognition in a football derby](https://www.theguardian.com/technology/2020/jan/12/anger-over-use-facial-recognition-south-wales-football-derby-cardiff-swansea).\n",
    "Additionally, face recognition systems are reported to be biased against different demographics, i.e., they work well for white males, but much less precisely on Afro-American women, as [recent studies](https://sitn.hms.harvard.edu/flash/2020/racial-discrimination-in-face-recognition-technology) show.\n",
    "For example, one test of a commercial face recognition software in 2018 showed that [28 members of the US Congress were positively matched with a database of criminals](https://www.aclu.org/news/privacy-technology/amazons-face-recognition-falsely-matched-28) and inappropriately many of these matches came from non-white people.\n",
    "Nevertheless, this technology is used by police forces, and errors made by the software can [bring innocent people into trouble with the police](https://www.nytimes.com/2020/06/24/technology/facial-recognition-arrest.html) and is widely used [to monitor people in China](https://www.bbc.com/news/technology-59441379)\n",
    "\n",
    "## Task 4: Handling Mistakes\n",
    "\n",
    "Facial recognition technology is still in use by police forces in the US and the UK.\n",
    "However, errors made by this software can negatively affect peoples lives.\n",
    "Discuss two directions and provide ideas on how to improve the situation."
   ]
  },
  {
   "cell_type": "markdown",
   "metadata": {},
   "source": [
    "..."
   ]
  },
  {
   "cell_type": "markdown",
   "metadata": {},
   "source": [
    "While generally, machine learning systems makes the lives of people easier, the opacity of deep learning systems makes it difficult to verify the decisions made by the algorithms.\n",
    "In the last years, several such failures of machine learning algorithms have gone through the media.\n",
    "\n",
    "## Task 5: Issues of Machine Learning in Other Domains of Applications\n",
    "\n",
    "Find at least two articles that describe issues of machine learning techniques in real-world applications other than face recognition.\n",
    "Probe the links to these articles.\n",
    "Describe the situation shown in the articles and provide ideas on how to improve the situation."
   ]
  },
  {
   "cell_type": "markdown",
   "metadata": {},
   "source": [
    "..."
   ]
  }
 ],
 "metadata": {
  "language_info": {
   "name": "python"
  },
  "orig_nbformat": 4
 },
 "nbformat": 4,
 "nbformat_minor": 2
}
