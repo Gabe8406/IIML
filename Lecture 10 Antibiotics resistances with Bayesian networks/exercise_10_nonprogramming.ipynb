{
  "cells": [
    {
      "cell_type": "markdown",
      "metadata": {},
      "source": [
        "# Non-Programming Exercise Week 10: Antibiotics resistances with Bayesian networks"
      ]
    },
    {
      "cell_type": "markdown",
      "metadata": {},
      "source": [
        "# Question 1\t\n",
        "Please present Pearl’s definition of causality. Possible source: Pearce N, Lawlor DA. Causal inference-so much more than statistics. Int J Epidemiol. 2016 Dec 1;45(6):1895-1903. doi: 10.1093/ije/dyw328"
      ]
    },
    {
      "cell_type": "markdown",
      "metadata": {},
      "source": [
        "place your answer here:"
      ]
    },
    {
      "cell_type": "markdown",
      "metadata": {},
      "source": [
        "# Question 2\n",
        "Please discuss Pearl’s definition of causality, i.e., do you agree or di you prefer another one. Provide arguments (approx. 200 words)."
      ]
    },
    {
      "cell_type": "markdown",
      "metadata": {},
      "source": [
        "place your answer here:"
      ]
    },
    {
      "cell_type": "markdown",
      "metadata": {},
      "source": [
        "# Question 3\n",
        "Please draw a causal diagram (DAG) in the context of computer gaming and educational outcomes.\n",
        "\n",
        "1.\tDescribe the population you are referring to.\n",
        "2.\tInclude 10-15 variables, with at least one confounder and one collider.\n",
        "3.\tPlease describe in words all nodes and arcs.\n",
        "4.\tAre there are unblocked backdoor paths?\n",
        "5.\tAre there are blocked paths?\n",
        "\n",
        "You could either draw the dag directly (e.g. powerpoint) or use  [dagitty](www.dagitty.net).\n",
        "\n",
        "Please check the [Markdown tutorial](https://www.markdownguide.org/basic-syntax/)  for how to insert images into .ipynb"
      ]
    },
    {
      "cell_type": "markdown",
      "metadata": {},
      "source": [
        "place your answer here:"
      ]
    }
  ],
  "metadata": {
    "colab": {
      "collapsed_sections": [
        "axDoflsgcoqT",
        "qh0JblxpdAnR",
        "qERr2EWwCXFM",
        "1wYDQ94qC4_v"
      ],
      "provenance": []
    },
    "gpuClass": "standard",
    "kernelspec": {
      "display_name": "Python 3.9.13 64-bit",
      "language": "python",
      "name": "python3"
    },
    "language_info": {
      "name": "python",
      "version": "3.9.13"
    },
    "vscode": {
      "interpreter": {
        "hash": "a665b5d41d17b532ea9890333293a1b812fa0b73c9c25c950b3cedf1bebd0438"
      }
    }
  },
  "nbformat": 4,
  "nbformat_minor": 0
}
