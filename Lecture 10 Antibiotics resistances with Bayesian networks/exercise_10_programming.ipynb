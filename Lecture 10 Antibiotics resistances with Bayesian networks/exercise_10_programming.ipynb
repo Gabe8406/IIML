{
  "cells": [
    {
      "cell_type": "code",
      "execution_count": null,
      "metadata": {
        "id": "dUOA_eYwI6VL"
      },
      "outputs": [],
      "source": [
        "%%capture\n",
        "!sudo apt install libgsl-dev\n",
        "!pip install rpy2==3.5.1\n",
        "%reload_ext rpy2.ipython"
      ]
    },
    {
      "cell_type": "code",
      "execution_count": null,
      "metadata": {
        "colab": {
          "base_uri": "https://localhost:8080/"
        },
        "id": "XxD2vniyhDxW",
        "outputId": "e6b9f33f-8cbf-43ad-cace-34e83260bd39"
      },
      "outputs": [],
      "source": [
        "%%R\n",
        "install.packages(\"abn\", dependencies=TRUE)"
      ]
    },
    {
      "cell_type": "code",
      "execution_count": null,
      "metadata": {
        "id": "4Rod-tY9mmFW"
      },
      "outputs": [],
      "source": [
        "#change download path to your tmp folder it is printed above\n",
        "!cp /tmp/RtmpL7QpP8/downloaded_packages/* /usr/lib/R/site-library/"
      ]
    },
    {
      "cell_type": "code",
      "execution_count": null,
      "metadata": {
        "colab": {
          "base_uri": "https://localhost:8080/"
        },
        "id": "5JlOK64SEmdf",
        "outputId": "f1c2f0e8-86d8-4c57-8aa6-902baf05bebe"
      },
      "outputs": [
        {
          "name": "stderr",
          "output_type": "stream",
          "text": [
            "WARNING:rpy2.rinterface_lib.callbacks:R[write to console]: abn version 2.7-1 (2022-04-21) is loaded.\n",
            "\n"
          ]
        }
      ],
      "source": [
        "%%R\n",
        "library(abn)\n"
      ]
    },
    {
      "cell_type": "markdown",
      "metadata": {
        "id": "GczhgBajcQym"
      },
      "source": [
        "**Coding exercise related to antimicrobial resistance**\n",
        "\n",
        "The data set amr.csv has been slightly modified and originate from this paper (*Hartnack S, Odoch T, Kratzer G, Furrer R, Wasteson Y, L’Abée-Lund TM, Skjerve E. Additive Bayesian networks for antimicrobial resistance and potential risk factors in non-typhoidal Salmonella isolates from layer hens in Uganda. BMC Vet Res. 2019 Jun 24;15(1):212. doi: 10.1186/s12917-019-1965-y*).\n",
        "\n",
        "The data set amr.csv comprises data on antimicrobial resistance against the following seven different antibiotics: ampicillin (Amp_res), chloramphenicol (Clr_res), ciprofloxacin (Cip_res), sulfamethoxazole/trimethoprim (SxT_res), sulfonamide (Sulfa_res), tetracycline (Tet_res), and trimethoprim (Trim_res), were included as binary variables (baseline no resistance).\n",
        "\n",
        "Furthermore five potential risk factors are included: (Pets) presence 1 or absence 0 (baseline) of pets on the farm, (Gender) of the manager being male 1 (baseline) or 0 female, (Biosecurity) having implemented biosecurity measures 1 or not 0 (baseline), (Handwash) before having contact with birds 1 or not 0 (baseline), (Eggtrays) are re-used 1 or not 0 (baseline).\n",
        "\n",
        "The research question is to a) determine which of the five risk factors is potentially associated with antimicrobial resistance and b) which of the seven antimicrobial resistances are linked to each other.\n"
      ]
    },
    {
      "cell_type": "markdown",
      "metadata": {
        "id": "z-u4kgL4ceuE"
      },
      "source": [
        "**Please use additive Bayesian network modeling with the R package abn to answer the research question.**\n",
        "\n",
        "Further information related to the coding is available on these websites https://gilleskratzer.github.io/ABN-UseR-2021/ (some code is taken from here) or http://r-bayesian-networks.org/.\n",
        "To answer the research questions, please provide a pdf file providing code, graphs and text.\n",
        "\n",
        "Please consider the following points (1 to 4) to be addressed:\n"
      ]
    },
    {
      "cell_type": "markdown",
      "metadata": {
        "id": "axDoflsgcoqT"
      },
      "source": [
        "# *1*.\tImport the data set **amr.csv**"
      ]
    },
    {
      "cell_type": "code",
      "execution_count": null,
      "metadata": {
        "colab": {
          "base_uri": "https://localhost:8080/"
        },
        "id": "WRUAoy88b0qT",
        "outputId": "5f1ef8c9-a3ff-42b4-d824-954fa5589df3"
      },
      "outputs": [
        {
          "name": "stdout",
          "output_type": "stream",
          "text": [
            "Cloning into 'Machine-Learning-An-Interdisciplinary-Introduction'...\n",
            "remote: Enumerating objects: 320, done.\u001b[K\n",
            "remote: Counting objects: 100% (90/90), done.\u001b[K\n",
            "remote: Compressing objects: 100% (51/51), done.\u001b[K\n",
            "remote: Total 320 (delta 50), reused 69 (delta 37), pack-reused 230\u001b[K\n",
            "Receiving objects: 100% (320/320), 4.21 MiB | 22.43 MiB/s, done.\n",
            "Resolving deltas: 100% (152/152), done.\n"
          ]
        }
      ],
      "source": [
        "# here we are cloning our course github repo as it contains data (arm.csv) for today.\n",
        "# Note: storing data on git is not best practive deu to the size data sets can take. However, the file we work with today is rather small.\n",
        "!git clone https://github.com/DSIminor/Machine-Learning-An-Interdisciplinary-Introduction.git"
      ]
    },
    {
      "cell_type": "code",
      "execution_count": null,
      "metadata": {
        "id": "MNM8s2eKctqt"
      },
      "outputs": [],
      "source": [
        "%%R\n",
        "#now find the data file within the repo, copy paste the path as well  \n",
        "amr.data <- read.csv('/content/Machine-Learning-An-Interdisciplinary-Introduction/Lecture 10 Antibiotics resistances with Bayesian networks/amr.csv', #set path in ''\n",
        "                     sep = \";\", #set seperator\n",
        "                     header = #set header\n",
        "                     )\n"
      ]
    },
    {
      "cell_type": "markdown",
      "metadata": {
        "id": "qh0JblxpdAnR"
      },
      "source": [
        "# 2.\tDo descriptive statistics (numerically and graphically) \n",
        "Hint: Variables need to be saved as factors."
      ]
    },
    {
      "cell_type": "code",
      "execution_count": null,
      "metadata": {
        "colab": {
          "base_uri": "https://localhost:8080/"
        },
        "id": "9eSiUAjQ0CNS",
        "outputId": "c2d60494-2782-4752-aa5f-33c083864030"
      },
      "outputs": [
        {
          "name": "stdout",
          "output_type": "stream",
          "text": [
            "'data.frame':\t86 obs. of  12 variables:\n",
            " $ Pets       : int  1 1 1 1 1 1 1 1 1 1 ...\n",
            " $ Gender     : int  1 1 1 1 1 1 1 1 2 2 ...\n",
            " $ Biosecurity: int  0 0 0 1 1 1 1 1 1 1 ...\n",
            " $ Handwash   : int  0 0 0 0 0 0 1 1 1 1 ...\n",
            " $ Eggtrays   : int  1 1 1 1 0 0 0 0 1 1 ...\n",
            " $ Sulfa_res  : int  1 0 0 0 1 0 1 1 1 1 ...\n",
            " $ Cip_res    : int  1 0 0 0 1 1 0 1 1 1 ...\n",
            " $ Tet_res    : int  0 0 0 0 0 0 0 0 0 0 ...\n",
            " $ Trim_res   : int  0 0 0 0 0 0 1 0 0 0 ...\n",
            " $ SxT_res    : int  0 0 0 0 0 0 1 0 0 0 ...\n",
            " $ Clr_res    : int  0 0 0 0 0 0 0 0 0 0 ...\n",
            " $ Amp_res    : int  0 0 0 0 0 0 0 0 0 0 ...\n"
          ]
        }
      ],
      "source": [
        "%%R\n",
        "str(amr.data)"
      ]
    },
    {
      "cell_type": "code",
      "execution_count": null,
      "metadata": {
        "colab": {
          "base_uri": "https://localhost:8080/"
        },
        "id": "yIJ80TK50iUY",
        "outputId": "d97f6b17-70af-4e39-e14a-5827b64b10ab"
      },
      "outputs": [
        {
          "name": "stdout",
          "output_type": "stream",
          "text": [
            " Pets   Gender Biosecurity Handwash Eggtrays Sulfa_res Cip_res Tet_res Trim_res\n",
            " 0:29   1:59   0:53        0:49     0:33     0:65      0:46    0:73    0:80    \n",
            " 1:57   2:27   1:33        1:37     1:53     1:21      1:40    1:13    1: 6    \n",
            " SxT_res Clr_res Amp_res\n",
            " 0:80    0:82    0:82   \n",
            " 1: 6    1: 4    1: 4   \n"
          ]
        }
      ],
      "source": [
        "%%R\n",
        "amr.data[c(1:12)] <- lapply(amr.data[c(1:12)], factor)\n",
        "summary(amr.data)"
      ]
    },
    {
      "cell_type": "markdown",
      "metadata": {
        "id": "qERr2EWwCXFM"
      },
      "source": [
        "## Antibiotic Resistance"
      ]
    },
    {
      "cell_type": "code",
      "execution_count": null,
      "metadata": {
        "colab": {
          "base_uri": "https://localhost:8080/",
          "height": 497
        },
        "id": "IWkXESsI_VxE",
        "outputId": "b018b0b1-9cc5-4cf1-af09-465d57cf636a"
      },
      "outputs": [
        {
          "data": {
            "image/png": "[encoded data removed]"
          },
          "metadata": {},
          "output_type": "display_data"
        }
      ],
      "source": [
        "%%R\n",
        "barplot(table(amr.data$Sulfa_res)/86, ylim=c(0,1), \n",
        "              main=\"Sulfa\", ylab=\"proportion\")\n",
        "text(x = xx, y = table(amr.data$Sulfa_res)/86, \n",
        "     label = table(amr.data$Sulfa_res), pos = 3, cex = 0.8, col = \"red\")"
      ]
    },
    {
      "cell_type": "markdown",
      "metadata": {
        "id": "GnO7lVo4Bb9N"
      },
      "source": [
        "We see the barplot for the variable Sulfa above please recreate the same plot for the variables Trim, SxT_res, Clr_res, Amp_res utilise one cell for each plot"
      ]
    },
    {
      "cell_type": "markdown",
      "metadata": {
        "id": "1wYDQ94qC4_v"
      },
      "source": [
        "## Potential risk factors"
      ]
    },
    {
      "cell_type": "code",
      "execution_count": 2,
      "metadata": {
        "colab": {
          "base_uri": "https://localhost:8080/"
        },
        "id": "tvY8hH4fdI7L",
        "outputId": "13118f77-f370-455e-f1cf-c7c62fb38961"
      },
      "outputs": [
        {
          "name": "stderr",
          "output_type": "stream",
          "text": [
            "UsageError: Cell magic `%%R` not found.\n"
          ]
        }
      ],
      "source": [
        "%%R\n",
        "xx <- barplot(table(amr.data$Pets)/86, ylim=c(0,1), \n",
        "              main=\"Pets\", ylab=\"proportion\")\n",
        "text(x = xx, y = table(amr.data$Pets)/86, \n",
        "     label = table(amr.data$Pets), pos = 3, cex = 0.8, col = \"red\")\n"
      ]
    },
    {
      "cell_type": "markdown",
      "metadata": {
        "id": "udxPL2d2X2Bx"
      },
      "source": [
        "We see the barplot for the variable Sulfa above please recreate the same plot for the variables Gender, Biosecurity, Handwash, Eggtrays utilise one cell for each plot"
      ]
    },
    {
      "cell_type": "markdown",
      "metadata": {
        "id": "knoVxLsHdPU8"
      },
      "source": [
        "# 3. Install and load the R package **abn**"
      ]
    },
    {
      "cell_type": "code",
      "execution_count": null,
      "metadata": {
        "id": "bFzxfBc4dXyw"
      },
      "outputs": [],
      "source": [
        "%%R\n",
        "library(abn)"
      ]
    },
    {
      "cell_type": "markdown",
      "metadata": {
        "id": "cE5cVSmtdfrL"
      },
      "source": [
        "# 4.\tDetermine the optimal dag."
      ]
    },
    {
      "cell_type": "markdown",
      "metadata": {
        "id": "haR-xKM2dnxb"
      },
      "source": [
        "## 4.a Set up the distribution list for each variable\n",
        "Hint: each variable has a binominal distribution"
      ]
    },
    {
      "cell_type": "code",
      "execution_count": null,
      "metadata": {
        "id": "Uv5_21ZndsGe"
      },
      "outputs": [],
      "source": [
        "%%R\n",
        "dist <- dist <- list(Pets        = \"binomial\", \n",
        "                     ####YOUR CODE HERE####\n",
        "                    )\n"
      ]
    },
    {
      "cell_type": "markdown",
      "metadata": {
        "id": "OiLZ9IUTdzU0"
      },
      "source": [
        "## 4.b Ban and/or retain arcs (optional). We decide to ban the gender arc"
      ]
    },
    {
      "cell_type": "code",
      "execution_count": null,
      "metadata": {
        "id": "xHpmcSr3d2oj"
      },
      "outputs": [],
      "source": [
        "%%R\n",
        "retain <- matrix(0, ncol(amr.data), ncol(amr.data))\n",
        "colnames(retain) <- rownames(retain) <- names(amr.data)\n",
        "\n",
        "banned <- matrix(0, ncol(amr.data), ncol(amr.data))\n",
        "colnames(banned) <- rownames(banned) <- names(amr.data)\n",
        "\n",
        "banned[2,-2] <- 1"
      ]
    },
    {
      "cell_type": "markdown",
      "metadata": {
        "id": "c3xGnwBLd8jM"
      },
      "source": [
        "## 4.c Find the optimal dag by increasing the number of parents from 1 to 9. This involves using the commands *buildScoreCache*, *mostProbable* and *fitAbn*. What is the optimal number of parents (i.e. the highest marginal likelihood values)? \n",
        "\n",
        "Please change max.par <- 2 up to max.par <- 9 you can write a for loop or copy the cell 9 times"
      ]
    },
    {
      "cell_type": "code",
      "execution_count": null,
      "metadata": {
        "colab": {
          "base_uri": "https://localhost:8080/"
        },
        "id": "aeA9UjbReJUo",
        "outputId": "89839e24-73b1-4da3-9b08-ba1feb5a5e99"
      },
      "outputs": [],
      "source": [
        "%%R\n",
        "max.par <- 1 \n",
        "\n",
        "mycache1 <- buildScoreCache(data.df = as.data.frame(amr.data), data.dists = dist, \n",
        "                           dag.banned = banned, dag.retained = retain, \n",
        "                           max.parents = max.par, method = 'bayes')\n",
        "\n",
        "mydag1 <- mostProbable(score.cache = mycache1)"
      ]
    },
    {
      "cell_type": "code",
      "execution_count": null,
      "metadata": {
        "colab": {
          "base_uri": "https://localhost:8080/"
        },
        "id": "4f5yLPyNGk82",
        "outputId": "e2d64054-a11a-4b2b-a0af-cd058a280927"
      },
      "outputs": [
        {
          "name": "stdout",
          "output_type": "stream",
          "text": [
            "[1] -488.9781\n"
          ]
        }
      ],
      "source": [
        "%%R\n",
        "fabn1 <- fitAbn(object = mydag1)\n",
        "fabn1$mlik"
      ]
    },
    {
      "cell_type": "markdown",
      "metadata": {
        "id": "ROldqZMwj1kB"
      },
      "source": [
        "now fit each of the directed directed acyclic graph, we showed you how one can fit the first dag above"
      ]
    },
    {
      "cell_type": "code",
      "execution_count": null,
      "metadata": {
        "id": "BjagsAuyHQN3"
      },
      "outputs": [],
      "source": [
        "%%R\n",
        "\n",
        "mliks <- c(fabn1$mlik, fabn2$mlik, fabn3$mlik,\n",
        "           fabn4$mlik, fabn5$mlik, fabn6$mlik,\n",
        "           fabn7$mlik, fabn8$mlik, fabn9$mlik)\n",
        "\n",
        "parents <- c(1:9)"
      ]
    },
    {
      "cell_type": "code",
      "execution_count": null,
      "metadata": {
        "id": "utn1gKGrjEW1"
      },
      "outputs": [],
      "source": [
        "%%R\n",
        "plot(parents, mliks, xlab = \"Parent limit\", ylab = \"Log marginal likelihood\", \n",
        "     type = \"b\", col=\"red\", ylim=range(mliks))\n",
        "abline(v=which(mliks==max(mliks))[1], col=\"grey\", lty=2)"
      ]
    },
    {
      "cell_type": "markdown",
      "metadata": {
        "id": "pM57go5aeOdU"
      },
      "source": [
        "## 4.d Please describe in your own words the commands *buildScoreCache*, *mostProbable* and *fitAbn*.\n",
        "Hint: you can check the documentation of the package here: https://www.rdocumentation.org/packages/abn/versions/0.83"
      ]
    },
    {
      "cell_type": "markdown",
      "metadata": {
        "id": "UGdk9hJ5edEE"
      },
      "source": [
        "## 4.e Please plot the optimal dag.\n",
        "Hint: utilise the function plotAbn()"
      ]
    },
    {
      "cell_type": "code",
      "execution_count": null,
      "metadata": {
        "id": "WPSThLmYGcIY"
      },
      "outputs": [],
      "source": [
        "%%R\n"
      ]
    },
    {
      "cell_type": "markdown",
      "metadata": {
        "id": "Yc3B-oKkehJF"
      },
      "source": [
        "## 4.f Please describe in words the optimal dag, i.e. which risk factors are associated with which antimicrobial resistance and which antimicrobial resistances are linked to each other."
      ]
    },
    {
      "cell_type": "markdown",
      "metadata": {
        "id": "lobqB8JTeie5"
      },
      "source": [
        "BONUS: Are you able to extract effect sizes?"
      ]
    },
    {
      "cell_type": "code",
      "execution_count": null,
      "metadata": {
        "id": "84BMTexeelh2"
      },
      "outputs": [],
      "source": [
        "%%R\n",
        "# results are on the log odds scale\n",
        "marg.f <- fitAbn(object = mydag1, data.df = as.data.frame(amr.data),\n",
        "                 data.dists = dist, compute.fixed=TRUE, n.grid=1000)\n",
        "\n",
        "marg.f\n"
      ]
    },
    {
      "cell_type": "markdown",
      "metadata": {
        "id": "kAZgv1E1epKK"
      },
      "source": [
        "BONUS: Could you visually inspect the marginal posterior distributions of the parameters?"
      ]
    },
    {
      "cell_type": "code",
      "execution_count": null,
      "metadata": {
        "id": "SqW1BXQgIoIE"
      },
      "outputs": [],
      "source": [
        "%%R\n",
        "# results are on the log odds scale\n",
        "marg.f <- fitAbn(object = mydag3, data.df = as.data.frame(amr.data),\n",
        "                 data.dists = dist, compute.fixed=TRUE, n.grid=1000)\n",
        "\n",
        "marg.f"
      ]
    },
    {
      "cell_type": "markdown",
      "metadata": {
        "id": "_CZgt6ONesfy"
      },
      "source": [
        "BONUS: How could the robustness of the optimal dag be assessed?"
      ]
    },
    {
      "cell_type": "code",
      "execution_count": null,
      "metadata": {
        "id": "AofD8wqTIxPr"
      },
      "outputs": [],
      "source": [
        "%%R\n",
        "par(mfrow=c(1,4), mar=c(2,2,1.5,1))\n",
        "for(i in 1:length(marg.f$marginals)){\n",
        "\n",
        "# get the marginal for current node, which is a matrix [x, f(x)]\n",
        "  cur.node <- marg.f$marginals[i]\n",
        "  nom1 <- names(marg.f$marginals)[i]\n",
        "\n",
        "# pick the first value (for models wothout random effects)\n",
        "  cur.node <- cur.node[[1]]\n",
        "  for(j in 1:length(cur.node) ) {\n",
        "    nom2<-names(cur.node)[j]\n",
        "    cur.param <- cur.node[[j]]\n",
        "    plot(cur.param,type=\"l\",main=paste(nom1, \":\", nom2), cex=0.7)\n",
        "  }\n",
        "}"
      ]
    },
    {
      "cell_type": "code",
      "execution_count": null,
      "metadata": {
        "id": "1xF_5eE6IyA8"
      },
      "outputs": [],
      "source": []
    }
  ],
  "metadata": {
    "colab": {
      "collapsed_sections": [
        "axDoflsgcoqT",
        "qh0JblxpdAnR",
        "qERr2EWwCXFM",
        "1wYDQ94qC4_v"
      ],
      "provenance": []
    },
    "gpuClass": "standard",
    "kernelspec": {
      "display_name": "Python 3.9.13 64-bit",
      "language": "python",
      "name": "python3"
    },
    "language_info": {
      "name": "python",
      "version": "3.9.13"
    },
    "vscode": {
      "interpreter": {
        "hash": "a665b5d41d17b532ea9890333293a1b812fa0b73c9c25c950b3cedf1bebd0438"
      }
    }
  },
  "nbformat": 4,
  "nbformat_minor": 0
}
