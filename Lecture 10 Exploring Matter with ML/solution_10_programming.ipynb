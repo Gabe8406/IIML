{
  "cells": [
    {
      "cell_type": "markdown",
      "metadata": {
        "id": "ppW_8VDuReSG"
      },
      "source": [
        "# Programming Exercise Week 9: Toxicity of molecules"
      ]
    },
    {
      "cell_type": "markdown",
      "metadata": {
        "id": "2WiUZzDSZrBo"
      },
      "source": [
        "## Part A: Preparations\n",
        "\n",
        "Run the following code to import some tools."
      ]
    },
    {
      "cell_type": "code",
      "execution_count": 2,
      "metadata": {
        "colab": {
          "base_uri": "https://localhost:8080/"
        },
        "id": "s1DWWhW_GyCB",
        "outputId": "0c244ae4-1f08-45e3-865c-ac20402fe223"
      },
      "outputs": [
        {
          "name": "stderr",
          "output_type": "stream",
          "text": [
            "/Users/kiliansprenkamp/miniconda3/envs/refugeeAnalysis/lib/python3.9/site-packages/tqdm/auto.py:22: TqdmWarning: IProgress not found. Please update jupyter and ipywidgets. See https://ipywidgets.readthedocs.io/en/stable/user_install.html\n",
            "  from .autonotebook import tqdm as notebook_tqdm\n"
          ]
        }
      ],
      "source": [
        "# Pytorch\n",
        "import torch\n",
        "\n",
        "# Package for loading the data\n",
        "import pandas as pd\n",
        "\n",
        "# Package of functions creating iterators for efficient looping\n",
        "import itertools \n",
        "\n",
        "# Package to (amongst other things) draw and plot molecules in the SMILES format (see below)\n",
        "!pip install rdkit-pypi -qqq\n",
        "import rdkit.Chem\n",
        "import rdkit.Chem.Draw\n",
        "\n",
        "# Package to shuffle and split the dataset\n",
        "import sklearn\n",
        "import sklearn.model_selection\n",
        "\n",
        "# Plotting\n",
        "import matplotlib.pyplot as plt"
      ]
    },
    {
      "cell_type": "markdown",
      "metadata": {
        "id": "3LxaQ6WNcpXI"
      },
      "source": [
        "---\n",
        "\n",
        "In this exercise we will study the toxicity of molecules.\n",
        "Molecules will be described using the simplified molecular input line entry system (SMILES). This system allows to describe the structure of chemical species in the form of a line notation, making it suited for a machine learning approach. \n",
        "\n",
        "---\n",
        "\n",
        "**The basic rules for SMILES are:**\n",
        "\n",
        "* Atom types are represented by their atomic symbols, upper case letters represent aliphatic atoms, lower case letters represented aromatic atoms, hydrogens are often stripped away, since those can be inferred from atom type and connectivity.\n",
        "\n",
        "* Bonds are only represented if needed:\n",
        "\n",
        " $\\text{-}$ : single bond (CC and C-C are the same, since single bonds are used by default)\n",
        "\n",
        " = : double bond (C=C-C=C and cccc are the same)\n",
        " \n",
        " $\\#$ : triple bond\n",
        "\n",
        "* Ring opening and closures are represented with numbers: \n",
        " \n",
        " c1ccccc1 - benzene\n",
        "\n",
        "* Substituents leaving a chain or ring are represented with brackets:\n",
        "\n",
        " c1cc(C)ccc1 - methyl-substituted benzene.\n",
        "\n",
        " CC(F)(Br)Cl - ethane substituted with fluorine, chlorine and bromine\n",
        "\n",
        "(More detailed rules, not necessary for our exercise, can be found here: https://www.daylight.com/dayhtml/doc/theory/theory.smiles.html)\n",
        "\n",
        "---"
      ]
    },
    {
      "cell_type": "markdown",
      "metadata": {
        "id": "AhjVeZDG_1Xa"
      },
      "source": [
        "**1a)** With the following commands one can draw a 2d-representation of the molecule using its SMILE representation. Experiment with them to understand how SMILES work."
      ]
    },
    {
      "cell_type": "code",
      "execution_count": 3,
      "metadata": {
        "colab": {
          "base_uri": "https://localhost:8080/",
          "height": 217
        },
        "id": "11yIaNQ73weu",
        "outputId": "d0fea237-c0c9-402e-cf2f-1c5f5652c9ed"
      },
      "outputs": [
        {
          "data": {
            "image/png": "[encoded data removed]",
            "text/plain": [
              "<PIL.PngImagePlugin.PngImageFile image mode=RGB size=200x200>"
            ]
          },
          "execution_count": 3,
          "metadata": {},
          "output_type": "execute_result"
        }
      ],
      "source": [
        "m=rdkit.Chem.MolFromSmiles('c1cc(C)ccc1')\n",
        "rdkit.Chem.Draw.MolToImage(m, size=(200, 200))"
      ]
    },
    {
      "cell_type": "markdown",
      "metadata": {
        "id": "NWTjltZR5A1-"
      },
      "source": [
        "**1b)** With the rules from above, you should be able to create for example the SMILES for acetylsalicylic acid, the active ingredient of Aspirin:\n",
        "![Aspirin-skeletal.svg](data:image/svg+xml;base64,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)"
      ]
    },
    {
      "cell_type": "code",
      "execution_count": 4,
      "metadata": {
        "colab": {
          "base_uri": "https://localhost:8080/",
          "height": 217
        },
        "id": "0CRrPSM26Ibs",
        "outputId": "87e099a8-a8c5-4c6d-a42f-094b1e3b261e"
      },
      "outputs": [
        {
          "data": {
            "image/png": "[encoded data removed]",
            "text/plain": [
              "<PIL.PngImagePlugin.PngImageFile image mode=RGB size=200x200>"
            ]
          },
          "execution_count": 4,
          "metadata": {},
          "output_type": "execute_result"
        }
      ],
      "source": [
        "# Write the SMILES for acetylsalicylic acid and check its 2D-representation\n",
        "m=rdkit.Chem.MolFromSmiles('C(=O)O')\n",
        "rdkit.Chem.Draw.MolToImage(m, size=(200, 200))"
      ]
    },
    {
      "cell_type": "markdown",
      "metadata": {
        "id": "GoVA-nYQ74YQ"
      },
      "source": [
        "---\n",
        "\n",
        "**2a)** We now load the toxicity dataset from the TOX21 program (https://github.com/filipsPL/tox21_dataset/tree/master/compounds).\n",
        "\n",
        "Load the data from the 'sr-are' dataset.\n",
        "\n",
        "Save the SMILES in the array 'smiles', and the activities in the array 'toxicity'."
      ]
    },
    {
      "cell_type": "code",
      "execution_count": 5,
      "metadata": {
        "id": "lKj3GUA0LobC"
      },
      "outputs": [],
      "source": [
        "import numpy as np\n",
        "# load the data from the 'sr-are' dataset\n",
        "datapd = pd.read_csv('https://raw.githubusercontent.com/filipsPL/tox21_dataset/master/compounds/sr-are.tab',sep=\"\\t\")\n",
        "data=datapd.to_numpy()\n",
        "\n",
        "# define smiles and toxicity\n",
        "smiles=data[:,1]\n",
        "toxicity=torch.tensor(np.array(data[:,2],dtype = float))"
      ]
    },
    {
      "cell_type": "markdown",
      "metadata": {
        "id": "4swsj97fEVkU"
      },
      "source": [
        "**2b)** Check the SMILES and toxicity of the first 5 compounds"
      ]
    },
    {
      "cell_type": "code",
      "execution_count": 6,
      "metadata": {
        "colab": {
          "base_uri": "https://localhost:8080/"
        },
        "id": "F6eji9EHFvFG",
        "outputId": "dc69beee-5f6e-48e2-c691-19390da697fe"
      },
      "outputs": [
        {
          "name": "stdout",
          "output_type": "stream",
          "text": [
            "['CC(C)=CCC/C(/C)=C/CO' 'OC(=O)CCc1[nH]c2ccccc2[n]1'\n",
            " 'O=C1Nc2cc(Cl)ccc2N1C1CCN(CCCN2c3ccccc3NC2=O)CC1'\n",
            " 'Clc1ccccc1-c1[n]c([n]o1)-c1cc[n]cc1'\n",
            " 'Clc1cc2C(=Nc3ccccc3Oc2cc1)N1CCNCC1']\n"
          ]
        }
      ],
      "source": [
        "# print out the SMILES of the first 5 compounds\n",
        "print(smiles[:5])"
      ]
    },
    {
      "cell_type": "code",
      "execution_count": 7,
      "metadata": {
        "colab": {
          "base_uri": "https://localhost:8080/"
        },
        "id": "dZ_dxfFFDwtU",
        "outputId": "b72ec24f-042a-4560-b98f-4e4762513677"
      },
      "outputs": [
        {
          "name": "stdout",
          "output_type": "stream",
          "text": [
            "tensor([0., 0., 0., 1., 0.], dtype=torch.float64)\n"
          ]
        }
      ],
      "source": [
        "# print out the activity of the first 5 compounds\n",
        "\n",
        "print(toxicity[:5])"
      ]
    },
    {
      "cell_type": "markdown",
      "metadata": {
        "id": "m-ng6dyhKTS7"
      },
      "source": [
        "---\n",
        "\n",
        "In order to make the data usable for a neural network we have to generate a mapping from characters to integers and vice versa.\n",
        "\n",
        "We first create a sorted list of the characters used in the SMILES of our dataset, stored in 'unique_chars'. We then create a mapping between this list and the integers."
      ]
    },
    {
      "cell_type": "code",
      "execution_count": 8,
      "metadata": {
        "id": "H_g9jwzgKXaT"
      },
      "outputs": [],
      "source": [
        "# list of characters\n",
        "# itertools.chain makes an iterator that returns elements from the first iterable until it is exhausted, \n",
        "# then proceeds to the next iterable, until all of the iterables are exhausted. \n",
        "# Consecutive sequences are treated as a single sequence.\n",
        "unique_chars = list(set(itertools.chain.from_iterable(smiles)))\n",
        "\n",
        "# Add an end character as the first element in the dictionary\n",
        "unique_chars.insert(0, 'E')\n",
        "\n",
        "# character to integer dictionary\n",
        "# allows fast mapping of a character in smiles to the representative integer\n",
        "char_to_int = dict((c, i) for i, c in enumerate(unique_chars))\n",
        "\n",
        "# integer to character dictionary\n",
        "# allows fast mapping of a representative integer to the smiles character\n",
        "int_to_char = dict((i, c) for i, c in enumerate(unique_chars))"
      ]
    },
    {
      "cell_type": "markdown",
      "metadata": {
        "id": "e0NOnDFWjmDA"
      },
      "source": [
        "**3a)** Check that the dictionary is well-defined. Which integer belongs to 'C'?"
      ]
    },
    {
      "cell_type": "code",
      "execution_count": 9,
      "metadata": {
        "colab": {
          "base_uri": "https://localhost:8080/"
        },
        "id": "J2G6VHoLMFT5",
        "outputId": "87e5819a-739e-4eef-998a-91491d863774"
      },
      "outputs": [
        {
          "data": {
            "text/plain": [
              "{'E': 0,\n",
              " 'C': 1,\n",
              " 'o': 2,\n",
              " '5': 3,\n",
              " 'K': 4,\n",
              " 'u': 5,\n",
              " '[': 6,\n",
              " 'F': 7,\n",
              " 'N': 8,\n",
              " '7': 9,\n",
              " 'l': 10,\n",
              " 'S': 11,\n",
              " '/': 12,\n",
              " '=': 13,\n",
              " '+': 14,\n",
              " '2': 15,\n",
              " '#': 16,\n",
              " '-': 17,\n",
              " 'B': 18,\n",
              " 'i': 19,\n",
              " 'P': 20,\n",
              " '1': 21,\n",
              " 'M': 22,\n",
              " '6': 23,\n",
              " ')': 24,\n",
              " 'H': 25,\n",
              " '@': 26,\n",
              " '4': 27,\n",
              " 'r': 28,\n",
              " 'n': 29,\n",
              " 'e': 30,\n",
              " 'Z': 31,\n",
              " 'O': 32,\n",
              " '8': 33,\n",
              " 'c': 34,\n",
              " '(': 35,\n",
              " ']': 36,\n",
              " '\\\\': 37,\n",
              " 'I': 38,\n",
              " 'g': 39,\n",
              " 't': 40,\n",
              " '9': 41,\n",
              " 'V': 42,\n",
              " 's': 43,\n",
              " 'b': 44,\n",
              " '3': 45,\n",
              " 'A': 46}"
            ]
          },
          "execution_count": 9,
          "metadata": {},
          "output_type": "execute_result"
        }
      ],
      "source": [
        "# print out the dictionary\n",
        "\n",
        "char_to_int"
      ]
    },
    {
      "cell_type": "code",
      "execution_count": 10,
      "metadata": {
        "colab": {
          "base_uri": "https://localhost:8080/"
        },
        "id": "o9kiDtXki4L5",
        "outputId": "3fbfd471-69e3-45d9-f5a5-33195dbac09f"
      },
      "outputs": [
        {
          "name": "stdout",
          "output_type": "stream",
          "text": [
            "integer belonging to C:  1\n"
          ]
        }
      ],
      "source": [
        "# find the integer belonging to 'C'\n",
        "\n",
        "intC=char_to_int[\"C\"]\n",
        "print('integer belonging to C: ', intC)"
      ]
    },
    {
      "cell_type": "markdown",
      "metadata": {
        "id": "sumXf2EBpFHm"
      },
      "source": [
        "**3b)** How many unique characters do we have?"
      ]
    },
    {
      "cell_type": "code",
      "execution_count": 11,
      "metadata": {
        "colab": {
          "base_uri": "https://localhost:8080/"
        },
        "id": "3GJGXUnMOhNU",
        "outputId": "22731eeb-5e00-4d2e-99fa-d15af95e7a53"
      },
      "outputs": [
        {
          "name": "stdout",
          "output_type": "stream",
          "text": [
            "Size of the character to integer dictionary is:  47\n"
          ]
        }
      ],
      "source": [
        "# find the number of unique characters\n",
        "\n",
        "mapping_size = len(char_to_int)\n",
        "print (\"Size of the character to integer dictionary is: \", mapping_size)"
      ]
    },
    {
      "cell_type": "markdown",
      "metadata": {
        "id": "yaBVQIrJaU5w"
      },
      "source": [
        "---\n",
        "\n",
        "Now we can encode the SMILES sequences using the dictionary. \n",
        "\n",
        "The resulting dimensions of the encoded data array should be (number of SMILES sequences, length of the longest sequence, length of dictionary). \n",
        "\n",
        "The last dimension is used as a one-hot-encoding of the respective character. \n",
        "\n",
        "For example the indices [11,3,5] correspond to position number 3 of sequence number 11 and to character number 5 in the dictionary: the value in the array is \"1\" if the character is at this position of the sequence, otherwise \"0\"."
      ]
    },
    {
      "cell_type": "markdown",
      "metadata": {
        "id": "Zb8mQ8uB8O4K"
      },
      "source": [
        "**4a)** First we need the number of SMILES sequences and the length of the longest sequence: \n",
        "\n",
        "find and store them in the variables 'n_seq' and 'longest'."
      ]
    },
    {
      "cell_type": "code",
      "execution_count": 12,
      "metadata": {
        "colab": {
          "base_uri": "https://localhost:8080/"
        },
        "id": "w112ZK2SAjau",
        "outputId": "69fc2014-d6eb-4f66-d7d6-eba3a8a677a5"
      },
      "outputs": [
        {
          "name": "stdout",
          "output_type": "stream",
          "text": [
            "number of SMILES sequences:  2188\n"
          ]
        }
      ],
      "source": [
        "# number of SMILES sequences\n",
        "\n",
        "n_seq=smiles.shape[0]\n",
        "print('number of SMILES sequences: ', n_seq)"
      ]
    },
    {
      "cell_type": "code",
      "execution_count": 13,
      "metadata": {
        "colab": {
          "base_uri": "https://localhost:8080/"
        },
        "id": "a-EZD5SWkkJ4",
        "outputId": "88ced6f4-d4ed-4ad5-935f-12958736cd61"
      },
      "outputs": [
        {
          "name": "stdout",
          "output_type": "stream",
          "text": [
            "length of the longest sequence:  321\n"
          ]
        }
      ],
      "source": [
        "# longest SMILES sequence\n",
        "\n",
        "longest=max([len(seq)for seq in smiles])\n",
        "print('length of the longest sequence: ', longest)"
      ]
    },
    {
      "cell_type": "markdown",
      "metadata": {
        "id": "cJ63zzblEzxh"
      },
      "source": [
        "The following routine returns the encoded data array, as described above."
      ]
    },
    {
      "cell_type": "code",
      "execution_count": 14,
      "metadata": {
        "id": "cfUVCcheacRX"
      },
      "outputs": [],
      "source": [
        "# routine to encode the dataset\n",
        "def gen_data(dataset_of_smiles_seq,char_to_int_dict,number_of_seq,length_of_longest_seq,number_of_unique_chars):\n",
        "    \n",
        "    one_hot =  torch.zeros((number_of_seq,length_of_longest_seq,number_of_unique_chars),dtype=torch.float)\n",
        "    for i,smile in enumerate(dataset_of_smiles_seq):\n",
        "        #encode the chars\n",
        "        for j,k in enumerate(smile):\n",
        "            one_hot[i,j,char_to_int_dict[k]] = 1\n",
        "    return one_hot"
      ]
    },
    {
      "cell_type": "markdown",
      "metadata": {
        "id": "NAEr6pS8I8eO"
      },
      "source": [
        "**4b)** Use now this routine with appropriate inputs arrays and variables to encode our SMILES dataset."
      ]
    },
    {
      "cell_type": "code",
      "execution_count": 15,
      "metadata": {
        "id": "ThDfspRubseT"
      },
      "outputs": [],
      "source": [
        "# encode the dataset\n",
        "\n",
        "smiles_enc = gen_data(smiles,char_to_int,n_seq,longest,mapping_size)\n"
      ]
    },
    {
      "cell_type": "markdown",
      "metadata": {
        "id": "3xn2luqwLbPA"
      },
      "source": [
        "**4c)** Check with a couple of random examples that the encoding was done correctly."
      ]
    },
    {
      "cell_type": "code",
      "execution_count": 16,
      "metadata": {
        "colab": {
          "base_uri": "https://localhost:8080/"
        },
        "id": "byF5cysXdmcD",
        "outputId": "8f15fee3-7c97-4f13-c56b-e2a3fb4c14c6"
      },
      "outputs": [
        {
          "name": "stdout",
          "output_type": "stream",
          "text": [
            "CN1[C@@H]2[C@]3(CCN4CC=C[C@](CC)([C@@H]34)[C@@H](OC(C)=O)[C@]2(O)C(=O)OC)c2cc(c(cc12)OC)[C@]1(C[C@@H]2C[C@](O)(CN(C2)CCc2c1[nH]c1ccccc21)CC)C(=O)OC\n",
            "tensor([1., 0., 0., 0., 1., 0., 0., 0., 0., 0., 0., 1., 0., 0., 0., 0., 1., 1.,\n",
            "        0., 0., 1., 1., 0., 1., 0., 1., 0., 0., 0., 1., 1., 0., 0., 0., 1., 0.,\n",
            "        0., 0., 0., 0., 0., 0., 0., 1., 0., 0., 0., 0., 0., 0., 1., 0., 1., 0.,\n",
            "        0., 0., 0., 0., 1., 0., 0., 0., 0., 0., 0., 1., 0., 0., 0., 0., 0., 1.,\n",
            "        0., 0., 0., 0., 0., 0., 0., 0., 0., 0., 0., 0., 0., 0., 1., 0., 0., 1.,\n",
            "        0., 0., 0., 0., 1., 0., 1., 0., 0., 0., 0., 0., 1., 0., 1., 0., 0., 0.,\n",
            "        0., 0., 0., 1., 0., 0., 1., 0., 0., 1., 1., 0., 0., 0., 0., 0., 0., 0.,\n",
            "        0., 0., 0., 0., 0., 0., 0., 0., 0., 0., 0., 1., 1., 0., 1., 0., 0., 0.,\n",
            "        0., 0., 1., 0., 0., 0., 0., 0., 0., 0., 0., 0., 0., 0., 0., 0., 0., 0.,\n",
            "        0., 0., 0., 0., 0., 0., 0., 0., 0., 0., 0., 0., 0., 0., 0., 0., 0., 0.,\n",
            "        0., 0., 0., 0., 0., 0., 0., 0., 0., 0., 0., 0., 0., 0., 0., 0., 0., 0.,\n",
            "        0., 0., 0., 0., 0., 0., 0., 0., 0., 0., 0., 0., 0., 0., 0., 0., 0., 0.,\n",
            "        0., 0., 0., 0., 0., 0., 0., 0., 0., 0., 0., 0., 0., 0., 0., 0., 0., 0.,\n",
            "        0., 0., 0., 0., 0., 0., 0., 0., 0., 0., 0., 0., 0., 0., 0., 0., 0., 0.,\n",
            "        0., 0., 0., 0., 0., 0., 0., 0., 0., 0., 0., 0., 0., 0., 0., 0., 0., 0.,\n",
            "        0., 0., 0., 0., 0., 0., 0., 0., 0., 0., 0., 0., 0., 0., 0., 0., 0., 0.,\n",
            "        0., 0., 0., 0., 0., 0., 0., 0., 0., 0., 0., 0., 0., 0., 0., 0., 0., 0.,\n",
            "        0., 0., 0., 0., 0., 0., 0., 0., 0., 0., 0., 0., 0., 0., 0.])\n"
          ]
        }
      ],
      "source": [
        "# encoding check\n",
        "\n",
        "sequence_number=2187\n",
        "character='C'\n",
        "print(smiles[sequence_number])\n",
        "print(smiles_enc[sequence_number,:,char_to_int[character]])"
      ]
    },
    {
      "cell_type": "markdown",
      "metadata": {
        "id": "vyz4wNAXv06U"
      },
      "source": [
        "---\n",
        "\n",
        "## Part B: Machine Learning\n",
        "\n",
        "We are now ready to apply a machine learning approach to our data: a neural network should learn to recognize the toxicity of a molecule by looking at its SMILE sequence.\n",
        "\n",
        "We first shuffle the dataset to avoid ordering bias and split it in a train and a test set."
      ]
    },
    {
      "cell_type": "code",
      "execution_count": 17,
      "metadata": {
        "id": "Y8x87eH-usYD"
      },
      "outputs": [],
      "source": [
        "# we shuffle the dataset\n",
        "X, Y = sklearn.utils.shuffle(smiles_enc, toxicity)"
      ]
    },
    {
      "cell_type": "code",
      "execution_count": 18,
      "metadata": {
        "id": "LCaqHCIFvUQ4"
      },
      "outputs": [],
      "source": [
        "# we split the dataset in a train and a validation set\n",
        "X_train, X_val, y_train, y_val = sklearn.model_selection.train_test_split(smiles_enc, toxicity, test_size=0.33, random_state=35)"
      ]
    },
    {
      "cell_type": "code",
      "execution_count": 19,
      "metadata": {
        "id": "PLTlnb8OGcHS"
      },
      "outputs": [],
      "source": [
        "# Dataset class, take a look at exercise class 3\n",
        "class Data(torch.utils.data.Dataset):\n",
        "    def __init__(self, X_data, y_data):\n",
        "        self.X_data = X_data\n",
        "        self.y_data = y_data\n",
        "        \n",
        "    def __getitem__(self, index):\n",
        "        return self.X_data[index].float(), self.y_data[index].float()\n",
        "        \n",
        "    def __len__ (self):\n",
        "        return len(self.X_data)\n",
        "\n",
        "# Define batch size\n",
        "BATCH_SIZE = 32\n",
        "\n",
        "# Training data\n",
        "train_data = Data(X_train, y_train)\n",
        "train_loader = torch.utils.data.DataLoader(dataset=train_data, batch_size=BATCH_SIZE, shuffle=True)\n",
        "\n",
        "# Validation data\n",
        "val_data = Data(X_val, y_val)\n",
        "val_loader = torch.utils.data.DataLoader(dataset=val_data, batch_size=BATCH_SIZE, shuffle=True)"
      ]
    },
    {
      "cell_type": "markdown",
      "metadata": {
        "id": "cTL2ZBXFbOsZ"
      },
      "source": [
        "---\n",
        "\n",
        "As an example, the following code defines the training and validation functions for a given neural network. You might recongnize the functions from previous exercise sheets. "
      ]
    },
    {
      "cell_type": "code",
      "execution_count": 20,
      "metadata": {
        "id": "2_BN2cILPeXH"
      },
      "outputs": [],
      "source": [
        "def train():\n",
        "  \"\"\"This function iterates over the training set once and trains the network with batches of data\"\"\"\n",
        "  # collect correct classifications for accuracy computation\n",
        "  number_of_correctly_classified_samples = 0\n",
        "  total_number_of_samples = len(train_data)\n",
        "\n",
        "  # iterate over all batches of inputs and labels\n",
        "  for inputs, labels in train_loader:\n",
        "  \n",
        "    # forward the data trough the network\n",
        "    logits = simple_network(inputs).flatten()\n",
        "    # collect the correct results\n",
        "    number_of_correctly_classified_samples += sum((logits > 0.5) == labels)\n",
        "\n",
        "    # compute the loss between the network output and the labels\n",
        "    J = loss_func(logits, labels)\n",
        "\n",
        "    # compute the gradients of the loss w.r.t. the learnable parameters\n",
        "    J.backward()\n",
        "    # perform a weight update step\n",
        "    optimizer.step()\n",
        "\n",
        "    # clear the gradients to start freshly next round\n",
        "    # DO NOT REMOVE!\n",
        "    optimizer.zero_grad()\n",
        "\n",
        "  return number_of_correctly_classified_samples / total_number_of_samples"
      ]
    },
    {
      "cell_type": "code",
      "execution_count": 21,
      "metadata": {
        "id": "OHOSZG5tPxb-"
      },
      "outputs": [],
      "source": [
        "def validation_accuracy():\n",
        "  number_of_correctly_classified_samples = 0\n",
        "  total_number_of_samples = len(val_data)\n",
        "\n",
        "  # iterate over all batches in the validation set\n",
        "  for inputs, labels in val_loader:\n",
        "    # forward the inputs through the network\n",
        "    logits = simple_network(inputs).flatten()\n",
        "    # compute how many samples in the batch were correctly classified\n",
        "    number_of_correctly_classified_samples += sum((logits > 0.5) == labels)\n",
        "    \n",
        "  \n",
        "  # return the accuracy\n",
        "  return number_of_correctly_classified_samples / total_number_of_samples"
      ]
    },
    {
      "cell_type": "markdown",
      "metadata": {
        "id": "hEz_niIyBBHW"
      },
      "source": [
        "---\n",
        "\n",
        "**5a)** Now define, compile, train and test a neural network having two dense layers with 10 units and lasts 20 epochs."
      ]
    },
    {
      "cell_type": "code",
      "execution_count": 22,
      "metadata": {
        "id": "DOrdovd9NviU"
      },
      "outputs": [],
      "source": [
        "simple_network = torch.nn.Sequential(\n",
        "  # We first flatten the two dimensional input \n",
        "  torch.nn.Flatten(),\n",
        "  # first layer (input dim = length_of_longest_seq * number_of_unique_chars, hidden units)\n",
        "  torch.nn.Linear(longest*mapping_size, 10),\n",
        "  # activation function\n",
        "  torch.nn.ReLU(),\n",
        "  # dropout layer to fight overfitting\n",
        "  torch.nn.Dropout(p=0.5), \n",
        "  # second layer\n",
        "  torch.nn.Linear(10, 10),\n",
        "  # activation function\n",
        "  torch.nn.ReLU(),\n",
        "  # dropout layer to fight overfitting\n",
        "  torch.nn.Dropout(p=0.5),    \n",
        "  # output layer (hidden units, output dim)\n",
        "  torch.nn.Linear(10,1),\n",
        "  torch.nn.Sigmoid() \n",
        ")\n",
        "\n",
        "# extract the parameters that we want to optimize\n",
        "learnable_parameters = simple_network.parameters()\n",
        "\n",
        "# select an optimizer and pass on these learnable parameters\n",
        "optimizer = torch.optim.Adam(learnable_parameters)\n",
        "\n",
        "# select an appropriate loss function\n",
        "loss_func = torch.nn.BCELoss()"
      ]
    },
    {
      "cell_type": "code",
      "execution_count": 23,
      "metadata": {
        "colab": {
          "base_uri": "https://localhost:8080/"
        },
        "id": "8btWqECfPuLr",
        "outputId": "3f4a9c67-92c9-48c4-9d74-34fb4080a859"
      },
      "outputs": [
        {
          "name": "stdout",
          "output_type": "stream",
          "text": [
            "Epoch 1: accuracy 0.5222\n",
            "Epoch 2: accuracy 0.5898\n",
            "Epoch 3: accuracy 0.5891\n",
            "Epoch 4: accuracy 0.6266\n",
            "Epoch 5: accuracy 0.6614\n",
            "Epoch 6: accuracy 0.6655\n",
            "Epoch 7: accuracy 0.6710\n",
            "Epoch 8: accuracy 0.6969\n",
            "Epoch 9: accuracy 0.7038\n",
            "Epoch 10: accuracy 0.7167\n",
            "Epoch 11: accuracy 0.7085\n",
            "Epoch 12: accuracy 0.7270\n",
            "Epoch 13: accuracy 0.7515\n",
            "Epoch 14: accuracy 0.7447\n",
            "Epoch 15: accuracy 0.7570\n",
            "Epoch 16: accuracy 0.7502\n",
            "Epoch 17: accuracy 0.8150\n",
            "Epoch 18: accuracy 0.8423\n",
            "Epoch 19: accuracy 0.8410\n",
            "Epoch 20: accuracy 0.8437\n"
          ]
        }
      ],
      "source": [
        "# lists to store the training and validation accuracies\n",
        "train_accs = []\n",
        "validation_accs = []\n",
        "\n",
        "# Number of epochs\n",
        "epochs = 20\n",
        "\n",
        "for epoch in range(epochs):\n",
        "  # train the network\n",
        "  train_acc = train()\n",
        "  train_accs.append(train_acc)\n",
        "\n",
        "  # disable gradient computation during validation\n",
        "  with torch.no_grad():\n",
        "    # compute validation accuracy\n",
        "    val_acc = validation_accuracy()\n",
        "    validation_accs.append(val_acc)\n",
        "  # report it\n",
        "  print(f\"Epoch {epoch+1}: accuracy {train_acc:1.4f}\")"
      ]
    },
    {
      "cell_type": "markdown",
      "metadata": {
        "id": "MVMdLYtQ_-ai"
      },
      "source": [
        "The optimisation history can be visualized by plotting the accuracy of the train and of the test set as function of the epochs."
      ]
    },
    {
      "cell_type": "markdown",
      "metadata": {
        "id": "zr2P4UevCK2U"
      },
      "source": [
        "**5b)** Plot the accuracy on training and validation set for each epoch of this neural network. What can be said about the results?"
      ]
    },
    {
      "cell_type": "code",
      "execution_count": 24,
      "metadata": {
        "colab": {
          "base_uri": "https://localhost:8080/",
          "height": 279
        },
        "id": "EU4MWjOSAdBN",
        "outputId": "529eb1f1-ee14-4b34-ab2a-ebed411ec554"
      },
      "outputs": [
        {
          "data": {
            "image/png": "[encoded data removed]",
            "text/plain": [
              "<Figure size 640x480 with 1 Axes>"
            ]
          },
          "metadata": {},
          "output_type": "display_data"
        }
      ],
      "source": [
        "# we plot of the optimisation history\n",
        "plt.plot(train_accs, '-o', label='Training Accuracy')\n",
        "plt.plot(validation_accs, '-o', label='Validation Accuracy')\n",
        "plt.xlabel('Epoch')\n",
        "plt.ylabel('Accuracy')\n",
        "plt.legend()\n",
        "plt.show()"
      ]
    },
    {
      "cell_type": "markdown",
      "metadata": {
        "id": "Vd7XpbpqkjWC"
      },
      "source": [
        "Q: What can be said about these results?"
      ]
    },
    {
      "cell_type": "markdown",
      "metadata": {
        "id": "AQ-yuEZKkq_q"
      },
      "source": [
        "A: The network is clearly overfitting on the training set, as the accuracy on the validation set deviates strongly from that on the training data and does not increase anymore after 3 epochs."
      ]
    },
    {
      "cell_type": "markdown",
      "metadata": {
        "id": "F5lgIFnXwswy"
      },
      "source": [
        "---\n",
        "\n",
        "We try now to improve the results. In a lot of applications the optimization of the accuracy might be the wrong goal. For example, predicting a non-toxic molecule as toxic is not equally worse than predicting a toxic one as non-toxic. Therefore, we have to consider alternative metrics:\n",
        "\n",
        "**What are Sensitivity and Specificity?**\n",
        "\n",
        "* Sensitivity / True Positive Rate (TPR) \n",
        "\n",
        " Sensitivity tells us what proportion of the positive class got correctly classified. A simple example would be to determine what proportion of the actual toxic molecules were correctly detected by the model.\n",
        "\n",
        "* False Negative Rate (FNR)\n",
        "\n",
        " False Negative Rate (FNR) tells us what proportion of the positive class got incorrectly classified by the classifier. A higher TPR and a lower FNR is desirable since we want to correctly classify the positive class.\n",
        "\n",
        "* Specificity / True Negative Rate (TNR)\n",
        "\n",
        " Specificity tells us what proportion of the negative class got correctly classified. Taking the same example as in Sensitivity, Specificity would mean determining the proportion of non-toxic molecules who were correctly identified by the model.\n",
        "\n",
        "* False Positive Rate (FPR)\n",
        "\n",
        " FPR tells us what proportion of the negative class got incorrectly classified by the classifier. A higher TNR and a lower FPR is desirable since we want to correctly classify the non-toxic class.\n",
        "\n"
      ]
    },
    {
      "cell_type": "markdown",
      "metadata": {
        "id": "EYsl7_rxpd_M"
      },
      "source": [
        "---\n",
        "\n",
        "We first calculate the metrics for predictions on the test set."
      ]
    },
    {
      "cell_type": "code",
      "execution_count": 25,
      "metadata": {
        "id": "JD5ck-5by-WW"
      },
      "outputs": [],
      "source": [
        "# we calculate metrics for predictions on validation set\n",
        "y_pred_logits = simple_network(X_val).flatten().detach()\n",
        "y_pred = (y_pred_logits > 0.5)\n",
        "\n",
        "CM = sklearn.metrics.confusion_matrix(y_pred,y_val)\n",
        "\n",
        "TN = CM[0][0]\n",
        "FN = CM[1][0]\n",
        "TP = CM[1][1]\n",
        "FP = CM[0][1]\n",
        "\n",
        "# Sensitivity or true positive rate\n",
        "TPR = TP/(TP+FN)\n",
        "# Specificity or true negative rate\n",
        "TNR = TN/(TN+FP) \n",
        "# Precision or positive predictive value\n",
        "PPV = TP/(TP+FP)\n",
        "# Negative predictive value\n",
        "NPV = TN/(TN+FN)\n",
        "# Fall out or false positive rate\n",
        "FPR = FP/(FP+TN)\n",
        "# False negative rate\n",
        "FNR = FN/(TP+FN)\n",
        "# False discovery rate\n",
        "FDR = FP/(TP+FP)\n",
        "\n",
        "# Overall accuracy\n",
        "ACC = (TP+TN)/(TP+FP+FN+TN)"
      ]
    },
    {
      "cell_type": "markdown",
      "metadata": {
        "id": "8chr1FRGHH7j"
      },
      "source": [
        "**6)** Interpret your results. Does this support your findings from above?"
      ]
    },
    {
      "cell_type": "markdown",
      "metadata": {
        "id": "zyRoXSIZQnqu"
      },
      "source": [
        "**How can we combine these quantities best?**\n",
        "\n",
        "The Receiver Operator Characteristic (ROC) curve is an evaluation metric for binary classification problems. It is a probability curve that plots the TPR against FPR at various threshold values and essentially separates the \"signal\" from the \"noise\". The Area Under the Curve (AUC) is the measure of the ability of a classifier to distinguish between classes and is used as a summary of the ROC curve.\n",
        "\n",
        "The higher the AUC, the better the performance of the model at distinguishing between the positive and negative classes. A random oracle has AUC = 0.5."
      ]
    },
    {
      "cell_type": "markdown",
      "metadata": {
        "id": "FjG2M3VFPE_4"
      },
      "source": [
        "**7a)** Use the sklearn functions `sklearn.metrics.roc_curve` and `sklearn.metrics.roc_auc_score` to plot the ROC curve and the area underneath it. Note that you should use `y_pred_logits` as input."
      ]
    },
    {
      "cell_type": "code",
      "execution_count": 26,
      "metadata": {
        "id": "I9d-KZc7JORX"
      },
      "outputs": [],
      "source": [
        "# Compute ROC curve and ROC area for each class\n",
        "\n",
        "fpr, tpr, thresholds = sklearn.metrics.roc_curve(y_val, y_pred_logits, pos_label=1)\n",
        "roc_auc = sklearn.metrics.roc_auc_score(y_val,y_pred_logits)"
      ]
    },
    {
      "cell_type": "code",
      "execution_count": 27,
      "metadata": {
        "colab": {
          "base_uri": "https://localhost:8080/",
          "height": 295
        },
        "id": "27LRPG63H59g",
        "outputId": "41a03a33-a745-40a7-d76e-213642a550cb"
      },
      "outputs": [
        {
          "data": {
            "image/png": "[encoded data removed]",
            "text/plain": [
              "<Figure size 640x480 with 1 Axes>"
            ]
          },
          "metadata": {},
          "output_type": "display_data"
        }
      ],
      "source": [
        "plt.plot(\n",
        "    fpr,\n",
        "    tpr,\n",
        "    color=\"darkorange\",\n",
        "    label=\"ROC curve (area = %0.2f)\" % roc_auc,\n",
        ")\n",
        "plt.plot([0, 1], [0, 1], color=\"navy\", linestyle=\"--\")\n",
        "plt.xlim([0.0, 1.0])\n",
        "plt.ylim([0.0, 1.05])\n",
        "plt.xlabel(\"False Positive Rate\")\n",
        "plt.ylabel(\"True Positive Rate\")\n",
        "plt.title(\"Receiver operator characteristic curve\")\n",
        "plt.legend(loc=\"lower right\")\n",
        "plt.show()"
      ]
    },
    {
      "cell_type": "markdown",
      "metadata": {
        "id": "sGWQPmVYMq51"
      },
      "source": [
        "**7b)** Interpret your results. What is an advantage of the AUC score? What could be a disadvantage?"
      ]
    },
    {
      "cell_type": "markdown",
      "metadata": {
        "id": "By1YPzeyfgDK"
      },
      "source": [
        "---\n",
        "\n",
        "The neural network used above does not seem to perform well. We try an approach with a Long Short-Term Memory network (LSTM).\n",
        "\n",
        "**8)** Play around with the parameters of the LSTM model and try to improve the performance."
      ]
    },
    {
      "cell_type": "code",
      "execution_count": 29,
      "metadata": {},
      "outputs": [],
      "source": [
        "from torch import nn\n",
        "class extract_tensor(nn.Module):\n",
        "    def forward(self,x):\n",
        "        # Output shape (batch, features, hidden)\n",
        "        tensor, _ = x\n",
        "        # Reshape shape (batch, hidden)\n",
        "        return tensor[:, -1, :]"
      ]
    },
    {
      "cell_type": "code",
      "execution_count": 48,
      "metadata": {},
      "outputs": [],
      "source": [
        "LSTMClassifier = torch.nn.Sequential(\n",
        "  \n",
        "  # We first flatten the two dimensional input \n",
        "  torch.nn.Flatten(),\n",
        "  \n",
        "  torch.nn.LSTM(longest*mapping_size, 10, 1, batch_first=True),\n",
        "  extract_tensor(),\n",
        "  # first layer (input dim = length_of_longest_seq * number_of_unique_chars, hidden units)\n",
        "  torch.nn.Linear(10, 10),\n",
        "  \n",
        "  # activation function\n",
        "  torch.nn.ReLU(),\n",
        "  # dropout layer to fight overfitting\n",
        "  torch.nn.Dropout(p=0.5), \n",
        "  # second layer\n",
        "  torch.nn.Linear(10, 10),\n",
        "  # activation function\n",
        "  torch.nn.ReLU(),\n",
        "  # dropout layer to fight overfitting\n",
        "  torch.nn.Dropout(p=0.5),    \n",
        "  # output layer (hidden units, output dim)\n",
        "  torch.nn.Linear(10,1),\n",
        "  torch.nn.Sigmoid() \n",
        ")\n",
        "\n",
        "# extract the parameters that we want to optimize\n",
        "learnable_parameters = simple_network.parameters()\n",
        "\n",
        "# select an optimizer and pass on these learnable parameters\n",
        "optimizer = torch.optim.Adam(learnable_parameters)\n",
        "\n",
        "# select an appropriate loss function\n",
        "loss_func = torch.nn.BCELoss()"
      ]
    },
    {
      "cell_type": "code",
      "execution_count": 31,
      "metadata": {
        "id": "3D40K7NyKeJq"
      },
      "outputs": [],
      "source": [
        "# LSTM model\n",
        "class LSTMClassifier(torch.nn.Module):\n",
        "    def __init__(self, input_dim, hidden_dim, hidden_size, label_size, dropout_rate):\n",
        "        super().__init__()\n",
        "        self.lstm = torch.nn.LSTM(input_dim, hidden_dim, batch_first=True)\n",
        "        self.fc1 = torch.nn.Linear(hidden_dim, hidden_size) # Output layer\n",
        "        self.activation = torch.nn.ReLU() # Non-Linear ReLU Layer       \n",
        "        self.fc_out = torch.nn.Linear(hidden_size, label_size) # Output layer\n",
        "        self.dropout = torch.nn.Dropout(dropout_rate)\n",
        "     \n",
        "    def forward(self, x):# Forward pass: stacking each layer together\n",
        "        out, (h_n, c_n) = self.lstm(x) #LSTM network reads in one-hot-encoded SMILES, h_n is last output, out is for all timesteps\n",
        "        out = self.dropout(h_n) #Dropout\n",
        "        out = self.fc1(out) # Pass into the hidden layer\n",
        "        out = self.activation(out) # Use ReLU on hidden activation\n",
        "        out = self.dropout(out) # dropout\n",
        "        out = self.fc_out(out) # Use a linear layer for the output\n",
        "        return out\n"
      ]
    },
    {
      "cell_type": "code",
      "execution_count": 32,
      "metadata": {},
      "outputs": [],
      "source": [
        "\n",
        "class MockupModel(nn.Module):\n",
        "    def __init__(self):\n",
        "        super().__init__()\n",
        "        self.model = nn.ModuleDict({\n",
        "            'lstm': nn.LSTM(\n",
        "                input_size=x_features,    # 45, see the data definition\n",
        "                hidden_size=hidden_size,  # Can vary\n",
        "            ),\n",
        "            'linear': nn.Linear(\n",
        "                in_features=hidden_size,\n",
        "                out_features=1)\n",
        "        })\n",
        "    \n",
        "    def forward(self, x):\n",
        "\n",
        "        # From [batches, seqs, seq len, features]\n",
        "        # to [seq len, batch data, features]\n",
        "        x = x.view(x_seq_len, -1, x_features)\n",
        "       \n",
        "        # Data is fed to the LSTM\n",
        "        out, _ = self.model['lstm'](x)\n",
        "        print(f'lstm output={out.size()}')\n",
        "\n",
        "        # From [seq len, batch, num_directions * hidden_size]\n",
        "        # to [batches, seqs, seq_len,prediction]\n",
        "        out = out.view(x_batches, x_seqs, x_seq_len, -1)\n",
        "        print(f'transformed output={out.size()}')\n",
        "\n",
        "        # Data is fed to the Linear layer\n",
        "        out = self.model['linear'](out)\n",
        "        print(f'linear output={out.size()}')\n",
        "\n",
        "        # The prediction utilizing the whole sequence is the last one\n",
        "        y_pred = out[:, :, -1].unsqueeze(-1)\n",
        "        print(f'y_pred={y_pred.size()}')\n",
        "\n",
        "        return y_pred"
      ]
    },
    {
      "cell_type": "code",
      "execution_count": 46,
      "metadata": {
        "id": "aQm8w0JOKjcY"
      },
      "outputs": [
        {
          "ename": "TypeError",
          "evalue": "forward() missing 1 required positional argument: 'input'",
          "output_type": "error",
          "traceback": [
            "\u001b[0;31m---------------------------------------------------------------------------\u001b[0m",
            "\u001b[0;31mTypeError\u001b[0m                                 Traceback (most recent call last)",
            "\u001b[1;32m/Users/kiliansprenkamp/Library/CloudStorage/OneDrive-UniversitätZürichUZH/HS22/ML course/solution_09_programming.ipynb Cell 60\u001b[0m in \u001b[0;36m<cell line: 1>\u001b[0;34m()\u001b[0m\n\u001b[0;32m----> <a href='vscode-notebook-cell:/Users/kiliansprenkamp/Library/CloudStorage/OneDrive-Universita%CC%88tZu%CC%88richUZH/HS22/ML%20course/solution_09_programming.ipynb#Y110sZmlsZQ%3D%3D?line=0'>1</a>\u001b[0m lstm_network \u001b[39m=\u001b[39m LSTMClassifier()\n\u001b[1;32m      <a href='vscode-notebook-cell:/Users/kiliansprenkamp/Library/CloudStorage/OneDrive-Universita%CC%88tZu%CC%88richUZH/HS22/ML%20course/solution_09_programming.ipynb#Y110sZmlsZQ%3D%3D?line=2'>3</a>\u001b[0m \u001b[39m# extract the parameters that we want to optimize\u001b[39;00m\n\u001b[1;32m      <a href='vscode-notebook-cell:/Users/kiliansprenkamp/Library/CloudStorage/OneDrive-Universita%CC%88tZu%CC%88richUZH/HS22/ML%20course/solution_09_programming.ipynb#Y110sZmlsZQ%3D%3D?line=3'>4</a>\u001b[0m learnable_parameters \u001b[39m=\u001b[39m lstm_network\u001b[39m.\u001b[39mparameters()\n",
            "File \u001b[0;32m~/miniconda3/envs/refugeeAnalysis/lib/python3.9/site-packages/torch/nn/modules/module.py:1190\u001b[0m, in \u001b[0;36mModule._call_impl\u001b[0;34m(self, *input, **kwargs)\u001b[0m\n\u001b[1;32m   1186\u001b[0m \u001b[39m# If we don't have any hooks, we want to skip the rest of the logic in\u001b[39;00m\n\u001b[1;32m   1187\u001b[0m \u001b[39m# this function, and just call forward.\u001b[39;00m\n\u001b[1;32m   1188\u001b[0m \u001b[39mif\u001b[39;00m \u001b[39mnot\u001b[39;00m (\u001b[39mself\u001b[39m\u001b[39m.\u001b[39m_backward_hooks \u001b[39mor\u001b[39;00m \u001b[39mself\u001b[39m\u001b[39m.\u001b[39m_forward_hooks \u001b[39mor\u001b[39;00m \u001b[39mself\u001b[39m\u001b[39m.\u001b[39m_forward_pre_hooks \u001b[39mor\u001b[39;00m _global_backward_hooks\n\u001b[1;32m   1189\u001b[0m         \u001b[39mor\u001b[39;00m _global_forward_hooks \u001b[39mor\u001b[39;00m _global_forward_pre_hooks):\n\u001b[0;32m-> 1190\u001b[0m     \u001b[39mreturn\u001b[39;00m forward_call(\u001b[39m*\u001b[39;49m\u001b[39minput\u001b[39;49m, \u001b[39m*\u001b[39;49m\u001b[39m*\u001b[39;49mkwargs)\n\u001b[1;32m   1191\u001b[0m \u001b[39m# Do not call functions when jit is used\u001b[39;00m\n\u001b[1;32m   1192\u001b[0m full_backward_hooks, non_full_backward_hooks \u001b[39m=\u001b[39m [], []\n",
            "\u001b[0;31mTypeError\u001b[0m: forward() missing 1 required positional argument: 'input'"
          ]
        }
      ],
      "source": [
        "lstm_network = LSTMClassifier()\n",
        "\n",
        "# extract the parameters that we want to optimize\n",
        "learnable_parameters = lstm_network.parameters()\n",
        "\n",
        "# select an optimizer and pass on these learnable parameters\n",
        "#optimizer = torch.optim.Adam(learnable_parameters)\n",
        "optimizer = torch.optim.Adam(learnable_parameters, lr=0.003)\n",
        "lr_scheduler = torch.optim.lr_scheduler.ReduceLROnPlateau(optimizer, mode='min', factor=0.5, patience=50, \n",
        "                  verbose=True, threshold=0.0001, threshold_mode='rel', cooldown=0, min_lr=1e-6, eps=1e-08)\n",
        "\n",
        "# select an appropriate loss function\n",
        "loss_func = torch.nn.BCEWithLogitsLoss()"
      ]
    },
    {
      "cell_type": "code",
      "execution_count": 47,
      "metadata": {},
      "outputs": [
        {
          "name": "stdout",
          "output_type": "stream",
          "text": [
            "torch.Size([32, 321, 47])\n",
            "torch.Size([32])\n",
            "torch.Size([32, 321, 47])\n",
            "torch.Size([32])\n",
            "torch.Size([32, 321, 47])\n",
            "torch.Size([32])\n",
            "torch.Size([32, 321, 47])\n",
            "torch.Size([32])\n",
            "torch.Size([32, 321, 47])\n",
            "torch.Size([32])\n",
            "torch.Size([32, 321, 47])\n",
            "torch.Size([32])\n",
            "torch.Size([32, 321, 47])\n",
            "torch.Size([32])\n",
            "torch.Size([32, 321, 47])\n",
            "torch.Size([32])\n",
            "torch.Size([32, 321, 47])\n",
            "torch.Size([32])\n",
            "torch.Size([32, 321, 47])\n",
            "torch.Size([32])\n",
            "torch.Size([32, 321, 47])\n",
            "torch.Size([32])\n",
            "torch.Size([32, 321, 47])\n",
            "torch.Size([32])\n",
            "torch.Size([32, 321, 47])\n",
            "torch.Size([32])\n",
            "torch.Size([32, 321, 47])\n",
            "torch.Size([32])\n",
            "torch.Size([32, 321, 47])\n",
            "torch.Size([32])\n",
            "torch.Size([32, 321, 47])\n",
            "torch.Size([32])\n",
            "torch.Size([32, 321, 47])\n",
            "torch.Size([32])\n",
            "torch.Size([32, 321, 47])\n",
            "torch.Size([32])\n",
            "torch.Size([32, 321, 47])\n",
            "torch.Size([32])\n",
            "torch.Size([32, 321, 47])\n",
            "torch.Size([32])\n",
            "torch.Size([32, 321, 47])\n",
            "torch.Size([32])\n",
            "torch.Size([32, 321, 47])\n",
            "torch.Size([32])\n",
            "torch.Size([32, 321, 47])\n",
            "torch.Size([32])\n",
            "torch.Size([32, 321, 47])\n",
            "torch.Size([32])\n",
            "torch.Size([32, 321, 47])\n",
            "torch.Size([32])\n",
            "torch.Size([32, 321, 47])\n",
            "torch.Size([32])\n",
            "torch.Size([32, 321, 47])\n",
            "torch.Size([32])\n",
            "torch.Size([32, 321, 47])\n",
            "torch.Size([32])\n",
            "torch.Size([32, 321, 47])\n",
            "torch.Size([32])\n",
            "torch.Size([32, 321, 47])\n",
            "torch.Size([32])\n",
            "torch.Size([32, 321, 47])\n",
            "torch.Size([32])\n",
            "torch.Size([32, 321, 47])\n",
            "torch.Size([32])\n",
            "torch.Size([32, 321, 47])\n",
            "torch.Size([32])\n",
            "torch.Size([32, 321, 47])\n",
            "torch.Size([32])\n",
            "torch.Size([32, 321, 47])\n",
            "torch.Size([32])\n",
            "torch.Size([32, 321, 47])\n",
            "torch.Size([32])\n",
            "torch.Size([32, 321, 47])\n",
            "torch.Size([32])\n",
            "torch.Size([32, 321, 47])\n",
            "torch.Size([32])\n",
            "torch.Size([32, 321, 47])\n",
            "torch.Size([32])\n",
            "torch.Size([32, 321, 47])\n",
            "torch.Size([32])\n",
            "torch.Size([32, 321, 47])\n",
            "torch.Size([32])\n",
            "torch.Size([32, 321, 47])\n",
            "torch.Size([32])\n",
            "torch.Size([32, 321, 47])\n",
            "torch.Size([32])\n",
            "torch.Size([32, 321, 47])\n",
            "torch.Size([32])\n",
            "torch.Size([32, 321, 47])\n",
            "torch.Size([32])\n",
            "torch.Size([25, 321, 47])\n",
            "torch.Size([25])\n"
          ]
        }
      ],
      "source": [
        "for inputs, labels in train_loader:\n",
        "    print(inputs.shape)\n",
        "    print(labels.shape)"
      ]
    },
    {
      "cell_type": "code",
      "execution_count": 49,
      "metadata": {
        "id": "zDeihICCJ8Tt"
      },
      "outputs": [],
      "source": [
        "def train():\n",
        "  \"\"\"This function iterates over the training set once and trains the network with batches of data\"\"\"\n",
        "  # collect correct classifications for accuracy computation\n",
        "  number_of_correctly_classified_samples = 0\n",
        "  total_number_of_samples = len(train_data)\n",
        "\n",
        "  # iterate over all batches of inputs and labels\n",
        "  for inputs, labels in train_loader:\n",
        "  \n",
        "    # forward the data trough the network\n",
        "    logits = lstm_network(inputs).flatten()\n",
        "    # collect the correct results\n",
        "    logits\n",
        "    number_of_correctly_classified_samples += sum((logits > 0.5) == labels)\n",
        "\n",
        "    # compute the loss between the network output and the labels\n",
        "    J = loss_func(logits, labels)\n",
        "\n",
        "    # compute the gradients of the loss w.r.t. the learnable parameters\n",
        "    J.backward()\n",
        "\n",
        "    torch.nn.utils.clip_grad_norm_(lstm_network.parameters(), 1)\n",
        "\n",
        "    # perform a weight update step\n",
        "    optimizer.step()\n",
        "\n",
        "    # clear the gradients to start freshly next round\n",
        "    # DO NOT REMOVE!\n",
        "    optimizer.zero_grad()\n",
        "\n",
        "  return number_of_correctly_classified_samples / total_number_of_samples"
      ]
    },
    {
      "cell_type": "code",
      "execution_count": 50,
      "metadata": {
        "id": "onS829EsKEnP"
      },
      "outputs": [],
      "source": [
        "def validation_accuracy():\n",
        "  number_of_correctly_classified_samples = 0\n",
        "  total_number_of_samples = len(val_data)\n",
        "\n",
        "  # iterate over all batches in the validation set\n",
        "  for inputs, labels in val_loader:\n",
        "    # forward the inputs through the network\n",
        "    logits = lstm_network(inputs).flatten()\n",
        "    # compute how many samples in the batch were correctly classified\n",
        "    number_of_correctly_classified_samples += sum((logits > 0.5) == labels)\n",
        "    \n",
        "  \n",
        "  # return the accuracy\n",
        "  return number_of_correctly_classified_samples / total_number_of_samples"
      ]
    },
    {
      "cell_type": "code",
      "execution_count": 51,
      "metadata": {
        "colab": {
          "base_uri": "https://localhost:8080/",
          "height": 409
        },
        "id": "EGu2EJJ4KJzA",
        "outputId": "37cde228-9125-48f9-9b89-21ccf534e52d"
      },
      "outputs": [
        {
          "ename": "RuntimeError",
          "evalue": "all elements of input should be between 0 and 1",
          "output_type": "error",
          "traceback": [
            "\u001b[0;31m---------------------------------------------------------------------------\u001b[0m",
            "\u001b[0;31mRuntimeError\u001b[0m                              Traceback (most recent call last)",
            "\u001b[1;32m/Users/kiliansprenkamp/Library/CloudStorage/OneDrive-UniversitätZürichUZH/HS22/ML course/solution_09_programming.ipynb Cell 64\u001b[0m in \u001b[0;36m<cell line: 8>\u001b[0;34m()\u001b[0m\n\u001b[1;32m      <a href='vscode-notebook-cell:/Users/kiliansprenkamp/Library/CloudStorage/OneDrive-Universita%CC%88tZu%CC%88richUZH/HS22/ML%20course/solution_09_programming.ipynb#Y113sZmlsZQ%3D%3D?line=5'>6</a>\u001b[0m epochs \u001b[39m=\u001b[39m \u001b[39m5\u001b[39m\n\u001b[1;32m      <a href='vscode-notebook-cell:/Users/kiliansprenkamp/Library/CloudStorage/OneDrive-Universita%CC%88tZu%CC%88richUZH/HS22/ML%20course/solution_09_programming.ipynb#Y113sZmlsZQ%3D%3D?line=7'>8</a>\u001b[0m \u001b[39mfor\u001b[39;00m epoch \u001b[39min\u001b[39;00m \u001b[39mrange\u001b[39m(epochs):\n\u001b[1;32m      <a href='vscode-notebook-cell:/Users/kiliansprenkamp/Library/CloudStorage/OneDrive-Universita%CC%88tZu%CC%88richUZH/HS22/ML%20course/solution_09_programming.ipynb#Y113sZmlsZQ%3D%3D?line=8'>9</a>\u001b[0m   \u001b[39m# train the network\u001b[39;00m\n\u001b[0;32m---> <a href='vscode-notebook-cell:/Users/kiliansprenkamp/Library/CloudStorage/OneDrive-Universita%CC%88tZu%CC%88richUZH/HS22/ML%20course/solution_09_programming.ipynb#Y113sZmlsZQ%3D%3D?line=9'>10</a>\u001b[0m   train_acc \u001b[39m=\u001b[39m train()\n\u001b[1;32m     <a href='vscode-notebook-cell:/Users/kiliansprenkamp/Library/CloudStorage/OneDrive-Universita%CC%88tZu%CC%88richUZH/HS22/ML%20course/solution_09_programming.ipynb#Y113sZmlsZQ%3D%3D?line=10'>11</a>\u001b[0m   train_accs\u001b[39m.\u001b[39mappend(train_acc)\n\u001b[1;32m     <a href='vscode-notebook-cell:/Users/kiliansprenkamp/Library/CloudStorage/OneDrive-Universita%CC%88tZu%CC%88richUZH/HS22/ML%20course/solution_09_programming.ipynb#Y113sZmlsZQ%3D%3D?line=12'>13</a>\u001b[0m   \u001b[39m# disable gradient computation during validation\u001b[39;00m\n",
            "\u001b[1;32m/Users/kiliansprenkamp/Library/CloudStorage/OneDrive-UniversitätZürichUZH/HS22/ML course/solution_09_programming.ipynb Cell 64\u001b[0m in \u001b[0;36mtrain\u001b[0;34m()\u001b[0m\n\u001b[1;32m     <a href='vscode-notebook-cell:/Users/kiliansprenkamp/Library/CloudStorage/OneDrive-Universita%CC%88tZu%CC%88richUZH/HS22/ML%20course/solution_09_programming.ipynb#Y113sZmlsZQ%3D%3D?line=12'>13</a>\u001b[0m number_of_correctly_classified_samples \u001b[39m+\u001b[39m\u001b[39m=\u001b[39m \u001b[39msum\u001b[39m((logits \u001b[39m>\u001b[39m \u001b[39m0.5\u001b[39m) \u001b[39m==\u001b[39m labels)\n\u001b[1;32m     <a href='vscode-notebook-cell:/Users/kiliansprenkamp/Library/CloudStorage/OneDrive-Universita%CC%88tZu%CC%88richUZH/HS22/ML%20course/solution_09_programming.ipynb#Y113sZmlsZQ%3D%3D?line=14'>15</a>\u001b[0m \u001b[39m# compute the loss between the network output and the labels\u001b[39;00m\n\u001b[0;32m---> <a href='vscode-notebook-cell:/Users/kiliansprenkamp/Library/CloudStorage/OneDrive-Universita%CC%88tZu%CC%88richUZH/HS22/ML%20course/solution_09_programming.ipynb#Y113sZmlsZQ%3D%3D?line=15'>16</a>\u001b[0m J \u001b[39m=\u001b[39m loss_func(logits, labels)\n\u001b[1;32m     <a href='vscode-notebook-cell:/Users/kiliansprenkamp/Library/CloudStorage/OneDrive-Universita%CC%88tZu%CC%88richUZH/HS22/ML%20course/solution_09_programming.ipynb#Y113sZmlsZQ%3D%3D?line=17'>18</a>\u001b[0m \u001b[39m# compute the gradients of the loss w.r.t. the learnable parameters\u001b[39;00m\n\u001b[1;32m     <a href='vscode-notebook-cell:/Users/kiliansprenkamp/Library/CloudStorage/OneDrive-Universita%CC%88tZu%CC%88richUZH/HS22/ML%20course/solution_09_programming.ipynb#Y113sZmlsZQ%3D%3D?line=18'>19</a>\u001b[0m J\u001b[39m.\u001b[39mbackward()\n",
            "File \u001b[0;32m~/miniconda3/envs/refugeeAnalysis/lib/python3.9/site-packages/torch/nn/modules/module.py:1190\u001b[0m, in \u001b[0;36mModule._call_impl\u001b[0;34m(self, *input, **kwargs)\u001b[0m\n\u001b[1;32m   1186\u001b[0m \u001b[39m# If we don't have any hooks, we want to skip the rest of the logic in\u001b[39;00m\n\u001b[1;32m   1187\u001b[0m \u001b[39m# this function, and just call forward.\u001b[39;00m\n\u001b[1;32m   1188\u001b[0m \u001b[39mif\u001b[39;00m \u001b[39mnot\u001b[39;00m (\u001b[39mself\u001b[39m\u001b[39m.\u001b[39m_backward_hooks \u001b[39mor\u001b[39;00m \u001b[39mself\u001b[39m\u001b[39m.\u001b[39m_forward_hooks \u001b[39mor\u001b[39;00m \u001b[39mself\u001b[39m\u001b[39m.\u001b[39m_forward_pre_hooks \u001b[39mor\u001b[39;00m _global_backward_hooks\n\u001b[1;32m   1189\u001b[0m         \u001b[39mor\u001b[39;00m _global_forward_hooks \u001b[39mor\u001b[39;00m _global_forward_pre_hooks):\n\u001b[0;32m-> 1190\u001b[0m     \u001b[39mreturn\u001b[39;00m forward_call(\u001b[39m*\u001b[39;49m\u001b[39minput\u001b[39;49m, \u001b[39m*\u001b[39;49m\u001b[39m*\u001b[39;49mkwargs)\n\u001b[1;32m   1191\u001b[0m \u001b[39m# Do not call functions when jit is used\u001b[39;00m\n\u001b[1;32m   1192\u001b[0m full_backward_hooks, non_full_backward_hooks \u001b[39m=\u001b[39m [], []\n",
            "File \u001b[0;32m~/miniconda3/envs/refugeeAnalysis/lib/python3.9/site-packages/torch/nn/modules/loss.py:619\u001b[0m, in \u001b[0;36mBCELoss.forward\u001b[0;34m(self, input, target)\u001b[0m\n\u001b[1;32m    618\u001b[0m \u001b[39mdef\u001b[39;00m \u001b[39mforward\u001b[39m(\u001b[39mself\u001b[39m, \u001b[39minput\u001b[39m: Tensor, target: Tensor) \u001b[39m-\u001b[39m\u001b[39m>\u001b[39m Tensor:\n\u001b[0;32m--> 619\u001b[0m     \u001b[39mreturn\u001b[39;00m F\u001b[39m.\u001b[39;49mbinary_cross_entropy(\u001b[39minput\u001b[39;49m, target, weight\u001b[39m=\u001b[39;49m\u001b[39mself\u001b[39;49m\u001b[39m.\u001b[39;49mweight, reduction\u001b[39m=\u001b[39;49m\u001b[39mself\u001b[39;49m\u001b[39m.\u001b[39;49mreduction)\n",
            "File \u001b[0;32m~/miniconda3/envs/refugeeAnalysis/lib/python3.9/site-packages/torch/nn/functional.py:3095\u001b[0m, in \u001b[0;36mbinary_cross_entropy\u001b[0;34m(input, target, weight, size_average, reduce, reduction)\u001b[0m\n\u001b[1;32m   3092\u001b[0m     new_size \u001b[39m=\u001b[39m _infer_size(target\u001b[39m.\u001b[39msize(), weight\u001b[39m.\u001b[39msize())\n\u001b[1;32m   3093\u001b[0m     weight \u001b[39m=\u001b[39m weight\u001b[39m.\u001b[39mexpand(new_size)\n\u001b[0;32m-> 3095\u001b[0m \u001b[39mreturn\u001b[39;00m torch\u001b[39m.\u001b[39;49m_C\u001b[39m.\u001b[39;49m_nn\u001b[39m.\u001b[39;49mbinary_cross_entropy(\u001b[39minput\u001b[39;49m, target, weight, reduction_enum)\n",
            "\u001b[0;31mRuntimeError\u001b[0m: all elements of input should be between 0 and 1"
          ]
        }
      ],
      "source": [
        "# lists to store the training and validation accuracies\n",
        "train_accs = []\n",
        "validation_accs = []\n",
        "\n",
        "# Number of epochs\n",
        "epochs = 5\n",
        "\n",
        "for epoch in range(epochs):\n",
        "  # train the network\n",
        "  train_acc = train()\n",
        "  train_accs.append(train_acc)\n",
        "\n",
        "  # disable gradient computation during validation\n",
        "  with torch.no_grad():\n",
        "    # compute validation accuracy\n",
        "    val_acc = validation_accuracy()\n",
        "    validation_accs.append(val_acc)\n",
        "  # report it\n",
        "  print(f\"Epoch {epoch+1}: accuracy {train_acc:1.4f}\")"
      ]
    },
    {
      "cell_type": "markdown",
      "metadata": {
        "id": "QPi2ExPXwcOs"
      },
      "source": [
        "**6b)** Plot the optimisation history of this neural network. Are the results better?"
      ]
    },
    {
      "cell_type": "code",
      "execution_count": 92,
      "metadata": {
        "colab": {
          "base_uri": "https://localhost:8080/",
          "height": 279
        },
        "id": "e4vJ9qnqOQX1",
        "outputId": "a9021baa-8910-434e-9e3a-748d5e3ad477"
      },
      "outputs": [
        {
          "data": {
            "image/png": "[encoded data removed]",
            "text/plain": [
              "<Figure size 432x288 with 1 Axes>"
            ]
          },
          "metadata": {
            "needs_background": "light"
          },
          "output_type": "display_data"
        }
      ],
      "source": [
        "# we plot of the optimisation history\n",
        "plt.plot(train_accs, '-o', label='Training Accuracy')\n",
        "plt.plot(validation_accs, '-o', label='Validation Accuracy')\n",
        "plt.xlabel('Epoch')\n",
        "plt.ylabel('Accuracy')\n",
        "plt.legend()\n",
        "plt.show()"
      ]
    },
    {
      "cell_type": "code",
      "execution_count": null,
      "metadata": {
        "id": "INpR_47nPPfg"
      },
      "outputs": [],
      "source": []
    }
  ],
  "metadata": {
    "accelerator": "GPU",
    "colab": {
      "collapsed_sections": [],
      "provenance": []
    },
    "gpuClass": "standard",
    "kernelspec": {
      "display_name": "Python 3.9.13 ('refugeeAnalysis')",
      "language": "python",
      "name": "python3"
    },
    "language_info": {
      "codemirror_mode": {
        "name": "ipython",
        "version": 3
      },
      "file_extension": ".py",
      "mimetype": "text/x-python",
      "name": "python",
      "nbconvert_exporter": "python",
      "pygments_lexer": "ipython3",
      "version": "3.9.13"
    },
    "vscode": {
      "interpreter": {
        "hash": "38bb9b58d9ea7be5a20c75aa0b89a578c4bb72fb8d5231ed76f30ad5b765ca05"
      }
    }
  },
  "nbformat": 4,
  "nbformat_minor": 0
}
