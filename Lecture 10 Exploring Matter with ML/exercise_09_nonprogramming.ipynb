{
  "cells": [
    {
      "cell_type": "markdown",
      "metadata": {
        "id": "ppW_8VDuReSG"
      },
      "source": [
        "# Non-Programming Exercise Week 9: Critical temperature of superconductors"
      ]
    },
    {
      "cell_type": "markdown",
      "metadata": {
        "id": "jjsyMU0KIGNE"
      },
      "source": [
        "Goal of this exercise is a critical reading of the article *Machine learning modeling of superconducting critical temperature*, V.Stanev et al., npj Computational Materials **4**, 29 (2018) (https://www.nature.com/articles/s41524-018-0085-8)."
      ]
    },
    {
      "cell_type": "markdown",
      "metadata": {
        "id": "Wx-gYWQrmmgP"
      },
      "source": [
        "---\n",
        "\n",
        "Before starting to read the article, we need to understand some of its vocabulary. Do a quick research and answer the following questions."
      ]
    },
    {
      "cell_type": "markdown",
      "metadata": {
        "id": "-Fi_TXCgraLw"
      },
      "source": [
        "Q: What is a superconductor? What is its critical temperature?"
      ]
    },
    {
      "cell_type": "markdown",
      "metadata": {
        "id": "OMiKQ09nrsNn"
      },
      "source": [
        "A:"
      ]
    },
    {
      "cell_type": "markdown",
      "metadata": {
        "id": "FLrHj4eorvB2"
      },
      "source": [
        "Q: What are the differences between high-$T_c$ und low-$T_c$ superconductors?"
      ]
    },
    {
      "cell_type": "markdown",
      "metadata": {
        "id": "lJLZD9_xtqY0"
      },
      "source": [
        "A:"
      ]
    },
    {
      "cell_type": "markdown",
      "metadata": {
        "id": "60siQAV2tvGo"
      },
      "source": [
        "Q: What are \"cuprate\" and \"iron-based\" superconductors?"
      ]
    },
    {
      "cell_type": "markdown",
      "metadata": {
        "id": "MJBin9VUuAxt"
      },
      "source": [
        "A:"
      ]
    },
    {
      "cell_type": "markdown",
      "metadata": {
        "id": "AWJaPL2tuD4E"
      },
      "source": [
        "---\n",
        "\n",
        "You can now read the article. Keep in mind that it is not necessary to understand all the details. Try to filter out the more relevant parts and give here a summary of the main message of the article in your own words. "
      ]
    },
    {
      "cell_type": "markdown",
      "metadata": {
        "id": "bjr_KGyqqYlg"
      },
      "source": [
        "Your summary:\n"
      ]
    },
    {
      "cell_type": "markdown",
      "metadata": {
        "id": "IQ3upnGXJ5Rw"
      },
      "source": [
        "---\n",
        "\n",
        "Now we look closer at some of the results. Answer the following questions."
      ]
    },
    {
      "cell_type": "markdown",
      "metadata": {
        "id": "tD6g_U4OK7M4"
      },
      "source": [
        "Q: Looking at Fig.2 describe and comment the results of the classification models. "
      ]
    },
    {
      "cell_type": "markdown",
      "metadata": {
        "id": "yaN9-UvAK9Cz"
      },
      "source": [
        "A:"
      ]
    },
    {
      "cell_type": "markdown",
      "metadata": {
        "id": "jmUX2nPWLtGA"
      },
      "source": [
        "Q: Looking at Fig.4 describe and comment the results of the regression models predictions for the critical temperature."
      ]
    },
    {
      "cell_type": "markdown",
      "metadata": {
        "id": "OdixQan9MamG"
      },
      "source": [
        "A:"
      ]
    },
    {
      "cell_type": "markdown",
      "metadata": {
        "id": "6qtANtgIMcCC"
      },
      "source": [
        "Q: Do you think this machine learning approach can reliably predict superconductivity (and the critical temperature) for new classes of materials?"
      ]
    },
    {
      "cell_type": "markdown",
      "metadata": {
        "id": "QzJ-9_S2MePB"
      },
      "source": [
        "A:"
      ]
    },
    {
      "cell_type": "markdown",
      "metadata": {
        "id": "WrD3OrmXOyQd"
      },
      "source": [
        "Q: Considering this work, which are the strengths and the weaknesses of machine learning?"
      ]
    },
    {
      "cell_type": "markdown",
      "metadata": {
        "id": "WP7YZethPDhs"
      },
      "source": [
        "A:"
      ]
    }
  ],
  "metadata": {
    "colab": {
      "collapsed_sections": [],
      "name": "superconductors.ipynb",
      "provenance": []
    },
    "kernelspec": {
      "display_name": "Python 3.9.13 64-bit",
      "language": "python",
      "name": "python3"
    },
    "language_info": {
      "name": "python",
      "version": "3.9.13"
    },
    "vscode": {
      "interpreter": {
        "hash": "a665b5d41d17b532ea9890333293a1b812fa0b73c9c25c950b3cedf1bebd0438"
      }
    }
  },
  "nbformat": 4,
  "nbformat_minor": 0
}
