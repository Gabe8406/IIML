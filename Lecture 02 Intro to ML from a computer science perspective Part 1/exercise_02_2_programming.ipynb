{
 "cells": [
  {
   "cell_type": "markdown",
   "metadata": {},
   "source": [
    "# Welcome to Machine Learning -- An Interdisciplinary Introduction\n",
    "\n",
    "## Linear Regression\n",
    "\n",
    "\n",
    "The task in linear regression is to fit a line:\n",
    "$$y = a\\cdot x + b$$\n",
    "through a list of $N$ data points:\n",
    "$$X = \\{(x_n, t_n) \\mid 0\\leq n < N\\}$$\n",
    "by adapting the parameters $a$ and $b$ such that they minimize a loss function: \n",
    "$$\\argmin\\limits_{a,b} \\frac1N\\sum\\limits_{n=0}^{N-1} (y_n - t_n)^2 = \\frac1N\\sum\\limits_{n=0}^{N-1} (a\\cdot x_n + b - t_n)^2$$\n",
    "\n",
    "Analytically, this can be achieved by deriving the above equation to $a$ and to $b$ and setting the gradient to 0.\n",
    "Afterward, we can calculate $a$ and $b$ as follows:\n",
    "$$a = \\frac{\\sum\\limits_{n=0}^{N-1}(x_n - \\overline x) (t_n - \\overline t)}{\\sum\\limits_{n=0}^{N-1} (x_n - \\overline x)^2} \\qquad b = \\overline t - a\\overline x$$\n",
    "where $\\overline x$ and $\\overline t$ are the simple arithmetic means of $x_n$ and $t_n$, respectively:\n",
    "$$\\overline x = \\frac1N \\sum\\limits_{n=0}^{N-1} x_n \\qquad \\overline t = \\frac1N \\sum\\limits_{n=0}^{N-1} t_n$$\n",
    "\n",
    "\n",
    "## Task 1: Regression Function\n",
    "\n",
    "Implement a function that takes a list of samples $X$ and computes the regression line coordinates.\n"
   ]
  },
  {
   "cell_type": "code",
   "execution_count": null,
   "metadata": {},
   "outputs": [],
   "source": [
    "import torch\n",
    "\n",
    "def regression(X, T):\n",
    "  \"\"\"Performs linear regression for the given input and target values.\n",
    "  For the optimal line y=a*x+b, it returns the parameters a and b\"\"\"\n",
    "  # compute means of the inputs and the targets\n",
    "  x_bar = ...\n",
    "  t_bar = ...\n",
    "\n",
    "  # compute variables a and b according to the above equations\n",
    "  a = ...\n",
    "  b = ...\n",
    "\n",
    "  # return the two variables\n",
    "  return a, b\n"
   ]
  },
  {
   "cell_type": "markdown",
   "metadata": {},
   "source": [
    "## Task 2: Linear Data\n",
    "\n",
    "Generate some noisy linear data:\n",
    "$$t_n = a^* \\cdot x_n + b^* + \\xi$$\n",
    "where the noise is uniformly distributed $\\xi\\in[-.4,.4]$, and $a$ and $b$ can be chosen arbitrarily.\n",
    "\n",
    "In total, select $N=50$ samples with $x_n$ uniformly distributed in range $[-5,5]$.\n",
    "Compute the according noisy targets $t_n$.\n",
    "You can choose $a^*=0.3$ and $b^*=20$, or parameters of your own choice."
   ]
  },
  {
   "cell_type": "code",
   "execution_count": null,
   "metadata": {},
   "outputs": [],
   "source": [
    "def line(x, a, b):\n",
    "  \"\"\"Returns the output a * x + b for the given parameters\"\"\"\n",
    "  return ...\n",
    "\n",
    "\n",
    "def noisy_data(x, a_star, b_star, noise = .4):\n",
    "  \"\"\"Returns the noisy target data by \n",
    "  - first computing the line according to parameters a_star and b_star, \n",
    "  - and second adding uniformly distributed noise\"\"\"\n",
    "  return line(x,a_star,b_star) + ...\n",
    "\n",
    "# sample uniformly values for X\n",
    "X = ...\n",
    "# generate the noisy target data for these input samples\n",
    "T = noisy_data(X, .3, 20)"
   ]
  },
  {
   "cell_type": "markdown",
   "metadata": {},
   "source": [
    "## Task 3: Obtain Line Parameters\n",
    "\n",
    "Compute the regression line for our data and print the resulting values for $a$ and $b$.\n",
    "How much do these values deviate from the values $a^*$ and $b^*$ selected to compute the noisy data above?"
   ]
  },
  {
   "cell_type": "code",
   "execution_count": null,
   "metadata": {},
   "outputs": [],
   "source": [
    "a, b = ...\n",
    "\n",
    "print (f\"The optimal line is a={a:2.5f}, and b={b:2.5f}\")"
   ]
  },
  {
   "cell_type": "markdown",
   "metadata": {},
   "source": [
    "## Task 4: Plot Data and Lines\n",
    "\n",
    "Obtain the values of the line according to the optimized parameters.\n",
    "Plot the line and the data points together in one plot."
   ]
  },
  {
   "cell_type": "code",
   "execution_count": null,
   "metadata": {},
   "outputs": [],
   "source": [
    "from matplotlib import pyplot\n",
    "\n",
    "# obtain the points of the line according to the estimated parameters a and b\n",
    "Y = ...\n",
    "\n",
    "# plot the optimized line\n",
    "...\n",
    "\n",
    "# plot the data points\n",
    "..."
   ]
  },
  {
   "cell_type": "markdown",
   "metadata": {},
   "source": [
    "## Task 4: Non-linear Data\n",
    "\n",
    "Create target values that do not follow a line, for example:\n",
    "\n",
    "$$t_n = \\sin(x_n)$$\n",
    "\n",
    "Compute the line parameters and plot the data and the estimated line into one plot."
   ]
  },
  {
   "cell_type": "code",
   "execution_count": null,
   "metadata": {},
   "outputs": [],
   "source": [
    "# define new non-linear target values\n",
    "T = ...\n",
    "\n",
    "# perform linear regression and ontain the line parameters\n",
    "a, b = ...\n",
    "\n",
    "# obtain the line of the obtained parameters\n",
    "Y = ...\n",
    "\n",
    "# plot the line\n",
    "...\n",
    "\n",
    "# plot the points\n",
    "..."
   ]
  }
 ],
 "metadata": {
  "kernelspec": {
   "display_name": "Python 3.8.13 ('DL')",
   "language": "python",
   "name": "python3"
  },
  "language_info": {
   "codemirror_mode": {
    "name": "ipython",
    "version": 3
   },
   "file_extension": ".py",
   "mimetype": "text/x-python",
   "name": "python",
   "nbconvert_exporter": "python",
   "pygments_lexer": "ipython3",
   "version": "3.8.13"
  },
  "orig_nbformat": 4,
  "vscode": {
   "interpreter": {
    "hash": "a29cabff5744fce69e08a959ab87b9e77a9f67b498d08783caa8c3bb16f23a00"
   }
  }
 },
 "nbformat": 4,
 "nbformat_minor": 2
}
