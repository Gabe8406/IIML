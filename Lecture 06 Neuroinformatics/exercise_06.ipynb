{
 "cells": [
  {
   "cell_type": "markdown",
   "metadata": {},
   "source": [
    "# Exercise 6: Neuroinformatics - Bridging Machine Learning and Neuroscience\n",
    "\n",
    "Welcome, students, to the exercise of on Neuroinformatic. In this markdown document, we'll explore the captivating intersection of Machine Learning and Neural Biology, specifically focusing on Synapses.\n",
    "\n",
    "## What to Expect\n",
    "\n",
    "Throughout this document, you'll encounter questions that explore the intricate realm of neural biology. From understanding the brain's role in intelligence to examining the behavior of neurons and their response curves, our goal is to provide a holistic view of this subject matter.\n",
    "\n",
    "## How to Use this Document\n",
    "\n",
    "Each of the following 10 markdown cells contains a question regarding Neuroinformatics, please write your answer directly in the cell. Further, cells require inserting a picture into the notebook. When working with images in this notebook, if you run a cell that displays an image and then save and hand in the ipynb file, the image will be embedded directly into the notebook as part of the output. This means that anyone who opens the ipynb file will see the embedded image as part of the notebook's content, and there's no need to upload the image separately or rely on external file paths or URLs."
   ]
  },
  {
   "cell_type": "markdown",
   "metadata": {},
   "source": [
    "## 1. Aspect of the Brain and Intelligence\n",
    "**Question:** Explain what aspect of the brain makes humans more intelligent than other animals.\n",
    "\n",
    "**Answer:** "
   ]
  },
  {
   "cell_type": "markdown",
   "metadata": {},
   "source": [
    "## 2. Tutorial on Biological Neural Networks\n",
    "Follow the tutorial at http://jackterwilliger.com/biological-neural-networks-part-i-spiking-neurons. Nothing to do here 😊 just pay good attention while reading."
   ]
  },
  {
   "cell_type": "markdown",
   "metadata": {},
   "source": [
    "## 3. Diagram of a Biological Neuron\n",
    "**Question:** Draw a realistic diagram of a biological neuron and label all its parts appropriately.\n",
    "\n",
    "**Answer:** Please change the path to your image and run the cell once. You can draw the image on paper or virtually using tools like [draw.io](https://app.diagrams.net/)\n",
    "\n",
    "![Biological Neuron Diagram](image_path_or_url)"
   ]
  },
  {
   "cell_type": "markdown",
   "metadata": {},
   "source": [
    "## 4. FI Curve for a Neuron\n",
    "**Question:** Draw an FI (output frequency versus input current) curve for a neuron with biologically plausible frequency ranges on the y-axis and arbitrary units on the x-axis.\n",
    "\n",
    "**Answer:** Please change the path to your image and run the cell once. You can draw the image on paper or virtually using tools like [draw.io](https://app.diagrams.net/)\n",
    "\n",
    "![FI Curve for a Neuron](image_path_or_url)"
   ]
  },
  {
   "cell_type": "markdown",
   "metadata": {},
   "source": [
    "## 5. FI Curves with Different Refractory Periods\n",
    "**Question:** Draw superimposed on the FI curve, two more curves for two different refractory-period settings. Explain why the curves differ.\n",
    "\n",
    "**Answer:** Please change the path to your image and run the cell once. You can draw the image on paper or virtually using tools like [draw.io](https://app.diagrams.net/)\n",
    "\n",
    "![FI Curve for a Neuron](image_path_or_url)\n",
    "\n",
    "Your Explanation of the Diagram goes here.\n"
   ]
  },
  {
   "cell_type": "markdown",
   "metadata": {},
   "source": [
    "## 6. Effect of Leak Parameter on FI Curve\n",
    "**Question:** Explain how changes in the leak (passive conductance) parameter affect the FI curve.\n",
    "\n",
    "**Answer:**"
   ]
  },
  {
   "cell_type": "markdown",
   "metadata": {},
   "source": [
    "## 7. Tutorial on Biological Neural Network Synapses\n",
    "**Question:** Follow the tutorial at http://jackterwilliger.com/biological-neural-network-synapses. Nothing to do here 😊 just pay good attention while reading."
   ]
  },
  {
   "cell_type": "markdown",
   "metadata": {},
   "source": [
    "## 8. Response of a Linear Integrator to 200ms Input Step\n",
    "**Question:** Draw the response of a linear integrator to a 200ms input step, using a synaptic time constant of 50ms.\n",
    "\n",
    "**Answer:** Please change the path to your image and run the cell once. You can draw the image on paper or virtually using tools like [draw.io](https://app.diagrams.net/)\n",
    "\n",
    "![Response of a Linear Integrator to 200ms Input Step](image_path_or_url)"
   ]
  },
  {
   "cell_type": "markdown",
   "metadata": {},
   "source": [
    "## 9. Response of a Linear Integrator to a 1ms Wide Pulse\n",
    "**Question:** Draw the response of a linear integrator to a pulse (spikes) that is 1ms wide using the same time constant of the previous plot, and the same scale for the y-axis.\n",
    "\n",
    "**Answer:** Please change the path to your image and run the cell once. You can draw the image on paper or virtually using tools like [draw.io](https://app.diagrams.net/)\n",
    "\n",
    "![Response of a Linear Integrator to a 1ms Wide Pulse](image_path_or_url)"
   ]
  },
  {
   "cell_type": "markdown",
   "metadata": {},
   "source": [
    "## 10. Response of a Linear Integrator to a Sequence of 20 Pulses\n",
    "**Question:** Draw the response of a linear integrator to a sequence of 20 pulses (spikes) that are 1ms wide and that have an inter-spike-interval (the distance between the end of the previous pulse and the beginning of the next one) of 9ms. Use the same time constant and same scale of previous plots and explain the differences.\n",
    "\n",
    "**Answer:** Please change the path to your image and run the cell once. You can draw the image on paper or virtually using tools like [draw.io](https://app.diagrams.net/)\n",
    "\n",
    "![Response of a Linear Integrator to a Sequence of 20 Pulses](image_path_or_url)"
   ]
  }
 ],
 "metadata": {
  "kernelspec": {
   "display_name": "langchainXmongoDB",
   "language": "python",
   "name": "python3"
  },
  "language_info": {
   "name": "python",
   "version": "3.11.4"
  }
 },
 "nbformat": 4,
 "nbformat_minor": 2
}
