{
  "cells": [
    {
      "cell_type": "markdown",
      "metadata": {
        "id": "M6rSa45PwNSx"
      },
      "source": [
        "# Exercise 1\n",
        "\n",
        "Welcome to the first exercise and colab notebook! This is also a test file to verify that everything works for you.\n",
        "\n",
        "If you have never heard about or used colab notebooks before, don't worry! Colab notebooks provide an easy way to combine formatted text (such as this paragraph) with python code (such as the boxes further below). The great thing is that you can also execute the python code live on this page. You can try it out by clicking on the `Play` button that appears when you hover over a code cell, by opening the `Runtime` tab in the toolbar above or simply hinting `Shift + Enter`."
      ]
    },
    {
      "cell_type": "markdown",
      "metadata": {
        "id": "xlXo3egswNS0"
      },
      "source": [
        "On the first `Shift + Enter`, the box around the headline and the first two paragraphs probably jumped to this paragraph, but nothing else happened, right? This is how Colab notebooks operate: the formatted text blocks and the code blocks are organised in _cells_ – each of which can be executed. Now, executing a cell with only text doesn't do anything of course ... But with every click on `Run`, you run the active cell and jump to the next one. "
      ]
    },
    {
      "cell_type": "markdown",
      "source": [
        "## Adding and editing text cells\n",
        "\n",
        "You can add a text cell simply by selecting `+ Text` in the toolbar right above the headline. Text cells are formatted using a simple markup language called Markdown.\n",
        "\n",
        "\n",
        "To see the Markdown source, double-click a text cell, showing both the Markdown source and the rendered version. Above the Markdown source there is a toolbar to assist editing. Here are some examples of what you can do:\n",
        "\n",
        "\n",
        "---\n",
        "Markdown | Preview\n",
        "--- | ---\n",
        "`**bold text**` | **bold text**\n",
        "`*italicized text*` or `_italicized text_` | *italicized text*\n",
        "`` `Monospace` `` | `Monospace`\n",
        "`~~strikethrough~~` | ~~strikethrough~~\n",
        "`[A link](https://www.google.com)` | [A link](https://www.google.com)\n",
        "`![An image](https://www.google.com/images/rss.png)` | ![An image](https://www.google.com/images/rss.png)\n",
        "\n",
        "\n",
        "\n",
        "---\n",
        "\n",
        "Ordered lists:\n",
        "```markdown\n",
        "1. One\n",
        "1. Two\n",
        "1. Three\n",
        "```\n",
        "1. One\n",
        "1. Two\n",
        "1. Three\n",
        "\n",
        "---\n",
        "\n",
        "Unordered lists:\n",
        "```markdown\n",
        "* One\n",
        "* Two\n",
        "* Three\n",
        "```\n",
        "* One\n",
        "* Two\n",
        "* Three\n",
        "\n",
        "---\n",
        "\n",
        "Equations use LaTeX :\n",
        "\n",
        "```markdown\n",
        "$y=x^2$\n",
        "\n",
        "$e^{i\\pi} + 1 = 0$\n",
        "\n",
        "$e^x=\\sum_{i=0}^\\infty \\frac{1}{i!}x^i$\n",
        "\n",
        "$\\frac{n!}{k!(n-k)!} = {n \\choose k}$\n",
        "\n",
        "```\n",
        "\n",
        "$y=x^2$\n",
        "\n",
        "$e^{i\\pi} + 1 = 0$\n",
        "\n",
        "$e^x=\\sum_{i=0}^\\infty \\frac{1}{i!}x^i$\n",
        "\n",
        "$\\frac{n!}{k!(n-k)!} = {n \\choose k}$\n",
        "\n",
        "---\n",
        "To learn more, you can check out these references:\n",
        "* [Markdown basic syntax](https://www.markdownguide.org/basic-syntax/)\n",
        "* [LaTex mathematics for equations](https://en.wikibooks.org/wiki/LaTeX/Mathematics)"
      ],
      "metadata": {
        "id": "ZgZFNoe7xwnm"
      }
    },
    {
      "cell_type": "markdown",
      "source": [
        "🖍 Now it's your turn! Add a text cell below and add an equation of your choice 🙂"
      ],
      "metadata": {
        "id": "oFPns96LIyCR"
      }
    },
    {
      "cell_type": "markdown",
      "source": [
        "## Adding and editing code cells\n",
        "\n",
        "You can also add a code cell simply by selecting `+ Code` in the toolbar right above the headline. Code cells allow you to write and execute Python code: to edit the code, just click the cell and start editing. To run it, select it with a click and then either press the play button to the left of the code, or use the keyboard shortcut `Shift + Enter`.\n",
        "\n",
        "For example, here is a <strong>code cell</strong> with a short Python script that computes a value, stores it in a variable and prints the result:"
      ],
      "metadata": {
        "id": "CRZl0gYAJKxU"
      }
    },
    {
      "cell_type": "code",
      "execution_count": 1,
      "metadata": {
        "colab": {
          "base_uri": "https://localhost:8080/"
        },
        "id": "mATaWk5ewNS1",
        "outputId": "79a7fed6-210b-45d4-be40-e27e5cca9ba3"
      },
      "outputs": [
        {
          "output_type": "execute_result",
          "data": {
            "text/plain": [
              "86400"
            ]
          },
          "metadata": {},
          "execution_count": 1
        }
      ],
      "source": [
        "seconds_in_a_day = 24 * 60 * 60\n",
        "seconds_in_a_day"
      ]
    },
    {
      "cell_type": "markdown",
      "source": [
        "Variables that you define in one cell can later be used in other cells:"
      ],
      "metadata": {
        "id": "WvuwSUFaK_Ku"
      }
    },
    {
      "cell_type": "code",
      "source": [
        "seconds_in_a_week = 7 * seconds_in_a_day\n",
        "seconds_in_a_week"
      ],
      "metadata": {
        "colab": {
          "base_uri": "https://localhost:8080/"
        },
        "id": "zoYKdtinLBWS",
        "outputId": "50307e09-6b9b-4e39-fdd7-5a78ab2b5aa6"
      },
      "execution_count": 3,
      "outputs": [
        {
          "output_type": "execute_result",
          "data": {
            "text/plain": [
              "604800"
            ]
          },
          "metadata": {},
          "execution_count": 3
        }
      ]
    },
    {
      "cell_type": "markdown",
      "metadata": {
        "id": "7aoTQoazwNS2"
      },
      "source": [
        "Great, you've executed your first bit of python code! Python is an extremely _modular_ language, meaning that it is organised in chunks of code called _modules_. These modules provide all sorts of functionalities, usually dedicated to specific tasks. For example, the module collection [numpy](https://www.numpy.org/) provides functionality for numerical computations. It is one of the most widely used collections in scientific programming. By the way, collections of modules are called `packages`.\n",
        "\n",
        "The above commands just define variables and print their value. In order to do more advanced things, we now want to import packages. Click on the `Run` button again to jump to the cell of python code below and execute it."
      ]
    },
    {
      "cell_type": "code",
      "execution_count": 4,
      "metadata": {
        "colab": {
          "base_uri": "https://localhost:8080/",
          "height": 37
        },
        "id": "PYhyuvnBwNS3",
        "outputId": "e3a94d87-3e74-4f8d-9970-d487324da1eb"
      },
      "outputs": [
        {
          "output_type": "execute_result",
          "data": {
            "text/plain": [
              "'1.21.6'"
            ],
            "application/vnd.google.colaboratory.intrinsic+json": {
              "type": "string"
            }
          },
          "metadata": {},
          "execution_count": 4
        }
      ],
      "source": [
        "import numpy as np\n",
        "np.__version__"
      ]
    },
    {
      "cell_type": "code",
      "execution_count": 5,
      "metadata": {
        "colab": {
          "base_uri": "https://localhost:8080/",
          "height": 37
        },
        "id": "-O3u0zhzwNS3",
        "outputId": "2bc584b0-4310-4c10-f0bd-3dd739da6e70"
      },
      "outputs": [
        {
          "output_type": "execute_result",
          "data": {
            "text/plain": [
              "'3.2.2'"
            ],
            "application/vnd.google.colaboratory.intrinsic+json": {
              "type": "string"
            }
          },
          "metadata": {},
          "execution_count": 5
        }
      ],
      "source": [
        "import matplotlib as mpl\n",
        "import matplotlib.pyplot as plt\n",
        "mpl.__version__"
      ]
    },
    {
      "cell_type": "markdown",
      "metadata": {
        "id": "-cLpspvzwNS3"
      },
      "source": [
        "As you might have guessed, the two `import` lines above load two more modules: the numpy package for scientific programming, and [matplotlib](https://matplotlib.org), a package for visualising data. Two more gimmicks:\n",
        "- the `import` command can also create aliases for modules/packages with the `as` keyword. This can be useful if the names of modules/packages are very long. In the above example, anything within `matplotlib` can be accessed with the alias `mpl`. \n",
        "- You can also import only _parts_ of a package. Many packages have functionalities bundled in their own small modules. In the above example, the `matplotlib.pyplot` module is imported separately from `matplotlib` and given the alias `plt`.\n",
        "\n",
        "If everything works correctly, you should get version numbers like these:\n",
        "```\n",
        "Numpy version:      1.21.6\n",
        "Matplotlib version: 3.2.2\n",
        "```\n",
        "The beauty of using Colab is that everyone will have the same versions, such that we can easily compare our results!\n",
        "\n",
        "Let's run the following piece of code, which uses these two packages to create some random data, perform a polynomial regression, and plot the result:"
      ]
    },
    {
      "cell_type": "code",
      "execution_count": 6,
      "metadata": {
        "colab": {
          "base_uri": "https://localhost:8080/",
          "height": 299
        },
        "id": "aVDliiRHwNS4",
        "outputId": "058e8451-ae13-42fa-e72c-eaa026926331"
      },
      "outputs": [
        {
          "output_type": "execute_result",
          "data": {
            "text/plain": [
              "<matplotlib.collections.PathCollection at 0x7f0c2ecd8d10>"
            ]
          },
          "metadata": {},
          "execution_count": 6
        },
        {
          "output_type": "display_data",
          "data": {
            "text/plain": [
              "<Figure size 432x288 with 1 Axes>"
            ],
            "image/png": "[encoded data removed]"
          },
          "metadata": {
            "needs_background": "light"
          }
        }
      ],
      "source": [
        "# Generate 50 random x values in the interval [0, 2].\n",
        "# For each of these random values, generate a y value\n",
        "# following the formula y = 3 + 4x. To make our data\n",
        "# more interesting, we add some random noise.\n",
        "m = 50\n",
        "X = 2 * np.random.rand(m)\n",
        "y = 3 + 5 * X + 2 * np.random.randn(m)\n",
        "\n",
        "# Add some labels to the axes before plotting.\n",
        "plt.xlabel(\"x\", fontsize=12)\n",
        "plt.ylabel(\"y\", rotation=0, fontsize=12)\n",
        "\n",
        "# Now, plot the data\n",
        "plt.scatter(X,y)"
      ]
    },
    {
      "cell_type": "markdown",
      "metadata": {
        "id": "I5qhSHU5wNS5"
      },
      "source": [
        "Hopefully this worked, too. By the way, you can always click on the code and start to modify it! \n",
        "\n",
        "🖍 For example, try to change the value of `m` in the above cell, and then run the cell again. Does the plot look different?\n",
        "\n",
        "Another thing: you can always jump back in forth within a notebook by using your up/down arrow keys or simply clicking on the cells. Sometimes it is useful to reset the notebook and start from scratch. This will remove all generated output and only leave the formatted text and code cells. To do this, click on the `Runtime` drop-down menu and click on `Restart runtime`. The kernel restart means that python will also \"forget\" about anything you did: variables you assigned, modules you imported etc."
      ]
    },
    {
      "cell_type": "markdown",
      "source": [
        "🖍 If you want to check your python skills, you can add a code cell to solve the following problem: given two integer numbers return their product only if the product is equal to or lower than 1000, else return their sum."
      ],
      "metadata": {
        "id": "Ohbay8INNVn8"
      }
    },
    {
      "cell_type": "markdown",
      "source": [
        "Colab notebooks execute code on Google's cloud servers, meaning you can leverage the power of Google hardware, including <a href=\"#using-accelerated-hardware\">GPUs and TPUs</a>, regardless of the power of your machine. This is particularly useful for our machine learning tasks, which we will perform using PyTorch and sklearn. Let's import them to see if everything works!"
      ],
      "metadata": {
        "id": "rfaGITbRMth0"
      }
    },
    {
      "cell_type": "code",
      "source": [
        "import sklearn as skl\n",
        "print(skl.__version__)\n",
        "import torch as pyt\n",
        "print(pyt.__version__)"
      ],
      "metadata": {
        "colab": {
          "base_uri": "https://localhost:8080/"
        },
        "id": "yNlZvW5BM_xN",
        "outputId": "e806ebed-aa50-4c5b-865b-827bb4f926ad"
      },
      "execution_count": 7,
      "outputs": [
        {
          "output_type": "stream",
          "name": "stdout",
          "text": [
            "1.0.2\n",
            "1.12.1+cu113\n"
          ]
        }
      ]
    },
    {
      "cell_type": "markdown",
      "source": [
        "Hurray, the setup was successful!"
      ],
      "metadata": {
        "id": "pA5iscJROuY8"
      }
    }
  ],
  "metadata": {
    "kernelspec": {
      "display_name": "Python 3",
      "language": "python",
      "name": "python3"
    },
    "language_info": {
      "codemirror_mode": {
        "name": "ipython",
        "version": 3
      },
      "file_extension": ".py",
      "mimetype": "text/x-python",
      "name": "python",
      "nbconvert_exporter": "python",
      "pygments_lexer": "ipython3",
      "version": "3.7.8"
    },
    "colab": {
      "provenance": [],
      "collapsed_sections": []
    }
  },
  "nbformat": 4,
  "nbformat_minor": 0
}