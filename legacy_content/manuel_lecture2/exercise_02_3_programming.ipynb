{
 "cells": [
  {
   "cell_type": "markdown",
   "metadata": {},
   "source": [
    "# Welcome to Machine Learning -- An Interdisciplinary Introduction\n",
    "\n",
    "## K-Means Clustering\n",
    "\n",
    "A clustering task is defined as automatically grouping similar data points together.\n",
    "One simple yet effective clustering algorithms is K-Means.\n",
    "Given is a set of samples without labels:\n",
    "$$X = \\{\\vec x_n \\mid 0\\leq n<N \\}\\,.$$\n",
    "The task is to assign these samples to groups, i.e., we assing class/cluster labels:\n",
    "$$Y=\\{y_n \\in\\{0,\\ldots,K-1\\} \\mid 0\\leq n<N\\}\\,.$$"
   ]
  },
  {
   "cell_type": "markdown",
   "metadata": {},
   "source": [
    "### Expectation Maximization\n",
    "\n",
    "The K-Means algorithm is an iterative algorithm that performs two steps.\n",
    "For estimating clusters, K-Means starts with defining initial cluster means by simply randomly taking $K$ of the data points:\n",
    "$$M = \\{\\vec\\mu_k \\mid 0\\leq k < K\\}$$\n",
    "\n",
    "Now, two iterative steps are executed repeatedly.\n",
    "1. Compute the distances between all samples $X$ and all means M: \n",
    "   $$D_{k,n} = \\|\\vec x_n- \\vec \\mu_k\\|^2$$\n",
    "   For each sample $\\vec x_n$, the cluster label is assigned to the closest class:\n",
    "   $$y_n = \\argmin\\limits_{0\\leq k<K} D_{k,n}\\,.$$\n",
    "\n",
    "2. Compute new cluster centers $M$ by taking the mean of all samples belonging to that cluster\n",
    "   $$\\forall 0\\leq k<K\\colon\\vec\\mu_k = \\frac{\\sum\\limits_{0\\leq n<N} \\mathbb I(y_n = k) \\vec x_n}{\\sum\\limits_{0\\leq n<N} \\mathbb I(y_n = k)}$$\n",
    "   where $\\mathbb I$ is an indicator function that is 1 if the condition is true, otherwise 0.\n",
    "   Hence, the denominator counts the number of samples in cluster $k$.\n",
    "\n",
    "This iteration is stopped when the assignments of the labels $Y$ did not change in the last round.\n"
   ]
  },
  {
   "cell_type": "markdown",
   "metadata": {},
   "source": [
    "## Implementation\n",
    "\n",
    "Implement a K-Means algorithm to cluster a given set of data points.\n",
    "We perform the implementation in three steps.\n",
    "First, we implement the cluster assignment function that assigns each sample to the cluster with the closest class mean.\n",
    "Second, we implement a function that computes new means for the clusters.\n",
    "Third, we run these two functions iteratively and implement a stopping criterion.\n",
    "Finally, we create some data samples and run the K-Means algorithm to cluster them.\n",
    "\n",
    "## Task 1: Assign Clusters\n",
    "\n",
    "Given the current means $\\vec mu_k$, assign each data point to the cluster with the closest mean."
   ]
  },
  {
   "cell_type": "code",
   "execution_count": null,
   "metadata": {},
   "outputs": [],
   "source": [
    "import torch\n",
    "\n",
    "def assign_clusters(X, M):\n",
    "  \"\"\"Provides cluster indices for all points in X by computing the closest distance to all centers in M\n",
    "  \n",
    "  Parameters:\n",
    "  X: torch.tensor(float) in shape (N,D): The samples of the dataset that should be clustered\n",
    "  M: torch.tensor(float) in shape (K,D): The current estimates of the cluster means\n",
    "\n",
    "  Returns:\n",
    "  torch.tensor(int) in shape (N): The cluster indexes for all samples in X\n",
    "  \"\"\"\n",
    "  # compute distances between data points and centers\n",
    "  D = ...\n",
    "\n",
    "  # assign new classes based on the smallest distance per sample\n",
    "  Y = ...\n",
    "\n",
    "  # return classes\n",
    "  return Y"
   ]
  },
  {
   "cell_type": "markdown",
   "metadata": {},
   "source": [
    "## Task 2: Update Means\n",
    "\n",
    "Given the current predictions of the clusters, compute the new means."
   ]
  },
  {
   "cell_type": "code",
   "execution_count": null,
   "metadata": {},
   "outputs": [],
   "source": [
    "def compute_means(X, Y, K):\n",
    "  \"\"\"Computes K new means M based on the current cluster assignment Y\n",
    "  \n",
    "  Parameters:\n",
    "  X: torch.tensor(float) in shape (N,D): The samples of the dataset that should be clustered\n",
    "  Y: torch.tensor(int) in shape (N): The current estimates of the cluster labels for all samples\n",
    "  K: int: The number of cluster centers to create\n",
    "\n",
    "  Returns:\n",
    "  torch.tensor(float) in shape (K,D): The estimated cluster means\n",
    "  \"\"\"  \n",
    "  # compute the new means as averages of the data points of each cluster\n",
    "  M = ...\n",
    "\n",
    "  # return them in form of a numpy array\n",
    "  return M"
   ]
  },
  {
   "cell_type": "markdown",
   "metadata": {},
   "source": [
    "## Task 3: Run K-Means\n",
    "\n",
    "Implement a function that takes a given dataset $X$ and a given cluster number $K$.\n",
    "Perform iterative K-Means and return the cluster indexes for each data point.\n",
    "Also return the means of the clusters (for later visualization)."
   ]
  },
  {
   "cell_type": "code",
   "execution_count": null,
   "metadata": {},
   "outputs": [],
   "source": [
    "\n",
    "def KMeans(X, K):\n",
    "  # select the first means randomly\n",
    "  M = ...\n",
    "\n",
    "  # iterate the expectation maximization algorithm\n",
    "  while True:\n",
    "    # Step 1: assign clusters\n",
    "    Y = ...\n",
    "\n",
    "    # implement the stopping criterion by checking if the cluster assignments have changed\n",
    "    if ...:\n",
    "      # breaking condition: clusters did not change, we are done\n",
    "      # and we return the cluster assignments and the means\n",
    "      return Y, M\n",
    "\n",
    "    # Step 2: compute new means\n",
    "    M = ..."
   ]
  },
  {
   "cell_type": "markdown",
   "metadata": {},
   "source": [
    "## 2D Example Data\n",
    "\n",
    "For testing our clustering algorithm, we generate 4 different 2D clusters randomly.\n",
    "We select random values in four different Gaussian distributions.\n",
    "Finally, we club all of them together to build our data samples."
   ]
  },
  {
   "cell_type": "code",
   "execution_count": null,
   "metadata": {},
   "outputs": [],
   "source": [
    "# Generate four distributions\n",
    "X1 = torch.distributions.normal.Normal(torch.tensor((-5.,-4.)), 1.5).sample([50])\n",
    "X2 = torch.distributions.normal.Normal(torch.tensor((-4.,4.)), 1.5).sample([50])\n",
    "X3 = torch.distributions.normal.Normal(torch.tensor((4.,5.)), 1.5).sample([50])\n",
    "X4 = torch.distributions.normal.Normal(torch.tensor((3,-3.)), 1.5).sample([50])\n",
    "\n",
    "# club them together\n",
    "X = torch.cat((X1, X2, X3, X4))"
   ]
  },
  {
   "cell_type": "markdown",
   "metadata": {},
   "source": [
    "For illustration purposes, we plot the four groups into one plot using one color per group."
   ]
  },
  {
   "cell_type": "code",
   "execution_count": null,
   "metadata": {},
   "outputs": [],
   "source": [
    "from matplotlib import pyplot\n",
    "\n",
    "pyplot.figure(figsize=(5,5))\n",
    "\n",
    "pyplot.plot(X1[:,0], X1[:,1], \"gx\")\n",
    "pyplot.plot(X2[:,0], X2[:,1], \"rx\")\n",
    "pyplot.plot(X3[:,0], X3[:,1], \"bx\")\n",
    "pyplot.plot(X4[:,0], X4[:,1], \"mx\")"
   ]
  },
  {
   "cell_type": "markdown",
   "metadata": {},
   "source": [
    "## Task 4: K-Means Clustering of Data Points\n",
    "\n",
    "Select a suitable value of $K$ based on your assumptions.\n",
    "Using the implemented K-Means algorithm, obtain the clusters and means for the produced data $X$.\n",
    "Plot the data points, selecting the color based on the cluster index.\n",
    "Also plot the estimated means into the same plot."
   ]
  },
  {
   "cell_type": "code",
   "execution_count": null,
   "metadata": {},
   "outputs": [],
   "source": [
    "# Run the K-Means algorithm to obtain clusters and means\n",
    "clusters, means = ...\n",
    "\n",
    "pyplot.figure(figsize=(5,5))\n",
    "# Plot the data points according to their cluster index\n",
    "...\n",
    "\n",
    "# plot the means of the clusters with a different marker\n",
    "..."
   ]
  },
  {
   "cell_type": "markdown",
   "metadata": {},
   "source": [
    "## Task 5: Discuss Issues of k-Means\n",
    "\n",
    "Problems of the k-nearest neighbor approach include the following:\n",
    "\n",
    "* Selection of $K$: how can we find out how many clusters we have? What happens if we chose the wrong number, e.g., $K=2$ in our example?\n",
    "* What is the optimal distance function to compare our samples?\n",
    "* What happens if one of the clusters is empty in one iteration?\n",
    "* How can badly initialized samples influence the clustering results?\n",
    "* How to evaluate the quality of clustering if we have no ground truth?"
   ]
  }
 ],
 "metadata": {
  "kernelspec": {
   "display_name": "Python 3.8.13 ('DL')",
   "language": "python",
   "name": "python3"
  },
  "language_info": {
   "codemirror_mode": {
    "name": "ipython",
    "version": 3
   },
   "file_extension": ".py",
   "mimetype": "text/x-python",
   "name": "python",
   "nbconvert_exporter": "python",
   "pygments_lexer": "ipython3",
   "version": "3.8.13"
  },
  "orig_nbformat": 4,
  "vscode": {
   "interpreter": {
    "hash": "a29cabff5744fce69e08a959ab87b9e77a9f67b498d08783caa8c3bb16f23a00"
   }
  }
 },
 "nbformat": 4,
 "nbformat_minor": 2
}
