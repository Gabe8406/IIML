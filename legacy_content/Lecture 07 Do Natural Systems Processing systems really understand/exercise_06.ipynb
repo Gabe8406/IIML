{
  "cells": [
    {
      "cell_type": "markdown",
      "metadata": {},
      "source": [
        "# Non-Programming Exercise Week 6"
      ]
    },
    {
      "cell_type": "markdown",
      "metadata": {
        "id": "70HrdndqODfA"
      },
      "source": [
        "## Question Block 1: Meta"
      ]
    },
    {
      "cell_type": "markdown",
      "metadata": {
        "id": "wIUmTsvqJxyT"
      },
      "source": [
        "Question 1.1: What kinds of questions does philosophy answer (give both a general description as well as a specific example)?\n",
        "\n",
        "Answer: \n",
        "\n",
        "Question 1.2: What kinds of questions does science (de: \"Naturwissenschaft\", not: \"Wissenschaft\") answer (give both a general description as well as a specific example)?\n",
        "\n",
        "Answer: \n",
        "\n",
        "Question 1.3: Why does it make sense to draw this distinction?\n",
        "\n",
        "Answer:"
      ]
    },
    {
      "cell_type": "markdown",
      "metadata": {
        "id": "FrlLPSIFOMAs"
      },
      "source": [
        "## Question Block 2: Understanding"
      ]
    },
    {
      "cell_type": "markdown",
      "metadata": {
        "id": "4AaFTgSUQwOi"
      },
      "source": [
        "Question: Name and briefly explain two different accounts of what understanding a language amounts to; give a specific procedure of how language understanding, on these different conceptions, could be assessed.\n",
        "\n",
        "Answer:\n",
        "\n",
        "\n"
      ]
    },
    {
      "cell_type": "markdown",
      "metadata": {
        "id": "W38NoL2hWEsI"
      },
      "source": [
        "## Question Block 3: Case Study"
      ]
    },
    {
      "cell_type": "markdown",
      "metadata": {
        "id": "9EvtyvLzWJKC"
      },
      "source": [
        "Question: Choose one of the conceptions of understandings from question 2 and state whether and why the transformer-based language models introduced by Prof. Jäger in lecture 4 understand language.\n",
        "\n",
        "Answer:"
      ]
    }
  ],
  "metadata": {
    "colab": {
      "name": "lecture6_gubelmann.ipynb",
      "provenance": []
    },
    "kernelspec": {
      "display_name": "Python 3.10.4 ('ml-lecture')",
      "language": "python",
      "name": "python3"
    },
    "language_info": {
      "name": "python",
      "version": "3.10.4"
    },
    "vscode": {
      "interpreter": {
        "hash": "a943d2616fa3e680d29dff8c520e8d3eb07670a5a5f6ff74c907e00ed389aa05"
      }
    }
  },
  "nbformat": 4,
  "nbformat_minor": 0
}
