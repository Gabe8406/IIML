{
 "cells": [
  {
   "cell_type": "markdown",
   "id": "c512fc59",
   "metadata": {},
   "source": [
    "# Non-programming exercise week 12\n",
    "\n",
    "The goal of this exercise is critical reading and interperation of one scientific article in the field of deep learning methods for time series forecasting.\n",
    "\n",
    "Please read the following paper:\n",
    "[\"Time Series Forecasting With Deep Learning: A Survey\" by Bryan Lim and Stefan Zohren (2020)](https://arxiv.org/pdf/2004.13408v1.pdf)"
   ]
  },
  {
   "cell_type": "markdown",
   "id": "756bb27a",
   "metadata": {},
   "source": [
    "## Question 1\n",
    "\n",
    "Provide a brief comparison of three different encoder architectures for deep learning on time series: 1) Convolutional Neural Networks (CNNs), 2) Recurrent Neural Networks (RNNs), and 3) Attention-based models.\n",
    "\n",
    "Your answer:"
   ]
  },
  {
   "cell_type": "markdown",
   "id": "a0b23f2d",
   "metadata": {},
   "source": [
    "## Question 2\n",
    "\n",
    "Explain in brief the main benefit of using Long-short Term Memory (LSTM) deep learning model as compared to more standard Recurrent Neural Networks (RNNs) for time series modeling.\n",
    "\n",
    "Your answer:"
   ]
  },
  {
   "cell_type": "markdown",
   "id": "f15e753c",
   "metadata": {},
   "source": [
    "## Question 3\n",
    "\n",
    "Highlight one benefit of having a deep learning model capable of producing a probabilistic output instead of a simple point estimate. You can use financial risk management as an example of a domain where such probabilistic estimate could be used.\n",
    "\n",
    "Your answer:"
   ]
  },
  {
   "cell_type": "markdown",
   "id": "98077e9d",
   "metadata": {},
   "source": [
    "## Question 4\n",
    "\n",
    "Explain in brief the main difference between two approaches for producing multi-horizon estimates in time series forecasting: 1) Iterative methods, and 2) Direct methods.\n",
    "\n",
    "Your answer:"
   ]
  }
 ],
 "metadata": {
  "kernelspec": {
   "display_name": "pytorch",
   "language": "python",
   "name": "pytorch"
  },
  "language_info": {
   "codemirror_mode": {
    "name": "ipython",
    "version": 3
   },
   "file_extension": ".py",
   "mimetype": "text/x-python",
   "name": "python",
   "nbconvert_exporter": "python",
   "pygments_lexer": "ipython3",
   "version": "3.10.8"
  }
 },
 "nbformat": 4,
 "nbformat_minor": 5
}
