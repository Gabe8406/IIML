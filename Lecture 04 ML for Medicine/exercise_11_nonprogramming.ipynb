{
 "cells": [
  {
   "cell_type": "markdown",
   "metadata": {},
   "source": [
    "# non-coding exercise\n",
    "Please read one of the two papers:\n",
    "\n",
    "1. [An Empirical Evaluation of Generic Convolutional and Recurrent Networks for Sequence Modeling](https://arxiv.org/abs/1803.01271)\n",
    "2. [Early Recognition of Sepsis with Gaussian Process Temporal Convolutional Networks and Dynamic Time Warping](https://arxiv.org/abs/1902.01659) \n",
    "\n",
    "For the paper you choose write a short response paper approximately 500 words. Consider the specific task for each paper seen below. \n",
    "\n",
    " \n"
   ]
  },
  {
   "cell_type": "markdown",
   "metadata": {},
   "source": [
    "\n",
    "## An Empirical Evaluation of Generic Convolutional and Recurrent Networks for Sequence Modeling \n",
    "Understand the mechanism of TCN and explain it clearly. Meanwhile, they should compare TCN with LSTM and explain its advantages and disadvantages. Most importantly, clarify why TCN is better than LSTM for sequence modeling tasks."
   ]
  },
  {
   "cell_type": "markdown",
   "metadata": {},
   "source": [
    "Your answer goer here:"
   ]
  },
  {
   "cell_type": "markdown",
   "metadata": {},
   "source": [
    "## Early Recognition of Sepsis with Gaussian Process Temporal Convolutional Networks and Dynamic Time Warping\n",
    "Explain in detail how to combine gaussian processes with TCN and its mechanism. The student should also show motivation and intuition for applying gaussian processes with TCN. In addition, be aware of the data preprocessing and evaluation metrics for medical data in this paper."
   ]
  },
  {
   "cell_type": "markdown",
   "metadata": {},
   "source": [
    "Your answer goer here:"
   ]
  }
 ],
 "metadata": {
  "language_info": {
   "name": "python"
  },
  "orig_nbformat": 4
 },
 "nbformat": 4,
 "nbformat_minor": 2
}
