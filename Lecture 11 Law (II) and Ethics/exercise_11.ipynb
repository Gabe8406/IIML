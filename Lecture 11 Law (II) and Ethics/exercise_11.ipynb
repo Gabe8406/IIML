{
 "cells": [
  {
   "cell_type": "markdown",
   "metadata": {},
   "source": [
    "## Exercise 12: Ethical and Legal Analysis of Machine Learning Case Studies\n",
    "\n",
    "**Objective:** In this exercise, students will work in pairs to select a machine learning case study from the course material, identify ethical and legal questions related to the case, and create a concise presentation using no more than 5 slides.\n",
    "\n",
    "### Instructions:\n",
    "\n",
    "1. **Team Formation:** In the first part of the class, students will form pairs for this exercise. If you cannot find a partner, one person, can make a group alone or join another team.\n",
    "\n",
    "2. **Case Selection:** Each pair should choose one machine learning case study; cases will be presented by the lecturer.\n",
    "\n",
    "3. **Slide Preparation:** Once the case study is selected, each pair will work independently to prepare a presentation. The presentation should consist of a maximum of 5 slides.\n",
    "\n",
    "5. **Presentation:** Each pair will present their findings and insights to the class, the presentation should take roughly 5 minutes.\n",
    "\n",
    "6. **Discussion and Feedback:** After each presentation, there will be a short discussion and feedback."
   ]
  }
 ],
 "metadata": {
  "language_info": {
   "name": "python"
  }
 },
 "nbformat": 4,
 "nbformat_minor": 2
}
