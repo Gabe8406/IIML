{
  "nbformat": 4,
  "nbformat_minor": 0,
  "metadata": {
    "colab": {
      "name": "tox_sol.ipynb",
      "provenance": [],
      "collapsed_sections": []
    },
    "kernelspec": {
      "name": "python3",
      "display_name": "Python 3"
    },
    "language_info": {
      "name": "python"
    }
  },
  "cells": [
    {
      "cell_type": "markdown",
      "source": [
        "# **Machine Learning - An Interdisciplinary Introduction**\n",
        "\n",
        "# **Exercise sheet 9**\n",
        "\n",
        "## Exercise I: Toxicity of molecules"
      ],
      "metadata": {
        "id": "ppW_8VDuReSG"
      }
    },
    {
      "cell_type": "markdown",
      "source": [
        "## Part A: Preparations\n",
        "\n",
        "Run the following code to import some tools."
      ],
      "metadata": {
        "id": "2WiUZzDSZrBo"
      }
    },
    {
      "cell_type": "code",
      "execution_count": null,
      "metadata": {
        "id": "s1DWWhW_GyCB",
        "outputId": "f079ca22-c842-4a63-bd32-0b08fea2d54d",
        "colab": {
          "base_uri": "https://localhost:8080/"
        }
      },
      "outputs": [
        {
          "output_type": "stream",
          "name": "stdout",
          "text": [
            "\u001b[K     |████████████████████████████████| 22.7 MB 70.9 MB/s \n",
            "\u001b[?25h"
          ]
        }
      ],
      "source": [
        "import numpy as np\n",
        "import pandas as pd\n",
        "from collections import OrderedDict\n",
        "from itertools import chain\n",
        "!pip install rdkit-pypi -qqq\n",
        "from rdkit import Chem\n",
        "from rdkit.Chem import Draw\n",
        "import tensorflow as tf\n",
        "from sklearn.utils import shuffle\n",
        "from sklearn.model_selection import train_test_split\n",
        "import matplotlib.pyplot as plt\n",
        "from sklearn.metrics import confusion_matrix"
      ]
    },
    {
      "cell_type": "markdown",
      "source": [
        "---\n",
        "\n",
        "In this exercise we will study the toxicity of molecules.\n",
        "Molecules will be described using the simplified molecular input line entry system (SMILES). This system allows to describe the structure of chemical species in the form of a line notation, making it suited for a machine learning approach. \n",
        "\n",
        "---\n",
        "\n",
        "**The basic rules for SMILES are:**\n",
        "\n",
        "* Atom types are represented by their atomic symbols, upper case letters represent aliphatic atoms, lower case letters represented aromatic atoms, hydrogens are often stripped away, since those can be inferred from atom type and connectivity.\n",
        "\n",
        "* Bonds are only represented if needed:\n",
        "\n",
        " $\\text{-}$ : single bond (CC and C-C are the same, since single bonds are used by default)\n",
        "\n",
        " = : double bond (C=C-C=C and cccc are the same)\n",
        " \n",
        " $\\#$ : triple bond\n",
        "\n",
        "* Ring opening and closures are represented with numbers: \n",
        " \n",
        " c1ccccc1 - benzene\n",
        "\n",
        "* Substituents leaving a chain or ring are represented with brackets:\n",
        "\n",
        " c1cc(C)ccc1 - methyl-substituted benzene.\n",
        "\n",
        " CC(F)(Br)Cl - ethane substituted with fluorine, chlorine and bromine\n",
        "\n",
        "(More detailed rules, not necessary for our exercise, can be found here: https://www.daylight.com/dayhtml/doc/theory/theory.smiles.html)\n",
        "\n",
        "---"
      ],
      "metadata": {
        "id": "fig1U8ZLLh1W"
      }
    },
    {
      "cell_type": "markdown",
      "source": [
        "**1a)** With the following commands one can draw a 2d-representation of the molecule using its SMILE representation. Experiment with them to understand how SMILES work."
      ],
      "metadata": {
        "id": "AhjVeZDG_1Xa"
      }
    },
    {
      "cell_type": "code",
      "source": [
        "m=Chem.MolFromSmiles('c1cc(C)ccc1')\n",
        "Chem.Draw.MolToImage(m, size=(200, 200))"
      ],
      "metadata": {
        "colab": {
          "base_uri": "https://localhost:8080/",
          "height": 217
        },
        "id": "11yIaNQ73weu",
        "outputId": "8798d1f6-3383-4526-c224-85a898383194"
      },
      "execution_count": null,
      "outputs": [
        {
          "output_type": "execute_result",
          "data": {
            "text/plain": [
              "<PIL.PngImagePlugin.PngImageFile image mode=RGB size=200x200 at 0x7F54F5027510>"
            ],
            "image/png": "[encoded data removed]"
          },
          "metadata": {},
          "execution_count": 2
        }
      ]
    },
    {
      "cell_type": "markdown",
      "source": [
        "**1b)** With the rules from above, you should be able to create for example the SMILES for acetylsalicylic acid, the active ingredient of Aspirin:\n",
        "![Aspirin-skeletal.svg](data:image/svg+xml;base64,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)"
      ],
      "metadata": {
        "id": "NWTjltZR5A1-"
      }
    },
    {
      "cell_type": "code",
      "source": [
        "# Write the SMILES for acetylsalicylic acid and check its 2D-representation\n",
        "m=Chem.MolFromSmiles('CC(=O)Oc1ccccc1C(=O)O')\n",
        "Chem.Draw.MolToImage(m, size=(200, 200))"
      ],
      "metadata": {
        "colab": {
          "base_uri": "https://localhost:8080/",
          "height": 217
        },
        "id": "0CRrPSM26Ibs",
        "outputId": "66350edf-f5a8-4027-a6ea-90e1d862edb6"
      },
      "execution_count": null,
      "outputs": [
        {
          "output_type": "execute_result",
          "data": {
            "text/plain": [
              "<PIL.PngImagePlugin.PngImageFile image mode=RGB size=200x200 at 0x7F54F4F6D850>"
            ],
            "image/png": "[encoded data removed]"
          },
          "metadata": {},
          "execution_count": 3
        }
      ]
    },
    {
      "cell_type": "markdown",
      "source": [
        "---\n",
        "\n",
        "**2a)** We now load the toxicity dataset from the TOX21 program (https://github.com/filipsPL/tox21_dataset/tree/master/compounds).\n",
        "\n",
        "Load the data from the 'sr-are' dataset.\n",
        "\n",
        "Save the SMILES in the array 'smiles', and the activities in the array 'toxicity'."
      ],
      "metadata": {
        "id": "GoVA-nYQ74YQ"
      }
    },
    {
      "cell_type": "code",
      "source": [
        "# load the data from the 'sr-are' dataset\n",
        "datapd = pd.read_csv('https://raw.githubusercontent.com/filipsPL/tox21_dataset/master/compounds/sr-are.tab',sep=\"\\t\")\n",
        "data=datapd.to_numpy()\n",
        "\n",
        "# define smiles and toxicity\n",
        "smiles=data[:,1]\n",
        "toxicity=data[:,2]"
      ],
      "metadata": {
        "id": "lKj3GUA0LobC"
      },
      "execution_count": null,
      "outputs": []
    },
    {
      "cell_type": "markdown",
      "source": [
        "**2b)** Check the SMILES and toxicity of the first 5 compounds"
      ],
      "metadata": {
        "id": "4swsj97fEVkU"
      }
    },
    {
      "cell_type": "code",
      "source": [
        "# print out the SMILES of the first 5 compounds\n",
        "\n",
        "print(smiles[0:5])"
      ],
      "metadata": {
        "colab": {
          "base_uri": "https://localhost:8080/"
        },
        "id": "wQxP5WOGDXPL",
        "outputId": "eedaa3dd-14c2-4714-dbda-4d8d0fbcad53"
      },
      "execution_count": null,
      "outputs": [
        {
          "output_type": "stream",
          "name": "stdout",
          "text": [
            "['CC(C)=CCC/C(/C)=C/CO' 'OC(=O)CCc1[nH]c2ccccc2[n]1'\n",
            " 'O=C1Nc2cc(Cl)ccc2N1C1CCN(CCCN2c3ccccc3NC2=O)CC1'\n",
            " 'Clc1ccccc1-c1[n]c([n]o1)-c1cc[n]cc1'\n",
            " 'Clc1cc2C(=Nc3ccccc3Oc2cc1)N1CCNCC1']\n"
          ]
        }
      ]
    },
    {
      "cell_type": "code",
      "source": [
        "# print out the activity of the first 5 compounds\n",
        "\n",
        "print(toxicity[0:5])"
      ],
      "metadata": {
        "colab": {
          "base_uri": "https://localhost:8080/"
        },
        "id": "dZ_dxfFFDwtU",
        "outputId": "62334a80-7413-4def-aa3c-f1434ba89f57"
      },
      "execution_count": null,
      "outputs": [
        {
          "output_type": "stream",
          "name": "stdout",
          "text": [
            "[0 0 0 1 0]\n"
          ]
        }
      ]
    },
    {
      "cell_type": "markdown",
      "source": [
        "---\n",
        "\n",
        "In order to make the data usable for a neural network we have to generate a mapping from characters to integers and vice versa.\n",
        "\n",
        "We first create a sorted list of the characters used in the SMILES of our dataset, stored in 'unique_chars'. We then create a mapping between this list and the integers."
      ],
      "metadata": {
        "id": "m-ng6dyhKTS7"
      }
    },
    {
      "cell_type": "code",
      "source": [
        "# list of characters\n",
        "unique_chars = sorted(list(OrderedDict.fromkeys(chain.from_iterable(smiles))))\n",
        "# charachter to integer dictionary\n",
        "char_to_int = dict((c, i) for i, c in enumerate(unique_chars))\n",
        "# integer to charachter dictionary\n",
        "int_to_char = dict((i, c) for i, c in enumerate(unique_chars))"
      ],
      "metadata": {
        "id": "H_g9jwzgKXaT"
      },
      "execution_count": null,
      "outputs": []
    },
    {
      "cell_type": "markdown",
      "source": [
        "**3a)** Check that the dictionary is well-defined. Which integer belongs to 'C'?"
      ],
      "metadata": {
        "id": "e0NOnDFWjmDA"
      }
    },
    {
      "cell_type": "code",
      "source": [
        "# print out the dictionary\n",
        "\n",
        "print(char_to_int)"
      ],
      "metadata": {
        "colab": {
          "base_uri": "https://localhost:8080/"
        },
        "id": "J2G6VHoLMFT5",
        "outputId": "d829b676-4627-4da7-d8ee-53a59ee02a51"
      },
      "execution_count": null,
      "outputs": [
        {
          "output_type": "stream",
          "name": "stdout",
          "text": [
            "{'#': 0, '(': 1, ')': 2, '+': 3, '-': 4, '/': 5, '1': 6, '2': 7, '3': 8, '4': 9, '5': 10, '6': 11, '7': 12, '8': 13, '9': 14, '=': 15, '@': 16, 'A': 17, 'B': 18, 'C': 19, 'F': 20, 'H': 21, 'I': 22, 'K': 23, 'M': 24, 'N': 25, 'O': 26, 'P': 27, 'S': 28, 'V': 29, 'Z': 30, '[': 31, '\\\\': 32, ']': 33, 'b': 34, 'c': 35, 'e': 36, 'g': 37, 'i': 38, 'l': 39, 'n': 40, 'o': 41, 'r': 42, 's': 43, 't': 44, 'u': 45}\n"
          ]
        }
      ]
    },
    {
      "cell_type": "code",
      "source": [
        "# find the integer belonging to 'C'\n",
        "\n",
        "intC=char_to_int['C']\n",
        "print('integer belonging to C: ', intC)"
      ],
      "metadata": {
        "colab": {
          "base_uri": "https://localhost:8080/"
        },
        "id": "FK3mLmbBixGS",
        "outputId": "106bddef-6d25-4cd7-84dd-d00617152b23"
      },
      "execution_count": null,
      "outputs": [
        {
          "output_type": "stream",
          "name": "stdout",
          "text": [
            "integer belonging to C:  19\n"
          ]
        }
      ]
    },
    {
      "cell_type": "markdown",
      "source": [
        "**3b)** How many unique characters do we have?"
      ],
      "metadata": {
        "id": "3XAVJHIMlhor"
      }
    },
    {
      "cell_type": "code",
      "source": [
        "# find the number of unique characters\n",
        "\n",
        "mapping_size = len(char_to_int)\n",
        "print (\"Size of the character to integer dictionary is: \", mapping_size)"
      ],
      "metadata": {
        "colab": {
          "base_uri": "https://localhost:8080/"
        },
        "id": "3GJGXUnMOhNU",
        "outputId": "849761a5-6aa7-494f-84d3-739c6e438e04"
      },
      "execution_count": null,
      "outputs": [
        {
          "output_type": "stream",
          "name": "stdout",
          "text": [
            "Size of the character to integer dictionary is:  46\n"
          ]
        }
      ]
    },
    {
      "cell_type": "markdown",
      "source": [
        "---\n",
        "\n",
        "Now we can encode the SMILES sequences using the dictionary. \n",
        "\n",
        "The resulting dimensions of the encoded data array should be (number of SMILES sequences, length of the longest sequence, length of dictionary). \n",
        "\n",
        "The last dimension is used as a one-hot-encoding of the respective character. \n",
        "\n",
        "For example the indices [11,3,5] correspond to position number 3 of sequence number 11 and to character number 5 in the dictionary: the value in the array is \"1\" if the character is at this position of the sequence, otherwise \"0\"."
      ],
      "metadata": {
        "id": "yaBVQIrJaU5w"
      }
    },
    {
      "cell_type": "markdown",
      "source": [
        "**4a)** First we need the number of SMILES sequences and the length of the longest sequence: \n",
        "\n",
        "find and store them in the variables 'n_seq' and 'longest'."
      ],
      "metadata": {
        "id": "Zb8mQ8uB8O4K"
      }
    },
    {
      "cell_type": "code",
      "source": [
        "# number of SMILES sequences\n",
        "\n",
        "n_seq=smiles.shape[0]\n",
        "print('number of SMILES sequences: ', n_seq)"
      ],
      "metadata": {
        "colab": {
          "base_uri": "https://localhost:8080/"
        },
        "id": "w112ZK2SAjau",
        "outputId": "121d6dc1-6b93-4dfa-acb9-fefe3b5c9d2d"
      },
      "execution_count": null,
      "outputs": [
        {
          "output_type": "stream",
          "name": "stdout",
          "text": [
            "number of SMILES sequences:  2188\n"
          ]
        }
      ]
    },
    {
      "cell_type": "code",
      "source": [
        "# longest SMILES sequence\n",
        "\n",
        "longest=max([len(seq) for seq in smiles])\n",
        "print('length of the longest sequence: ', longest)"
      ],
      "metadata": {
        "colab": {
          "base_uri": "https://localhost:8080/"
        },
        "id": "yF2EnvmSkbNO",
        "outputId": "1079f960-23a4-404e-aee9-6ea457e680a8"
      },
      "execution_count": null,
      "outputs": [
        {
          "output_type": "stream",
          "name": "stdout",
          "text": [
            "length of the longest sequence:  321\n"
          ]
        }
      ]
    },
    {
      "cell_type": "markdown",
      "source": [
        "The following routine returns the encoded data array, as described above."
      ],
      "metadata": {
        "id": "cJ63zzblEzxh"
      }
    },
    {
      "cell_type": "code",
      "source": [
        "# routine to encode the dataset\n",
        "def gen_data(a,b,c,d,e):\n",
        "    \n",
        "    one_hot =  np.zeros((c,d,e),dtype=np.int8)\n",
        "    for i,smile in enumerate(a):\n",
        "        #encode the chars\n",
        "        for j,k in enumerate(smile):\n",
        "            one_hot[i,j,b[k]] = 1\n",
        "    return one_hot"
      ],
      "metadata": {
        "id": "oungcOO6vsEP"
      },
      "execution_count": null,
      "outputs": []
    },
    {
      "cell_type": "markdown",
      "source": [
        "**4b)** Use now this routine with appropriate inputs arrays and variables to encode our SMILES dataset."
      ],
      "metadata": {
        "id": "NAEr6pS8I8eO"
      }
    },
    {
      "cell_type": "code",
      "source": [
        "# encode the dataset\n",
        "smiles_enc = gen_data(smiles,char_to_int,n_seq,longest,mapping_size)\n"
      ],
      "metadata": {
        "id": "ThDfspRubseT"
      },
      "execution_count": null,
      "outputs": []
    },
    {
      "cell_type": "markdown",
      "source": [
        "**4c)** Check with a couple of random examples that the encoding was done correctly."
      ],
      "metadata": {
        "id": "3xn2luqwLbPA"
      }
    },
    {
      "cell_type": "code",
      "source": [
        "#encoding check\n",
        "\n",
        "sequence_number=2187\n",
        "character='C'\n",
        "print(smiles[sequence_number])\n",
        "print(smiles_enc[sequence_number,:,char_to_int[character]])"
      ],
      "metadata": {
        "colab": {
          "base_uri": "https://localhost:8080/"
        },
        "id": "SC8CY3_4vaKS",
        "outputId": "6655cf10-62f7-4a9b-c99f-823a6f44f22a"
      },
      "execution_count": null,
      "outputs": [
        {
          "output_type": "stream",
          "name": "stdout",
          "text": [
            "CN1[C@@H]2[C@]3(CCN4CC=C[C@](CC)([C@@H]34)[C@@H](OC(C)=O)[C@]2(O)C(=O)OC)c2cc(c(cc12)OC)[C@]1(C[C@@H]2C[C@](O)(CN(C2)CCc2c1[nH]c1ccccc21)CC)C(=O)OC\n",
            "[1 0 0 0 1 0 0 0 0 0 0 1 0 0 0 0 1 1 0 0 1 1 0 1 0 1 0 0 0 1 1 0 0 0 1 0 0\n",
            " 0 0 0 0 0 0 1 0 0 0 0 0 0 1 0 1 0 0 0 0 0 1 0 0 0 0 0 0 1 0 0 0 0 0 1 0 0\n",
            " 0 0 0 0 0 0 0 0 0 0 0 0 1 0 0 1 0 0 0 0 1 0 1 0 0 0 0 0 1 0 1 0 0 0 0 0 0\n",
            " 1 0 0 1 0 0 1 1 0 0 0 0 0 0 0 0 0 0 0 0 0 0 0 0 0 0 1 1 0 1 0 0 0 0 0 1 0\n",
            " 0 0 0 0 0 0 0 0 0 0 0 0 0 0 0 0 0 0 0 0 0 0 0 0 0 0 0 0 0 0 0 0 0 0 0 0 0\n",
            " 0 0 0 0 0 0 0 0 0 0 0 0 0 0 0 0 0 0 0 0 0 0 0 0 0 0 0 0 0 0 0 0 0 0 0 0 0\n",
            " 0 0 0 0 0 0 0 0 0 0 0 0 0 0 0 0 0 0 0 0 0 0 0 0 0 0 0 0 0 0 0 0 0 0 0 0 0\n",
            " 0 0 0 0 0 0 0 0 0 0 0 0 0 0 0 0 0 0 0 0 0 0 0 0 0 0 0 0 0 0 0 0 0 0 0 0 0\n",
            " 0 0 0 0 0 0 0 0 0 0 0 0 0 0 0 0 0 0 0 0 0 0 0 0 0]\n"
          ]
        }
      ]
    },
    {
      "cell_type": "markdown",
      "source": [
        "---\n",
        "\n",
        "## Part B: Machine Learning\n",
        "\n",
        "We are now ready to apply a machine learning approach to our data: a neural network should learn to recognize the toxicity of a molecule by looking at its SMILE sequence.\n",
        "\n",
        "We first shuffle the dataset to avoid ordering bias and split it in a train and a test set."
      ],
      "metadata": {
        "id": "D8L0DuPqnJh0"
      }
    },
    {
      "cell_type": "code",
      "source": [
        "# we shuffle the dataset\n",
        "X, Y = shuffle(smiles_enc, toxicity)"
      ],
      "metadata": {
        "id": "Y8x87eH-usYD"
      },
      "execution_count": null,
      "outputs": []
    },
    {
      "cell_type": "code",
      "source": [
        "# we split the dataset in a train and a test set\n",
        "X_train, X_test, y_train, y_test = train_test_split(X, Y, test_size=0.33, random_state=35)\n",
        "\n",
        "# we convert to float for keras\n",
        "X_train = X_train.astype(np.float64)\n",
        "X_test = X_test.astype(np.float64)\n",
        "y_train = y_train.astype(np.float64)\n",
        "y_test = y_test.astype(np.float64)"
      ],
      "metadata": {
        "id": "LCaqHCIFvUQ4"
      },
      "execution_count": null,
      "outputs": []
    },
    {
      "cell_type": "markdown",
      "source": [
        "---\n",
        "\n",
        "As an example, the following code defines, trains and tests a neural network on our dataset. The neural network has dense layers with 5 units, lasts 20 epochs and uses the accuracy of the forecast as measure for the performance."
      ],
      "metadata": {
        "id": "cTL2ZBXFbOsZ"
      }
    },
    {
      "cell_type": "code",
      "source": [
        "# we define the optimizer\n",
        "opt = tf.keras.optimizers.SGD(learning_rate=0.001)\n",
        "\n",
        "# we define the model\n",
        "model = tf.keras.Sequential([\n",
        "    tf.keras.layers.Flatten(input_shape=(X_train.shape[1], X_train.shape[2])),\n",
        "    tf.keras.layers.Dense(5, activation='relu'),\n",
        "    tf.keras.layers.Dropout(0.3),\n",
        "    tf.keras.layers.Dense(5, activation='relu'),\n",
        "    tf.keras.layers.Dropout(0.3),\n",
        "    tf.keras.layers.Dense(1, activation='sigmoid')\n",
        "])\n",
        "\n",
        "# we compile the model\n",
        "model.compile(optimizer=opt,loss='binary_crossentropy', metrics=['accuracy'])\n",
        "\n",
        "# we train and test the model \n",
        "history_example = model.fit(X_train, y_train, validation_data=(X_test, y_test), epochs=20, batch_size=32)"
      ],
      "metadata": {
        "colab": {
          "base_uri": "https://localhost:8080/"
        },
        "outputId": "0c8bcf59-facd-45e5-c2cf-252c5bbc3183",
        "id": "F9Ng6JRB_ep_"
      },
      "execution_count": null,
      "outputs": [
        {
          "output_type": "stream",
          "name": "stdout",
          "text": [
            "Epoch 1/20\n",
            "46/46 [==============================] - 1s 15ms/step - loss: 0.6997 - accuracy: 0.5017 - val_loss: 0.7009 - val_accuracy: 0.4786\n",
            "Epoch 2/20\n",
            "46/46 [==============================] - 1s 11ms/step - loss: 0.6963 - accuracy: 0.5276 - val_loss: 0.6992 - val_accuracy: 0.4841\n",
            "Epoch 3/20\n",
            "46/46 [==============================] - 0s 8ms/step - loss: 0.6956 - accuracy: 0.5085 - val_loss: 0.6978 - val_accuracy: 0.4869\n",
            "Epoch 4/20\n",
            "46/46 [==============================] - 0s 7ms/step - loss: 0.6937 - accuracy: 0.5249 - val_loss: 0.6969 - val_accuracy: 0.4855\n",
            "Epoch 5/20\n",
            "46/46 [==============================] - 0s 8ms/step - loss: 0.6916 - accuracy: 0.5379 - val_loss: 0.6962 - val_accuracy: 0.4896\n",
            "Epoch 6/20\n",
            "46/46 [==============================] - 0s 8ms/step - loss: 0.6915 - accuracy: 0.5427 - val_loss: 0.6955 - val_accuracy: 0.4993\n",
            "Epoch 7/20\n",
            "46/46 [==============================] - 0s 7ms/step - loss: 0.6904 - accuracy: 0.5331 - val_loss: 0.6949 - val_accuracy: 0.4993\n",
            "Epoch 8/20\n",
            "46/46 [==============================] - 0s 9ms/step - loss: 0.6903 - accuracy: 0.5338 - val_loss: 0.6942 - val_accuracy: 0.5007\n",
            "Epoch 9/20\n",
            "46/46 [==============================] - 0s 10ms/step - loss: 0.6877 - accuracy: 0.5392 - val_loss: 0.6937 - val_accuracy: 0.5035\n",
            "Epoch 10/20\n",
            "46/46 [==============================] - 0s 9ms/step - loss: 0.6866 - accuracy: 0.5529 - val_loss: 0.6930 - val_accuracy: 0.5007\n",
            "Epoch 11/20\n",
            "46/46 [==============================] - 0s 10ms/step - loss: 0.6848 - accuracy: 0.5693 - val_loss: 0.6924 - val_accuracy: 0.5007\n",
            "Epoch 12/20\n",
            "46/46 [==============================] - 0s 10ms/step - loss: 0.6845 - accuracy: 0.5543 - val_loss: 0.6916 - val_accuracy: 0.5048\n",
            "Epoch 13/20\n",
            "46/46 [==============================] - 0s 10ms/step - loss: 0.6826 - accuracy: 0.5747 - val_loss: 0.6909 - val_accuracy: 0.5118\n",
            "Epoch 14/20\n",
            "46/46 [==============================] - 0s 10ms/step - loss: 0.6836 - accuracy: 0.5563 - val_loss: 0.6901 - val_accuracy: 0.5214\n",
            "Epoch 15/20\n",
            "46/46 [==============================] - 1s 12ms/step - loss: 0.6802 - accuracy: 0.5652 - val_loss: 0.6894 - val_accuracy: 0.5214\n",
            "Epoch 16/20\n",
            "46/46 [==============================] - 0s 10ms/step - loss: 0.6805 - accuracy: 0.5823 - val_loss: 0.6888 - val_accuracy: 0.5228\n",
            "Epoch 17/20\n",
            "46/46 [==============================] - 0s 7ms/step - loss: 0.6795 - accuracy: 0.5761 - val_loss: 0.6880 - val_accuracy: 0.5256\n",
            "Epoch 18/20\n",
            "46/46 [==============================] - 0s 7ms/step - loss: 0.6776 - accuracy: 0.5850 - val_loss: 0.6874 - val_accuracy: 0.5339\n",
            "Epoch 19/20\n",
            "46/46 [==============================] - 0s 7ms/step - loss: 0.6748 - accuracy: 0.5932 - val_loss: 0.6865 - val_accuracy: 0.5353\n",
            "Epoch 20/20\n",
            "46/46 [==============================] - 0s 8ms/step - loss: 0.6743 - accuracy: 0.5932 - val_loss: 0.6858 - val_accuracy: 0.5367\n"
          ]
        }
      ]
    },
    {
      "cell_type": "markdown",
      "source": [
        "The optimisation history can be visualized by plotting the accuracy of the train and of the test set as function of the epochs."
      ],
      "metadata": {
        "id": "MVMdLYtQ_-ai"
      }
    },
    {
      "cell_type": "code",
      "source": [
        "# we plot of the optimisation history\n",
        "plt.plot(history_example.history['accuracy'], label='Training Accuracy')\n",
        "plt.plot(history_example.history['val_accuracy'], label='Validation Accuracy')\n",
        "plt.xlabel('Epoch')\n",
        "plt.ylabel('Accuracy')\n",
        "plt.legend()\n",
        "plt.show()"
      ],
      "metadata": {
        "colab": {
          "base_uri": "https://localhost:8080/",
          "height": 279
        },
        "outputId": "c8fbecd4-5fab-4653-a89b-6348e38db270",
        "id": "EU4MWjOSAdBN"
      },
      "execution_count": null,
      "outputs": [
        {
          "output_type": "display_data",
          "data": {
            "text/plain": [
              "<Figure size 432x288 with 1 Axes>"
            ],
            "image/png": "[encoded data removed]"
          },
          "metadata": {
            "needs_background": "light"
          }
        }
      ]
    },
    {
      "cell_type": "markdown",
      "source": [
        "---\n",
        "\n",
        "**5a)** Now define, compile, train and test a neural network having dense layers with 15 units, lasts 200 epochs and also uses the accuracy of the forecast as measure for the performance."
      ],
      "metadata": {
        "id": "hEz_niIyBBHW"
      }
    },
    {
      "cell_type": "code",
      "source": [
        "# define, compile, train and test the model\n",
        "\n",
        "# define optimizer\n",
        "opt = tf.keras.optimizers.SGD(learning_rate=0.001)\n",
        "\n",
        "# define the model\n",
        "model = tf.keras.Sequential([\n",
        "    tf.keras.layers.Flatten(input_shape=(X_train.shape[1], X_train.shape[2])),\n",
        "    tf.keras.layers.Dense(15, activation='relu'),\n",
        "    tf.keras.layers.Dropout(0.3),\n",
        "    tf.keras.layers.Dense(15, activation='relu'),\n",
        "    tf.keras.layers.Dropout(0.3),\n",
        "    tf.keras.layers.Dense(1, activation='sigmoid')\n",
        "])\n",
        "\n",
        "# compile the model\n",
        "model.compile(optimizer=opt,loss='binary_crossentropy', metrics=['accuracy'])\n",
        "\n",
        "# train and test the model\n",
        "history = model.fit(X_train, y_train, validation_data=(X_test, y_test), epochs=200, batch_size=32)"
      ],
      "metadata": {
        "colab": {
          "base_uri": "https://localhost:8080/"
        },
        "id": "-SsLCPRVv7SR",
        "outputId": "4f503978-fda7-4c1c-9073-9b9624053ee6"
      },
      "execution_count": null,
      "outputs": [
        {
          "output_type": "stream",
          "name": "stdout",
          "text": [
            "Epoch 1/200\n",
            "46/46 [==============================] - 1s 14ms/step - loss: 0.6919 - accuracy: 0.5195 - val_loss: 0.6907 - val_accuracy: 0.5740\n",
            "Epoch 2/200\n",
            "46/46 [==============================] - 0s 9ms/step - loss: 0.6916 - accuracy: 0.5154 - val_loss: 0.6906 - val_accuracy: 0.5768\n",
            "Epoch 3/200\n",
            "46/46 [==============================] - 0s 8ms/step - loss: 0.6919 - accuracy: 0.5311 - val_loss: 0.6905 - val_accuracy: 0.5878\n",
            "Epoch 4/200\n",
            "46/46 [==============================] - 0s 7ms/step - loss: 0.6909 - accuracy: 0.5502 - val_loss: 0.6904 - val_accuracy: 0.5906\n",
            "Epoch 5/200\n",
            "46/46 [==============================] - 0s 7ms/step - loss: 0.6915 - accuracy: 0.5229 - val_loss: 0.6903 - val_accuracy: 0.5934\n",
            "Epoch 6/200\n",
            "46/46 [==============================] - 0s 7ms/step - loss: 0.6912 - accuracy: 0.5392 - val_loss: 0.6902 - val_accuracy: 0.6017\n",
            "Epoch 7/200\n",
            "46/46 [==============================] - 0s 8ms/step - loss: 0.6905 - accuracy: 0.5372 - val_loss: 0.6901 - val_accuracy: 0.5961\n",
            "Epoch 8/200\n",
            "46/46 [==============================] - 0s 7ms/step - loss: 0.6916 - accuracy: 0.5358 - val_loss: 0.6900 - val_accuracy: 0.5961\n",
            "Epoch 9/200\n",
            "46/46 [==============================] - 0s 9ms/step - loss: 0.6907 - accuracy: 0.5427 - val_loss: 0.6898 - val_accuracy: 0.5906\n",
            "Epoch 10/200\n",
            "46/46 [==============================] - 0s 8ms/step - loss: 0.6905 - accuracy: 0.5502 - val_loss: 0.6897 - val_accuracy: 0.5947\n",
            "Epoch 11/200\n",
            "46/46 [==============================] - 0s 8ms/step - loss: 0.6906 - accuracy: 0.5420 - val_loss: 0.6895 - val_accuracy: 0.6003\n",
            "Epoch 12/200\n",
            "46/46 [==============================] - 1s 12ms/step - loss: 0.6897 - accuracy: 0.5720 - val_loss: 0.6894 - val_accuracy: 0.6044\n",
            "Epoch 13/200\n",
            "46/46 [==============================] - 1s 11ms/step - loss: 0.6902 - accuracy: 0.5666 - val_loss: 0.6892 - val_accuracy: 0.6100\n",
            "Epoch 14/200\n",
            "46/46 [==============================] - 0s 10ms/step - loss: 0.6898 - accuracy: 0.5720 - val_loss: 0.6891 - val_accuracy: 0.6127\n",
            "Epoch 15/200\n",
            "46/46 [==============================] - 0s 9ms/step - loss: 0.6892 - accuracy: 0.5700 - val_loss: 0.6889 - val_accuracy: 0.6169\n",
            "Epoch 16/200\n",
            "46/46 [==============================] - 0s 8ms/step - loss: 0.6890 - accuracy: 0.5870 - val_loss: 0.6887 - val_accuracy: 0.6196\n",
            "Epoch 17/200\n",
            "46/46 [==============================] - 0s 8ms/step - loss: 0.6885 - accuracy: 0.5925 - val_loss: 0.6885 - val_accuracy: 0.6210\n",
            "Epoch 18/200\n",
            "46/46 [==============================] - 0s 8ms/step - loss: 0.6890 - accuracy: 0.5686 - val_loss: 0.6884 - val_accuracy: 0.6210\n",
            "Epoch 19/200\n",
            "46/46 [==============================] - 0s 8ms/step - loss: 0.6886 - accuracy: 0.5727 - val_loss: 0.6882 - val_accuracy: 0.6279\n",
            "Epoch 20/200\n",
            "46/46 [==============================] - 0s 8ms/step - loss: 0.6895 - accuracy: 0.5720 - val_loss: 0.6880 - val_accuracy: 0.6279\n",
            "Epoch 21/200\n",
            "46/46 [==============================] - 0s 8ms/step - loss: 0.6880 - accuracy: 0.5918 - val_loss: 0.6878 - val_accuracy: 0.6279\n",
            "Epoch 22/200\n",
            "46/46 [==============================] - 0s 8ms/step - loss: 0.6875 - accuracy: 0.5980 - val_loss: 0.6876 - val_accuracy: 0.6279\n",
            "Epoch 23/200\n",
            "46/46 [==============================] - 0s 7ms/step - loss: 0.6882 - accuracy: 0.5918 - val_loss: 0.6874 - val_accuracy: 0.6362\n",
            "Epoch 24/200\n",
            "46/46 [==============================] - 0s 7ms/step - loss: 0.6874 - accuracy: 0.6061 - val_loss: 0.6872 - val_accuracy: 0.6362\n",
            "Epoch 25/200\n",
            "46/46 [==============================] - 0s 8ms/step - loss: 0.6865 - accuracy: 0.6096 - val_loss: 0.6869 - val_accuracy: 0.6335\n",
            "Epoch 26/200\n",
            "46/46 [==============================] - 0s 8ms/step - loss: 0.6871 - accuracy: 0.5973 - val_loss: 0.6867 - val_accuracy: 0.6349\n",
            "Epoch 27/200\n",
            "46/46 [==============================] - 0s 10ms/step - loss: 0.6864 - accuracy: 0.5911 - val_loss: 0.6865 - val_accuracy: 0.6376\n",
            "Epoch 28/200\n",
            "46/46 [==============================] - 0s 8ms/step - loss: 0.6851 - accuracy: 0.6089 - val_loss: 0.6862 - val_accuracy: 0.6335\n",
            "Epoch 29/200\n",
            "46/46 [==============================] - 0s 9ms/step - loss: 0.6860 - accuracy: 0.5816 - val_loss: 0.6860 - val_accuracy: 0.6362\n",
            "Epoch 30/200\n",
            "46/46 [==============================] - 1s 12ms/step - loss: 0.6851 - accuracy: 0.5993 - val_loss: 0.6857 - val_accuracy: 0.6390\n",
            "Epoch 31/200\n",
            "46/46 [==============================] - 0s 10ms/step - loss: 0.6848 - accuracy: 0.6225 - val_loss: 0.6855 - val_accuracy: 0.6362\n",
            "Epoch 32/200\n",
            "46/46 [==============================] - 0s 10ms/step - loss: 0.6844 - accuracy: 0.6137 - val_loss: 0.6852 - val_accuracy: 0.6335\n",
            "Epoch 33/200\n",
            "46/46 [==============================] - 0s 10ms/step - loss: 0.6850 - accuracy: 0.6020 - val_loss: 0.6849 - val_accuracy: 0.6404\n",
            "Epoch 34/200\n",
            "46/46 [==============================] - 0s 10ms/step - loss: 0.6849 - accuracy: 0.6055 - val_loss: 0.6846 - val_accuracy: 0.6404\n",
            "Epoch 35/200\n",
            "46/46 [==============================] - 1s 11ms/step - loss: 0.6839 - accuracy: 0.6007 - val_loss: 0.6844 - val_accuracy: 0.6376\n",
            "Epoch 36/200\n",
            "46/46 [==============================] - 0s 10ms/step - loss: 0.6841 - accuracy: 0.6061 - val_loss: 0.6841 - val_accuracy: 0.6376\n",
            "Epoch 37/200\n",
            "46/46 [==============================] - 1s 11ms/step - loss: 0.6836 - accuracy: 0.6191 - val_loss: 0.6838 - val_accuracy: 0.6335\n",
            "Epoch 38/200\n",
            "46/46 [==============================] - 0s 10ms/step - loss: 0.6830 - accuracy: 0.6184 - val_loss: 0.6835 - val_accuracy: 0.6335\n",
            "Epoch 39/200\n",
            "46/46 [==============================] - 0s 9ms/step - loss: 0.6832 - accuracy: 0.6355 - val_loss: 0.6833 - val_accuracy: 0.6362\n",
            "Epoch 40/200\n",
            "46/46 [==============================] - 1s 12ms/step - loss: 0.6840 - accuracy: 0.6000 - val_loss: 0.6830 - val_accuracy: 0.6362\n",
            "Epoch 41/200\n",
            "46/46 [==============================] - 1s 12ms/step - loss: 0.6826 - accuracy: 0.6157 - val_loss: 0.6828 - val_accuracy: 0.6376\n",
            "Epoch 42/200\n",
            "46/46 [==============================] - 0s 10ms/step - loss: 0.6828 - accuracy: 0.6041 - val_loss: 0.6825 - val_accuracy: 0.6390\n",
            "Epoch 43/200\n",
            "46/46 [==============================] - 1s 12ms/step - loss: 0.6812 - accuracy: 0.6232 - val_loss: 0.6822 - val_accuracy: 0.6376\n",
            "Epoch 44/200\n",
            "46/46 [==============================] - 0s 10ms/step - loss: 0.6810 - accuracy: 0.6300 - val_loss: 0.6820 - val_accuracy: 0.6404\n",
            "Epoch 45/200\n",
            "46/46 [==============================] - 1s 12ms/step - loss: 0.6800 - accuracy: 0.6212 - val_loss: 0.6817 - val_accuracy: 0.6390\n",
            "Epoch 46/200\n",
            "46/46 [==============================] - 1s 11ms/step - loss: 0.6787 - accuracy: 0.6416 - val_loss: 0.6813 - val_accuracy: 0.6432\n",
            "Epoch 47/200\n",
            "46/46 [==============================] - 1s 12ms/step - loss: 0.6792 - accuracy: 0.6287 - val_loss: 0.6810 - val_accuracy: 0.6473\n",
            "Epoch 48/200\n",
            "46/46 [==============================] - 1s 12ms/step - loss: 0.6799 - accuracy: 0.6253 - val_loss: 0.6808 - val_accuracy: 0.6501\n",
            "Epoch 49/200\n",
            "46/46 [==============================] - 0s 10ms/step - loss: 0.6785 - accuracy: 0.6382 - val_loss: 0.6804 - val_accuracy: 0.6445\n",
            "Epoch 50/200\n",
            "46/46 [==============================] - 1s 12ms/step - loss: 0.6786 - accuracy: 0.6218 - val_loss: 0.6801 - val_accuracy: 0.6459\n",
            "Epoch 51/200\n",
            "46/46 [==============================] - 1s 12ms/step - loss: 0.6784 - accuracy: 0.6198 - val_loss: 0.6797 - val_accuracy: 0.6445\n",
            "Epoch 52/200\n",
            "46/46 [==============================] - 1s 12ms/step - loss: 0.6769 - accuracy: 0.6314 - val_loss: 0.6794 - val_accuracy: 0.6515\n",
            "Epoch 53/200\n",
            "46/46 [==============================] - 1s 12ms/step - loss: 0.6779 - accuracy: 0.6198 - val_loss: 0.6791 - val_accuracy: 0.6501\n",
            "Epoch 54/200\n",
            "46/46 [==============================] - 1s 12ms/step - loss: 0.6781 - accuracy: 0.6273 - val_loss: 0.6788 - val_accuracy: 0.6501\n",
            "Epoch 55/200\n",
            "46/46 [==============================] - 0s 9ms/step - loss: 0.6760 - accuracy: 0.6375 - val_loss: 0.6784 - val_accuracy: 0.6473\n",
            "Epoch 56/200\n",
            "46/46 [==============================] - 0s 8ms/step - loss: 0.6764 - accuracy: 0.6294 - val_loss: 0.6781 - val_accuracy: 0.6473\n",
            "Epoch 57/200\n",
            "46/46 [==============================] - 0s 7ms/step - loss: 0.6751 - accuracy: 0.6334 - val_loss: 0.6778 - val_accuracy: 0.6432\n",
            "Epoch 58/200\n",
            "46/46 [==============================] - 0s 8ms/step - loss: 0.6762 - accuracy: 0.6334 - val_loss: 0.6775 - val_accuracy: 0.6404\n",
            "Epoch 59/200\n",
            "46/46 [==============================] - 0s 8ms/step - loss: 0.6745 - accuracy: 0.6355 - val_loss: 0.6771 - val_accuracy: 0.6418\n",
            "Epoch 60/200\n",
            "46/46 [==============================] - 0s 8ms/step - loss: 0.6747 - accuracy: 0.6294 - val_loss: 0.6768 - val_accuracy: 0.6418\n",
            "Epoch 61/200\n",
            "46/46 [==============================] - 1s 11ms/step - loss: 0.6735 - accuracy: 0.6491 - val_loss: 0.6765 - val_accuracy: 0.6418\n",
            "Epoch 62/200\n",
            "46/46 [==============================] - 1s 12ms/step - loss: 0.6726 - accuracy: 0.6403 - val_loss: 0.6761 - val_accuracy: 0.6432\n",
            "Epoch 63/200\n",
            "46/46 [==============================] - 0s 10ms/step - loss: 0.6730 - accuracy: 0.6362 - val_loss: 0.6758 - val_accuracy: 0.6418\n",
            "Epoch 64/200\n",
            "46/46 [==============================] - 0s 11ms/step - loss: 0.6734 - accuracy: 0.6362 - val_loss: 0.6755 - val_accuracy: 0.6418\n",
            "Epoch 65/200\n",
            "46/46 [==============================] - 0s 9ms/step - loss: 0.6712 - accuracy: 0.6444 - val_loss: 0.6751 - val_accuracy: 0.6418\n",
            "Epoch 66/200\n",
            "46/46 [==============================] - 1s 11ms/step - loss: 0.6706 - accuracy: 0.6526 - val_loss: 0.6748 - val_accuracy: 0.6390\n",
            "Epoch 67/200\n",
            "46/46 [==============================] - 0s 10ms/step - loss: 0.6714 - accuracy: 0.6396 - val_loss: 0.6745 - val_accuracy: 0.6404\n",
            "Epoch 68/200\n",
            "46/46 [==============================] - 0s 10ms/step - loss: 0.6706 - accuracy: 0.6553 - val_loss: 0.6741 - val_accuracy: 0.6376\n",
            "Epoch 69/200\n",
            "46/46 [==============================] - 1s 11ms/step - loss: 0.6712 - accuracy: 0.6334 - val_loss: 0.6738 - val_accuracy: 0.6390\n",
            "Epoch 70/200\n",
            "46/46 [==============================] - 0s 10ms/step - loss: 0.6701 - accuracy: 0.6348 - val_loss: 0.6734 - val_accuracy: 0.6404\n",
            "Epoch 71/200\n",
            "46/46 [==============================] - 0s 9ms/step - loss: 0.6676 - accuracy: 0.6532 - val_loss: 0.6731 - val_accuracy: 0.6390\n",
            "Epoch 72/200\n",
            "46/46 [==============================] - 0s 10ms/step - loss: 0.6687 - accuracy: 0.6430 - val_loss: 0.6727 - val_accuracy: 0.6362\n",
            "Epoch 73/200\n",
            "46/46 [==============================] - 0s 9ms/step - loss: 0.6717 - accuracy: 0.6266 - val_loss: 0.6725 - val_accuracy: 0.6390\n",
            "Epoch 74/200\n",
            "46/46 [==============================] - 1s 11ms/step - loss: 0.6688 - accuracy: 0.6621 - val_loss: 0.6721 - val_accuracy: 0.6404\n",
            "Epoch 75/200\n",
            "46/46 [==============================] - 1s 11ms/step - loss: 0.6668 - accuracy: 0.6396 - val_loss: 0.6718 - val_accuracy: 0.6432\n",
            "Epoch 76/200\n",
            "46/46 [==============================] - 0s 9ms/step - loss: 0.6656 - accuracy: 0.6567 - val_loss: 0.6714 - val_accuracy: 0.6418\n",
            "Epoch 77/200\n",
            "46/46 [==============================] - 0s 9ms/step - loss: 0.6674 - accuracy: 0.6471 - val_loss: 0.6711 - val_accuracy: 0.6418\n",
            "Epoch 78/200\n",
            "46/46 [==============================] - 0s 10ms/step - loss: 0.6668 - accuracy: 0.6444 - val_loss: 0.6707 - val_accuracy: 0.6418\n",
            "Epoch 79/200\n",
            "46/46 [==============================] - 1s 12ms/step - loss: 0.6671 - accuracy: 0.6485 - val_loss: 0.6704 - val_accuracy: 0.6445\n",
            "Epoch 80/200\n",
            "46/46 [==============================] - 0s 10ms/step - loss: 0.6689 - accuracy: 0.6266 - val_loss: 0.6702 - val_accuracy: 0.6459\n",
            "Epoch 81/200\n",
            "46/46 [==============================] - 1s 12ms/step - loss: 0.6635 - accuracy: 0.6539 - val_loss: 0.6697 - val_accuracy: 0.6390\n",
            "Epoch 82/200\n",
            "46/46 [==============================] - 0s 9ms/step - loss: 0.6651 - accuracy: 0.6485 - val_loss: 0.6694 - val_accuracy: 0.6404\n",
            "Epoch 83/200\n",
            "46/46 [==============================] - 0s 8ms/step - loss: 0.6622 - accuracy: 0.6573 - val_loss: 0.6690 - val_accuracy: 0.6404\n",
            "Epoch 84/200\n",
            "46/46 [==============================] - 0s 8ms/step - loss: 0.6633 - accuracy: 0.6662 - val_loss: 0.6687 - val_accuracy: 0.6404\n",
            "Epoch 85/200\n",
            "46/46 [==============================] - 0s 9ms/step - loss: 0.6629 - accuracy: 0.6491 - val_loss: 0.6683 - val_accuracy: 0.6404\n",
            "Epoch 86/200\n",
            "46/46 [==============================] - 0s 10ms/step - loss: 0.6643 - accuracy: 0.6512 - val_loss: 0.6680 - val_accuracy: 0.6404\n",
            "Epoch 87/200\n",
            "46/46 [==============================] - 0s 8ms/step - loss: 0.6637 - accuracy: 0.6457 - val_loss: 0.6677 - val_accuracy: 0.6390\n",
            "Epoch 88/200\n",
            "46/46 [==============================] - 0s 7ms/step - loss: 0.6652 - accuracy: 0.6505 - val_loss: 0.6674 - val_accuracy: 0.6376\n",
            "Epoch 89/200\n",
            "46/46 [==============================] - 0s 8ms/step - loss: 0.6623 - accuracy: 0.6403 - val_loss: 0.6671 - val_accuracy: 0.6362\n",
            "Epoch 90/200\n",
            "46/46 [==============================] - 0s 9ms/step - loss: 0.6632 - accuracy: 0.6382 - val_loss: 0.6668 - val_accuracy: 0.6362\n",
            "Epoch 91/200\n",
            "46/46 [==============================] - 0s 10ms/step - loss: 0.6600 - accuracy: 0.6553 - val_loss: 0.6665 - val_accuracy: 0.6349\n",
            "Epoch 92/200\n",
            "46/46 [==============================] - 0s 10ms/step - loss: 0.6638 - accuracy: 0.6532 - val_loss: 0.6663 - val_accuracy: 0.6349\n",
            "Epoch 93/200\n",
            "46/46 [==============================] - 1s 12ms/step - loss: 0.6600 - accuracy: 0.6451 - val_loss: 0.6659 - val_accuracy: 0.6349\n",
            "Epoch 94/200\n",
            "46/46 [==============================] - 0s 10ms/step - loss: 0.6591 - accuracy: 0.6601 - val_loss: 0.6656 - val_accuracy: 0.6335\n",
            "Epoch 95/200\n",
            "46/46 [==============================] - 1s 12ms/step - loss: 0.6625 - accuracy: 0.6471 - val_loss: 0.6653 - val_accuracy: 0.6321\n",
            "Epoch 96/200\n",
            "46/46 [==============================] - 0s 10ms/step - loss: 0.6595 - accuracy: 0.6567 - val_loss: 0.6650 - val_accuracy: 0.6321\n",
            "Epoch 97/200\n",
            "46/46 [==============================] - 0s 10ms/step - loss: 0.6581 - accuracy: 0.6573 - val_loss: 0.6646 - val_accuracy: 0.6335\n",
            "Epoch 98/200\n",
            "46/46 [==============================] - 0s 9ms/step - loss: 0.6565 - accuracy: 0.6608 - val_loss: 0.6643 - val_accuracy: 0.6349\n",
            "Epoch 99/200\n",
            "46/46 [==============================] - 0s 8ms/step - loss: 0.6585 - accuracy: 0.6587 - val_loss: 0.6640 - val_accuracy: 0.6362\n",
            "Epoch 100/200\n",
            "46/46 [==============================] - 0s 8ms/step - loss: 0.6600 - accuracy: 0.6478 - val_loss: 0.6637 - val_accuracy: 0.6349\n",
            "Epoch 101/200\n",
            "46/46 [==============================] - 0s 10ms/step - loss: 0.6585 - accuracy: 0.6519 - val_loss: 0.6634 - val_accuracy: 0.6362\n",
            "Epoch 102/200\n",
            "46/46 [==============================] - 1s 16ms/step - loss: 0.6566 - accuracy: 0.6505 - val_loss: 0.6631 - val_accuracy: 0.6362\n",
            "Epoch 103/200\n",
            "46/46 [==============================] - 1s 15ms/step - loss: 0.6542 - accuracy: 0.6546 - val_loss: 0.6628 - val_accuracy: 0.6349\n",
            "Epoch 104/200\n",
            "46/46 [==============================] - 1s 19ms/step - loss: 0.6585 - accuracy: 0.6505 - val_loss: 0.6625 - val_accuracy: 0.6376\n",
            "Epoch 105/200\n",
            "46/46 [==============================] - 1s 15ms/step - loss: 0.6547 - accuracy: 0.6655 - val_loss: 0.6622 - val_accuracy: 0.6376\n",
            "Epoch 106/200\n",
            "46/46 [==============================] - 1s 15ms/step - loss: 0.6540 - accuracy: 0.6587 - val_loss: 0.6618 - val_accuracy: 0.6390\n",
            "Epoch 107/200\n",
            "46/46 [==============================] - 0s 8ms/step - loss: 0.6534 - accuracy: 0.6573 - val_loss: 0.6615 - val_accuracy: 0.6376\n",
            "Epoch 108/200\n",
            "46/46 [==============================] - 1s 15ms/step - loss: 0.6532 - accuracy: 0.6765 - val_loss: 0.6612 - val_accuracy: 0.6376\n",
            "Epoch 109/200\n",
            "46/46 [==============================] - 1s 12ms/step - loss: 0.6548 - accuracy: 0.6430 - val_loss: 0.6610 - val_accuracy: 0.6362\n",
            "Epoch 110/200\n",
            "46/46 [==============================] - 0s 8ms/step - loss: 0.6546 - accuracy: 0.6737 - val_loss: 0.6607 - val_accuracy: 0.6362\n",
            "Epoch 111/200\n",
            "46/46 [==============================] - 0s 8ms/step - loss: 0.6511 - accuracy: 0.6778 - val_loss: 0.6604 - val_accuracy: 0.6349\n",
            "Epoch 112/200\n",
            "46/46 [==============================] - 0s 8ms/step - loss: 0.6514 - accuracy: 0.6580 - val_loss: 0.6600 - val_accuracy: 0.6349\n",
            "Epoch 113/200\n",
            "46/46 [==============================] - 0s 8ms/step - loss: 0.6532 - accuracy: 0.6608 - val_loss: 0.6597 - val_accuracy: 0.6349\n",
            "Epoch 114/200\n",
            "46/46 [==============================] - 0s 9ms/step - loss: 0.6482 - accuracy: 0.6655 - val_loss: 0.6594 - val_accuracy: 0.6376\n",
            "Epoch 115/200\n",
            "46/46 [==============================] - 0s 10ms/step - loss: 0.6514 - accuracy: 0.6792 - val_loss: 0.6590 - val_accuracy: 0.6362\n",
            "Epoch 116/200\n",
            "46/46 [==============================] - 0s 10ms/step - loss: 0.6519 - accuracy: 0.6539 - val_loss: 0.6587 - val_accuracy: 0.6376\n",
            "Epoch 117/200\n",
            "46/46 [==============================] - 0s 11ms/step - loss: 0.6454 - accuracy: 0.6785 - val_loss: 0.6584 - val_accuracy: 0.6376\n",
            "Epoch 118/200\n",
            "46/46 [==============================] - 0s 10ms/step - loss: 0.6514 - accuracy: 0.6553 - val_loss: 0.6581 - val_accuracy: 0.6376\n",
            "Epoch 119/200\n",
            "46/46 [==============================] - 1s 12ms/step - loss: 0.6475 - accuracy: 0.6635 - val_loss: 0.6577 - val_accuracy: 0.6362\n",
            "Epoch 120/200\n",
            "46/46 [==============================] - 1s 12ms/step - loss: 0.6494 - accuracy: 0.6730 - val_loss: 0.6575 - val_accuracy: 0.6390\n",
            "Epoch 121/200\n",
            "46/46 [==============================] - 1s 11ms/step - loss: 0.6463 - accuracy: 0.6676 - val_loss: 0.6572 - val_accuracy: 0.6404\n",
            "Epoch 122/200\n",
            "46/46 [==============================] - 0s 10ms/step - loss: 0.6492 - accuracy: 0.6560 - val_loss: 0.6569 - val_accuracy: 0.6390\n",
            "Epoch 123/200\n",
            "46/46 [==============================] - 1s 14ms/step - loss: 0.6483 - accuracy: 0.6539 - val_loss: 0.6567 - val_accuracy: 0.6376\n",
            "Epoch 124/200\n",
            "46/46 [==============================] - 0s 8ms/step - loss: 0.6525 - accuracy: 0.6532 - val_loss: 0.6565 - val_accuracy: 0.6349\n",
            "Epoch 125/200\n",
            "46/46 [==============================] - 0s 8ms/step - loss: 0.6454 - accuracy: 0.6724 - val_loss: 0.6561 - val_accuracy: 0.6376\n",
            "Epoch 126/200\n",
            "46/46 [==============================] - 0s 8ms/step - loss: 0.6461 - accuracy: 0.6635 - val_loss: 0.6558 - val_accuracy: 0.6335\n",
            "Epoch 127/200\n",
            "46/46 [==============================] - 0s 7ms/step - loss: 0.6471 - accuracy: 0.6546 - val_loss: 0.6556 - val_accuracy: 0.6321\n",
            "Epoch 128/200\n",
            "46/46 [==============================] - 0s 7ms/step - loss: 0.6461 - accuracy: 0.6717 - val_loss: 0.6553 - val_accuracy: 0.6321\n",
            "Epoch 129/200\n",
            "46/46 [==============================] - 0s 8ms/step - loss: 0.6437 - accuracy: 0.6696 - val_loss: 0.6550 - val_accuracy: 0.6321\n",
            "Epoch 130/200\n",
            "46/46 [==============================] - 0s 7ms/step - loss: 0.6403 - accuracy: 0.6826 - val_loss: 0.6545 - val_accuracy: 0.6307\n",
            "Epoch 131/200\n",
            "46/46 [==============================] - 0s 8ms/step - loss: 0.6441 - accuracy: 0.6812 - val_loss: 0.6543 - val_accuracy: 0.6307\n",
            "Epoch 132/200\n",
            "46/46 [==============================] - 0s 7ms/step - loss: 0.6448 - accuracy: 0.6785 - val_loss: 0.6540 - val_accuracy: 0.6307\n",
            "Epoch 133/200\n",
            "46/46 [==============================] - 0s 9ms/step - loss: 0.6441 - accuracy: 0.6799 - val_loss: 0.6537 - val_accuracy: 0.6307\n",
            "Epoch 134/200\n",
            "46/46 [==============================] - 1s 12ms/step - loss: 0.6401 - accuracy: 0.6819 - val_loss: 0.6534 - val_accuracy: 0.6307\n",
            "Epoch 135/200\n",
            "46/46 [==============================] - 1s 12ms/step - loss: 0.6430 - accuracy: 0.6689 - val_loss: 0.6531 - val_accuracy: 0.6321\n",
            "Epoch 136/200\n",
            "46/46 [==============================] - 1s 12ms/step - loss: 0.6417 - accuracy: 0.6765 - val_loss: 0.6529 - val_accuracy: 0.6335\n",
            "Epoch 137/200\n",
            "46/46 [==============================] - 0s 10ms/step - loss: 0.6393 - accuracy: 0.6778 - val_loss: 0.6526 - val_accuracy: 0.6321\n",
            "Epoch 138/200\n",
            "46/46 [==============================] - 0s 10ms/step - loss: 0.6427 - accuracy: 0.6901 - val_loss: 0.6523 - val_accuracy: 0.6321\n",
            "Epoch 139/200\n",
            "46/46 [==============================] - 0s 9ms/step - loss: 0.6400 - accuracy: 0.6751 - val_loss: 0.6521 - val_accuracy: 0.6321\n",
            "Epoch 140/200\n",
            "46/46 [==============================] - 0s 7ms/step - loss: 0.6388 - accuracy: 0.6717 - val_loss: 0.6518 - val_accuracy: 0.6321\n",
            "Epoch 141/200\n",
            "46/46 [==============================] - 0s 7ms/step - loss: 0.6405 - accuracy: 0.6710 - val_loss: 0.6515 - val_accuracy: 0.6321\n",
            "Epoch 142/200\n",
            "46/46 [==============================] - 0s 8ms/step - loss: 0.6375 - accuracy: 0.6730 - val_loss: 0.6513 - val_accuracy: 0.6307\n",
            "Epoch 143/200\n",
            "46/46 [==============================] - 0s 10ms/step - loss: 0.6384 - accuracy: 0.6853 - val_loss: 0.6510 - val_accuracy: 0.6307\n",
            "Epoch 144/200\n",
            "46/46 [==============================] - 0s 8ms/step - loss: 0.6371 - accuracy: 0.6730 - val_loss: 0.6506 - val_accuracy: 0.6307\n",
            "Epoch 145/200\n",
            "46/46 [==============================] - 0s 8ms/step - loss: 0.6387 - accuracy: 0.6833 - val_loss: 0.6504 - val_accuracy: 0.6307\n",
            "Epoch 146/200\n",
            "46/46 [==============================] - 0s 8ms/step - loss: 0.6407 - accuracy: 0.6662 - val_loss: 0.6502 - val_accuracy: 0.6307\n",
            "Epoch 147/200\n",
            "46/46 [==============================] - 0s 7ms/step - loss: 0.6388 - accuracy: 0.6710 - val_loss: 0.6500 - val_accuracy: 0.6307\n",
            "Epoch 148/200\n",
            "46/46 [==============================] - 0s 7ms/step - loss: 0.6384 - accuracy: 0.6819 - val_loss: 0.6497 - val_accuracy: 0.6307\n",
            "Epoch 149/200\n",
            "46/46 [==============================] - 0s 8ms/step - loss: 0.6333 - accuracy: 0.6689 - val_loss: 0.6494 - val_accuracy: 0.6307\n",
            "Epoch 150/200\n",
            "46/46 [==============================] - 0s 9ms/step - loss: 0.6322 - accuracy: 0.6846 - val_loss: 0.6491 - val_accuracy: 0.6307\n",
            "Epoch 151/200\n",
            "46/46 [==============================] - 1s 12ms/step - loss: 0.6305 - accuracy: 0.6819 - val_loss: 0.6488 - val_accuracy: 0.6307\n",
            "Epoch 152/200\n",
            "46/46 [==============================] - 0s 9ms/step - loss: 0.6312 - accuracy: 0.6894 - val_loss: 0.6485 - val_accuracy: 0.6307\n",
            "Epoch 153/200\n",
            "46/46 [==============================] - 0s 8ms/step - loss: 0.6345 - accuracy: 0.6730 - val_loss: 0.6483 - val_accuracy: 0.6321\n",
            "Epoch 154/200\n",
            "46/46 [==============================] - 0s 8ms/step - loss: 0.6328 - accuracy: 0.6812 - val_loss: 0.6480 - val_accuracy: 0.6307\n",
            "Epoch 155/200\n",
            "46/46 [==============================] - 0s 8ms/step - loss: 0.6353 - accuracy: 0.6935 - val_loss: 0.6478 - val_accuracy: 0.6307\n",
            "Epoch 156/200\n",
            "46/46 [==============================] - 0s 8ms/step - loss: 0.6292 - accuracy: 0.6962 - val_loss: 0.6475 - val_accuracy: 0.6307\n",
            "Epoch 157/200\n",
            "46/46 [==============================] - 0s 8ms/step - loss: 0.6276 - accuracy: 0.6860 - val_loss: 0.6472 - val_accuracy: 0.6307\n",
            "Epoch 158/200\n",
            "46/46 [==============================] - 0s 10ms/step - loss: 0.6325 - accuracy: 0.6833 - val_loss: 0.6470 - val_accuracy: 0.6307\n",
            "Epoch 159/200\n",
            "46/46 [==============================] - 0s 10ms/step - loss: 0.6305 - accuracy: 0.6901 - val_loss: 0.6467 - val_accuracy: 0.6321\n",
            "Epoch 160/200\n",
            "46/46 [==============================] - 1s 11ms/step - loss: 0.6295 - accuracy: 0.6976 - val_loss: 0.6464 - val_accuracy: 0.6307\n",
            "Epoch 161/200\n",
            "46/46 [==============================] - 1s 12ms/step - loss: 0.6334 - accuracy: 0.6696 - val_loss: 0.6463 - val_accuracy: 0.6335\n",
            "Epoch 162/200\n",
            "46/46 [==============================] - 1s 12ms/step - loss: 0.6266 - accuracy: 0.6949 - val_loss: 0.6460 - val_accuracy: 0.6349\n",
            "Epoch 163/200\n",
            "46/46 [==============================] - 0s 10ms/step - loss: 0.6257 - accuracy: 0.6751 - val_loss: 0.6457 - val_accuracy: 0.6362\n",
            "Epoch 164/200\n",
            "46/46 [==============================] - 0s 10ms/step - loss: 0.6271 - accuracy: 0.6853 - val_loss: 0.6455 - val_accuracy: 0.6349\n",
            "Epoch 165/200\n",
            "46/46 [==============================] - 1s 12ms/step - loss: 0.6319 - accuracy: 0.6655 - val_loss: 0.6454 - val_accuracy: 0.6349\n",
            "Epoch 166/200\n",
            "46/46 [==============================] - 0s 10ms/step - loss: 0.6300 - accuracy: 0.6969 - val_loss: 0.6450 - val_accuracy: 0.6349\n",
            "Epoch 167/200\n",
            "46/46 [==============================] - 1s 12ms/step - loss: 0.6257 - accuracy: 0.6853 - val_loss: 0.6448 - val_accuracy: 0.6376\n",
            "Epoch 168/200\n",
            "46/46 [==============================] - 0s 10ms/step - loss: 0.6256 - accuracy: 0.6922 - val_loss: 0.6445 - val_accuracy: 0.6349\n",
            "Epoch 169/200\n",
            "46/46 [==============================] - 1s 12ms/step - loss: 0.6286 - accuracy: 0.6778 - val_loss: 0.6445 - val_accuracy: 0.6349\n",
            "Epoch 170/200\n",
            "46/46 [==============================] - 0s 9ms/step - loss: 0.6223 - accuracy: 0.6935 - val_loss: 0.6441 - val_accuracy: 0.6349\n",
            "Epoch 171/200\n",
            "46/46 [==============================] - 0s 11ms/step - loss: 0.6229 - accuracy: 0.7003 - val_loss: 0.6438 - val_accuracy: 0.6335\n",
            "Epoch 172/200\n",
            "46/46 [==============================] - 0s 8ms/step - loss: 0.6257 - accuracy: 0.6812 - val_loss: 0.6436 - val_accuracy: 0.6349\n",
            "Epoch 173/200\n",
            "46/46 [==============================] - 0s 8ms/step - loss: 0.6252 - accuracy: 0.6894 - val_loss: 0.6434 - val_accuracy: 0.6349\n",
            "Epoch 174/200\n",
            "46/46 [==============================] - 0s 8ms/step - loss: 0.6251 - accuracy: 0.6908 - val_loss: 0.6431 - val_accuracy: 0.6335\n",
            "Epoch 175/200\n",
            "46/46 [==============================] - 0s 10ms/step - loss: 0.6210 - accuracy: 0.6949 - val_loss: 0.6429 - val_accuracy: 0.6349\n",
            "Epoch 176/200\n",
            "46/46 [==============================] - 1s 12ms/step - loss: 0.6244 - accuracy: 0.6874 - val_loss: 0.6426 - val_accuracy: 0.6349\n",
            "Epoch 177/200\n",
            "46/46 [==============================] - 1s 11ms/step - loss: 0.6276 - accuracy: 0.6833 - val_loss: 0.6425 - val_accuracy: 0.6335\n",
            "Epoch 178/200\n",
            "46/46 [==============================] - 1s 12ms/step - loss: 0.6222 - accuracy: 0.6983 - val_loss: 0.6423 - val_accuracy: 0.6321\n",
            "Epoch 179/200\n",
            "46/46 [==============================] - 0s 9ms/step - loss: 0.6190 - accuracy: 0.7010 - val_loss: 0.6420 - val_accuracy: 0.6335\n",
            "Epoch 180/200\n",
            "46/46 [==============================] - 0s 11ms/step - loss: 0.6244 - accuracy: 0.6860 - val_loss: 0.6418 - val_accuracy: 0.6349\n",
            "Epoch 181/200\n",
            "46/46 [==============================] - 0s 8ms/step - loss: 0.6263 - accuracy: 0.6744 - val_loss: 0.6417 - val_accuracy: 0.6335\n",
            "Epoch 182/200\n",
            "46/46 [==============================] - 0s 8ms/step - loss: 0.6199 - accuracy: 0.7078 - val_loss: 0.6415 - val_accuracy: 0.6335\n",
            "Epoch 183/200\n",
            "46/46 [==============================] - 0s 10ms/step - loss: 0.6197 - accuracy: 0.6894 - val_loss: 0.6413 - val_accuracy: 0.6335\n",
            "Epoch 184/200\n",
            "46/46 [==============================] - 1s 12ms/step - loss: 0.6211 - accuracy: 0.7017 - val_loss: 0.6411 - val_accuracy: 0.6335\n",
            "Epoch 185/200\n",
            "46/46 [==============================] - 0s 10ms/step - loss: 0.6238 - accuracy: 0.6942 - val_loss: 0.6410 - val_accuracy: 0.6362\n",
            "Epoch 186/200\n",
            "46/46 [==============================] - 1s 12ms/step - loss: 0.6163 - accuracy: 0.6928 - val_loss: 0.6407 - val_accuracy: 0.6376\n",
            "Epoch 187/200\n",
            "46/46 [==============================] - 0s 10ms/step - loss: 0.6174 - accuracy: 0.6928 - val_loss: 0.6405 - val_accuracy: 0.6362\n",
            "Epoch 188/200\n",
            "46/46 [==============================] - 0s 11ms/step - loss: 0.6181 - accuracy: 0.6894 - val_loss: 0.6402 - val_accuracy: 0.6390\n",
            "Epoch 189/200\n",
            "46/46 [==============================] - 0s 10ms/step - loss: 0.6153 - accuracy: 0.6942 - val_loss: 0.6400 - val_accuracy: 0.6362\n",
            "Epoch 190/200\n",
            "46/46 [==============================] - 0s 7ms/step - loss: 0.6173 - accuracy: 0.6942 - val_loss: 0.6398 - val_accuracy: 0.6376\n",
            "Epoch 191/200\n",
            "46/46 [==============================] - 0s 8ms/step - loss: 0.6153 - accuracy: 0.7038 - val_loss: 0.6397 - val_accuracy: 0.6376\n",
            "Epoch 192/200\n",
            "46/46 [==============================] - 0s 8ms/step - loss: 0.6133 - accuracy: 0.6990 - val_loss: 0.6394 - val_accuracy: 0.6376\n",
            "Epoch 193/200\n",
            "46/46 [==============================] - 0s 8ms/step - loss: 0.6152 - accuracy: 0.6922 - val_loss: 0.6393 - val_accuracy: 0.6362\n",
            "Epoch 194/200\n",
            "46/46 [==============================] - 0s 8ms/step - loss: 0.6141 - accuracy: 0.6928 - val_loss: 0.6391 - val_accuracy: 0.6349\n",
            "Epoch 195/200\n",
            "46/46 [==============================] - 0s 10ms/step - loss: 0.6137 - accuracy: 0.6894 - val_loss: 0.6389 - val_accuracy: 0.6307\n",
            "Epoch 196/200\n",
            "46/46 [==============================] - 0s 10ms/step - loss: 0.6108 - accuracy: 0.6935 - val_loss: 0.6387 - val_accuracy: 0.6349\n",
            "Epoch 197/200\n",
            "46/46 [==============================] - 0s 10ms/step - loss: 0.6120 - accuracy: 0.7038 - val_loss: 0.6385 - val_accuracy: 0.6362\n",
            "Epoch 198/200\n",
            "46/46 [==============================] - 0s 10ms/step - loss: 0.6134 - accuracy: 0.6956 - val_loss: 0.6384 - val_accuracy: 0.6307\n",
            "Epoch 199/200\n",
            "46/46 [==============================] - 1s 11ms/step - loss: 0.6127 - accuracy: 0.6901 - val_loss: 0.6383 - val_accuracy: 0.6307\n",
            "Epoch 200/200\n",
            "46/46 [==============================] - 0s 10ms/step - loss: 0.6092 - accuracy: 0.7031 - val_loss: 0.6381 - val_accuracy: 0.6321\n"
          ]
        }
      ]
    },
    {
      "cell_type": "markdown",
      "source": [
        "**5b)** Plot the optimisation history of this neural network. What can be said about the results?"
      ],
      "metadata": {
        "id": "zr2P4UevCK2U"
      }
    },
    {
      "cell_type": "code",
      "source": [
        "# plot the optimisation history\n",
        "plt.plot(history.history['accuracy'], label='Training Accuracy')\n",
        "plt.plot(history.history['val_accuracy'], label='Validation Accuracy')\n",
        "plt.xlabel('Epoch')\n",
        "plt.ylabel('Accuracy')\n",
        "plt.legend()\n",
        "plt.show()"
      ],
      "metadata": {
        "colab": {
          "base_uri": "https://localhost:8080/",
          "height": 279
        },
        "id": "JsO93M8zJ21J",
        "outputId": "c8a5d202-2ad5-475f-8fc6-6588455a274d"
      },
      "execution_count": null,
      "outputs": [
        {
          "output_type": "display_data",
          "data": {
            "text/plain": [
              "<Figure size 432x288 with 1 Axes>"
            ],
            "image/png": "[encoded data removed]"
          },
          "metadata": {
            "needs_background": "light"
          }
        }
      ]
    },
    {
      "cell_type": "markdown",
      "source": [
        "Q: What can be said about these results?"
      ],
      "metadata": {
        "id": "SaGIx3k3lB2S"
      }
    },
    {
      "cell_type": "markdown",
      "source": [
        "A: Looking at the accuracy, the results seem to be not perfect."
      ],
      "metadata": {
        "id": "dxPNcXHwlHzk"
      }
    },
    {
      "cell_type": "markdown",
      "source": [
        "---\n",
        "\n",
        "We try now to improve the results. In a lot of applications the optimization of the accuracy might be the wrong goal. For example, predicting a non-toxic molecule as toxic is not equally worse than predicting a toxic one as non-toxic. Therefore, we have to consider alternative metrics:\n",
        "\n",
        "**What are Sensitivity and Specificity?**\n",
        "\n",
        "* Sensitivity / True Positive Rate (TPR) \n",
        "\n",
        " Sensitivity tells us what proportion of the positive class got correctly classified. A simple example would be to determine what proportion of the actual toxic molecules were correctly detected by the model.\n",
        "\n",
        "* False Negative Rate (FNR)\n",
        "\n",
        " False Negative Rate (FNR) tells us what proportion of the positive class got incorrectly classified by the classifier. A higher TPR and a lower FNR is desirable since we want to correctly classify the positive class.\n",
        "\n",
        "* Specificity / True Negative Rate (TNR)\n",
        "\n",
        " Specificity tells us what proportion of the negative class got correctly classified. Taking the same example as in Sensitivity, Specificity would mean determining the proportion of non-toxic molecules who were correctly identified by the model.\n",
        "\n",
        "* False Positive Rate (FPR)\n",
        "\n",
        " FPR tells us what proportion of the negative class got incorrectly classified by the classifier. A higher TNR and a lower FPR is desirable since we want to correctly classify the non-toxic class.\n",
        "\n",
        "**How can we combine these quantities best?**\n",
        "\n",
        "The Receiver Operator Characteristic (ROC) curve is an evaluation metric for binary classification problems. It is a probability curve that plots the TPR against FPR at various threshold values and essentially separates the \"signal\" from the \"noise\". The Area Under the Curve (AUC) is the measure of the ability of a classifier to distinguish between classes and is used as a summary of the ROC curve.\n",
        "\n",
        "The higher the AUC, the better the performance of the model at distinguishing between the positive and negative classes. A random oracle has AUC = 0.5."
      ],
      "metadata": {
        "id": "F5lgIFnXwswy"
      }
    },
    {
      "cell_type": "markdown",
      "source": [
        "---\n",
        "\n",
        "We first calculate the metrics for predictions on the test set."
      ],
      "metadata": {
        "id": "EYsl7_rxpd_M"
      }
    },
    {
      "cell_type": "code",
      "source": [
        "# we calculate metrics for predictions on test set\n",
        "y_pred = (model.predict(X_test) > 0.5).astype(int)\n",
        "\n",
        "CM = confusion_matrix(y_pred,y_test)\n",
        "\n",
        "TN = CM[0][0]\n",
        "FN = CM[1][0]\n",
        "TP = CM[1][1]\n",
        "FP = CM[0][1]\n",
        "\n",
        "# Sensitivity or true positive rate\n",
        "TPR = TP/(TP+FN)\n",
        "# Specificity or true negative rate\n",
        "TNR = TN/(TN+FP) \n",
        "# Precision or positive predictive value\n",
        "PPV = TP/(TP+FP)\n",
        "# Negative predictive value\n",
        "NPV = TN/(TN+FN)\n",
        "# Fall out or false positive rate\n",
        "FPR = FP/(FP+TN)\n",
        "# False negative rate\n",
        "FNR = FN/(TP+FN)\n",
        "# False discovery rate\n",
        "FDR = FP/(TP+FP)\n",
        "\n",
        "# Overall accuracy\n",
        "ACC = (TP+TN)/(TP+FP+FN+TN)"
      ],
      "metadata": {
        "id": "JD5ck-5by-WW"
      },
      "execution_count": null,
      "outputs": []
    },
    {
      "cell_type": "markdown",
      "source": [
        "---\n",
        "\n",
        "**6a)** Define, train and test a neural network having dense layers with 15 units, lasts 200 epochs but now uses the AUC as measure for the performance."
      ],
      "metadata": {
        "id": "7MXxjtqBrqeP"
      }
    },
    {
      "cell_type": "code",
      "source": [
        "# define, train and test the model\n",
        "\n",
        "# define optimizer\n",
        "opt = tf.keras.optimizers.SGD(learning_rate=0.001)\n",
        "\n",
        "\n",
        "# define the model\n",
        "model = tf.keras.Sequential([\n",
        "    tf.keras.layers.Flatten(input_shape=(X_train.shape[1], X_train.shape[2])),\n",
        "    tf.keras.layers.Dense(15, activation='relu'),\n",
        "    tf.keras.layers.Dropout(0.3),\n",
        "    tf.keras.layers.Dense(15, activation='relu'),\n",
        "    tf.keras.layers.Dropout(0.3),\n",
        "    tf.keras.layers.Dense(1, activation='sigmoid')\n",
        "])\n",
        "\n",
        "# we compile the model\n",
        "model.compile(optimizer=opt,loss='binary_crossentropy', metrics=[tf.keras.metrics.AUC(from_logits=True)])\n",
        "\n",
        "# train and test the model\n",
        "history_2 = model.fit(X_train, y_train, validation_data=(X_test, y_test), epochs=200, batch_size=32)"
      ],
      "metadata": {
        "colab": {
          "base_uri": "https://localhost:8080/"
        },
        "id": "-dQ8fFqbyQi2",
        "outputId": "4bc865f4-0236-4d4d-e03a-51267b33623c"
      },
      "execution_count": null,
      "outputs": [
        {
          "output_type": "stream",
          "name": "stdout",
          "text": [
            "Epoch 1/200\n",
            "46/46 [==============================] - 2s 19ms/step - loss: 0.6936 - auc: 0.5075 - val_loss: 0.6923 - val_auc: 0.5338\n",
            "Epoch 2/200\n",
            "46/46 [==============================] - 1s 12ms/step - loss: 0.6923 - auc: 0.5263 - val_loss: 0.6922 - val_auc: 0.5340\n",
            "Epoch 3/200\n",
            "46/46 [==============================] - 1s 12ms/step - loss: 0.6910 - auc: 0.5499 - val_loss: 0.6920 - val_auc: 0.5419\n",
            "Epoch 4/200\n",
            "46/46 [==============================] - 1s 12ms/step - loss: 0.6927 - auc: 0.5243 - val_loss: 0.6918 - val_auc: 0.5499\n",
            "Epoch 5/200\n",
            "46/46 [==============================] - 1s 12ms/step - loss: 0.6922 - auc: 0.5332 - val_loss: 0.6916 - val_auc: 0.5581\n",
            "Epoch 6/200\n",
            "46/46 [==============================] - 0s 10ms/step - loss: 0.6928 - auc: 0.5148 - val_loss: 0.6915 - val_auc: 0.5648\n",
            "Epoch 7/200\n",
            "46/46 [==============================] - 0s 9ms/step - loss: 0.6909 - auc: 0.5546 - val_loss: 0.6912 - val_auc: 0.5701\n",
            "Epoch 8/200\n",
            "46/46 [==============================] - 0s 7ms/step - loss: 0.6908 - auc: 0.5535 - val_loss: 0.6910 - val_auc: 0.5747\n",
            "Epoch 9/200\n",
            "46/46 [==============================] - 0s 8ms/step - loss: 0.6911 - auc: 0.5428 - val_loss: 0.6909 - val_auc: 0.5818\n",
            "Epoch 10/200\n",
            "46/46 [==============================] - 0s 8ms/step - loss: 0.6912 - auc: 0.5459 - val_loss: 0.6907 - val_auc: 0.5895\n",
            "Epoch 11/200\n",
            "46/46 [==============================] - 0s 10ms/step - loss: 0.6905 - auc: 0.5478 - val_loss: 0.6904 - val_auc: 0.5846\n",
            "Epoch 12/200\n",
            "46/46 [==============================] - 0s 8ms/step - loss: 0.6889 - auc: 0.5750 - val_loss: 0.6901 - val_auc: 0.5857\n",
            "Epoch 13/200\n",
            "46/46 [==============================] - 1s 12ms/step - loss: 0.6904 - auc: 0.5484 - val_loss: 0.6899 - val_auc: 0.5880\n",
            "Epoch 14/200\n",
            "46/46 [==============================] - 0s 10ms/step - loss: 0.6893 - auc: 0.5861 - val_loss: 0.6897 - val_auc: 0.5837\n",
            "Epoch 15/200\n",
            "46/46 [==============================] - 1s 12ms/step - loss: 0.6889 - auc: 0.5776 - val_loss: 0.6894 - val_auc: 0.5760\n",
            "Epoch 16/200\n",
            "46/46 [==============================] - 0s 11ms/step - loss: 0.6889 - auc: 0.5813 - val_loss: 0.6891 - val_auc: 0.5815\n",
            "Epoch 17/200\n",
            "46/46 [==============================] - 0s 11ms/step - loss: 0.6898 - auc: 0.5676 - val_loss: 0.6889 - val_auc: 0.5834\n",
            "Epoch 18/200\n",
            "46/46 [==============================] - 1s 12ms/step - loss: 0.6895 - auc: 0.5707 - val_loss: 0.6887 - val_auc: 0.5829\n",
            "Epoch 19/200\n",
            "46/46 [==============================] - 0s 10ms/step - loss: 0.6880 - auc: 0.5926 - val_loss: 0.6884 - val_auc: 0.5740\n",
            "Epoch 20/200\n",
            "46/46 [==============================] - 0s 10ms/step - loss: 0.6879 - auc: 0.5944 - val_loss: 0.6881 - val_auc: 0.5824\n",
            "Epoch 21/200\n",
            "46/46 [==============================] - 0s 10ms/step - loss: 0.6873 - auc: 0.5914 - val_loss: 0.6877 - val_auc: 0.5792\n",
            "Epoch 22/200\n",
            "46/46 [==============================] - 1s 12ms/step - loss: 0.6863 - auc: 0.6120 - val_loss: 0.6873 - val_auc: 0.5796\n",
            "Epoch 23/200\n",
            "46/46 [==============================] - 0s 10ms/step - loss: 0.6855 - auc: 0.6100 - val_loss: 0.6869 - val_auc: 0.5853\n",
            "Epoch 24/200\n",
            "46/46 [==============================] - 1s 12ms/step - loss: 0.6859 - auc: 0.6041 - val_loss: 0.6866 - val_auc: 0.5873\n",
            "Epoch 25/200\n",
            "46/46 [==============================] - 0s 10ms/step - loss: 0.6859 - auc: 0.6085 - val_loss: 0.6862 - val_auc: 0.5915\n",
            "Epoch 26/200\n",
            "46/46 [==============================] - 0s 10ms/step - loss: 0.6850 - auc: 0.6188 - val_loss: 0.6858 - val_auc: 0.5956\n",
            "Epoch 27/200\n",
            "46/46 [==============================] - 1s 14ms/step - loss: 0.6853 - auc: 0.6063 - val_loss: 0.6853 - val_auc: 0.5999\n",
            "Epoch 28/200\n",
            "46/46 [==============================] - 1s 13ms/step - loss: 0.6839 - auc: 0.6169 - val_loss: 0.6849 - val_auc: 0.6041\n",
            "Epoch 29/200\n",
            "46/46 [==============================] - 1s 13ms/step - loss: 0.6830 - auc: 0.6285 - val_loss: 0.6845 - val_auc: 0.6157\n",
            "Epoch 30/200\n",
            "46/46 [==============================] - 1s 18ms/step - loss: 0.6824 - auc: 0.6398 - val_loss: 0.6841 - val_auc: 0.6220\n",
            "Epoch 31/200\n",
            "46/46 [==============================] - 1s 15ms/step - loss: 0.6818 - auc: 0.6267 - val_loss: 0.6836 - val_auc: 0.6318\n",
            "Epoch 32/200\n",
            "46/46 [==============================] - 1s 11ms/step - loss: 0.6807 - auc: 0.6543 - val_loss: 0.6832 - val_auc: 0.6397\n",
            "Epoch 33/200\n",
            "46/46 [==============================] - 1s 16ms/step - loss: 0.6811 - auc: 0.6398 - val_loss: 0.6827 - val_auc: 0.6394\n",
            "Epoch 34/200\n",
            "46/46 [==============================] - 1s 14ms/step - loss: 0.6807 - auc: 0.6324 - val_loss: 0.6824 - val_auc: 0.6387\n",
            "Epoch 35/200\n",
            "46/46 [==============================] - 1s 19ms/step - loss: 0.6804 - auc: 0.6449 - val_loss: 0.6820 - val_auc: 0.6414\n",
            "Epoch 36/200\n",
            "46/46 [==============================] - 1s 17ms/step - loss: 0.6794 - auc: 0.6449 - val_loss: 0.6816 - val_auc: 0.6392\n",
            "Epoch 37/200\n",
            "46/46 [==============================] - 1s 15ms/step - loss: 0.6793 - auc: 0.6458 - val_loss: 0.6811 - val_auc: 0.6420\n",
            "Epoch 38/200\n",
            "46/46 [==============================] - 1s 13ms/step - loss: 0.6776 - auc: 0.6551 - val_loss: 0.6807 - val_auc: 0.6466\n",
            "Epoch 39/200\n",
            "46/46 [==============================] - 1s 18ms/step - loss: 0.6776 - auc: 0.6560 - val_loss: 0.6802 - val_auc: 0.6512\n",
            "Epoch 40/200\n",
            "46/46 [==============================] - 1s 14ms/step - loss: 0.6786 - auc: 0.6386 - val_loss: 0.6798 - val_auc: 0.6528\n",
            "Epoch 41/200\n",
            "46/46 [==============================] - 1s 18ms/step - loss: 0.6752 - auc: 0.6700 - val_loss: 0.6793 - val_auc: 0.6523\n",
            "Epoch 42/200\n",
            "46/46 [==============================] - 1s 17ms/step - loss: 0.6751 - auc: 0.6628 - val_loss: 0.6788 - val_auc: 0.6536\n",
            "Epoch 43/200\n",
            "46/46 [==============================] - 1s 16ms/step - loss: 0.6778 - auc: 0.6419 - val_loss: 0.6785 - val_auc: 0.6537\n",
            "Epoch 44/200\n",
            "46/46 [==============================] - 1s 24ms/step - loss: 0.6738 - auc: 0.6712 - val_loss: 0.6780 - val_auc: 0.6545\n",
            "Epoch 45/200\n",
            "46/46 [==============================] - 1s 11ms/step - loss: 0.6741 - auc: 0.6522 - val_loss: 0.6775 - val_auc: 0.6546\n",
            "Epoch 46/200\n",
            "46/46 [==============================] - 0s 8ms/step - loss: 0.6722 - auc: 0.6782 - val_loss: 0.6770 - val_auc: 0.6581\n",
            "Epoch 47/200\n",
            "46/46 [==============================] - 0s 8ms/step - loss: 0.6739 - auc: 0.6616 - val_loss: 0.6765 - val_auc: 0.6593\n",
            "Epoch 48/200\n",
            "46/46 [==============================] - 0s 8ms/step - loss: 0.6751 - auc: 0.6488 - val_loss: 0.6761 - val_auc: 0.6576\n",
            "Epoch 49/200\n",
            "46/46 [==============================] - 0s 10ms/step - loss: 0.6701 - auc: 0.6875 - val_loss: 0.6755 - val_auc: 0.6599\n",
            "Epoch 50/200\n",
            "46/46 [==============================] - 0s 10ms/step - loss: 0.6711 - auc: 0.6753 - val_loss: 0.6750 - val_auc: 0.6622\n",
            "Epoch 51/200\n",
            "46/46 [==============================] - 1s 11ms/step - loss: 0.6695 - auc: 0.6823 - val_loss: 0.6745 - val_auc: 0.6623\n",
            "Epoch 52/200\n",
            "46/46 [==============================] - 0s 11ms/step - loss: 0.6694 - auc: 0.6898 - val_loss: 0.6740 - val_auc: 0.6613\n",
            "Epoch 53/200\n",
            "46/46 [==============================] - 1s 12ms/step - loss: 0.6728 - auc: 0.6609 - val_loss: 0.6736 - val_auc: 0.6664\n",
            "Epoch 54/200\n",
            "46/46 [==============================] - 0s 8ms/step - loss: 0.6732 - auc: 0.6499 - val_loss: 0.6733 - val_auc: 0.6662\n",
            "Epoch 55/200\n",
            "46/46 [==============================] - 0s 8ms/step - loss: 0.6701 - auc: 0.6652 - val_loss: 0.6728 - val_auc: 0.6677\n",
            "Epoch 56/200\n",
            "46/46 [==============================] - 0s 8ms/step - loss: 0.6689 - auc: 0.6765 - val_loss: 0.6724 - val_auc: 0.6620\n",
            "Epoch 57/200\n",
            "46/46 [==============================] - 0s 8ms/step - loss: 0.6665 - auc: 0.6818 - val_loss: 0.6719 - val_auc: 0.6660\n",
            "Epoch 58/200\n",
            "46/46 [==============================] - 0s 8ms/step - loss: 0.6666 - auc: 0.6882 - val_loss: 0.6715 - val_auc: 0.6653\n",
            "Epoch 59/200\n",
            "46/46 [==============================] - 0s 9ms/step - loss: 0.6656 - auc: 0.6870 - val_loss: 0.6710 - val_auc: 0.6677\n",
            "Epoch 60/200\n",
            "46/46 [==============================] - 0s 10ms/step - loss: 0.6656 - auc: 0.6828 - val_loss: 0.6706 - val_auc: 0.6701\n",
            "Epoch 61/200\n",
            "46/46 [==============================] - 0s 10ms/step - loss: 0.6604 - auc: 0.7030 - val_loss: 0.6700 - val_auc: 0.6710\n",
            "Epoch 62/200\n",
            "46/46 [==============================] - 1s 12ms/step - loss: 0.6673 - auc: 0.6711 - val_loss: 0.6697 - val_auc: 0.6682\n",
            "Epoch 63/200\n",
            "46/46 [==============================] - 1s 12ms/step - loss: 0.6628 - auc: 0.6859 - val_loss: 0.6692 - val_auc: 0.6686\n",
            "Epoch 64/200\n",
            "46/46 [==============================] - 1s 12ms/step - loss: 0.6607 - auc: 0.6993 - val_loss: 0.6687 - val_auc: 0.6680\n",
            "Epoch 65/200\n",
            "46/46 [==============================] - 0s 11ms/step - loss: 0.6624 - auc: 0.6913 - val_loss: 0.6683 - val_auc: 0.6698\n",
            "Epoch 66/200\n",
            "46/46 [==============================] - 1s 11ms/step - loss: 0.6589 - auc: 0.6953 - val_loss: 0.6678 - val_auc: 0.6717\n",
            "Epoch 67/200\n",
            "46/46 [==============================] - 0s 10ms/step - loss: 0.6598 - auc: 0.6890 - val_loss: 0.6673 - val_auc: 0.6742\n",
            "Epoch 68/200\n",
            "46/46 [==============================] - 0s 11ms/step - loss: 0.6594 - auc: 0.7020 - val_loss: 0.6669 - val_auc: 0.6761\n",
            "Epoch 69/200\n",
            "46/46 [==============================] - 1s 12ms/step - loss: 0.6626 - auc: 0.6858 - val_loss: 0.6665 - val_auc: 0.6758\n",
            "Epoch 70/200\n",
            "46/46 [==============================] - 1s 12ms/step - loss: 0.6582 - auc: 0.6962 - val_loss: 0.6661 - val_auc: 0.6730\n",
            "Epoch 71/200\n",
            "46/46 [==============================] - 0s 8ms/step - loss: 0.6607 - auc: 0.6894 - val_loss: 0.6658 - val_auc: 0.6773\n",
            "Epoch 72/200\n",
            "46/46 [==============================] - 0s 8ms/step - loss: 0.6585 - auc: 0.6969 - val_loss: 0.6654 - val_auc: 0.6781\n",
            "Epoch 73/200\n",
            "46/46 [==============================] - 0s 8ms/step - loss: 0.6599 - auc: 0.6890 - val_loss: 0.6650 - val_auc: 0.6795\n",
            "Epoch 74/200\n",
            "46/46 [==============================] - 1s 12ms/step - loss: 0.6571 - auc: 0.6932 - val_loss: 0.6645 - val_auc: 0.6803\n",
            "Epoch 75/200\n",
            "46/46 [==============================] - 1s 12ms/step - loss: 0.6541 - auc: 0.7077 - val_loss: 0.6641 - val_auc: 0.6778\n",
            "Epoch 76/200\n",
            "46/46 [==============================] - 0s 10ms/step - loss: 0.6542 - auc: 0.7009 - val_loss: 0.6636 - val_auc: 0.6821\n",
            "Epoch 77/200\n",
            "46/46 [==============================] - 0s 10ms/step - loss: 0.6585 - auc: 0.6909 - val_loss: 0.6633 - val_auc: 0.6804\n",
            "Epoch 78/200\n",
            "46/46 [==============================] - 0s 8ms/step - loss: 0.6534 - auc: 0.7078 - val_loss: 0.6630 - val_auc: 0.6795\n",
            "Epoch 79/200\n",
            "46/46 [==============================] - 0s 7ms/step - loss: 0.6523 - auc: 0.7053 - val_loss: 0.6625 - val_auc: 0.6820\n",
            "Epoch 80/200\n",
            "46/46 [==============================] - 0s 10ms/step - loss: 0.6518 - auc: 0.7070 - val_loss: 0.6621 - val_auc: 0.6823\n",
            "Epoch 81/200\n",
            "46/46 [==============================] - 0s 10ms/step - loss: 0.6523 - auc: 0.7020 - val_loss: 0.6617 - val_auc: 0.6816\n",
            "Epoch 82/200\n",
            "46/46 [==============================] - 0s 10ms/step - loss: 0.6494 - auc: 0.7186 - val_loss: 0.6612 - val_auc: 0.6809\n",
            "Epoch 83/200\n",
            "46/46 [==============================] - 0s 8ms/step - loss: 0.6538 - auc: 0.7022 - val_loss: 0.6608 - val_auc: 0.6815\n",
            "Epoch 84/200\n",
            "46/46 [==============================] - 0s 7ms/step - loss: 0.6532 - auc: 0.6952 - val_loss: 0.6605 - val_auc: 0.6829\n",
            "Epoch 85/200\n",
            "46/46 [==============================] - 0s 8ms/step - loss: 0.6477 - auc: 0.7198 - val_loss: 0.6601 - val_auc: 0.6828\n",
            "Epoch 86/200\n",
            "46/46 [==============================] - 1s 12ms/step - loss: 0.6537 - auc: 0.6981 - val_loss: 0.6598 - val_auc: 0.6830\n",
            "Epoch 87/200\n",
            "46/46 [==============================] - 1s 12ms/step - loss: 0.6503 - auc: 0.7042 - val_loss: 0.6594 - val_auc: 0.6840\n",
            "Epoch 88/200\n",
            "46/46 [==============================] - 1s 12ms/step - loss: 0.6473 - auc: 0.7136 - val_loss: 0.6590 - val_auc: 0.6843\n",
            "Epoch 89/200\n",
            "46/46 [==============================] - 0s 9ms/step - loss: 0.6524 - auc: 0.6997 - val_loss: 0.6587 - val_auc: 0.6844\n",
            "Epoch 90/200\n",
            "46/46 [==============================] - 0s 8ms/step - loss: 0.6429 - auc: 0.7277 - val_loss: 0.6582 - val_auc: 0.6867\n",
            "Epoch 91/200\n",
            "46/46 [==============================] - 0s 8ms/step - loss: 0.6441 - auc: 0.7148 - val_loss: 0.6578 - val_auc: 0.6874\n",
            "Epoch 92/200\n",
            "46/46 [==============================] - 1s 11ms/step - loss: 0.6467 - auc: 0.7115 - val_loss: 0.6575 - val_auc: 0.6875\n",
            "Epoch 93/200\n",
            "46/46 [==============================] - 0s 10ms/step - loss: 0.6450 - auc: 0.7147 - val_loss: 0.6571 - val_auc: 0.6848\n",
            "Epoch 94/200\n",
            "46/46 [==============================] - 0s 8ms/step - loss: 0.6446 - auc: 0.7164 - val_loss: 0.6568 - val_auc: 0.6846\n",
            "Epoch 95/200\n",
            "46/46 [==============================] - 0s 8ms/step - loss: 0.6417 - auc: 0.7229 - val_loss: 0.6564 - val_auc: 0.6837\n",
            "Epoch 96/200\n",
            "46/46 [==============================] - 0s 7ms/step - loss: 0.6405 - auc: 0.7188 - val_loss: 0.6560 - val_auc: 0.6840\n",
            "Epoch 97/200\n",
            "46/46 [==============================] - 0s 8ms/step - loss: 0.6405 - auc: 0.7236 - val_loss: 0.6555 - val_auc: 0.6849\n",
            "Epoch 98/200\n",
            "46/46 [==============================] - 0s 8ms/step - loss: 0.6401 - auc: 0.7200 - val_loss: 0.6551 - val_auc: 0.6867\n",
            "Epoch 99/200\n",
            "46/46 [==============================] - 0s 8ms/step - loss: 0.6367 - auc: 0.7386 - val_loss: 0.6547 - val_auc: 0.6858\n",
            "Epoch 100/200\n",
            "46/46 [==============================] - 1s 12ms/step - loss: 0.6392 - auc: 0.7214 - val_loss: 0.6545 - val_auc: 0.6866\n",
            "Epoch 101/200\n",
            "46/46 [==============================] - 0s 10ms/step - loss: 0.6376 - auc: 0.7313 - val_loss: 0.6541 - val_auc: 0.6891\n",
            "Epoch 102/200\n",
            "46/46 [==============================] - 1s 12ms/step - loss: 0.6439 - auc: 0.7100 - val_loss: 0.6539 - val_auc: 0.6882\n",
            "Epoch 103/200\n",
            "46/46 [==============================] - 1s 13ms/step - loss: 0.6368 - auc: 0.7318 - val_loss: 0.6535 - val_auc: 0.6911\n",
            "Epoch 104/200\n",
            "46/46 [==============================] - 1s 12ms/step - loss: 0.6380 - auc: 0.7266 - val_loss: 0.6531 - val_auc: 0.6908\n",
            "Epoch 105/200\n",
            "46/46 [==============================] - 0s 10ms/step - loss: 0.6365 - auc: 0.7279 - val_loss: 0.6528 - val_auc: 0.6911\n",
            "Epoch 106/200\n",
            "46/46 [==============================] - 0s 11ms/step - loss: 0.6369 - auc: 0.7254 - val_loss: 0.6523 - val_auc: 0.6915\n",
            "Epoch 107/200\n",
            "46/46 [==============================] - 0s 10ms/step - loss: 0.6352 - auc: 0.7331 - val_loss: 0.6520 - val_auc: 0.6915\n",
            "Epoch 108/200\n",
            "46/46 [==============================] - 1s 12ms/step - loss: 0.6363 - auc: 0.7283 - val_loss: 0.6517 - val_auc: 0.6928\n",
            "Epoch 109/200\n",
            "46/46 [==============================] - 0s 10ms/step - loss: 0.6373 - auc: 0.7135 - val_loss: 0.6514 - val_auc: 0.6933\n",
            "Epoch 110/200\n",
            "46/46 [==============================] - 1s 11ms/step - loss: 0.6357 - auc: 0.7184 - val_loss: 0.6512 - val_auc: 0.6922\n",
            "Epoch 111/200\n",
            "46/46 [==============================] - 0s 10ms/step - loss: 0.6324 - auc: 0.7382 - val_loss: 0.6508 - val_auc: 0.6916\n",
            "Epoch 112/200\n",
            "46/46 [==============================] - 0s 10ms/step - loss: 0.6329 - auc: 0.7321 - val_loss: 0.6505 - val_auc: 0.6927\n",
            "Epoch 113/200\n",
            "46/46 [==============================] - 0s 10ms/step - loss: 0.6369 - auc: 0.7208 - val_loss: 0.6502 - val_auc: 0.6929\n",
            "Epoch 114/200\n",
            "46/46 [==============================] - 0s 11ms/step - loss: 0.6318 - auc: 0.7275 - val_loss: 0.6499 - val_auc: 0.6922\n",
            "Epoch 115/200\n",
            "46/46 [==============================] - 1s 12ms/step - loss: 0.6339 - auc: 0.7251 - val_loss: 0.6496 - val_auc: 0.6925\n",
            "Epoch 116/200\n",
            "46/46 [==============================] - 1s 12ms/step - loss: 0.6329 - auc: 0.7325 - val_loss: 0.6493 - val_auc: 0.6927\n",
            "Epoch 117/200\n",
            "46/46 [==============================] - 0s 10ms/step - loss: 0.6350 - auc: 0.7200 - val_loss: 0.6491 - val_auc: 0.6932\n",
            "Epoch 118/200\n",
            "46/46 [==============================] - 1s 12ms/step - loss: 0.6292 - auc: 0.7322 - val_loss: 0.6487 - val_auc: 0.6941\n",
            "Epoch 119/200\n",
            "46/46 [==============================] - 0s 10ms/step - loss: 0.6292 - auc: 0.7350 - val_loss: 0.6483 - val_auc: 0.6942\n",
            "Epoch 120/200\n",
            "46/46 [==============================] - 1s 13ms/step - loss: 0.6252 - auc: 0.7399 - val_loss: 0.6480 - val_auc: 0.6955\n",
            "Epoch 121/200\n",
            "46/46 [==============================] - 0s 10ms/step - loss: 0.6238 - auc: 0.7424 - val_loss: 0.6476 - val_auc: 0.6964\n",
            "Epoch 122/200\n",
            "46/46 [==============================] - 0s 11ms/step - loss: 0.6252 - auc: 0.7435 - val_loss: 0.6474 - val_auc: 0.6941\n",
            "Epoch 123/200\n",
            "46/46 [==============================] - 0s 10ms/step - loss: 0.6297 - auc: 0.7315 - val_loss: 0.6470 - val_auc: 0.6958\n",
            "Epoch 124/200\n",
            "46/46 [==============================] - 0s 8ms/step - loss: 0.6286 - auc: 0.7287 - val_loss: 0.6468 - val_auc: 0.6948\n",
            "Epoch 125/200\n",
            "46/46 [==============================] - 0s 8ms/step - loss: 0.6284 - auc: 0.7337 - val_loss: 0.6465 - val_auc: 0.6975\n",
            "Epoch 126/200\n",
            "46/46 [==============================] - 0s 8ms/step - loss: 0.6270 - auc: 0.7360 - val_loss: 0.6462 - val_auc: 0.6982\n",
            "Epoch 127/200\n",
            "46/46 [==============================] - 0s 10ms/step - loss: 0.6235 - auc: 0.7363 - val_loss: 0.6461 - val_auc: 0.6982\n",
            "Epoch 128/200\n",
            "46/46 [==============================] - 0s 7ms/step - loss: 0.6197 - auc: 0.7484 - val_loss: 0.6458 - val_auc: 0.6976\n",
            "Epoch 129/200\n",
            "46/46 [==============================] - 0s 9ms/step - loss: 0.6237 - auc: 0.7415 - val_loss: 0.6455 - val_auc: 0.6981\n",
            "Epoch 130/200\n",
            "46/46 [==============================] - 1s 12ms/step - loss: 0.6209 - auc: 0.7496 - val_loss: 0.6451 - val_auc: 0.6976\n",
            "Epoch 131/200\n",
            "46/46 [==============================] - 1s 12ms/step - loss: 0.6309 - auc: 0.7248 - val_loss: 0.6450 - val_auc: 0.6981\n",
            "Epoch 132/200\n",
            "46/46 [==============================] - 0s 10ms/step - loss: 0.6234 - auc: 0.7420 - val_loss: 0.6448 - val_auc: 0.6985\n",
            "Epoch 133/200\n",
            "46/46 [==============================] - 0s 8ms/step - loss: 0.6211 - auc: 0.7436 - val_loss: 0.6446 - val_auc: 0.6992\n",
            "Epoch 134/200\n",
            "46/46 [==============================] - 0s 8ms/step - loss: 0.6184 - auc: 0.7510 - val_loss: 0.6442 - val_auc: 0.6992\n",
            "Epoch 135/200\n",
            "46/46 [==============================] - 0s 8ms/step - loss: 0.6209 - auc: 0.7323 - val_loss: 0.6439 - val_auc: 0.7006\n",
            "Epoch 136/200\n",
            "46/46 [==============================] - 0s 8ms/step - loss: 0.6202 - auc: 0.7464 - val_loss: 0.6437 - val_auc: 0.7006\n",
            "Epoch 137/200\n",
            "46/46 [==============================] - 0s 8ms/step - loss: 0.6189 - auc: 0.7458 - val_loss: 0.6435 - val_auc: 0.7007\n",
            "Epoch 138/200\n",
            "46/46 [==============================] - 0s 8ms/step - loss: 0.6193 - auc: 0.7430 - val_loss: 0.6434 - val_auc: 0.6998\n",
            "Epoch 139/200\n",
            "46/46 [==============================] - 0s 8ms/step - loss: 0.6166 - auc: 0.7449 - val_loss: 0.6431 - val_auc: 0.6995\n",
            "Epoch 140/200\n",
            "46/46 [==============================] - 0s 8ms/step - loss: 0.6170 - auc: 0.7463 - val_loss: 0.6427 - val_auc: 0.6988\n",
            "Epoch 141/200\n",
            "46/46 [==============================] - 0s 9ms/step - loss: 0.6121 - auc: 0.7510 - val_loss: 0.6424 - val_auc: 0.6976\n",
            "Epoch 142/200\n",
            "46/46 [==============================] - 1s 12ms/step - loss: 0.6158 - auc: 0.7486 - val_loss: 0.6422 - val_auc: 0.6998\n",
            "Epoch 143/200\n",
            "46/46 [==============================] - 0s 10ms/step - loss: 0.6145 - auc: 0.7529 - val_loss: 0.6419 - val_auc: 0.6993\n",
            "Epoch 144/200\n",
            "46/46 [==============================] - 0s 10ms/step - loss: 0.6156 - auc: 0.7459 - val_loss: 0.6418 - val_auc: 0.7005\n",
            "Epoch 145/200\n",
            "46/46 [==============================] - 0s 10ms/step - loss: 0.6209 - auc: 0.7376 - val_loss: 0.6417 - val_auc: 0.6995\n",
            "Epoch 146/200\n",
            "46/46 [==============================] - 0s 8ms/step - loss: 0.6139 - auc: 0.7489 - val_loss: 0.6414 - val_auc: 0.7007\n",
            "Epoch 147/200\n",
            "46/46 [==============================] - 0s 7ms/step - loss: 0.6213 - auc: 0.7318 - val_loss: 0.6412 - val_auc: 0.7004\n",
            "Epoch 148/200\n",
            "46/46 [==============================] - 0s 8ms/step - loss: 0.6154 - auc: 0.7520 - val_loss: 0.6411 - val_auc: 0.7017\n",
            "Epoch 149/200\n",
            "46/46 [==============================] - 0s 8ms/step - loss: 0.6186 - auc: 0.7386 - val_loss: 0.6409 - val_auc: 0.7015\n",
            "Epoch 150/200\n",
            "46/46 [==============================] - 0s 8ms/step - loss: 0.6108 - auc: 0.7547 - val_loss: 0.6406 - val_auc: 0.7028\n",
            "Epoch 151/200\n",
            "46/46 [==============================] - 0s 8ms/step - loss: 0.6193 - auc: 0.7424 - val_loss: 0.6403 - val_auc: 0.7018\n",
            "Epoch 152/200\n",
            "46/46 [==============================] - 0s 8ms/step - loss: 0.6069 - auc: 0.7645 - val_loss: 0.6400 - val_auc: 0.7025\n",
            "Epoch 153/200\n",
            "46/46 [==============================] - 0s 10ms/step - loss: 0.6159 - auc: 0.7440 - val_loss: 0.6399 - val_auc: 0.7021\n",
            "Epoch 154/200\n",
            "46/46 [==============================] - 0s 10ms/step - loss: 0.6094 - auc: 0.7582 - val_loss: 0.6397 - val_auc: 0.7030\n",
            "Epoch 155/200\n",
            "46/46 [==============================] - 0s 10ms/step - loss: 0.6055 - auc: 0.7600 - val_loss: 0.6395 - val_auc: 0.7033\n",
            "Epoch 156/200\n",
            "46/46 [==============================] - 0s 8ms/step - loss: 0.6124 - auc: 0.7519 - val_loss: 0.6392 - val_auc: 0.7030\n",
            "Epoch 157/200\n",
            "46/46 [==============================] - 0s 9ms/step - loss: 0.6028 - auc: 0.7680 - val_loss: 0.6390 - val_auc: 0.7020\n",
            "Epoch 158/200\n",
            "46/46 [==============================] - 0s 8ms/step - loss: 0.6011 - auc: 0.7718 - val_loss: 0.6387 - val_auc: 0.7033\n",
            "Epoch 159/200\n",
            "46/46 [==============================] - 0s 8ms/step - loss: 0.6059 - auc: 0.7649 - val_loss: 0.6383 - val_auc: 0.7042\n",
            "Epoch 160/200\n",
            "46/46 [==============================] - 0s 8ms/step - loss: 0.6086 - auc: 0.7548 - val_loss: 0.6382 - val_auc: 0.7035\n",
            "Epoch 161/200\n",
            "46/46 [==============================] - 0s 8ms/step - loss: 0.6100 - auc: 0.7514 - val_loss: 0.6381 - val_auc: 0.7033\n",
            "Epoch 162/200\n",
            "46/46 [==============================] - 0s 8ms/step - loss: 0.6012 - auc: 0.7682 - val_loss: 0.6378 - val_auc: 0.7029\n",
            "Epoch 163/200\n",
            "46/46 [==============================] - 0s 8ms/step - loss: 0.6074 - auc: 0.7529 - val_loss: 0.6376 - val_auc: 0.7021\n",
            "Epoch 164/200\n",
            "46/46 [==============================] - 0s 8ms/step - loss: 0.6048 - auc: 0.7633 - val_loss: 0.6376 - val_auc: 0.7016\n",
            "Epoch 165/200\n",
            "46/46 [==============================] - 0s 8ms/step - loss: 0.6158 - auc: 0.7408 - val_loss: 0.6373 - val_auc: 0.7031\n",
            "Epoch 166/200\n",
            "46/46 [==============================] - 0s 8ms/step - loss: 0.6035 - auc: 0.7582 - val_loss: 0.6371 - val_auc: 0.7033\n",
            "Epoch 167/200\n",
            "46/46 [==============================] - 0s 8ms/step - loss: 0.6067 - auc: 0.7576 - val_loss: 0.6369 - val_auc: 0.7042\n",
            "Epoch 168/200\n",
            "46/46 [==============================] - 0s 8ms/step - loss: 0.6047 - auc: 0.7593 - val_loss: 0.6367 - val_auc: 0.7042\n",
            "Epoch 169/200\n",
            "46/46 [==============================] - 0s 9ms/step - loss: 0.6034 - auc: 0.7556 - val_loss: 0.6365 - val_auc: 0.7052\n",
            "Epoch 170/200\n",
            "46/46 [==============================] - 0s 10ms/step - loss: 0.6021 - auc: 0.7627 - val_loss: 0.6363 - val_auc: 0.7050\n",
            "Epoch 171/200\n",
            "46/46 [==============================] - 0s 10ms/step - loss: 0.6017 - auc: 0.7653 - val_loss: 0.6362 - val_auc: 0.7056\n",
            "Epoch 172/200\n",
            "46/46 [==============================] - 0s 8ms/step - loss: 0.6011 - auc: 0.7650 - val_loss: 0.6360 - val_auc: 0.7050\n",
            "Epoch 173/200\n",
            "46/46 [==============================] - 0s 8ms/step - loss: 0.5997 - auc: 0.7654 - val_loss: 0.6359 - val_auc: 0.7059\n",
            "Epoch 174/200\n",
            "46/46 [==============================] - 0s 8ms/step - loss: 0.5954 - auc: 0.7782 - val_loss: 0.6356 - val_auc: 0.7041\n",
            "Epoch 175/200\n",
            "46/46 [==============================] - 0s 10ms/step - loss: 0.6052 - auc: 0.7655 - val_loss: 0.6354 - val_auc: 0.7062\n",
            "Epoch 176/200\n",
            "46/46 [==============================] - 0s 10ms/step - loss: 0.6001 - auc: 0.7599 - val_loss: 0.6352 - val_auc: 0.7076\n",
            "Epoch 177/200\n",
            "46/46 [==============================] - 1s 12ms/step - loss: 0.5992 - auc: 0.7706 - val_loss: 0.6350 - val_auc: 0.7080\n",
            "Epoch 178/200\n",
            "46/46 [==============================] - 1s 12ms/step - loss: 0.6008 - auc: 0.7642 - val_loss: 0.6350 - val_auc: 0.7071\n",
            "Epoch 179/200\n",
            "46/46 [==============================] - 0s 10ms/step - loss: 0.5994 - auc: 0.7660 - val_loss: 0.6349 - val_auc: 0.7063\n",
            "Epoch 180/200\n",
            "46/46 [==============================] - 1s 12ms/step - loss: 0.6012 - auc: 0.7620 - val_loss: 0.6348 - val_auc: 0.7059\n",
            "Epoch 181/200\n",
            "46/46 [==============================] - 1s 11ms/step - loss: 0.5984 - auc: 0.7664 - val_loss: 0.6346 - val_auc: 0.7062\n",
            "Epoch 182/200\n",
            "46/46 [==============================] - 0s 10ms/step - loss: 0.5974 - auc: 0.7667 - val_loss: 0.6346 - val_auc: 0.7068\n",
            "Epoch 183/200\n",
            "46/46 [==============================] - 0s 10ms/step - loss: 0.6042 - auc: 0.7543 - val_loss: 0.6345 - val_auc: 0.7073\n",
            "Epoch 184/200\n",
            "46/46 [==============================] - 1s 12ms/step - loss: 0.5902 - auc: 0.7804 - val_loss: 0.6343 - val_auc: 0.7070\n",
            "Epoch 185/200\n",
            "46/46 [==============================] - 0s 10ms/step - loss: 0.5963 - auc: 0.7661 - val_loss: 0.6340 - val_auc: 0.7068\n",
            "Epoch 186/200\n",
            "46/46 [==============================] - 0s 10ms/step - loss: 0.5981 - auc: 0.7670 - val_loss: 0.6341 - val_auc: 0.7069\n",
            "Epoch 187/200\n",
            "46/46 [==============================] - 0s 8ms/step - loss: 0.5970 - auc: 0.7652 - val_loss: 0.6340 - val_auc: 0.7069\n",
            "Epoch 188/200\n",
            "46/46 [==============================] - 0s 8ms/step - loss: 0.6025 - auc: 0.7572 - val_loss: 0.6339 - val_auc: 0.7066\n",
            "Epoch 189/200\n",
            "46/46 [==============================] - 0s 11ms/step - loss: 0.5895 - auc: 0.7754 - val_loss: 0.6336 - val_auc: 0.7072\n",
            "Epoch 190/200\n",
            "46/46 [==============================] - 0s 10ms/step - loss: 0.5892 - auc: 0.7766 - val_loss: 0.6334 - val_auc: 0.7068\n",
            "Epoch 191/200\n",
            "46/46 [==============================] - 0s 9ms/step - loss: 0.5959 - auc: 0.7685 - val_loss: 0.6333 - val_auc: 0.7072\n",
            "Epoch 192/200\n",
            "46/46 [==============================] - 0s 8ms/step - loss: 0.5883 - auc: 0.7790 - val_loss: 0.6330 - val_auc: 0.7067\n",
            "Epoch 193/200\n",
            "46/46 [==============================] - 0s 8ms/step - loss: 0.5934 - auc: 0.7692 - val_loss: 0.6328 - val_auc: 0.7073\n",
            "Epoch 194/200\n",
            "46/46 [==============================] - 0s 8ms/step - loss: 0.5937 - auc: 0.7668 - val_loss: 0.6326 - val_auc: 0.7076\n",
            "Epoch 195/200\n",
            "46/46 [==============================] - 0s 8ms/step - loss: 0.5988 - auc: 0.7617 - val_loss: 0.6324 - val_auc: 0.7076\n",
            "Epoch 196/200\n",
            "46/46 [==============================] - 0s 8ms/step - loss: 0.5950 - auc: 0.7677 - val_loss: 0.6322 - val_auc: 0.7083\n",
            "Epoch 197/200\n",
            "46/46 [==============================] - 0s 8ms/step - loss: 0.5916 - auc: 0.7699 - val_loss: 0.6322 - val_auc: 0.7080\n",
            "Epoch 198/200\n",
            "46/46 [==============================] - 0s 8ms/step - loss: 0.5949 - auc: 0.7739 - val_loss: 0.6321 - val_auc: 0.7086\n",
            "Epoch 199/200\n",
            "46/46 [==============================] - 0s 9ms/step - loss: 0.5913 - auc: 0.7750 - val_loss: 0.6321 - val_auc: 0.7095\n",
            "Epoch 200/200\n",
            "46/46 [==============================] - 1s 11ms/step - loss: 0.5905 - auc: 0.7773 - val_loss: 0.6320 - val_auc: 0.7095\n"
          ]
        }
      ]
    },
    {
      "cell_type": "markdown",
      "source": [
        "**6b)** Plot the optimisation history of this neural network. Are the results better?"
      ],
      "metadata": {
        "id": "QPi2ExPXwcOs"
      }
    },
    {
      "cell_type": "code",
      "source": [
        "# plot the optimisation history\n",
        "plt.plot(history_2.history['auc'], label='Training AUC')\n",
        "plt.plot(history_2.history['val_auc'], label='Validation AUC')\n",
        "plt.xlabel('Epoch')\n",
        "plt.ylabel('AUC')\n",
        "plt.legend()\n",
        "plt.show()"
      ],
      "metadata": {
        "colab": {
          "base_uri": "https://localhost:8080/",
          "height": 279
        },
        "id": "u4LhkX8NxaKj",
        "outputId": "0ccbc86d-89c0-447b-b064-cf50d03f5d88"
      },
      "execution_count": null,
      "outputs": [
        {
          "output_type": "display_data",
          "data": {
            "text/plain": [
              "<Figure size 432x288 with 1 Axes>"
            ],
            "image/png": "[encoded data removed]"
          },
          "metadata": {
            "needs_background": "light"
          }
        }
      ]
    },
    {
      "cell_type": "markdown",
      "source": [
        "---\n",
        "\n",
        "The neural networks used above do not seem to perform well. We try an approach with a Long Short-Term Memory network (LSTM).\n",
        "\n",
        "**7)** Play around with the parameters of the LSTM model and try to improve the performance."
      ],
      "metadata": {
        "id": "By1YPzeyfgDK"
      }
    },
    {
      "cell_type": "code",
      "source": [
        "# LSTM model\n",
        "from tensorflow.keras.models import Sequential, Model\n",
        "from tensorflow.keras.layers import Dense\n",
        "from tensorflow.keras.layers import Dropout\n",
        "from tensorflow.keras.layers import LSTM, Bidirectional\n",
        "from keras.layers.embeddings import Embedding\n",
        "\n",
        "model = Sequential()\n",
        "model.add(Bidirectional(LSTM(10, return_sequences=True), input_shape=(longest, mapping_size)))\n",
        "model.add(tf.keras.layers.Flatten(input_shape=(longest, 20)))\n",
        "model.add(Dense(10, activation='relu'))\n",
        "model.add(Dense(1, activation='sigmoid'))\n",
        "model.compile(loss='binary_crossentropy', optimizer='adam', metrics=[tf.keras.metrics.AUC(from_logits=True)])\n",
        "print(model.summary())\n",
        "history_lstm = model.fit(X_train, y_train, validation_data=(X_test, y_test), epochs=20, batch_size=28)"
      ],
      "metadata": {
        "colab": {
          "base_uri": "https://localhost:8080/"
        },
        "id": "E-_a7fqJyQ6z",
        "outputId": "ae59eac0-205b-4319-e273-d3c98e31e154"
      },
      "execution_count": null,
      "outputs": [
        {
          "output_type": "stream",
          "name": "stdout",
          "text": [
            "Model: \"sequential_8\"\n",
            "_________________________________________________________________\n",
            " Layer (type)                Output Shape              Param #   \n",
            "=================================================================\n",
            " bidirectional_5 (Bidirectio  (None, 321, 20)          4560      \n",
            " nal)                                                            \n",
            "                                                                 \n",
            " flatten_8 (Flatten)         (None, 6420)              0         \n",
            "                                                                 \n",
            " dense_19 (Dense)            (None, 10)                64210     \n",
            "                                                                 \n",
            " dense_20 (Dense)            (None, 1)                 11        \n",
            "                                                                 \n",
            "=================================================================\n",
            "Total params: 68,781\n",
            "Trainable params: 68,781\n",
            "Non-trainable params: 0\n",
            "_________________________________________________________________\n",
            "None\n",
            "Epoch 1/20\n",
            "53/53 [==============================] - 23s 284ms/step - loss: 0.6665 - auc_6: 0.6449 - val_loss: 0.6443 - val_auc_6: 0.6810\n",
            "Epoch 2/20\n",
            "53/53 [==============================] - 9s 176ms/step - loss: 0.6266 - auc_6: 0.7065 - val_loss: 0.6346 - val_auc_6: 0.6958\n",
            "Epoch 3/20\n",
            "53/53 [==============================] - 9s 169ms/step - loss: 0.6140 - auc_6: 0.7236 - val_loss: 0.6285 - val_auc_6: 0.7040\n",
            "Epoch 4/20\n",
            "53/53 [==============================] - 9s 163ms/step - loss: 0.5977 - auc_6: 0.7433 - val_loss: 0.6514 - val_auc_6: 0.7088\n",
            "Epoch 5/20\n",
            "53/53 [==============================] - 9s 175ms/step - loss: 0.5839 - auc_6: 0.7617 - val_loss: 0.6154 - val_auc_6: 0.7243\n",
            "Epoch 6/20\n",
            "53/53 [==============================] - 10s 182ms/step - loss: 0.5675 - auc_6: 0.7790 - val_loss: 0.6151 - val_auc_6: 0.7312\n",
            "Epoch 7/20\n",
            "53/53 [==============================] - 9s 162ms/step - loss: 0.5550 - auc_6: 0.7886 - val_loss: 0.6110 - val_auc_6: 0.7318\n",
            "Epoch 8/20\n",
            "53/53 [==============================] - 9s 171ms/step - loss: 0.5384 - auc_6: 0.8078 - val_loss: 0.6056 - val_auc_6: 0.7382\n",
            "Epoch 9/20\n",
            "53/53 [==============================] - 10s 181ms/step - loss: 0.5201 - auc_6: 0.8211 - val_loss: 0.6076 - val_auc_6: 0.7414\n",
            "Epoch 10/20\n",
            "53/53 [==============================] - 9s 180ms/step - loss: 0.5079 - auc_6: 0.8311 - val_loss: 0.6072 - val_auc_6: 0.7438\n",
            "Epoch 11/20\n",
            "53/53 [==============================] - 9s 163ms/step - loss: 0.4980 - auc_6: 0.8379 - val_loss: 0.6126 - val_auc_6: 0.7429\n",
            "Epoch 12/20\n",
            "53/53 [==============================] - 9s 166ms/step - loss: 0.4798 - auc_6: 0.8525 - val_loss: 0.6052 - val_auc_6: 0.7498\n",
            "Epoch 13/20\n",
            "53/53 [==============================] - 9s 179ms/step - loss: 0.4806 - auc_6: 0.8514 - val_loss: 0.6137 - val_auc_6: 0.7475\n",
            "Epoch 14/20\n",
            "53/53 [==============================] - 9s 167ms/step - loss: 0.4535 - auc_6: 0.8684 - val_loss: 0.6190 - val_auc_6: 0.7522\n",
            "Epoch 15/20\n",
            "53/53 [==============================] - 21s 406ms/step - loss: 0.4368 - auc_6: 0.8815 - val_loss: 0.6232 - val_auc_6: 0.7583\n",
            "Epoch 16/20\n",
            "53/53 [==============================] - 9s 166ms/step - loss: 0.4309 - auc_6: 0.8819 - val_loss: 0.6139 - val_auc_6: 0.7645\n",
            "Epoch 17/20\n",
            "53/53 [==============================] - 9s 167ms/step - loss: 0.4079 - auc_6: 0.8988 - val_loss: 0.6324 - val_auc_6: 0.7647\n",
            "Epoch 18/20\n",
            "53/53 [==============================] - 9s 163ms/step - loss: 0.3926 - auc_6: 0.9062 - val_loss: 0.6384 - val_auc_6: 0.7605\n",
            "Epoch 19/20\n",
            "53/53 [==============================] - 9s 168ms/step - loss: 0.3866 - auc_6: 0.9091 - val_loss: 0.6440 - val_auc_6: 0.7632\n",
            "Epoch 20/20\n",
            "53/53 [==============================] - 9s 168ms/step - loss: 0.3791 - auc_6: 0.9121 - val_loss: 0.6659 - val_auc_6: 0.7636\n"
          ]
        }
      ]
    },
    {
      "cell_type": "code",
      "source": [
        "# plot of the optimisation history\n",
        "plt.plot(history_lstm.history['auc_6'], label='Training AUC')\n",
        "plt.plot(history_lstm.history['val_auc_6'], label='Validation AUC')\n",
        "plt.xlabel('Epoch')\n",
        "plt.ylabel('AUC')\n",
        "plt.legend()\n",
        "plt.show()"
      ],
      "metadata": {
        "colab": {
          "base_uri": "https://localhost:8080/",
          "height": 279
        },
        "id": "r-Dz4WPEzhyc",
        "outputId": "8da7df1c-d5a1-4368-af17-2b4292a69dc7"
      },
      "execution_count": null,
      "outputs": [
        {
          "output_type": "display_data",
          "data": {
            "text/plain": [
              "<Figure size 432x288 with 1 Axes>"
            ],
            "image/png": "[encoded data removed]"
          },
          "metadata": {
            "needs_background": "light"
          }
        }
      ]
    }
  ]
}