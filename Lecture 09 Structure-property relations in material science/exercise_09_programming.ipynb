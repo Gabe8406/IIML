{
  "nbformat": 4,
  "nbformat_minor": 0,
  "metadata": {
    "colab": {
      "name": "tox_ex.ipynb",
      "provenance": [],
      "collapsed_sections": []
    },
    "kernelspec": {
      "name": "python3",
      "display_name": "Python 3"
    },
    "language_info": {
      "name": "python"
    }
  },
  "cells": [
    {
      "cell_type": "markdown",
      "source": [
        "# **Machine Learning - An Interdisciplinary Introduction**\n",
        "\n",
        "# **Exercise sheet 9**\n",
        "\n",
        "## Exercise I: Toxicity of molecules"
      ],
      "metadata": {
        "id": "ppW_8VDuReSG"
      }
    },
    {
      "cell_type": "markdown",
      "source": [
        "## Part A: Preparations\n",
        "\n",
        "Run the following code to import some tools."
      ],
      "metadata": {
        "id": "2WiUZzDSZrBo"
      }
    },
    {
      "cell_type": "code",
      "execution_count": null,
      "metadata": {
        "id": "s1DWWhW_GyCB",
        "colab": {
          "base_uri": "https://localhost:8080/"
        },
        "outputId": "1f25f25b-cbb5-4803-da6d-71dbfa14b3fa"
      },
      "outputs": [
        {
          "output_type": "stream",
          "name": "stdout",
          "text": [
            "\u001b[K     |████████████████████████████████| 22.7 MB 5.4 MB/s \n",
            "\u001b[?25h"
          ]
        }
      ],
      "source": [
        "import numpy as np\n",
        "import pandas as pd\n",
        "from collections import OrderedDict\n",
        "from itertools import chain\n",
        "!pip install rdkit-pypi -qqq\n",
        "from rdkit import Chem\n",
        "from rdkit.Chem import Draw\n",
        "import tensorflow as tf\n",
        "from sklearn.utils import shuffle\n",
        "from sklearn.model_selection import train_test_split\n",
        "import matplotlib.pyplot as plt\n",
        "from sklearn.metrics import confusion_matrix"
      ]
    },
    {
      "cell_type": "markdown",
      "source": [
        "---\n",
        "\n",
        "In this exercise we will study the toxicity of molecules.\n",
        "Molecules will be described using the simplified molecular input line entry system (SMILES). This system allows to describe the structure of chemical species in the form of a line notation, making it suited for a machine learning approach. \n",
        "\n",
        "---\n",
        "\n",
        "**The basic rules for SMILES are:**\n",
        "\n",
        "* Atom types are represented by their atomic symbols, upper case letters represent aliphatic atoms, lower case letters represented aromatic atoms, hydrogens are often stripped away, since those can be inferred from atom type and connectivity.\n",
        "\n",
        "* Bonds are only represented if needed:\n",
        "\n",
        " $\\text{-}$ : single bond (CC and C-C are the same, since single bonds are used by default)\n",
        "\n",
        " = : double bond (C=C-C=C and cccc are the same)\n",
        " \n",
        " $\\#$ : triple bond\n",
        "\n",
        "* Ring opening and closures are represented with numbers: \n",
        " \n",
        " c1ccccc1 - benzene\n",
        "\n",
        "* Substituents leaving a chain or ring are represented with brackets:\n",
        "\n",
        " c1cc(C)ccc1 - methyl-substituted benzene.\n",
        "\n",
        " CC(F)(Br)Cl - ethane substituted with fluorine, chlorine and bromine\n",
        "\n",
        "(More detailed rules, not necessary for our exercise, can be found here: https://www.daylight.com/dayhtml/doc/theory/theory.smiles.html)\n",
        "\n",
        "---"
      ],
      "metadata": {
        "id": "3LxaQ6WNcpXI"
      }
    },
    {
      "cell_type": "markdown",
      "source": [
        "**1a)** With the following commands one can draw a 2d-representation of the molecule using its SMILE representation. Experiment with them to understand how SMILES work."
      ],
      "metadata": {
        "id": "AhjVeZDG_1Xa"
      }
    },
    {
      "cell_type": "code",
      "source": [
        "m=Chem.MolFromSmiles('c1cc(C)ccc1')\n",
        "Chem.Draw.MolToImage(m, size=(200, 200))"
      ],
      "metadata": {
        "id": "11yIaNQ73weu",
        "colab": {
          "base_uri": "https://localhost:8080/",
          "height": 217
        },
        "outputId": "202370c6-dddc-479d-a902-8731238d9381"
      },
      "execution_count": null,
      "outputs": [
        {
          "output_type": "execute_result",
          "data": {
            "text/plain": [
              "<PIL.PngImagePlugin.PngImageFile image mode=RGB size=200x200 at 0x7F72AD792090>"
            ],
            "image/png": "[encoded data removed]"
          },
          "metadata": {},
          "execution_count": 2
        }
      ]
    },
    {
      "cell_type": "markdown",
      "source": [
        "**1b)** With the rules from above, you should be able to create for example the SMILES for acetylsalicylic acid, the active ingredient of Aspirin:\n",
        "![Aspirin-skeletal.svg](data:image/svg+xml;base64,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)"
      ],
      "metadata": {
        "id": "NWTjltZR5A1-"
      }
    },
    {
      "cell_type": "code",
      "source": [
        "# Write the SMILES for acetylsalicylic acid and check its 2D-representation\n",
        "m=Chem.MolFromSmiles('O=COH')\n",
        "Chem.Draw.MolToImage(m, size=(200, 200))"
      ],
      "metadata": {
        "id": "0CRrPSM26Ibs",
        "colab": {
          "base_uri": "https://localhost:8080/",
          "height": 322
        },
        "outputId": "b0b83762-ebf0-434d-ea66-1e45cf8105e3"
      },
      "execution_count": null,
      "outputs": [
        {
          "output_type": "error",
          "ename": "ValueError",
          "evalue": "ignored",
          "traceback": [
            "\u001b[0;31m---------------------------------------------------------------------------\u001b[0m",
            "\u001b[0;31mValueError\u001b[0m                                Traceback (most recent call last)",
            "\u001b[0;32m<ipython-input-3-2c1fbf34fd26>\u001b[0m in \u001b[0;36m<module>\u001b[0;34m()\u001b[0m\n\u001b[1;32m      1\u001b[0m \u001b[0;31m# Write the SMILES for acetylsalicylic acid and check its 2D-representation\u001b[0m\u001b[0;34m\u001b[0m\u001b[0;34m\u001b[0m\u001b[0;34m\u001b[0m\u001b[0m\n\u001b[1;32m      2\u001b[0m \u001b[0mm\u001b[0m\u001b[0;34m=\u001b[0m\u001b[0mChem\u001b[0m\u001b[0;34m.\u001b[0m\u001b[0mMolFromSmiles\u001b[0m\u001b[0;34m(\u001b[0m\u001b[0;34m'O=COH'\u001b[0m\u001b[0;34m)\u001b[0m\u001b[0;34m\u001b[0m\u001b[0;34m\u001b[0m\u001b[0m\n\u001b[0;32m----> 3\u001b[0;31m \u001b[0mChem\u001b[0m\u001b[0;34m.\u001b[0m\u001b[0mDraw\u001b[0m\u001b[0;34m.\u001b[0m\u001b[0mMolToImage\u001b[0m\u001b[0;34m(\u001b[0m\u001b[0mm\u001b[0m\u001b[0;34m,\u001b[0m \u001b[0msize\u001b[0m\u001b[0;34m=\u001b[0m\u001b[0;34m(\u001b[0m\u001b[0;36m200\u001b[0m\u001b[0;34m,\u001b[0m \u001b[0;36m200\u001b[0m\u001b[0;34m)\u001b[0m\u001b[0;34m)\u001b[0m\u001b[0;34m\u001b[0m\u001b[0;34m\u001b[0m\u001b[0m\n\u001b[0m",
            "\u001b[0;32m/usr/local/lib/python3.7/dist-packages/rdkit/Chem/Draw/__init__.py\u001b[0m in \u001b[0;36mMolToImage\u001b[0;34m(mol, size, kekulize, wedgeBonds, fitImage, options, canvas, **kwargs)\u001b[0m\n\u001b[1;32m    215\u001b[0m   \"\"\"\n\u001b[1;32m    216\u001b[0m   \u001b[0;32mif\u001b[0m \u001b[0;32mnot\u001b[0m \u001b[0mmol\u001b[0m\u001b[0;34m:\u001b[0m\u001b[0;34m\u001b[0m\u001b[0;34m\u001b[0m\u001b[0m\n\u001b[0;32m--> 217\u001b[0;31m     \u001b[0;32mraise\u001b[0m \u001b[0mValueError\u001b[0m\u001b[0;34m(\u001b[0m\u001b[0;34m'Null molecule provided'\u001b[0m\u001b[0;34m)\u001b[0m\u001b[0;34m\u001b[0m\u001b[0;34m\u001b[0m\u001b[0m\n\u001b[0m\u001b[1;32m    218\u001b[0m   \u001b[0;32mif\u001b[0m \u001b[0mcanvas\u001b[0m \u001b[0;32mis\u001b[0m \u001b[0;32mnot\u001b[0m \u001b[0;32mNone\u001b[0m \u001b[0;32mor\u001b[0m \u001b[0;32mnot\u001b[0m \u001b[0mhasattr\u001b[0m\u001b[0;34m(\u001b[0m\u001b[0mrdMolDraw2D\u001b[0m\u001b[0;34m,\u001b[0m \u001b[0;34m'MolDraw2DCairo'\u001b[0m\u001b[0;34m)\u001b[0m\u001b[0;34m:\u001b[0m\u001b[0;34m\u001b[0m\u001b[0;34m\u001b[0m\u001b[0m\n\u001b[1;32m    219\u001b[0m     \u001b[0;32mreturn\u001b[0m \u001b[0m_legacyMolToImage\u001b[0m\u001b[0;34m(\u001b[0m\u001b[0mmol\u001b[0m\u001b[0;34m,\u001b[0m \u001b[0msize\u001b[0m\u001b[0;34m,\u001b[0m \u001b[0mkekulize\u001b[0m\u001b[0;34m,\u001b[0m \u001b[0mwedgeBonds\u001b[0m\u001b[0;34m,\u001b[0m \u001b[0mfitImage\u001b[0m\u001b[0;34m,\u001b[0m \u001b[0moptions\u001b[0m\u001b[0;34m,\u001b[0m \u001b[0mcanvas\u001b[0m\u001b[0;34m,\u001b[0m \u001b[0;34m**\u001b[0m\u001b[0mkwargs\u001b[0m\u001b[0;34m)\u001b[0m\u001b[0;34m\u001b[0m\u001b[0;34m\u001b[0m\u001b[0m\n",
            "\u001b[0;31mValueError\u001b[0m: Null molecule provided"
          ]
        }
      ]
    },
    {
      "cell_type": "markdown",
      "source": [
        "---\n",
        "\n",
        "**2a)** We now load the toxicity dataset from the TOX21 program (https://github.com/filipsPL/tox21_dataset/tree/master/compounds).\n",
        "\n",
        "Load the data from the 'sr-are' dataset.\n",
        "\n",
        "Save the SMILES in the array 'smiles', and the activities in the array 'toxicity'."
      ],
      "metadata": {
        "id": "GoVA-nYQ74YQ"
      }
    },
    {
      "cell_type": "code",
      "source": [
        "# load the data from the 'sr-are' dataset\n",
        "datapd = pd.read_csv('https://raw.githubusercontent.com/filipsPL/tox21_dataset/master/compounds/sr-are.tab',sep=\"\\t\")\n",
        "data=datapd.to_numpy()\n",
        "\n",
        "# define smiles and toxicity\n",
        "smiles=data[:,1]\n",
        "toxicity=data[:,2]"
      ],
      "metadata": {
        "id": "lKj3GUA0LobC"
      },
      "execution_count": null,
      "outputs": []
    },
    {
      "cell_type": "markdown",
      "source": [
        "**2b)** Check the SMILES and toxicity of the first 5 compounds"
      ],
      "metadata": {
        "id": "4swsj97fEVkU"
      }
    },
    {
      "cell_type": "code",
      "source": [
        "# print out the SMILES of the first 5 compounds\n",
        "print(smiles[:5])"
      ],
      "metadata": {
        "id": "F6eji9EHFvFG",
        "colab": {
          "base_uri": "https://localhost:8080/"
        },
        "outputId": "4ef1369c-080e-4580-d985-940edc8fd220"
      },
      "execution_count": null,
      "outputs": [
        {
          "output_type": "stream",
          "name": "stdout",
          "text": [
            "['CC(C)=CCC/C(/C)=C/CO' 'OC(=O)CCc1[nH]c2ccccc2[n]1'\n",
            " 'O=C1Nc2cc(Cl)ccc2N1C1CCN(CCCN2c3ccccc3NC2=O)CC1'\n",
            " 'Clc1ccccc1-c1[n]c([n]o1)-c1cc[n]cc1'\n",
            " 'Clc1cc2C(=Nc3ccccc3Oc2cc1)N1CCNCC1']\n"
          ]
        }
      ]
    },
    {
      "cell_type": "code",
      "source": [
        "# print out the activity of the first 5 compounds\n",
        "\n",
        "print(toxicity[:5])"
      ],
      "metadata": {
        "id": "dZ_dxfFFDwtU",
        "colab": {
          "base_uri": "https://localhost:8080/"
        },
        "outputId": "93ba3831-668b-4ba2-f398-da2c1deabf51"
      },
      "execution_count": null,
      "outputs": [
        {
          "output_type": "stream",
          "name": "stdout",
          "text": [
            "[0 0 0 1 0]\n"
          ]
        }
      ]
    },
    {
      "cell_type": "markdown",
      "source": [
        "---\n",
        "\n",
        "In order to make the data usable for a neural network we have to generate a mapping from characters to integers and vice versa.\n",
        "\n",
        "We first create a sorted list of the characters used in the SMILES of our dataset, stored in 'unique_chars'. We then create a mapping between this list and the integers."
      ],
      "metadata": {
        "id": "m-ng6dyhKTS7"
      }
    },
    {
      "cell_type": "code",
      "source": [
        "# list of characters\n",
        "unique_chars = sorted(list(OrderedDict.fromkeys(chain.from_iterable(smiles))))\n",
        "# character to integer dictionary\n",
        "char_to_int = dict((c, i) for i, c in enumerate(unique_chars))\n",
        "# integer to character dictionary\n",
        "int_to_char = dict((i, c) for i, c in enumerate(unique_chars))"
      ],
      "metadata": {
        "id": "H_g9jwzgKXaT"
      },
      "execution_count": null,
      "outputs": []
    },
    {
      "cell_type": "markdown",
      "source": [
        "**3a)** Check that the dictionary is well-defined. Which integer belongs to 'C'?"
      ],
      "metadata": {
        "id": "e0NOnDFWjmDA"
      }
    },
    {
      "cell_type": "code",
      "source": [
        "# print out the dictionary\n",
        "\n",
        "char_to_int"
      ],
      "metadata": {
        "id": "J2G6VHoLMFT5",
        "colab": {
          "base_uri": "https://localhost:8080/"
        },
        "outputId": "c85ddd6c-211e-4694-de2c-e27d31c66d47"
      },
      "execution_count": null,
      "outputs": [
        {
          "output_type": "execute_result",
          "data": {
            "text/plain": [
              "{'#': 0,\n",
              " '(': 1,\n",
              " ')': 2,\n",
              " '+': 3,\n",
              " '-': 4,\n",
              " '/': 5,\n",
              " '1': 6,\n",
              " '2': 7,\n",
              " '3': 8,\n",
              " '4': 9,\n",
              " '5': 10,\n",
              " '6': 11,\n",
              " '7': 12,\n",
              " '8': 13,\n",
              " '9': 14,\n",
              " '=': 15,\n",
              " '@': 16,\n",
              " 'A': 17,\n",
              " 'B': 18,\n",
              " 'C': 19,\n",
              " 'F': 20,\n",
              " 'H': 21,\n",
              " 'I': 22,\n",
              " 'K': 23,\n",
              " 'M': 24,\n",
              " 'N': 25,\n",
              " 'O': 26,\n",
              " 'P': 27,\n",
              " 'S': 28,\n",
              " 'V': 29,\n",
              " 'Z': 30,\n",
              " '[': 31,\n",
              " '\\\\': 32,\n",
              " ']': 33,\n",
              " 'b': 34,\n",
              " 'c': 35,\n",
              " 'e': 36,\n",
              " 'g': 37,\n",
              " 'i': 38,\n",
              " 'l': 39,\n",
              " 'n': 40,\n",
              " 'o': 41,\n",
              " 'r': 42,\n",
              " 's': 43,\n",
              " 't': 44,\n",
              " 'u': 45}"
            ]
          },
          "metadata": {},
          "execution_count": 20
        }
      ]
    },
    {
      "cell_type": "code",
      "source": [
        "# find the integer belonging to 'C'\n",
        "\n",
        "intC=char_to_int[\"C\"]\n",
        "print('integer belonging to C: ', intC)"
      ],
      "metadata": {
        "id": "o9kiDtXki4L5",
        "colab": {
          "base_uri": "https://localhost:8080/"
        },
        "outputId": "c616fb0d-6c76-44cb-a11f-7507042108d1"
      },
      "execution_count": null,
      "outputs": [
        {
          "output_type": "stream",
          "name": "stdout",
          "text": [
            "integer belonging to C:  19\n"
          ]
        }
      ]
    },
    {
      "cell_type": "markdown",
      "source": [
        "**3b)** How many unique characters do we have?"
      ],
      "metadata": {
        "id": "sumXf2EBpFHm"
      }
    },
    {
      "cell_type": "code",
      "source": [
        "# find the number of unique characters\n",
        "\n",
        "mapping_size = len(char_to_int)\n",
        "print (\"Size of the character to integer dictionary is: \", mapping_size)"
      ],
      "metadata": {
        "id": "3GJGXUnMOhNU",
        "colab": {
          "base_uri": "https://localhost:8080/"
        },
        "outputId": "02e1c720-d75a-47d7-e293-2be52e2582a3"
      },
      "execution_count": null,
      "outputs": [
        {
          "output_type": "stream",
          "name": "stdout",
          "text": [
            "Size of the character to integer dictionary is:  46\n"
          ]
        }
      ]
    },
    {
      "cell_type": "markdown",
      "source": [
        "---\n",
        "\n",
        "Now we can encode the SMILES sequences using the dictionary. \n",
        "\n",
        "The resulting dimensions of the encoded data array should be (number of SMILES sequences, length of the longest sequence, length of dictionary). \n",
        "\n",
        "The last dimension is used as a one-hot-encoding of the respective character. \n",
        "\n",
        "For example the indices [11,3,5] correspond to position number 3 of sequence number 11 and to character number 5 in the dictionary: the value in the array is \"1\" if the character is at this position of the sequence, otherwise \"0\"."
      ],
      "metadata": {
        "id": "yaBVQIrJaU5w"
      }
    },
    {
      "cell_type": "markdown",
      "source": [
        "**4a)** First we need the number of SMILES sequences and the length of the longest sequence: \n",
        "\n",
        "find and store them in the variables 'n_seq' and 'longest'."
      ],
      "metadata": {
        "id": "Zb8mQ8uB8O4K"
      }
    },
    {
      "cell_type": "code",
      "source": [
        "# number of SMILES sequences\n",
        "\n",
        "n_seq=smiles.shape[0]\n",
        "print('number of SMILES sequences: ', n_seq)"
      ],
      "metadata": {
        "id": "w112ZK2SAjau",
        "colab": {
          "base_uri": "https://localhost:8080/"
        },
        "outputId": "ac928fbe-0fbe-4506-f4e2-dafcfd3691dd"
      },
      "execution_count": null,
      "outputs": [
        {
          "output_type": "stream",
          "name": "stdout",
          "text": [
            "number of SMILES sequences:  2188\n"
          ]
        }
      ]
    },
    {
      "cell_type": "code",
      "source": [
        "# longest SMILES sequence\n",
        "\n",
        "longest=max([len(seq)for seq in smiles])\n",
        "print('length of the longest sequence: ', longest)"
      ],
      "metadata": {
        "id": "a-EZD5SWkkJ4",
        "colab": {
          "base_uri": "https://localhost:8080/"
        },
        "outputId": "8a2634d3-cdfa-4f50-b963-54643572258d"
      },
      "execution_count": null,
      "outputs": [
        {
          "output_type": "stream",
          "name": "stdout",
          "text": [
            "length of the longest sequence:  321\n"
          ]
        }
      ]
    },
    {
      "cell_type": "markdown",
      "source": [
        "The following routine returns the encoded data array, as described above."
      ],
      "metadata": {
        "id": "cJ63zzblEzxh"
      }
    },
    {
      "cell_type": "code",
      "source": [
        "# routine to encode the dataset\n",
        "def gen_data(a,b,c,d,e):\n",
        "    \n",
        "    one_hot =  np.zeros((c,d,e),dtype=np.int8)\n",
        "    for i,smile in enumerate(a):\n",
        "        #encode the chars\n",
        "        for j,k in enumerate(smile):\n",
        "            one_hot[i,j,b[k]] = 1\n",
        "    return one_hot"
      ],
      "metadata": {
        "id": "cfUVCcheacRX"
      },
      "execution_count": null,
      "outputs": []
    },
    {
      "cell_type": "markdown",
      "source": [
        "**4b)** Use now this routine with appropriate inputs arrays and variables to encode our SMILES dataset."
      ],
      "metadata": {
        "id": "NAEr6pS8I8eO"
      }
    },
    {
      "cell_type": "code",
      "source": [
        "# encode the dataset\n",
        "\n",
        "smiles_enc = gen_data(smiles,char_to_int,n_seq,longest,mapping_size)\n"
      ],
      "metadata": {
        "id": "ThDfspRubseT"
      },
      "execution_count": null,
      "outputs": []
    },
    {
      "cell_type": "markdown",
      "source": [
        "**4c)** Check with a couple of random examples that the encoding was done correctly."
      ],
      "metadata": {
        "id": "3xn2luqwLbPA"
      }
    },
    {
      "cell_type": "code",
      "source": [
        "# encoding check\n",
        "\n",
        "sequence_number=2187\n",
        "character='C'\n",
        "print(smiles[sequence_number])\n",
        "print(smiles_enc[sequence_number,:,char_to_int[character]])"
      ],
      "metadata": {
        "id": "byF5cysXdmcD",
        "colab": {
          "base_uri": "https://localhost:8080/"
        },
        "outputId": "9ec9b8ad-3af0-44e5-9fd8-0646a9b31296"
      },
      "execution_count": null,
      "outputs": [
        {
          "output_type": "stream",
          "name": "stdout",
          "text": [
            "CN1[C@@H]2[C@]3(CCN4CC=C[C@](CC)([C@@H]34)[C@@H](OC(C)=O)[C@]2(O)C(=O)OC)c2cc(c(cc12)OC)[C@]1(C[C@@H]2C[C@](O)(CN(C2)CCc2c1[nH]c1ccccc21)CC)C(=O)OC\n",
            "[1 0 0 0 1 0 0 0 0 0 0 1 0 0 0 0 1 1 0 0 1 1 0 1 0 1 0 0 0 1 1 0 0 0 1 0 0\n",
            " 0 0 0 0 0 0 1 0 0 0 0 0 0 1 0 1 0 0 0 0 0 1 0 0 0 0 0 0 1 0 0 0 0 0 1 0 0\n",
            " 0 0 0 0 0 0 0 0 0 0 0 0 1 0 0 1 0 0 0 0 1 0 1 0 0 0 0 0 1 0 1 0 0 0 0 0 0\n",
            " 1 0 0 1 0 0 1 1 0 0 0 0 0 0 0 0 0 0 0 0 0 0 0 0 0 0 1 1 0 1 0 0 0 0 0 1 0\n",
            " 0 0 0 0 0 0 0 0 0 0 0 0 0 0 0 0 0 0 0 0 0 0 0 0 0 0 0 0 0 0 0 0 0 0 0 0 0\n",
            " 0 0 0 0 0 0 0 0 0 0 0 0 0 0 0 0 0 0 0 0 0 0 0 0 0 0 0 0 0 0 0 0 0 0 0 0 0\n",
            " 0 0 0 0 0 0 0 0 0 0 0 0 0 0 0 0 0 0 0 0 0 0 0 0 0 0 0 0 0 0 0 0 0 0 0 0 0\n",
            " 0 0 0 0 0 0 0 0 0 0 0 0 0 0 0 0 0 0 0 0 0 0 0 0 0 0 0 0 0 0 0 0 0 0 0 0 0\n",
            " 0 0 0 0 0 0 0 0 0 0 0 0 0 0 0 0 0 0 0 0 0 0 0 0 0]\n"
          ]
        }
      ]
    },
    {
      "cell_type": "markdown",
      "source": [
        "---\n",
        "\n",
        "## Part B: Machine Learning\n",
        "\n",
        "We are now ready to apply a machine learning approach to our data: a neural network should learn to recognize the toxicity of a molecule by looking at its SMILE sequence.\n",
        "\n",
        "We first shuffle the dataset to avoid ordering bias and split it in a train and a test set."
      ],
      "metadata": {
        "id": "vyz4wNAXv06U"
      }
    },
    {
      "cell_type": "code",
      "source": [
        "# we shuffle the dataset\n",
        "X, Y = shuffle(smiles_enc, toxicity)"
      ],
      "metadata": {
        "id": "Y8x87eH-usYD"
      },
      "execution_count": null,
      "outputs": []
    },
    {
      "cell_type": "code",
      "source": [
        "# we split the dataset in a train and a test set\n",
        "X_train, X_test, y_train, y_test = train_test_split(X, Y, test_size=0.33, random_state=35)\n",
        "\n",
        "# we convert to float for keras\n",
        "X_train = X_train.astype(np.float64)\n",
        "X_test = X_test.astype(np.float64)\n",
        "y_train = y_train.astype(np.float64)\n",
        "y_test = y_test.astype(np.float64)"
      ],
      "metadata": {
        "id": "LCaqHCIFvUQ4"
      },
      "execution_count": null,
      "outputs": []
    },
    {
      "cell_type": "markdown",
      "source": [
        "---\n",
        "\n",
        "As an example, the following code defines, trains and tests a neural network on our dataset. The neural network has dense layers with 5 units, lasts 20 epochs and uses the accuracy of the forecast as measure for the performance."
      ],
      "metadata": {
        "id": "cTL2ZBXFbOsZ"
      }
    },
    {
      "cell_type": "code",
      "source": [
        "# we define the optimizer\n",
        "opt = tf.keras.optimizers.SGD(learning_rate=0.001)\n",
        "\n",
        "# we define the model\n",
        "model = tf.keras.Sequential([\n",
        "    tf.keras.layers.Flatten(input_shape=(X_train.shape[1], X_train.shape[2])),\n",
        "    tf.keras.layers.Dense(5, activation='relu'),\n",
        "    tf.keras.layers.Dropout(0.3),\n",
        "    tf.keras.layers.Dense(5, activation='relu'),\n",
        "    tf.keras.layers.Dropout(0.3),\n",
        "    tf.keras.layers.Dense(1, activation='sigmoid')\n",
        "])\n",
        "\n",
        "# we compile the model\n",
        "model.compile(optimizer=opt,loss='binary_crossentropy', metrics=['accuracy'])\n",
        "\n",
        "# we train and test the model\n",
        "history_example = model.fit(X_train, y_train, validation_data=(X_test, y_test), epochs=20, batch_size=32)"
      ],
      "metadata": {
        "id": "F9Ng6JRB_ep_",
        "colab": {
          "base_uri": "https://localhost:8080/"
        },
        "outputId": "47a84522-b059-4658-b85e-9f10994ee544"
      },
      "execution_count": null,
      "outputs": [
        {
          "output_type": "stream",
          "name": "stdout",
          "text": [
            "Epoch 1/20\n",
            "46/46 [==============================] - 1s 11ms/step - loss: 0.6947 - accuracy: 0.4942 - val_loss: 0.6937 - val_accuracy: 0.5062\n",
            "Epoch 2/20\n",
            "46/46 [==============================] - 0s 7ms/step - loss: 0.6938 - accuracy: 0.5044 - val_loss: 0.6937 - val_accuracy: 0.5062\n",
            "Epoch 3/20\n",
            "46/46 [==============================] - 0s 7ms/step - loss: 0.6938 - accuracy: 0.4990 - val_loss: 0.6937 - val_accuracy: 0.5048\n",
            "Epoch 4/20\n",
            "46/46 [==============================] - 0s 7ms/step - loss: 0.6937 - accuracy: 0.5051 - val_loss: 0.6936 - val_accuracy: 0.5090\n",
            "Epoch 5/20\n",
            "46/46 [==============================] - 0s 7ms/step - loss: 0.6927 - accuracy: 0.5072 - val_loss: 0.6936 - val_accuracy: 0.5104\n",
            "Epoch 6/20\n",
            "46/46 [==============================] - 0s 7ms/step - loss: 0.6928 - accuracy: 0.5140 - val_loss: 0.6935 - val_accuracy: 0.5131\n",
            "Epoch 7/20\n",
            "46/46 [==============================] - 0s 7ms/step - loss: 0.6926 - accuracy: 0.5038 - val_loss: 0.6935 - val_accuracy: 0.5187\n",
            "Epoch 8/20\n",
            "46/46 [==============================] - 0s 7ms/step - loss: 0.6934 - accuracy: 0.5147 - val_loss: 0.6935 - val_accuracy: 0.5284\n",
            "Epoch 9/20\n",
            "46/46 [==============================] - 0s 7ms/step - loss: 0.6925 - accuracy: 0.5113 - val_loss: 0.6934 - val_accuracy: 0.5145\n",
            "Epoch 10/20\n",
            "46/46 [==============================] - 0s 7ms/step - loss: 0.6930 - accuracy: 0.4990 - val_loss: 0.6934 - val_accuracy: 0.5076\n",
            "Epoch 11/20\n",
            "46/46 [==============================] - 0s 7ms/step - loss: 0.6918 - accuracy: 0.5051 - val_loss: 0.6934 - val_accuracy: 0.5062\n",
            "Epoch 12/20\n",
            "46/46 [==============================] - 0s 7ms/step - loss: 0.6926 - accuracy: 0.5215 - val_loss: 0.6933 - val_accuracy: 0.5062\n",
            "Epoch 13/20\n",
            "46/46 [==============================] - 0s 7ms/step - loss: 0.6924 - accuracy: 0.5065 - val_loss: 0.6933 - val_accuracy: 0.5118\n",
            "Epoch 14/20\n",
            "46/46 [==============================] - 0s 7ms/step - loss: 0.6915 - accuracy: 0.5372 - val_loss: 0.6933 - val_accuracy: 0.5035\n",
            "Epoch 15/20\n",
            "46/46 [==============================] - 0s 7ms/step - loss: 0.6922 - accuracy: 0.5242 - val_loss: 0.6932 - val_accuracy: 0.5131\n",
            "Epoch 16/20\n",
            "46/46 [==============================] - 0s 6ms/step - loss: 0.6923 - accuracy: 0.5099 - val_loss: 0.6932 - val_accuracy: 0.5131\n",
            "Epoch 17/20\n",
            "46/46 [==============================] - 0s 7ms/step - loss: 0.6927 - accuracy: 0.5017 - val_loss: 0.6932 - val_accuracy: 0.5131\n",
            "Epoch 18/20\n",
            "46/46 [==============================] - 0s 7ms/step - loss: 0.6918 - accuracy: 0.5160 - val_loss: 0.6931 - val_accuracy: 0.5145\n",
            "Epoch 19/20\n",
            "46/46 [==============================] - 0s 7ms/step - loss: 0.6922 - accuracy: 0.5208 - val_loss: 0.6931 - val_accuracy: 0.5214\n",
            "Epoch 20/20\n",
            "46/46 [==============================] - 0s 7ms/step - loss: 0.6917 - accuracy: 0.5283 - val_loss: 0.6930 - val_accuracy: 0.5256\n"
          ]
        }
      ]
    },
    {
      "cell_type": "markdown",
      "source": [
        "The optimisation history can be visualized by plotting the accuracy of the train and of the test set as function of the epochs."
      ],
      "metadata": {
        "id": "MVMdLYtQ_-ai"
      }
    },
    {
      "cell_type": "code",
      "source": [
        "# we plot of the optimisation history\n",
        "plt.plot(history_example.history['accuracy'], label='Training Accuracy')\n",
        "plt.plot(history_example.history['val_accuracy'], label='Validation Accuracy')\n",
        "plt.xlabel('Epoch')\n",
        "plt.ylabel('Accuracy')\n",
        "plt.legend()\n",
        "plt.show()"
      ],
      "metadata": {
        "id": "EU4MWjOSAdBN",
        "colab": {
          "base_uri": "https://localhost:8080/",
          "height": 279
        },
        "outputId": "32a6adbf-e821-40a9-d637-0c11d03f4060"
      },
      "execution_count": null,
      "outputs": [
        {
          "output_type": "display_data",
          "data": {
            "text/plain": [
              "<Figure size 432x288 with 1 Axes>"
            ],
            "image/png": "[encoded data removed]"
          },
          "metadata": {
            "needs_background": "light"
          }
        }
      ]
    },
    {
      "cell_type": "markdown",
      "source": [
        "---\n",
        "\n",
        "**5a)** Now define, compile, train and test a neural network having dense layers with 15 units, lasts 200 epochs and also uses the accuracy of the forecast as measure for the performance."
      ],
      "metadata": {
        "id": "hEz_niIyBBHW"
      }
    },
    {
      "cell_type": "code",
      "source": [
        "# define, compile, train and test the model\n",
        "\n",
        "# we define the optimizer\n",
        "opt = tf.keras.optimizers.SGD(learning_rate=0.001)\n",
        "\n",
        "# we define the model\n",
        "model = tf.keras.Sequential([\n",
        "    tf.keras.layers.Flatten(input_shape=(X_train.shape[1], X_train.shape[2])),\n",
        "    tf.keras.layers.Dense(15, activation='relu'),\n",
        "    tf.keras.layers.Dropout(0.3),\n",
        "    tf.keras.layers.Dense(15, activation='relu'),\n",
        "    tf.keras.layers.Dropout(0.3),\n",
        "    tf.keras.layers.Dense(1, activation='sigmoid')\n",
        "])\n",
        "\n",
        "# we compile the model\n",
        "model.compile(optimizer=opt,loss='binary_crossentropy', metrics=['accuracy'])\n",
        "\n",
        "# we train and test the model\n",
        "history_example = model.fit(X_train, y_train, validation_data=(X_test, y_test), epochs=200, batch_size=32)"
      ],
      "metadata": {
        "id": "-SsLCPRVv7SR",
        "colab": {
          "base_uri": "https://localhost:8080/"
        },
        "outputId": "3e49de84-1464-4c05-a275-b5e8d99b0a09"
      },
      "execution_count": null,
      "outputs": [
        {
          "output_type": "stream",
          "name": "stdout",
          "text": [
            "Epoch 1/200\n",
            "46/46 [==============================] - 1s 14ms/step - loss: 0.6914 - accuracy: 0.5201 - val_loss: 0.6927 - val_accuracy: 0.4869\n",
            "Epoch 2/200\n",
            "46/46 [==============================] - 0s 7ms/step - loss: 0.6926 - accuracy: 0.4983 - val_loss: 0.6925 - val_accuracy: 0.4855\n",
            "Epoch 3/200\n",
            "46/46 [==============================] - 0s 7ms/step - loss: 0.6913 - accuracy: 0.5140 - val_loss: 0.6924 - val_accuracy: 0.4869\n",
            "Epoch 4/200\n",
            "46/46 [==============================] - 0s 7ms/step - loss: 0.6916 - accuracy: 0.5174 - val_loss: 0.6923 - val_accuracy: 0.4910\n",
            "Epoch 5/200\n",
            "46/46 [==============================] - 0s 7ms/step - loss: 0.6921 - accuracy: 0.5140 - val_loss: 0.6922 - val_accuracy: 0.4965\n",
            "Epoch 6/200\n",
            "46/46 [==============================] - 0s 7ms/step - loss: 0.6913 - accuracy: 0.5222 - val_loss: 0.6921 - val_accuracy: 0.4993\n",
            "Epoch 7/200\n",
            "46/46 [==============================] - 0s 7ms/step - loss: 0.6908 - accuracy: 0.5242 - val_loss: 0.6919 - val_accuracy: 0.4979\n",
            "Epoch 8/200\n",
            "46/46 [==============================] - 0s 7ms/step - loss: 0.6915 - accuracy: 0.5017 - val_loss: 0.6918 - val_accuracy: 0.5007\n",
            "Epoch 9/200\n",
            "46/46 [==============================] - 0s 7ms/step - loss: 0.6903 - accuracy: 0.5249 - val_loss: 0.6917 - val_accuracy: 0.5035\n",
            "Epoch 10/200\n",
            "46/46 [==============================] - 0s 7ms/step - loss: 0.6903 - accuracy: 0.5242 - val_loss: 0.6916 - val_accuracy: 0.5021\n",
            "Epoch 11/200\n",
            "46/46 [==============================] - 0s 7ms/step - loss: 0.6906 - accuracy: 0.5249 - val_loss: 0.6914 - val_accuracy: 0.5062\n",
            "Epoch 12/200\n",
            "46/46 [==============================] - 0s 7ms/step - loss: 0.6900 - accuracy: 0.5235 - val_loss: 0.6913 - val_accuracy: 0.5104\n",
            "Epoch 13/200\n",
            "46/46 [==============================] - 0s 7ms/step - loss: 0.6892 - accuracy: 0.5201 - val_loss: 0.6911 - val_accuracy: 0.5118\n",
            "Epoch 14/200\n",
            "46/46 [==============================] - 0s 7ms/step - loss: 0.6895 - accuracy: 0.5229 - val_loss: 0.6910 - val_accuracy: 0.5131\n",
            "Epoch 15/200\n",
            "46/46 [==============================] - 0s 7ms/step - loss: 0.6886 - accuracy: 0.5188 - val_loss: 0.6908 - val_accuracy: 0.5118\n",
            "Epoch 16/200\n",
            "46/46 [==============================] - 0s 7ms/step - loss: 0.6880 - accuracy: 0.5406 - val_loss: 0.6906 - val_accuracy: 0.5118\n",
            "Epoch 17/200\n",
            "46/46 [==============================] - 0s 7ms/step - loss: 0.6870 - accuracy: 0.5543 - val_loss: 0.6904 - val_accuracy: 0.5145\n",
            "Epoch 18/200\n",
            "46/46 [==============================] - 0s 7ms/step - loss: 0.6876 - accuracy: 0.5659 - val_loss: 0.6902 - val_accuracy: 0.5145\n",
            "Epoch 19/200\n",
            "46/46 [==============================] - 0s 7ms/step - loss: 0.6881 - accuracy: 0.5406 - val_loss: 0.6900 - val_accuracy: 0.5145\n",
            "Epoch 20/200\n",
            "46/46 [==============================] - 0s 7ms/step - loss: 0.6871 - accuracy: 0.5440 - val_loss: 0.6898 - val_accuracy: 0.5159\n",
            "Epoch 21/200\n",
            "46/46 [==============================] - 0s 7ms/step - loss: 0.6861 - accuracy: 0.5522 - val_loss: 0.6896 - val_accuracy: 0.5173\n",
            "Epoch 22/200\n",
            "46/46 [==============================] - 0s 7ms/step - loss: 0.6865 - accuracy: 0.5392 - val_loss: 0.6894 - val_accuracy: 0.5187\n",
            "Epoch 23/200\n",
            "46/46 [==============================] - 0s 7ms/step - loss: 0.6859 - accuracy: 0.5536 - val_loss: 0.6892 - val_accuracy: 0.5173\n",
            "Epoch 24/200\n",
            "46/46 [==============================] - 0s 7ms/step - loss: 0.6860 - accuracy: 0.5529 - val_loss: 0.6889 - val_accuracy: 0.5242\n",
            "Epoch 25/200\n",
            "46/46 [==============================] - 0s 7ms/step - loss: 0.6863 - accuracy: 0.5358 - val_loss: 0.6887 - val_accuracy: 0.5311\n",
            "Epoch 26/200\n",
            "46/46 [==============================] - 0s 7ms/step - loss: 0.6855 - accuracy: 0.5706 - val_loss: 0.6884 - val_accuracy: 0.5339\n",
            "Epoch 27/200\n",
            "46/46 [==============================] - 0s 7ms/step - loss: 0.6849 - accuracy: 0.5631 - val_loss: 0.6882 - val_accuracy: 0.5367\n",
            "Epoch 28/200\n",
            "46/46 [==============================] - 0s 7ms/step - loss: 0.6844 - accuracy: 0.5659 - val_loss: 0.6879 - val_accuracy: 0.5477\n",
            "Epoch 29/200\n",
            "46/46 [==============================] - 0s 7ms/step - loss: 0.6840 - accuracy: 0.5659 - val_loss: 0.6875 - val_accuracy: 0.5505\n",
            "Epoch 30/200\n",
            "46/46 [==============================] - 0s 7ms/step - loss: 0.6840 - accuracy: 0.5788 - val_loss: 0.6872 - val_accuracy: 0.5602\n",
            "Epoch 31/200\n",
            "46/46 [==============================] - 0s 7ms/step - loss: 0.6831 - accuracy: 0.5645 - val_loss: 0.6869 - val_accuracy: 0.5657\n",
            "Epoch 32/200\n",
            "46/46 [==============================] - 0s 7ms/step - loss: 0.6835 - accuracy: 0.5652 - val_loss: 0.6866 - val_accuracy: 0.5685\n",
            "Epoch 33/200\n",
            "46/46 [==============================] - 0s 7ms/step - loss: 0.6801 - accuracy: 0.5877 - val_loss: 0.6862 - val_accuracy: 0.5726\n",
            "Epoch 34/200\n",
            "46/46 [==============================] - 0s 7ms/step - loss: 0.6822 - accuracy: 0.5727 - val_loss: 0.6858 - val_accuracy: 0.5795\n",
            "Epoch 35/200\n",
            "46/46 [==============================] - 0s 7ms/step - loss: 0.6825 - accuracy: 0.5700 - val_loss: 0.6855 - val_accuracy: 0.5851\n",
            "Epoch 36/200\n",
            "46/46 [==============================] - 0s 7ms/step - loss: 0.6827 - accuracy: 0.5713 - val_loss: 0.6851 - val_accuracy: 0.5823\n",
            "Epoch 37/200\n",
            "46/46 [==============================] - 0s 7ms/step - loss: 0.6823 - accuracy: 0.5823 - val_loss: 0.6847 - val_accuracy: 0.5864\n",
            "Epoch 38/200\n",
            "46/46 [==============================] - 0s 7ms/step - loss: 0.6810 - accuracy: 0.5966 - val_loss: 0.6843 - val_accuracy: 0.5920\n",
            "Epoch 39/200\n",
            "46/46 [==============================] - 0s 7ms/step - loss: 0.6792 - accuracy: 0.5788 - val_loss: 0.6839 - val_accuracy: 0.5906\n",
            "Epoch 40/200\n",
            "46/46 [==============================] - 0s 7ms/step - loss: 0.6788 - accuracy: 0.5850 - val_loss: 0.6835 - val_accuracy: 0.5961\n",
            "Epoch 41/200\n",
            "46/46 [==============================] - 0s 7ms/step - loss: 0.6792 - accuracy: 0.5870 - val_loss: 0.6831 - val_accuracy: 0.5947\n",
            "Epoch 42/200\n",
            "46/46 [==============================] - 0s 7ms/step - loss: 0.6764 - accuracy: 0.6123 - val_loss: 0.6826 - val_accuracy: 0.5989\n",
            "Epoch 43/200\n",
            "46/46 [==============================] - 0s 7ms/step - loss: 0.6767 - accuracy: 0.6123 - val_loss: 0.6821 - val_accuracy: 0.6044\n",
            "Epoch 44/200\n",
            "46/46 [==============================] - 0s 7ms/step - loss: 0.6797 - accuracy: 0.5925 - val_loss: 0.6817 - val_accuracy: 0.6030\n",
            "Epoch 45/200\n",
            "46/46 [==============================] - 0s 7ms/step - loss: 0.6762 - accuracy: 0.5877 - val_loss: 0.6813 - val_accuracy: 0.6058\n",
            "Epoch 46/200\n",
            "46/46 [==============================] - 0s 7ms/step - loss: 0.6784 - accuracy: 0.5980 - val_loss: 0.6809 - val_accuracy: 0.6058\n",
            "Epoch 47/200\n",
            "46/46 [==============================] - 0s 7ms/step - loss: 0.6743 - accuracy: 0.6109 - val_loss: 0.6804 - val_accuracy: 0.6030\n",
            "Epoch 48/200\n",
            "46/46 [==============================] - 0s 7ms/step - loss: 0.6748 - accuracy: 0.6171 - val_loss: 0.6799 - val_accuracy: 0.6044\n",
            "Epoch 49/200\n",
            "46/46 [==============================] - 0s 7ms/step - loss: 0.6763 - accuracy: 0.5993 - val_loss: 0.6795 - val_accuracy: 0.6058\n",
            "Epoch 50/200\n",
            "46/46 [==============================] - 0s 8ms/step - loss: 0.6741 - accuracy: 0.6239 - val_loss: 0.6791 - val_accuracy: 0.6058\n",
            "Epoch 51/200\n",
            "46/46 [==============================] - 0s 7ms/step - loss: 0.6743 - accuracy: 0.6102 - val_loss: 0.6787 - val_accuracy: 0.6058\n",
            "Epoch 52/200\n",
            "46/46 [==============================] - 0s 7ms/step - loss: 0.6726 - accuracy: 0.6307 - val_loss: 0.6782 - val_accuracy: 0.6072\n",
            "Epoch 53/200\n",
            "46/46 [==============================] - 0s 7ms/step - loss: 0.6730 - accuracy: 0.6239 - val_loss: 0.6778 - val_accuracy: 0.6086\n",
            "Epoch 54/200\n",
            "46/46 [==============================] - 0s 7ms/step - loss: 0.6726 - accuracy: 0.6171 - val_loss: 0.6773 - val_accuracy: 0.6072\n",
            "Epoch 55/200\n",
            "46/46 [==============================] - 0s 7ms/step - loss: 0.6719 - accuracy: 0.6212 - val_loss: 0.6769 - val_accuracy: 0.6100\n",
            "Epoch 56/200\n",
            "46/46 [==============================] - 0s 7ms/step - loss: 0.6703 - accuracy: 0.6410 - val_loss: 0.6764 - val_accuracy: 0.6113\n",
            "Epoch 57/200\n",
            "46/46 [==============================] - 0s 7ms/step - loss: 0.6699 - accuracy: 0.6314 - val_loss: 0.6759 - val_accuracy: 0.6141\n",
            "Epoch 58/200\n",
            "46/46 [==============================] - 0s 7ms/step - loss: 0.6670 - accuracy: 0.6348 - val_loss: 0.6754 - val_accuracy: 0.6196\n",
            "Epoch 59/200\n",
            "46/46 [==============================] - 0s 7ms/step - loss: 0.6683 - accuracy: 0.6300 - val_loss: 0.6748 - val_accuracy: 0.6224\n",
            "Epoch 60/200\n",
            "46/46 [==============================] - 0s 7ms/step - loss: 0.6704 - accuracy: 0.6157 - val_loss: 0.6744 - val_accuracy: 0.6266\n",
            "Epoch 61/200\n",
            "46/46 [==============================] - 0s 7ms/step - loss: 0.6699 - accuracy: 0.6109 - val_loss: 0.6739 - val_accuracy: 0.6210\n",
            "Epoch 62/200\n",
            "46/46 [==============================] - 0s 7ms/step - loss: 0.6645 - accuracy: 0.6478 - val_loss: 0.6733 - val_accuracy: 0.6238\n",
            "Epoch 63/200\n",
            "46/46 [==============================] - 0s 7ms/step - loss: 0.6685 - accuracy: 0.6123 - val_loss: 0.6729 - val_accuracy: 0.6252\n",
            "Epoch 64/200\n",
            "46/46 [==============================] - 0s 7ms/step - loss: 0.6669 - accuracy: 0.6375 - val_loss: 0.6724 - val_accuracy: 0.6279\n",
            "Epoch 65/200\n",
            "46/46 [==============================] - 0s 7ms/step - loss: 0.6646 - accuracy: 0.6314 - val_loss: 0.6719 - val_accuracy: 0.6293\n",
            "Epoch 66/200\n",
            "46/46 [==============================] - 0s 7ms/step - loss: 0.6637 - accuracy: 0.6451 - val_loss: 0.6715 - val_accuracy: 0.6293\n",
            "Epoch 67/200\n",
            "46/46 [==============================] - 0s 7ms/step - loss: 0.6655 - accuracy: 0.6369 - val_loss: 0.6711 - val_accuracy: 0.6307\n",
            "Epoch 68/200\n",
            "46/46 [==============================] - 0s 7ms/step - loss: 0.6630 - accuracy: 0.6321 - val_loss: 0.6706 - val_accuracy: 0.6307\n",
            "Epoch 69/200\n",
            "46/46 [==============================] - 0s 7ms/step - loss: 0.6639 - accuracy: 0.6321 - val_loss: 0.6702 - val_accuracy: 0.6321\n",
            "Epoch 70/200\n",
            "46/46 [==============================] - 0s 7ms/step - loss: 0.6627 - accuracy: 0.6307 - val_loss: 0.6697 - val_accuracy: 0.6279\n",
            "Epoch 71/200\n",
            "46/46 [==============================] - 0s 7ms/step - loss: 0.6616 - accuracy: 0.6375 - val_loss: 0.6692 - val_accuracy: 0.6279\n",
            "Epoch 72/200\n",
            "46/46 [==============================] - 0s 7ms/step - loss: 0.6637 - accuracy: 0.6416 - val_loss: 0.6688 - val_accuracy: 0.6279\n",
            "Epoch 73/200\n",
            "46/46 [==============================] - 0s 7ms/step - loss: 0.6583 - accuracy: 0.6430 - val_loss: 0.6683 - val_accuracy: 0.6279\n",
            "Epoch 74/200\n",
            "46/46 [==============================] - 0s 7ms/step - loss: 0.6622 - accuracy: 0.6410 - val_loss: 0.6679 - val_accuracy: 0.6279\n",
            "Epoch 75/200\n",
            "46/46 [==============================] - 0s 7ms/step - loss: 0.6588 - accuracy: 0.6362 - val_loss: 0.6674 - val_accuracy: 0.6321\n",
            "Epoch 76/200\n",
            "46/46 [==============================] - 0s 7ms/step - loss: 0.6625 - accuracy: 0.6444 - val_loss: 0.6669 - val_accuracy: 0.6376\n",
            "Epoch 77/200\n",
            "46/46 [==============================] - 0s 7ms/step - loss: 0.6580 - accuracy: 0.6457 - val_loss: 0.6665 - val_accuracy: 0.6390\n",
            "Epoch 78/200\n",
            "46/46 [==============================] - 0s 8ms/step - loss: 0.6603 - accuracy: 0.6444 - val_loss: 0.6661 - val_accuracy: 0.6432\n",
            "Epoch 79/200\n",
            "46/46 [==============================] - 0s 7ms/step - loss: 0.6559 - accuracy: 0.6485 - val_loss: 0.6656 - val_accuracy: 0.6432\n",
            "Epoch 80/200\n",
            "46/46 [==============================] - 0s 7ms/step - loss: 0.6555 - accuracy: 0.6635 - val_loss: 0.6652 - val_accuracy: 0.6404\n",
            "Epoch 81/200\n",
            "46/46 [==============================] - 0s 7ms/step - loss: 0.6576 - accuracy: 0.6403 - val_loss: 0.6648 - val_accuracy: 0.6432\n",
            "Epoch 82/200\n",
            "46/46 [==============================] - 0s 7ms/step - loss: 0.6570 - accuracy: 0.6519 - val_loss: 0.6643 - val_accuracy: 0.6473\n",
            "Epoch 83/200\n",
            "46/46 [==============================] - 0s 7ms/step - loss: 0.6539 - accuracy: 0.6464 - val_loss: 0.6639 - val_accuracy: 0.6459\n",
            "Epoch 84/200\n",
            "46/46 [==============================] - 0s 7ms/step - loss: 0.6562 - accuracy: 0.6389 - val_loss: 0.6635 - val_accuracy: 0.6445\n",
            "Epoch 85/200\n",
            "46/46 [==============================] - 0s 7ms/step - loss: 0.6550 - accuracy: 0.6451 - val_loss: 0.6631 - val_accuracy: 0.6445\n",
            "Epoch 86/200\n",
            "46/46 [==============================] - 0s 7ms/step - loss: 0.6577 - accuracy: 0.6478 - val_loss: 0.6627 - val_accuracy: 0.6473\n",
            "Epoch 87/200\n",
            "46/46 [==============================] - 0s 7ms/step - loss: 0.6550 - accuracy: 0.6498 - val_loss: 0.6623 - val_accuracy: 0.6459\n",
            "Epoch 88/200\n",
            "46/46 [==============================] - 0s 7ms/step - loss: 0.6553 - accuracy: 0.6587 - val_loss: 0.6620 - val_accuracy: 0.6459\n",
            "Epoch 89/200\n",
            "46/46 [==============================] - 0s 7ms/step - loss: 0.6545 - accuracy: 0.6594 - val_loss: 0.6616 - val_accuracy: 0.6459\n",
            "Epoch 90/200\n",
            "46/46 [==============================] - 0s 7ms/step - loss: 0.6503 - accuracy: 0.6519 - val_loss: 0.6612 - val_accuracy: 0.6459\n",
            "Epoch 91/200\n",
            "46/46 [==============================] - 0s 7ms/step - loss: 0.6506 - accuracy: 0.6526 - val_loss: 0.6607 - val_accuracy: 0.6473\n",
            "Epoch 92/200\n",
            "46/46 [==============================] - 0s 7ms/step - loss: 0.6541 - accuracy: 0.6608 - val_loss: 0.6604 - val_accuracy: 0.6487\n",
            "Epoch 93/200\n",
            "46/46 [==============================] - 0s 8ms/step - loss: 0.6536 - accuracy: 0.6485 - val_loss: 0.6600 - val_accuracy: 0.6487\n",
            "Epoch 94/200\n",
            "46/46 [==============================] - 0s 7ms/step - loss: 0.6480 - accuracy: 0.6519 - val_loss: 0.6596 - val_accuracy: 0.6515\n",
            "Epoch 95/200\n",
            "46/46 [==============================] - 0s 7ms/step - loss: 0.6542 - accuracy: 0.6594 - val_loss: 0.6593 - val_accuracy: 0.6542\n",
            "Epoch 96/200\n",
            "46/46 [==============================] - 0s 7ms/step - loss: 0.6493 - accuracy: 0.6553 - val_loss: 0.6589 - val_accuracy: 0.6570\n",
            "Epoch 97/200\n",
            "46/46 [==============================] - 0s 7ms/step - loss: 0.6476 - accuracy: 0.6696 - val_loss: 0.6584 - val_accuracy: 0.6570\n",
            "Epoch 98/200\n",
            "46/46 [==============================] - 0s 7ms/step - loss: 0.6533 - accuracy: 0.6587 - val_loss: 0.6581 - val_accuracy: 0.6584\n",
            "Epoch 99/200\n",
            "46/46 [==============================] - 0s 8ms/step - loss: 0.6501 - accuracy: 0.6669 - val_loss: 0.6578 - val_accuracy: 0.6598\n",
            "Epoch 100/200\n",
            "46/46 [==============================] - 0s 7ms/step - loss: 0.6471 - accuracy: 0.6594 - val_loss: 0.6575 - val_accuracy: 0.6542\n",
            "Epoch 101/200\n",
            "46/46 [==============================] - 0s 7ms/step - loss: 0.6486 - accuracy: 0.6519 - val_loss: 0.6571 - val_accuracy: 0.6625\n",
            "Epoch 102/200\n",
            "46/46 [==============================] - 0s 7ms/step - loss: 0.6425 - accuracy: 0.6580 - val_loss: 0.6567 - val_accuracy: 0.6611\n",
            "Epoch 103/200\n",
            "46/46 [==============================] - 0s 7ms/step - loss: 0.6472 - accuracy: 0.6608 - val_loss: 0.6564 - val_accuracy: 0.6584\n",
            "Epoch 104/200\n",
            "46/46 [==============================] - 0s 7ms/step - loss: 0.6469 - accuracy: 0.6648 - val_loss: 0.6560 - val_accuracy: 0.6570\n",
            "Epoch 105/200\n",
            "46/46 [==============================] - 0s 7ms/step - loss: 0.6426 - accuracy: 0.6689 - val_loss: 0.6556 - val_accuracy: 0.6528\n",
            "Epoch 106/200\n",
            "46/46 [==============================] - 0s 7ms/step - loss: 0.6441 - accuracy: 0.6737 - val_loss: 0.6552 - val_accuracy: 0.6542\n",
            "Epoch 107/200\n",
            "46/46 [==============================] - 0s 7ms/step - loss: 0.6472 - accuracy: 0.6594 - val_loss: 0.6550 - val_accuracy: 0.6528\n",
            "Epoch 108/200\n",
            "46/46 [==============================] - 0s 7ms/step - loss: 0.6443 - accuracy: 0.6703 - val_loss: 0.6546 - val_accuracy: 0.6501\n",
            "Epoch 109/200\n",
            "46/46 [==============================] - 0s 7ms/step - loss: 0.6425 - accuracy: 0.6676 - val_loss: 0.6543 - val_accuracy: 0.6501\n",
            "Epoch 110/200\n",
            "46/46 [==============================] - 0s 7ms/step - loss: 0.6414 - accuracy: 0.6751 - val_loss: 0.6538 - val_accuracy: 0.6501\n",
            "Epoch 111/200\n",
            "46/46 [==============================] - 0s 7ms/step - loss: 0.6406 - accuracy: 0.6683 - val_loss: 0.6535 - val_accuracy: 0.6501\n",
            "Epoch 112/200\n",
            "46/46 [==============================] - 0s 7ms/step - loss: 0.6389 - accuracy: 0.6737 - val_loss: 0.6531 - val_accuracy: 0.6542\n",
            "Epoch 113/200\n",
            "46/46 [==============================] - 0s 7ms/step - loss: 0.6380 - accuracy: 0.6710 - val_loss: 0.6527 - val_accuracy: 0.6473\n",
            "Epoch 114/200\n",
            "46/46 [==============================] - 0s 7ms/step - loss: 0.6435 - accuracy: 0.6703 - val_loss: 0.6524 - val_accuracy: 0.6473\n",
            "Epoch 115/200\n",
            "46/46 [==============================] - 0s 7ms/step - loss: 0.6451 - accuracy: 0.6778 - val_loss: 0.6521 - val_accuracy: 0.6487\n",
            "Epoch 116/200\n",
            "46/46 [==============================] - 0s 7ms/step - loss: 0.6393 - accuracy: 0.6689 - val_loss: 0.6518 - val_accuracy: 0.6473\n",
            "Epoch 117/200\n",
            "46/46 [==============================] - 0s 7ms/step - loss: 0.6397 - accuracy: 0.6683 - val_loss: 0.6515 - val_accuracy: 0.6487\n",
            "Epoch 118/200\n",
            "46/46 [==============================] - 0s 7ms/step - loss: 0.6406 - accuracy: 0.6676 - val_loss: 0.6512 - val_accuracy: 0.6487\n",
            "Epoch 119/200\n",
            "46/46 [==============================] - 0s 7ms/step - loss: 0.6368 - accuracy: 0.6683 - val_loss: 0.6509 - val_accuracy: 0.6473\n",
            "Epoch 120/200\n",
            "46/46 [==============================] - 0s 7ms/step - loss: 0.6408 - accuracy: 0.6635 - val_loss: 0.6506 - val_accuracy: 0.6487\n",
            "Epoch 121/200\n",
            "46/46 [==============================] - 0s 7ms/step - loss: 0.6302 - accuracy: 0.6853 - val_loss: 0.6502 - val_accuracy: 0.6459\n",
            "Epoch 122/200\n",
            "46/46 [==============================] - 0s 7ms/step - loss: 0.6427 - accuracy: 0.6532 - val_loss: 0.6499 - val_accuracy: 0.6459\n",
            "Epoch 123/200\n",
            "46/46 [==============================] - 0s 7ms/step - loss: 0.6399 - accuracy: 0.6642 - val_loss: 0.6496 - val_accuracy: 0.6501\n",
            "Epoch 124/200\n",
            "46/46 [==============================] - 0s 7ms/step - loss: 0.6335 - accuracy: 0.6771 - val_loss: 0.6492 - val_accuracy: 0.6515\n",
            "Epoch 125/200\n",
            "46/46 [==============================] - 0s 7ms/step - loss: 0.6388 - accuracy: 0.6683 - val_loss: 0.6489 - val_accuracy: 0.6570\n",
            "Epoch 126/200\n",
            "46/46 [==============================] - 0s 7ms/step - loss: 0.6341 - accuracy: 0.6833 - val_loss: 0.6486 - val_accuracy: 0.6570\n",
            "Epoch 127/200\n",
            "46/46 [==============================] - 0s 7ms/step - loss: 0.6353 - accuracy: 0.6717 - val_loss: 0.6483 - val_accuracy: 0.6570\n",
            "Epoch 128/200\n",
            "46/46 [==============================] - 0s 7ms/step - loss: 0.6387 - accuracy: 0.6628 - val_loss: 0.6480 - val_accuracy: 0.6570\n",
            "Epoch 129/200\n",
            "46/46 [==============================] - 0s 7ms/step - loss: 0.6320 - accuracy: 0.6942 - val_loss: 0.6477 - val_accuracy: 0.6570\n",
            "Epoch 130/200\n",
            "46/46 [==============================] - 0s 7ms/step - loss: 0.6331 - accuracy: 0.6758 - val_loss: 0.6474 - val_accuracy: 0.6570\n",
            "Epoch 131/200\n",
            "46/46 [==============================] - 0s 7ms/step - loss: 0.6352 - accuracy: 0.6730 - val_loss: 0.6471 - val_accuracy: 0.6570\n",
            "Epoch 132/200\n",
            "46/46 [==============================] - 0s 7ms/step - loss: 0.6385 - accuracy: 0.6689 - val_loss: 0.6469 - val_accuracy: 0.6570\n",
            "Epoch 133/200\n",
            "46/46 [==============================] - 0s 7ms/step - loss: 0.6313 - accuracy: 0.6737 - val_loss: 0.6465 - val_accuracy: 0.6556\n",
            "Epoch 134/200\n",
            "46/46 [==============================] - 0s 7ms/step - loss: 0.6306 - accuracy: 0.6771 - val_loss: 0.6462 - val_accuracy: 0.6570\n",
            "Epoch 135/200\n",
            "46/46 [==============================] - 0s 8ms/step - loss: 0.6302 - accuracy: 0.6737 - val_loss: 0.6459 - val_accuracy: 0.6570\n",
            "Epoch 136/200\n",
            "46/46 [==============================] - 0s 7ms/step - loss: 0.6334 - accuracy: 0.6737 - val_loss: 0.6457 - val_accuracy: 0.6570\n",
            "Epoch 137/200\n",
            "46/46 [==============================] - 0s 7ms/step - loss: 0.6264 - accuracy: 0.6867 - val_loss: 0.6454 - val_accuracy: 0.6570\n",
            "Epoch 138/200\n",
            "46/46 [==============================] - 0s 7ms/step - loss: 0.6302 - accuracy: 0.6799 - val_loss: 0.6451 - val_accuracy: 0.6584\n",
            "Epoch 139/200\n",
            "46/46 [==============================] - 0s 8ms/step - loss: 0.6318 - accuracy: 0.6601 - val_loss: 0.6448 - val_accuracy: 0.6556\n",
            "Epoch 140/200\n",
            "46/46 [==============================] - 0s 7ms/step - loss: 0.6304 - accuracy: 0.6785 - val_loss: 0.6446 - val_accuracy: 0.6556\n",
            "Epoch 141/200\n",
            "46/46 [==============================] - 0s 7ms/step - loss: 0.6293 - accuracy: 0.6881 - val_loss: 0.6443 - val_accuracy: 0.6570\n",
            "Epoch 142/200\n",
            "46/46 [==============================] - 0s 7ms/step - loss: 0.6275 - accuracy: 0.6846 - val_loss: 0.6440 - val_accuracy: 0.6556\n",
            "Epoch 143/200\n",
            "46/46 [==============================] - 0s 7ms/step - loss: 0.6286 - accuracy: 0.6792 - val_loss: 0.6437 - val_accuracy: 0.6625\n",
            "Epoch 144/200\n",
            "46/46 [==============================] - 0s 8ms/step - loss: 0.6329 - accuracy: 0.6696 - val_loss: 0.6435 - val_accuracy: 0.6625\n",
            "Epoch 145/200\n",
            "46/46 [==============================] - 0s 8ms/step - loss: 0.6283 - accuracy: 0.6833 - val_loss: 0.6433 - val_accuracy: 0.6611\n",
            "Epoch 146/200\n",
            "46/46 [==============================] - 0s 7ms/step - loss: 0.6262 - accuracy: 0.6901 - val_loss: 0.6430 - val_accuracy: 0.6625\n",
            "Epoch 147/200\n",
            "46/46 [==============================] - 0s 7ms/step - loss: 0.6267 - accuracy: 0.6819 - val_loss: 0.6428 - val_accuracy: 0.6625\n",
            "Epoch 148/200\n",
            "46/46 [==============================] - 0s 7ms/step - loss: 0.6222 - accuracy: 0.6833 - val_loss: 0.6425 - val_accuracy: 0.6625\n",
            "Epoch 149/200\n",
            "46/46 [==============================] - 0s 7ms/step - loss: 0.6250 - accuracy: 0.6812 - val_loss: 0.6422 - val_accuracy: 0.6625\n",
            "Epoch 150/200\n",
            "46/46 [==============================] - 0s 7ms/step - loss: 0.6261 - accuracy: 0.6799 - val_loss: 0.6421 - val_accuracy: 0.6625\n",
            "Epoch 151/200\n",
            "46/46 [==============================] - 0s 7ms/step - loss: 0.6216 - accuracy: 0.6860 - val_loss: 0.6418 - val_accuracy: 0.6625\n",
            "Epoch 152/200\n",
            "46/46 [==============================] - 0s 7ms/step - loss: 0.6242 - accuracy: 0.6881 - val_loss: 0.6416 - val_accuracy: 0.6625\n",
            "Epoch 153/200\n",
            "46/46 [==============================] - 0s 7ms/step - loss: 0.6214 - accuracy: 0.7010 - val_loss: 0.6413 - val_accuracy: 0.6625\n",
            "Epoch 154/200\n",
            "46/46 [==============================] - 0s 7ms/step - loss: 0.6189 - accuracy: 0.6997 - val_loss: 0.6410 - val_accuracy: 0.6639\n",
            "Epoch 155/200\n",
            "46/46 [==============================] - 0s 7ms/step - loss: 0.6220 - accuracy: 0.6887 - val_loss: 0.6407 - val_accuracy: 0.6625\n",
            "Epoch 156/200\n",
            "46/46 [==============================] - 0s 7ms/step - loss: 0.6232 - accuracy: 0.6778 - val_loss: 0.6405 - val_accuracy: 0.6639\n",
            "Epoch 157/200\n",
            "46/46 [==============================] - 0s 7ms/step - loss: 0.6191 - accuracy: 0.6867 - val_loss: 0.6402 - val_accuracy: 0.6639\n",
            "Epoch 158/200\n",
            "46/46 [==============================] - 0s 7ms/step - loss: 0.6254 - accuracy: 0.6778 - val_loss: 0.6401 - val_accuracy: 0.6625\n",
            "Epoch 159/200\n",
            "46/46 [==============================] - 0s 7ms/step - loss: 0.6234 - accuracy: 0.6942 - val_loss: 0.6398 - val_accuracy: 0.6625\n",
            "Epoch 160/200\n",
            "46/46 [==============================] - 0s 7ms/step - loss: 0.6204 - accuracy: 0.6908 - val_loss: 0.6395 - val_accuracy: 0.6639\n",
            "Epoch 161/200\n",
            "46/46 [==============================] - 0s 7ms/step - loss: 0.6200 - accuracy: 0.6908 - val_loss: 0.6393 - val_accuracy: 0.6611\n",
            "Epoch 162/200\n",
            "46/46 [==============================] - 0s 7ms/step - loss: 0.6204 - accuracy: 0.6758 - val_loss: 0.6391 - val_accuracy: 0.6611\n",
            "Epoch 163/200\n",
            "46/46 [==============================] - 0s 7ms/step - loss: 0.6188 - accuracy: 0.6922 - val_loss: 0.6388 - val_accuracy: 0.6625\n",
            "Epoch 164/200\n",
            "46/46 [==============================] - 0s 7ms/step - loss: 0.6195 - accuracy: 0.6826 - val_loss: 0.6386 - val_accuracy: 0.6625\n",
            "Epoch 165/200\n",
            "46/46 [==============================] - 0s 7ms/step - loss: 0.6101 - accuracy: 0.6990 - val_loss: 0.6383 - val_accuracy: 0.6625\n",
            "Epoch 166/200\n",
            "46/46 [==============================] - 0s 7ms/step - loss: 0.6165 - accuracy: 0.6853 - val_loss: 0.6381 - val_accuracy: 0.6625\n",
            "Epoch 167/200\n",
            "46/46 [==============================] - 0s 7ms/step - loss: 0.6191 - accuracy: 0.6860 - val_loss: 0.6378 - val_accuracy: 0.6639\n",
            "Epoch 168/200\n",
            "46/46 [==============================] - 0s 7ms/step - loss: 0.6153 - accuracy: 0.6942 - val_loss: 0.6376 - val_accuracy: 0.6639\n",
            "Epoch 169/200\n",
            "46/46 [==============================] - 0s 7ms/step - loss: 0.6197 - accuracy: 0.6853 - val_loss: 0.6374 - val_accuracy: 0.6667\n",
            "Epoch 170/200\n",
            "46/46 [==============================] - 0s 7ms/step - loss: 0.6166 - accuracy: 0.6840 - val_loss: 0.6372 - val_accuracy: 0.6667\n",
            "Epoch 171/200\n",
            "46/46 [==============================] - 0s 7ms/step - loss: 0.6119 - accuracy: 0.6997 - val_loss: 0.6369 - val_accuracy: 0.6667\n",
            "Epoch 172/200\n",
            "46/46 [==============================] - 0s 7ms/step - loss: 0.6146 - accuracy: 0.6901 - val_loss: 0.6367 - val_accuracy: 0.6667\n",
            "Epoch 173/200\n",
            "46/46 [==============================] - 0s 7ms/step - loss: 0.6176 - accuracy: 0.6942 - val_loss: 0.6365 - val_accuracy: 0.6667\n",
            "Epoch 174/200\n",
            "46/46 [==============================] - 0s 7ms/step - loss: 0.6141 - accuracy: 0.6976 - val_loss: 0.6362 - val_accuracy: 0.6667\n",
            "Epoch 175/200\n",
            "46/46 [==============================] - 0s 7ms/step - loss: 0.6114 - accuracy: 0.7051 - val_loss: 0.6360 - val_accuracy: 0.6653\n",
            "Epoch 176/200\n",
            "46/46 [==============================] - 0s 8ms/step - loss: 0.6167 - accuracy: 0.6860 - val_loss: 0.6358 - val_accuracy: 0.6667\n",
            "Epoch 177/200\n",
            "46/46 [==============================] - 0s 8ms/step - loss: 0.6157 - accuracy: 0.6956 - val_loss: 0.6357 - val_accuracy: 0.6694\n",
            "Epoch 178/200\n",
            "46/46 [==============================] - 0s 7ms/step - loss: 0.6106 - accuracy: 0.6983 - val_loss: 0.6355 - val_accuracy: 0.6722\n",
            "Epoch 179/200\n",
            "46/46 [==============================] - 0s 7ms/step - loss: 0.6166 - accuracy: 0.6826 - val_loss: 0.6353 - val_accuracy: 0.6722\n",
            "Epoch 180/200\n",
            "46/46 [==============================] - 0s 7ms/step - loss: 0.6137 - accuracy: 0.6962 - val_loss: 0.6352 - val_accuracy: 0.6722\n",
            "Epoch 181/200\n",
            "46/46 [==============================] - 0s 7ms/step - loss: 0.6126 - accuracy: 0.6990 - val_loss: 0.6350 - val_accuracy: 0.6736\n",
            "Epoch 182/200\n",
            "46/46 [==============================] - 0s 7ms/step - loss: 0.6090 - accuracy: 0.7099 - val_loss: 0.6347 - val_accuracy: 0.6722\n",
            "Epoch 183/200\n",
            "46/46 [==============================] - 0s 7ms/step - loss: 0.6077 - accuracy: 0.7024 - val_loss: 0.6345 - val_accuracy: 0.6736\n",
            "Epoch 184/200\n",
            "46/46 [==============================] - 0s 7ms/step - loss: 0.6162 - accuracy: 0.6935 - val_loss: 0.6343 - val_accuracy: 0.6736\n",
            "Epoch 185/200\n",
            "46/46 [==============================] - 0s 7ms/step - loss: 0.6100 - accuracy: 0.6997 - val_loss: 0.6342 - val_accuracy: 0.6736\n",
            "Epoch 186/200\n",
            "46/46 [==============================] - 0s 8ms/step - loss: 0.6109 - accuracy: 0.6908 - val_loss: 0.6339 - val_accuracy: 0.6722\n",
            "Epoch 187/200\n",
            "46/46 [==============================] - 0s 8ms/step - loss: 0.6081 - accuracy: 0.7099 - val_loss: 0.6338 - val_accuracy: 0.6736\n",
            "Epoch 188/200\n",
            "46/46 [==============================] - 0s 7ms/step - loss: 0.6085 - accuracy: 0.6956 - val_loss: 0.6336 - val_accuracy: 0.6722\n",
            "Epoch 189/200\n",
            "46/46 [==============================] - 0s 7ms/step - loss: 0.6065 - accuracy: 0.7038 - val_loss: 0.6333 - val_accuracy: 0.6736\n",
            "Epoch 190/200\n",
            "46/46 [==============================] - 0s 7ms/step - loss: 0.6077 - accuracy: 0.6915 - val_loss: 0.6331 - val_accuracy: 0.6750\n",
            "Epoch 191/200\n",
            "46/46 [==============================] - 0s 7ms/step - loss: 0.6093 - accuracy: 0.7044 - val_loss: 0.6329 - val_accuracy: 0.6736\n",
            "Epoch 192/200\n",
            "46/46 [==============================] - 0s 7ms/step - loss: 0.6074 - accuracy: 0.7058 - val_loss: 0.6328 - val_accuracy: 0.6750\n",
            "Epoch 193/200\n",
            "46/46 [==============================] - 0s 7ms/step - loss: 0.6046 - accuracy: 0.7092 - val_loss: 0.6326 - val_accuracy: 0.6750\n",
            "Epoch 194/200\n",
            "46/46 [==============================] - 0s 7ms/step - loss: 0.6068 - accuracy: 0.6942 - val_loss: 0.6324 - val_accuracy: 0.6750\n",
            "Epoch 195/200\n",
            "46/46 [==============================] - 0s 8ms/step - loss: 0.6045 - accuracy: 0.7072 - val_loss: 0.6322 - val_accuracy: 0.6750\n",
            "Epoch 196/200\n",
            "46/46 [==============================] - 0s 7ms/step - loss: 0.6019 - accuracy: 0.7003 - val_loss: 0.6320 - val_accuracy: 0.6750\n",
            "Epoch 197/200\n",
            "46/46 [==============================] - 0s 7ms/step - loss: 0.6049 - accuracy: 0.7044 - val_loss: 0.6318 - val_accuracy: 0.6750\n",
            "Epoch 198/200\n",
            "46/46 [==============================] - 0s 7ms/step - loss: 0.6024 - accuracy: 0.6942 - val_loss: 0.6316 - val_accuracy: 0.6750\n",
            "Epoch 199/200\n",
            "46/46 [==============================] - 0s 7ms/step - loss: 0.5982 - accuracy: 0.7126 - val_loss: 0.6314 - val_accuracy: 0.6750\n",
            "Epoch 200/200\n",
            "46/46 [==============================] - 0s 7ms/step - loss: 0.6006 - accuracy: 0.7078 - val_loss: 0.6312 - val_accuracy: 0.6750\n"
          ]
        }
      ]
    },
    {
      "cell_type": "markdown",
      "source": [
        "**5b)** Plot the optimisation history of this neural network. What can be said about the results?"
      ],
      "metadata": {
        "id": "zr2P4UevCK2U"
      }
    },
    {
      "cell_type": "code",
      "source": [
        "# plot the optimisation history\n",
        "plt.plot(history_example.history['accuracy'], label='Training Accuracy')\n",
        "plt.plot(history_example.history['val_accuracy'], label='Validation Accuracy')\n",
        "plt.xlabel('Epoch')\n",
        "plt.ylabel('Accuracy')\n",
        "plt.legend()\n",
        "plt.show()"
      ],
      "metadata": {
        "id": "JsO93M8zJ21J",
        "colab": {
          "base_uri": "https://localhost:8080/",
          "height": 279
        },
        "outputId": "65e58e94-4281-4c98-9138-b7f0f4fb2bcb"
      },
      "execution_count": null,
      "outputs": [
        {
          "output_type": "display_data",
          "data": {
            "text/plain": [
              "<Figure size 432x288 with 1 Axes>"
            ],
            "image/png": "[encoded data removed]"
          },
          "metadata": {
            "needs_background": "light"
          }
        }
      ]
    },
    {
      "cell_type": "markdown",
      "source": [
        "Q: What can be said about these results?"
      ],
      "metadata": {
        "id": "Vd7XpbpqkjWC"
      }
    },
    {
      "cell_type": "markdown",
      "source": [
        "A:"
      ],
      "metadata": {
        "id": "AQ-yuEZKkq_q"
      }
    },
    {
      "cell_type": "markdown",
      "source": [
        "---\n",
        "\n",
        "We try now to improve the results. In a lot of applications the optimization of the accuracy might be the wrong goal. For example, predicting a non-toxic molecule as toxic is not equally worse than predicting a toxic one as non-toxic. Therefore, we have to consider alternative metrics:\n",
        "\n",
        "**What are Sensitivity and Specificity?**\n",
        "\n",
        "* Sensitivity / True Positive Rate (TPR) \n",
        "\n",
        " Sensitivity tells us what proportion of the positive class got correctly classified. A simple example would be to determine what proportion of the actual toxic molecules were correctly detected by the model.\n",
        "\n",
        "* False Negative Rate (FNR)\n",
        "\n",
        " False Negative Rate (FNR) tells us what proportion of the positive class got incorrectly classified by the classifier. A higher TPR and a lower FNR is desirable since we want to correctly classify the positive class.\n",
        "\n",
        "* Specificity / True Negative Rate (TNR)\n",
        "\n",
        " Specificity tells us what proportion of the negative class got correctly classified. Taking the same example as in Sensitivity, Specificity would mean determining the proportion of non-toxic molecules who were correctly identified by the model.\n",
        "\n",
        "* False Positive Rate (FPR)\n",
        "\n",
        " FPR tells us what proportion of the negative class got incorrectly classified by the classifier. A higher TNR and a lower FPR is desirable since we want to correctly classify the non-toxic class.\n",
        "\n",
        "**How can we combine these quantities best?**\n",
        "\n",
        "The Receiver Operator Characteristic (ROC) curve is an evaluation metric for binary classification problems. It is a probability curve that plots the TPR against FPR at various threshold values and essentially separates the \"signal\" from the \"noise\". The Area Under the Curve (AUC) is the measure of the ability of a classifier to distinguish between classes and is used as a summary of the ROC curve.\n",
        "\n",
        "The higher the AUC, the better the performance of the model at distinguishing between the positive and negative classes. A random oracle has AUC = 0.5."
      ],
      "metadata": {
        "id": "F5lgIFnXwswy"
      }
    },
    {
      "cell_type": "markdown",
      "source": [
        "---\n",
        "\n",
        "We first calculate the metrics for predictions on the test set."
      ],
      "metadata": {
        "id": "EYsl7_rxpd_M"
      }
    },
    {
      "cell_type": "code",
      "source": [
        "# we calculate metrics for predictions on test set\n",
        "y_pred = (model.predict(X_test) > 0.5).astype(int)\n",
        "\n",
        "CM = confusion_matrix(y_pred,y_test)\n",
        "\n",
        "TN = CM[0][0]\n",
        "FN = CM[1][0]\n",
        "TP = CM[1][1]\n",
        "FP = CM[0][1]\n",
        "\n",
        "# Sensitivity or true positive rate\n",
        "TPR = TP/(TP+FN)\n",
        "# Specificity or true negative rate\n",
        "TNR = TN/(TN+FP) \n",
        "# Precision or positive predictive value\n",
        "PPV = TP/(TP+FP)\n",
        "# Negative predictive value\n",
        "NPV = TN/(TN+FN)\n",
        "# Fall out or false positive rate\n",
        "FPR = FP/(FP+TN)\n",
        "# False negative rate\n",
        "FNR = FN/(TP+FN)\n",
        "# False discovery rate\n",
        "FDR = FP/(TP+FP)\n",
        "\n",
        "# Overall accuracy\n",
        "ACC = (TP+TN)/(TP+FP+FN+TN)"
      ],
      "metadata": {
        "id": "JD5ck-5by-WW"
      },
      "execution_count": null,
      "outputs": []
    },
    {
      "cell_type": "markdown",
      "source": [
        "---\n",
        "\n",
        "**6a)** Define, train and test a neural network having dense layers with 15 units, lasts 200 epochs but now uses the AUC as measure for the performance."
      ],
      "metadata": {
        "id": "7MXxjtqBrqeP"
      }
    },
    {
      "cell_type": "code",
      "source": [
        "# define the model\n",
        "\n",
        "####\n",
        "\n",
        "# we compile the model with AUC\n",
        "model.compile(optimizer=opt,loss='binary_crossentropy', metrics=[tf.keras.metrics.AUC(from_logits=True)])\n",
        "\n",
        "# train and test the model\n",
        "\n",
        "####"
      ],
      "metadata": {
        "id": "-dQ8fFqbyQi2"
      },
      "execution_count": null,
      "outputs": []
    },
    {
      "cell_type": "markdown",
      "source": [
        "**6b)** Plot the optimisation history of this neural network. Are the results better?"
      ],
      "metadata": {
        "id": "QPi2ExPXwcOs"
      }
    },
    {
      "cell_type": "code",
      "source": [
        "# plot the optimisation history\n",
        "\n",
        "####"
      ],
      "metadata": {
        "id": "u4LhkX8NxaKj"
      },
      "execution_count": null,
      "outputs": []
    },
    {
      "cell_type": "markdown",
      "source": [
        "---\n",
        "\n",
        "The neural networks used above do not seem to perform well. We try an approach with a Long Short-Term Memory network (LSTM).\n",
        "\n",
        "**7)** Play around with the parameters of the LSTM model and try to improve the performance."
      ],
      "metadata": {
        "id": "By1YPzeyfgDK"
      }
    },
    {
      "cell_type": "code",
      "source": [
        "# LSTM model\n",
        "from tensorflow.keras.models import Sequential, Model\n",
        "from tensorflow.keras.layers import Dense\n",
        "from tensorflow.keras.layers import Dropout\n",
        "from tensorflow.keras.layers import LSTM, Bidirectional\n",
        "from keras.layers.embeddings import Embedding\n",
        "\n",
        "model = Sequential()\n",
        "model.add(Bidirectional(LSTM(10, return_sequences=True), input_shape=(longest, mapping_size)))\n",
        "model.add(tf.keras.layers.Flatten(input_shape=(longest, 20)))\n",
        "model.add(Dense(10, activation='relu'))\n",
        "model.add(Dense(1, activation='sigmoid'))\n",
        "model.compile(loss='binary_crossentropy', optimizer='adam', metrics=[tf.keras.metrics.AUC(from_logits=True)])\n",
        "print(model.summary())\n",
        "history_lstm = model.fit(X_train, y_train, validation_data=(X_test, y_test), epochs=20, batch_size=28)"
      ],
      "metadata": {
        "id": "E-_a7fqJyQ6z",
        "colab": {
          "base_uri": "https://localhost:8080/"
        },
        "outputId": "90f9be6b-9dc6-4cd0-93db-72e847c846e3"
      },
      "execution_count": null,
      "outputs": [
        {
          "output_type": "stream",
          "name": "stdout",
          "text": [
            "Model: \"sequential_2\"\n",
            "_________________________________________________________________\n",
            " Layer (type)                Output Shape              Param #   \n",
            "=================================================================\n",
            " bidirectional (Bidirectiona  (None, 321, 20)          4560      \n",
            " l)                                                              \n",
            "                                                                 \n",
            " flatten_2 (Flatten)         (None, 6420)              0         \n",
            "                                                                 \n",
            " dense_6 (Dense)             (None, 10)                64210     \n",
            "                                                                 \n",
            " dense_7 (Dense)             (None, 1)                 11        \n",
            "                                                                 \n",
            "=================================================================\n",
            "Total params: 68,781\n",
            "Trainable params: 68,781\n",
            "Non-trainable params: 0\n",
            "_________________________________________________________________\n",
            "None\n",
            "Epoch 1/20\n",
            "53/53 [==============================] - 13s 168ms/step - loss: 0.6660 - auc: 0.6458 - val_loss: 0.6405 - val_auc: 0.6924\n",
            "Epoch 2/20\n",
            "53/53 [==============================] - 8s 149ms/step - loss: 0.6308 - auc: 0.7012 - val_loss: 0.6321 - val_auc: 0.7043\n",
            "Epoch 3/20\n",
            "53/53 [==============================] - 8s 148ms/step - loss: 0.6107 - auc: 0.7278 - val_loss: 0.6234 - val_auc: 0.7129\n",
            "Epoch 4/20\n",
            "53/53 [==============================] - 8s 148ms/step - loss: 0.5903 - auc: 0.7543 - val_loss: 0.6025 - val_auc: 0.7381\n",
            "Epoch 5/20\n",
            "53/53 [==============================] - 8s 148ms/step - loss: 0.5731 - auc: 0.7731 - val_loss: 0.6030 - val_auc: 0.7435\n",
            "Epoch 6/20\n",
            "53/53 [==============================] - 8s 149ms/step - loss: 0.5536 - auc: 0.7920 - val_loss: 0.5976 - val_auc: 0.7521\n",
            "Epoch 7/20\n",
            "53/53 [==============================] - 8s 149ms/step - loss: 0.5370 - auc: 0.8113 - val_loss: 0.5932 - val_auc: 0.7579\n",
            "Epoch 8/20\n",
            "53/53 [==============================] - 8s 149ms/step - loss: 0.5201 - auc: 0.8234 - val_loss: 0.6111 - val_auc: 0.7518\n",
            "Epoch 9/20\n",
            "53/53 [==============================] - 8s 149ms/step - loss: 0.5083 - auc: 0.8343 - val_loss: 0.5940 - val_auc: 0.7619\n",
            "Epoch 10/20\n",
            "53/53 [==============================] - 8s 149ms/step - loss: 0.4926 - auc: 0.8452 - val_loss: 0.6007 - val_auc: 0.7582\n",
            "Epoch 11/20\n",
            "53/53 [==============================] - 9s 170ms/step - loss: 0.4788 - auc: 0.8561 - val_loss: 0.6108 - val_auc: 0.7598\n",
            "Epoch 12/20\n",
            "53/53 [==============================] - 8s 149ms/step - loss: 0.4673 - auc: 0.8623 - val_loss: 0.5976 - val_auc: 0.7682\n",
            "Epoch 13/20\n",
            "53/53 [==============================] - 8s 150ms/step - loss: 0.4483 - auc: 0.8746 - val_loss: 0.6004 - val_auc: 0.7691\n",
            "Epoch 14/20\n",
            "53/53 [==============================] - 8s 148ms/step - loss: 0.4398 - auc: 0.8830 - val_loss: 0.6055 - val_auc: 0.7689\n",
            "Epoch 15/20\n",
            "53/53 [==============================] - 8s 150ms/step - loss: 0.4276 - auc: 0.8875 - val_loss: 0.6192 - val_auc: 0.7681\n",
            "Epoch 16/20\n",
            "53/53 [==============================] - 8s 149ms/step - loss: 0.4095 - auc: 0.8979 - val_loss: 0.6319 - val_auc: 0.7643\n",
            "Epoch 17/20\n",
            "53/53 [==============================] - 8s 149ms/step - loss: 0.3938 - auc: 0.9064 - val_loss: 0.6491 - val_auc: 0.7561\n",
            "Epoch 18/20\n",
            "53/53 [==============================] - 8s 149ms/step - loss: 0.3848 - auc: 0.9123 - val_loss: 0.6603 - val_auc: 0.7675\n",
            "Epoch 19/20\n",
            "53/53 [==============================] - 8s 149ms/step - loss: 0.3760 - auc: 0.9155 - val_loss: 0.6618 - val_auc: 0.7631\n",
            "Epoch 20/20\n",
            "53/53 [==============================] - 8s 149ms/step - loss: 0.3669 - auc: 0.9202 - val_loss: 0.6500 - val_auc: 0.7593\n"
          ]
        }
      ]
    },
    {
      "cell_type": "code",
      "source": [
        "# plot of the optimisation history\n",
        "plt.plot(history_lstm.history['auc'], label='Training AUC')\n",
        "plt.plot(history_lstm.history['val_auc'], label='Validation AUC')\n",
        "plt.xlabel('Epoch')\n",
        "plt.ylabel('AUC')\n",
        "plt.legend()\n",
        "plt.show()"
      ],
      "metadata": {
        "id": "r-Dz4WPEzhyc",
        "colab": {
          "base_uri": "https://localhost:8080/",
          "height": 279
        },
        "outputId": "2c498411-46eb-4e73-cf21-fc00fe089d1c"
      },
      "execution_count": null,
      "outputs": [
        {
          "output_type": "display_data",
          "data": {
            "text/plain": [
              "<Figure size 432x288 with 1 Axes>"
            ],
            "image/png": "[encoded data removed]"
          },
          "metadata": {
            "needs_background": "light"
          }
        }
      ]
    }
  ]
}