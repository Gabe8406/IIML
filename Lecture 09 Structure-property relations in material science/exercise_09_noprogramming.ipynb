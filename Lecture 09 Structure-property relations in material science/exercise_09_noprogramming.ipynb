{
  "nbformat": 4,
  "nbformat_minor": 0,
  "metadata": {
    "colab": {
      "name": "superconductors.ipynb",
      "provenance": [],
      "collapsed_sections": []
    },
    "kernelspec": {
      "name": "python3",
      "display_name": "Python 3"
    },
    "language_info": {
      "name": "python"
    }
  },
  "cells": [
    {
      "cell_type": "markdown",
      "source": [
        "# **Machine Learning - An Interdisciplinary Introduction**\n",
        "\n",
        "# **Exercise sheet 9**\n",
        "\n",
        "## Exercise II: Critical temperature of superconductors"
      ],
      "metadata": {
        "id": "ppW_8VDuReSG"
      }
    },
    {
      "cell_type": "markdown",
      "source": [
        "Goal of this exercise is a critical reading of the article *Machine learning modeling of superconducting critical temperature*, V.Stanev et al., npj Computational Materials **4**, 29 (2018) (https://www.nature.com/articles/s41524-018-0085-8)."
      ],
      "metadata": {
        "id": "jjsyMU0KIGNE"
      }
    },
    {
      "cell_type": "markdown",
      "source": [
        "---\n",
        "\n",
        "Before starting to read the article, we need to understand some of its vocabulary. Do a quick research and answer the following questions."
      ],
      "metadata": {
        "id": "Wx-gYWQrmmgP"
      }
    },
    {
      "cell_type": "markdown",
      "source": [
        "Q: What is a superconductor? What is its critical temperature?"
      ],
      "metadata": {
        "id": "-Fi_TXCgraLw"
      }
    },
    {
      "cell_type": "markdown",
      "source": [
        "A:"
      ],
      "metadata": {
        "id": "OMiKQ09nrsNn"
      }
    },
    {
      "cell_type": "markdown",
      "source": [
        "Q: What are the differences between high-$T_c$ und low-$T_c$ superconductors?"
      ],
      "metadata": {
        "id": "FLrHj4eorvB2"
      }
    },
    {
      "cell_type": "markdown",
      "source": [
        "A:"
      ],
      "metadata": {
        "id": "lJLZD9_xtqY0"
      }
    },
    {
      "cell_type": "markdown",
      "source": [
        "Q: What are \"cuprate\" and \"iron-based\" superconductors?"
      ],
      "metadata": {
        "id": "60siQAV2tvGo"
      }
    },
    {
      "cell_type": "markdown",
      "source": [
        "A:"
      ],
      "metadata": {
        "id": "MJBin9VUuAxt"
      }
    },
    {
      "cell_type": "markdown",
      "source": [
        "---\n",
        "\n",
        "You can now read the article. Keep in mind that it is not necessary to understand all the details. Try to filter out the more relevant parts and give here a summary of the main message of the article in your own words. "
      ],
      "metadata": {
        "id": "AWJaPL2tuD4E"
      }
    },
    {
      "cell_type": "markdown",
      "source": [
        "Your summary:\n"
      ],
      "metadata": {
        "id": "bjr_KGyqqYlg"
      }
    },
    {
      "cell_type": "markdown",
      "source": [
        "---\n",
        "\n",
        "Now we look closer at some of the results. Answer the following questions."
      ],
      "metadata": {
        "id": "IQ3upnGXJ5Rw"
      }
    },
    {
      "cell_type": "markdown",
      "source": [
        "Q: Looking at Fig.2 describe and comment the results of the classification models. "
      ],
      "metadata": {
        "id": "tD6g_U4OK7M4"
      }
    },
    {
      "cell_type": "markdown",
      "source": [
        "A:"
      ],
      "metadata": {
        "id": "yaN9-UvAK9Cz"
      }
    },
    {
      "cell_type": "markdown",
      "source": [
        "Q: Looking at Fig.4 describe and comment the results of the regression models predictions for the critical temperature."
      ],
      "metadata": {
        "id": "jmUX2nPWLtGA"
      }
    },
    {
      "cell_type": "markdown",
      "source": [
        "A:"
      ],
      "metadata": {
        "id": "OdixQan9MamG"
      }
    },
    {
      "cell_type": "markdown",
      "source": [
        "Q: Do you think this machine learning approach can reliably predict superconductivity (and the critical temperature) for new classes of materials?"
      ],
      "metadata": {
        "id": "6qtANtgIMcCC"
      }
    },
    {
      "cell_type": "markdown",
      "source": [
        "A:"
      ],
      "metadata": {
        "id": "QzJ-9_S2MePB"
      }
    },
    {
      "cell_type": "markdown",
      "source": [
        "Q: Considering this work, which are the strengths and the weaknesses of machine learning?"
      ],
      "metadata": {
        "id": "WrD3OrmXOyQd"
      }
    },
    {
      "cell_type": "markdown",
      "source": [
        "A:"
      ],
      "metadata": {
        "id": "WP7YZethPDhs"
      }
    }
  ]
}