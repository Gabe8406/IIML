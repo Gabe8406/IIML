{
  "nbformat": 4,
  "nbformat_minor": 0,
  "metadata": {
    "colab": {
      "name": "lecture6_gubelmann.ipynb",
      "provenance": []
    },
    "kernelspec": {
      "name": "python3",
      "display_name": "Python 3"
    },
    "language_info": {
      "name": "python"
    }
  },
  "cells": [
    {
      "cell_type": "code",
      "execution_count": null,
      "metadata": {
        "id": "xgs2NKKmJpyY"
      },
      "outputs": [],
      "source": []
    },
    {
      "cell_type": "markdown",
      "source": [
        "***Question Block 1: Meta***"
      ],
      "metadata": {
        "id": "70HrdndqODfA"
      }
    },
    {
      "cell_type": "markdown",
      "source": [
        "Question 1.1: What kinds of questions does philosophy answer (give both a general description as well as a specific example)?\n",
        "\n",
        "Answer: Questions that pertain to the sensibility and meaning of statements and theories. For instance: What does it mean to understand a language?\n",
        "\n",
        "Question 1.2: What kinds of questions does science (de: \"Naturwissenschaft\", not: \"Wissenschaft\") answer (give both a general description as well as a specific example)?\n",
        "\n",
        "Answer: Questions that pertain to the truth and falsity of statements and theories. For instance: Is it true that there currently are computer programs that understand (a) language (in the sense specified using philosophical methods)? \n",
        "\n",
        "Question 1.3: Why does it make sense to draw this distinction?\n",
        "\n",
        "Answer 1.3: Because the different kinds of questions require different methods when answering them. Roughly, non-empirical, conceptual reflection to answer questions of meaning and sense and empirical methods to answer questions of truth. Note that it is not necessary, but often efficient, to have different persons and departments use these different methods to answer these questions. "
      ],
      "metadata": {
        "id": "wIUmTsvqJxyT"
      }
    },
    {
      "cell_type": "markdown",
      "source": [
        "***Question Block 2: Understanding***"
      ],
      "metadata": {
        "id": "FrlLPSIFOMAs"
      }
    },
    {
      "cell_type": "markdown",
      "source": [
        "Question: Name and briefly explain two different accounts of what understanding a language amounts to; give a specific procedure of how language understanding, on these different conceptions, could be assessed.\n",
        "\n",
        "Answer:\n",
        "\n",
        "\n",
        "1.   **Behaviorism**: If the machine's linguistic behavior is indistinguishable from the behavior of a competent human speaker, then the machine understand language. The Turing test presupposes such a behaviorist conception of understanding.\n",
        "2.   **Biologism**: Unless the machine has structures of equal causal powers to the brain, it cannot understand language, regardless of how impressive its linguistic behavior is. To assess understanding so conceived, you need to analyse the architecture of the machine in question.\n",
        "3. **Social Recognitionism**: Whether a machine understands a language depends on whether we, as competent speakers, treat the machine as such. To test understanding on this conception, one needs to experiment with the way humans socially interact with the machine in question.\n",
        "4. **Behaviorism Plus Autonomous Learning**: A machine can be said to understand language if it performs at human parity (or reasonably close) at sufficiently sophisticated tasks and has (like humans) aquired this capacity in a process of autonomous learning, allowing it to quickly adapt (like humans) to novel challenges. To test this conception of understanding, you would have to submit the machine to sophisticated challenges and verify that it learns sufficiently autonomously.\n",
        "\n",
        "\n"
      ],
      "metadata": {
        "id": "4AaFTgSUQwOi"
      }
    },
    {
      "cell_type": "markdown",
      "source": [
        "***Question Block 3: Case Study***"
      ],
      "metadata": {
        "id": "W38NoL2hWEsI"
      }
    },
    {
      "cell_type": "markdown",
      "source": [
        "Question: Choose one of the conceptions of understandings from question 2 and state whether and why the transformer-based language models introduced by Prof. Jäger in lecture 4 understand language.\n",
        "\n",
        "Answer:\n",
        "1. Behaviorism: They are very close, probably the challenges are not sufficiently demanding currentl.\n",
        "2. Biologism: No chance: Structural analogies and causal powers differ too strongly\n",
        "3. Social recognitionism: Interesting one; probably not, but perhaps a case could be made for an affirmative answer.\n",
        "4. Behaviorism plus autonomous learning: Yes. The conception is taylored to these models."
      ],
      "metadata": {
        "id": "9EvtyvLzWJKC"
      }
    },
    {
      "cell_type": "markdown",
      "source": [],
      "metadata": {
        "id": "cwa1WhKBK8vg"
      }
    }
  ]
}