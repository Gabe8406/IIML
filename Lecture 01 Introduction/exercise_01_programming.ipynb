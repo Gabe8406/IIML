{
  "cells": [
    {
      "cell_type": "markdown",
      "metadata": {
        "id": "K1CpjUXlnlhA"
      },
      "source": [
        "# Welcome to Machine Learning -- An Interdisciplinary Introduction\n",
        "\n",
        "Welcome to the first exercise and colab notebook! \n"
      ]
    },
    {
      "cell_type": "markdown",
      "metadata": {
        "id": "M6rSa45PwNSx"
      },
      "source": [
        "# Part I - Introduction to Colab notebooks and Markdown\n",
        "\n",
        "If you have never heard about or used colab notebooks before, don't worry! Colab notebooks provide an easy way to combine formatted text (such as this paragraph) with python code (such as the boxes further below). The great thing is that you can also execute the python code live on this page. You can try it out by clicking on the `Play` button that appears when you hover over a code cell, by opening the `Runtime` tab in the toolbar above or simply hinting `Shift + Enter`."
      ]
    },
    {
      "cell_type": "markdown",
      "metadata": {
        "id": "xlXo3egswNS0"
      },
      "source": [
        "On the first `Shift + Enter`, the box around the headline and the first two paragraphs probably jumped to this paragraph, but nothing else happened, right? This is how Colab notebooks operate: the formatted text blocks and the code blocks are organized in _cells_ – each of which can be executed. Now, executing a cell with only text doesn't do anything of course ... But with every click on `Run`, you run the active cell and jump to the next one. "
      ]
    },
    {
      "cell_type": "markdown",
      "metadata": {
        "id": "ZgZFNoe7xwnm"
      },
      "source": [
        "## Adding and editing text cells\n",
        "\n",
        "You can add a text cell simply by selecting `+ Text` in the toolbar right above the headline. Text cells are formatted using a simple markup language called Markdown.\n",
        "\n",
        "\n",
        "To see the Markdown source, double-click a text cell, showing both the Markdown source and the rendered version. Above the Markdown source there is a toolbar to assist editing. Here are some examples of what you can do:\n",
        "\n"
      ]
    },
    {
      "cell_type": "markdown",
      "metadata": {
        "id": "1U13PyxDnlhF"
      },
      "source": [
        "\n",
        "---\n",
        "Markdown | Preview\n",
        "--- | ---\n",
        "`**bold text**` | **bold text**\n",
        "`*italicized text*` or `_italicized text_` | *italicized text*\n",
        "`` `Monospace` `` | `Monospace`\n",
        "`~~strikethrough~~` | ~~strikethrough~~\n",
        "`[A link](https://www.google.com)` | [A link](https://www.google.com)\n",
        "`![An image](https://www.google.com/images/rss.png)` | ![An image](https://www.google.com/images/rss.png)\n",
        "\n",
        "\n",
        "---\n",
        "Tables: to add a table, use three or more hyphens (---) to create each column’s header, and use pipes (|) to separate each column. For compatibility, you should also add a pipe on either end of the row.\n",
        "\n",
        "```markdown\n",
        "| Syntax      | Description |\n",
        "| ----------- | ----------- |\n",
        "| Header      | Title       |\n",
        "| Paragraph   | Text        |\n",
        "````\n",
        "| Syntax      | Description |\n",
        "| ----------- | ----------- |\n",
        "| Header      | Title       |\n",
        "| Paragraph   | Text        |\n",
        "\n",
        "---\n",
        "\n",
        "Ordered lists (to nest a list, indent by either 2 spaces or one tab):\n",
        "```markdown\n",
        "1. One\n",
        "  1. Subitem 1\n",
        "1. Two\n",
        "1. Three\n",
        "```\n",
        "1. One\n",
        "  1. Subitem One\n",
        "1. Two\n",
        "1. Three\n",
        "\n",
        "---\n",
        "\n",
        "Unordered lists:\n",
        "```markdown\n",
        "* One\n",
        "  * Subitem 1\n",
        "* Two\n",
        "* Three\n",
        "```\n",
        "* One\n",
        "  * Subitem 1\n",
        "* Two\n",
        "* Three\n",
        "\n",
        "---\n",
        "\n",
        "Equations use LaTeX :\n",
        "\n",
        "```markdown\n",
        "$y=x^2$\n",
        "\n",
        "$e^{i\\pi} + 1 = 0$\n",
        "\n",
        "$e^x=\\sum\\limits_{i=0}^\\infty \\frac{1}{i!}x^i$\n",
        "\n",
        "$\\frac{n!}{k!(n-k)!} = {n \\choose k}$\n",
        "\n",
        "```\n",
        "\n",
        "$y=x^2$\n",
        "\n",
        "$e^{i\\pi} + 1 = 0$\n",
        "\n",
        "$e^x=\\sum\\limits_{i=0}^\\infty \\frac{1}{i!}x^i$\n",
        "\n",
        "$\\frac{n!}{k!(n-k)!} = {n \\choose k}$\n",
        "\n",
        "---\n",
        "To learn more, you can check out these references:\n",
        "* [Markdown basic syntax](https://www.markdownguide.org/basic-syntax/)\n",
        "* [LaTex mathematics for equations](https://en.wikibooks.org/wiki/LaTeX/Mathematics)"
      ]
    },
    {
      "cell_type": "markdown",
      "metadata": {
        "id": "oFPns96LIyCR"
      },
      "source": [
        "## Task 1\n",
        "Now it's your turn! Add a text cell below and add the probability density function of a [normal distribution](https://en.wikipedia.org/wiki/Normal_distribution)!"
      ]
    },
    {
      "cell_type": "markdown",
      "metadata": {},
      "source": [
        "$f(x) = \\frac{1}{\\sigma \\sqrt{2\\pi}} \\, e^{-\\frac{1}{2}(\\frac{x-\\mu}{\\sigma})²}$"
      ]
    },
    {
      "cell_type": "markdown",
      "metadata": {
        "id": "CRZl0gYAJKxU"
      },
      "source": [
        "## Adding and editing code cells\n",
        "\n",
        "You can also add a code cell simply by selecting `+ Code` in the toolbar right above the headline. Code cells allow you to write and execute Python code: to edit the code, just click the cell and start editing. To run it, select it with a click and then either press the play button to the left of the code, or use the keyboard shortcut `Shift + Enter`.\n",
        "\n",
        "For example, here is a <strong>code cell</strong> with a short Python script that computes a value, stores it in a variable and prints the result (the result of the last row of a block is printed automatically):"
      ]
    },
    {
      "cell_type": "code",
      "execution_count": 2,
      "metadata": {
        "colab": {
          "base_uri": "https://localhost:8080/"
        },
        "id": "mATaWk5ewNS1",
        "outputId": "9fec5369-883f-4211-8624-6967e746d6b0"
      },
      "outputs": [
        {
          "data": {
            "text/plain": [
              "86400"
            ]
          },
          "execution_count": 2,
          "metadata": {},
          "output_type": "execute_result"
        }
      ],
      "source": [
        "seconds_in_a_day = 24 * 60 * 60\n",
        "seconds_in_a_day"
      ]
    },
    {
      "cell_type": "code",
      "execution_count": 7,
      "metadata": {},
      "outputs": [
        {
          "name": "stdout",
          "output_type": "stream",
          "text": [
            "appnope==0.1.3\n",
            "asttokens==2.4.1\n",
            "comm==0.2.0\n",
            "contourpy==1.2.0\n",
            "cycler==0.12.1\n",
            "debugpy==1.8.0\n",
            "decorator==5.1.1\n",
            "et-xmlfile==1.1.0\n",
            "executing==2.0.1\n",
            "fonttools==4.47.2\n",
            "iniconfig==2.0.0\n",
            "ipykernel==6.26.0\n",
            "ipython==8.17.2\n",
            "ipywidgets==8.1.1\n",
            "jedi==0.19.1\n",
            "jupyter_client==8.6.0\n",
            "jupyter_core==5.5.0\n",
            "jupyterlab-widgets==3.0.9\n",
            "kiwisolver==1.4.5\n",
            "matplotlib==3.8.2\n",
            "matplotlib-inline==0.1.6\n",
            "nest-asyncio==1.5.8\n",
            "numpy==1.26.2\n",
            "openpyxl==3.1.2\n",
            "packaging==23.2\n",
            "pandas==2.1.4\n",
            "parso==0.8.3\n",
            "pexpect==4.8.0\n",
            "pillow==10.2.0\n",
            "platformdirs==4.0.0\n",
            "pluggy==1.3.0\n",
            "prompt-toolkit==3.0.40\n",
            "psutil==5.9.6\n",
            "ptyprocess==0.7.0\n",
            "pure-eval==0.2.2\n",
            "Pygments==2.16.1\n",
            "pyparsing==3.1.1\n",
            "pytest==7.4.3\n",
            "python-dateutil==2.8.2\n",
            "pytz==2023.3.post1\n",
            "pyzmq==25.1.1\n",
            "six==1.16.0\n",
            "stack-data==0.6.3\n",
            "tornado==6.3.3\n",
            "traitlets==5.13.0\n",
            "tzdata==2023.3\n",
            "wcwidth==0.2.9\n",
            "widgetsnbextension==4.0.9\n"
          ]
        }
      ],
      "source": [
        "!pip freeze"
      ]
    },
    {
      "cell_type": "markdown",
      "metadata": {
        "id": "WvuwSUFaK_Ku"
      },
      "source": [
        "Variables that you define in one cell can later be used in other cells:"
      ]
    },
    {
      "cell_type": "code",
      "execution_count": 4,
      "metadata": {
        "colab": {
          "base_uri": "https://localhost:8080/"
        },
        "id": "zoYKdtinLBWS",
        "outputId": "5f5be062-3ee6-4d05-a8f2-af3a99e2215c"
      },
      "outputs": [
        {
          "data": {
            "text/plain": [
              "604800"
            ]
          },
          "execution_count": 4,
          "metadata": {},
          "output_type": "execute_result"
        }
      ],
      "source": [
        "seconds_in_a_week = 7 * seconds_in_a_day\n",
        "seconds_in_a_week"
      ]
    },
    {
      "cell_type": "markdown",
      "metadata": {
        "id": "7aoTQoazwNS2"
      },
      "source": [
        "Great, you've executed your first bit of python code! Python is an extremely _modular_ language, meaning that it is organized in chunks of code called _modules_. These modules provide all sorts of functionalities, usually dedicated to specific tasks. For example, the module collection [torch](https://pytorch.org) provides functionality for numerical computations and machine learning. We will use the torch package extensively throughout the course. By the way, collections of modules are called `packages`.\n",
        "\n",
        "The above commands just define variables and print their value. In order to do more advanced things, we now want to import packages. Click on the `Run` button again to jump to the cell of python code below and execute it."
      ]
    },
    {
      "cell_type": "code",
      "execution_count": 1,
      "metadata": {
        "colab": {
          "base_uri": "https://localhost:8080/",
          "height": 295
        },
        "id": "PYhyuvnBwNS3",
        "outputId": "d474ab5c-ec70-4023-f1ca-110e53bac39e"
      },
      "outputs": [
        {
          "data": {
            "text/plain": [
              "'2.1.0.post100'"
            ]
          },
          "execution_count": 1,
          "metadata": {},
          "output_type": "execute_result"
        }
      ],
      "source": [
        "import torch\n",
        "torch.__version__\n"
      ]
    },
    {
      "cell_type": "markdown",
      "metadata": {
        "id": "-cLpspvzwNS3"
      },
      "source": [
        "As you might have guessed, the `import` line above loads the module. Two more gimmicks:\n",
        "- the `import` command can also create aliases for modules/packages with the `as` keyword. This can be useful if the names of modules/packages are very long. \n",
        "- You can also import only _parts_ of a package. Many packages have functionalities bundled in their own small modules. \n",
        "\n",
        "If everything works correctly, you should get version numbers like these:\n",
        "```\n",
        "Torch version:      1.12.1\n",
        "```\n",
        "The beauty of using Colab is that everyone will have the same versions, such that we can easily compare our results!\n",
        "By the way, you can always click on the code and start to modify it! "
      ]
    },
    {
      "cell_type": "markdown",
      "metadata": {
        "id": "I5qhSHU5wNS5"
      },
      "source": [
        "Another thing: you can always jump back in forth within a notebook by using your up/down arrow keys or simply clicking on the cells. Sometimes it is useful to reset the notebook and start from scratch. This will remove all generated output and only leave the formatted text and code cells. To do this, click on the `Runtime` drop-down menu and click on `Restart runtime`. The kernel restart means that python will also \"forget\" about anything you did: variables you assigned, modules you imported etc. Colab notebooks execute code on Google's cloud servers, meaning you can leverage the power of Google hardware, including <a href=\"#using-accelerated-hardware\">GPUs and TPUs</a>, regardless of the power of your machine. This is particularly useful for our machine learning tasks!"
      ]
    },
    {
      "cell_type": "markdown",
      "metadata": {
        "id": "yym5kJERnlhK"
      },
      "source": [
        "# Part II - Simple Data Structures\n",
        "\n",
        "We start with the basics of machine learning, which relies on multi-dimensional data structures. Don't worry, we'll look at what that means step by step. \n"
      ]
    },
    {
      "cell_type": "markdown",
      "metadata": {
        "id": "0axkrgW4nlhK"
      },
      "source": [
        "## Array Operations\n",
        "All mathematical operations can be applied to arrays, and we can use the default python operators `+, -, *, /, //, %, **`.\n",
        "You can also modify arrays inplace using `+=, -=, /=, //=, %=, **=`.\n",
        "By default, all operations are just done element-wise.\n",
        "Note that this is only possible when the dimensionality of the operands are identical!"
      ]
    },
    {
      "cell_type": "markdown",
      "metadata": {
        "id": "ZNLq6cbZnlhL"
      },
      "source": [
        "In Python, different data structures are used regularly.\n",
        "One of these structures is a list, which can contain various different Python objects.\n",
        "Note that in python, everything is an object, even imported modules are objects that can be put into a list:"
      ]
    },
    {
      "cell_type": "code",
      "execution_count": 1,
      "metadata": {
        "id": "nXAK6cNinlhL"
      },
      "outputs": [],
      "source": [
        "import math\n",
        "values = [0, 1., 1e-4, True, \"Wednesday\", None, math]"
      ]
    },
    {
      "cell_type": "markdown",
      "metadata": {
        "id": "6ggDgE5dnlhL"
      },
      "source": [
        "In machine learning, we typically rely on numerical data only; how other types of data are handled will be discussed later in this lecture series.\n",
        "Any list of numerical values can be represented as a mathematical vector:"
      ]
    },
    {
      "cell_type": "code",
      "execution_count": 9,
      "metadata": {
        "id": "H1EPiNcInlhL"
      },
      "outputs": [],
      "source": [
        "vector = [0.,1.,2.,3.,4.]"
      ]
    },
    {
      "cell_type": "markdown",
      "metadata": {
        "id": "UVy8OP_OnlhM"
      },
      "source": [
        "Now, since a list can contain any type of objects, lists can also contain lists, in which case we talk about nested lists.\n",
        "We define a nested list of lists with different length:"
      ]
    },
    {
      "cell_type": "code",
      "execution_count": 10,
      "metadata": {
        "id": "c12BccQLnlhM"
      },
      "outputs": [],
      "source": [
        "nested = [\n",
        "  [0.,1.,2.,3.,4.],\n",
        "  [6.,7.,8.,9.],\n",
        "  [11.,12.,13.]\n",
        "]"
      ]
    },
    {
      "cell_type": "markdown",
      "metadata": {
        "id": "N73cE3qVnlhM"
      },
      "source": [
        "When all of the nested lists have the same number of elements (the same dimensionality), they build the mathematical concept of a matrix:"
      ]
    },
    {
      "cell_type": "code",
      "execution_count": 11,
      "metadata": {
        "id": "H-MA2WehnlhM"
      },
      "outputs": [],
      "source": [
        "matrix = [\n",
        "  [0.,1.,2.,3.,4.],\n",
        "  [6.,7.,8.,9.,10.],\n",
        "  [11.,12.,13.,14.,15.]\n",
        "]"
      ]
    },
    {
      "cell_type": "markdown",
      "metadata": {
        "id": "52Kg6SOpnlhM"
      },
      "source": [
        "In the above example, the matrix has three rows and five columns.\n",
        "Similarly, we can extend this idea to build a tensor, which is basically adding another layer of nesting:"
      ]
    },
    {
      "cell_type": "code",
      "execution_count": 12,
      "metadata": {
        "id": "Amb7GC9jnlhM"
      },
      "outputs": [],
      "source": [
        "tensor = [\n",
        "  [[0.,1.], [2.,3.], [4.,5.], [6.,7.]],\n",
        "  [[8.,9.], [10.,11.], [12.,13.], [14.,15.]],\n",
        "  [[16.,17.], [18.,19.], [20.,21.], [22.,23.]]\n",
        "]"
      ]
    },
    {
      "cell_type": "markdown",
      "metadata": {
        "id": "xyKVeY9JnlhN"
      },
      "source": [
        "The above tensor has the dimensionality of $3\\times4\\times2$.\n",
        "Factually, also the scalars, vectors and matrices are specializations of tensors with zero, one or two levels.\n",
        "Furthermore, tensors are not limited to three levels, but larger structures are also possible -- for example, deep learning systems usually use four or five level tensors.\n"
      ]
    },
    {
      "cell_type": "markdown",
      "metadata": {
        "id": "4dKpDVr8nlhN"
      },
      "source": [
        "## Task 2\n",
        "\n",
        "Obtain the dimensionality of the above data structures.\n",
        "The length of a list can be obtained using the `len` function in python.\n",
        "To index an element in python, you can use the index operators, e.g., `values[1]`.\n",
        "For the vector, the matrix and the tensor, obtain the dimensionality of these data structures."
      ]
    },
    {
      "cell_type": "code",
      "execution_count": 8,
      "metadata": {
        "colab": {
          "base_uri": "https://localhost:8080/"
        },
        "id": "jBLSRtdXnlhN",
        "outputId": "f6f5d95f-7d70-4c7d-ac77-462e8ab7ee2a"
      },
      "outputs": [
        {
          "name": "stdout",
          "output_type": "stream",
          "text": [
            "Ellipsis\n",
            "Ellipsis Ellipsis\n",
            "Ellipsis Ellipsis Ellipsis\n"
          ]
        }
      ],
      "source": [
        "# print the length of the vector\n",
        "print(...)\n",
        "\n",
        "# print the dimensionality of the matrix\n",
        "print(..., ...)\n",
        "\n",
        "# print the dimensionality of the tensor\n",
        "print(..., ..., ...)"
      ]
    },
    {
      "cell_type": "markdown",
      "metadata": {
        "id": "58HkeKYonlhN"
      },
      "source": [
        "\n",
        "## Torch Tensors\n",
        "While it is possible to work with these types of nested lists, it is often easier and faster to work with a dedicated data structure for numerical data.\n",
        "Such a data structure is provided in the `torch` python library.\n",
        "The basic data structure represents any multidimensional mathematical tensor, therefore the data structure is called `torch.tensor`.\n",
        "A `torch.tensor` is a Python class and can be constructed in various different ways.\n",
        "\n",
        "The easiest way of defining `torch.tensor`s is to construct them from data:"
      ]
    },
    {
      "cell_type": "code",
      "execution_count": 13,
      "metadata": {
        "id": "O3DxqRjNnlhN"
      },
      "outputs": [
        {
          "name": "stdout",
          "output_type": "stream",
          "text": [
            "tensor([[-1.0000e+00,  2.0000e+00,  3.0000e+00],\n",
            "        [ 3.0000e+00, -4.0000e+00,  1.0000e-04]])\n"
          ]
        }
      ],
      "source": [
        "import torch  # Correct import statement\n",
        "\n",
        "my_data = torch.tensor([\n",
        "  [-1., 2., 3],\n",
        "  [3., -4., 1e-4]\n",
        "])\n",
        "\n",
        "print(my_data)\n"
      ]
    },
    {
      "cell_type": "markdown",
      "metadata": {
        "id": "2KEYqk5OnlhO"
      },
      "source": [
        "We can print the contents of the tensor using pythons built-in `print` function.\n",
        "We can also obtain the dimensionality of the data by asking for its `shape`:"
      ]
    },
    {
      "cell_type": "code",
      "execution_count": 14,
      "metadata": {
        "colab": {
          "base_uri": "https://localhost:8080/"
        },
        "id": "EvGh9ge8nlhO",
        "outputId": "7aad3993-924c-410e-d03a-5765d519b5cc"
      },
      "outputs": [
        {
          "name": "stdout",
          "output_type": "stream",
          "text": [
            "tensor([[-1.0000e+00,  2.0000e+00,  3.0000e+00],\n",
            "        [ 3.0000e+00, -4.0000e+00,  1.0000e-04]])\n",
            "torch.Size([2, 3])\n"
          ]
        }
      ],
      "source": [
        "print(my_data)\n",
        "print(my_data.shape)"
      ]
    },
    {
      "cell_type": "markdown",
      "metadata": {
        "id": "Wkpmg88fnlhO"
      },
      "source": [
        "Another way of defining `torch.tensor`s is by defining their `shape`.\n",
        "The function to create an empty tensor is the `torch.empty` function.\n",
        "A specific data type can be specified using the `dtype` argument, which can take various types, such as `float` (the default), `int`, `bool`, `complex` and alike.\n",
        "The data is usually **uninitialized** and contains anything that resides in that region of the RAM:"
      ]
    },
    {
      "cell_type": "code",
      "execution_count": 2,
      "metadata": {
        "colab": {
          "base_uri": "https://localhost:8080/"
        },
        "id": "FYhQDIL5nlhP",
        "outputId": "a4729ca9-1e61-4da2-8ee2-b93d7a1f992a"
      },
      "outputs": [
        {
          "name": "stdout",
          "output_type": "stream",
          "text": [
            "tensor([[0., 0., 0., 0., 0., 0., 0.],\n",
            "        [0., 0., 0., 0., 0., 0., 0.],\n",
            "        [0., 0., 0., 0., 0., 0., 0.],\n",
            "        [0., 0., 0., 0., 0., 0., 0.]])\n",
            "tensor([[0, 0, 0],\n",
            "        [0, 0, 0]], dtype=torch.uint8)\n",
            "tensor([[False, False, False],\n",
            "        [False, False, False]])\n"
          ]
        }
      ],
      "source": [
        "empty_tensor = torch.empty((4,7), dtype=torch.float32)\n",
        "print(empty_tensor)\n",
        "\n",
        "int_tensor = torch.empty((2,3), dtype=torch.uint8)\n",
        "print(int_tensor)\n",
        "\n",
        "bool_tensor = torch.empty((2,3), dtype=torch.bool)\n",
        "print(bool_tensor)"
      ]
    },
    {
      "cell_type": "markdown",
      "metadata": {
        "id": "hgbGQ-zQnlhP"
      },
      "source": [
        "In order to initialize the data, you can use various functions.\n",
        "For examples, you can initialize with `0`, or `1`:"
      ]
    },
    {
      "cell_type": "code",
      "execution_count": 3,
      "metadata": {
        "colab": {
          "base_uri": "https://localhost:8080/"
        },
        "id": "Hua9nUl-nlhQ",
        "outputId": "6871bb40-ee03-49a3-9b86-ab00a6a7ac1e"
      },
      "outputs": [
        {
          "name": "stdout",
          "output_type": "stream",
          "text": [
            "tensor([[0., 0., 0., 0.],\n",
            "        [0., 0., 0., 0.],\n",
            "        [0., 0., 0., 0.]])\n",
            "tensor([[[1, 1, 1],\n",
            "         [1, 1, 1],\n",
            "         [1, 1, 1],\n",
            "         [1, 1, 1]],\n",
            "\n",
            "        [[1, 1, 1],\n",
            "         [1, 1, 1],\n",
            "         [1, 1, 1],\n",
            "         [1, 1, 1]]], dtype=torch.int32)\n"
          ]
        }
      ],
      "source": [
        "zero_matrix = torch.zeros((3,4))\n",
        "print(zero_matrix)\n",
        "\n",
        "one_matrix = torch.ones((2,4,3), dtype=torch.int)\n",
        "print(one_matrix)"
      ]
    },
    {
      "cell_type": "markdown",
      "metadata": {
        "id": "Nt-H5hGWnlhQ"
      },
      "source": [
        "Another option is to create random data using functionality from `torch`.\n",
        "Random values between 0 and 1 are obtained using `torch.rand`."
      ]
    },
    {
      "cell_type": "code",
      "execution_count": 51,
      "metadata": {
        "colab": {
          "base_uri": "https://localhost:8080/"
        },
        "id": "nJ8khghnnlhQ",
        "outputId": "afc7b78e-f231-49ef-9a74-4190beaf1615"
      },
      "outputs": [
        {
          "name": "stdout",
          "output_type": "stream",
          "text": [
            "tensor([[0.8468, 0.2917, 0.2709, 0.5665],\n",
            "        [0.5061, 0.3054, 0.6040, 0.2143]])\n"
          ]
        }
      ],
      "source": [
        "random_tensor = torch.rand((2,4))\n",
        "print(random_tensor)"
      ]
    },
    {
      "cell_type": "markdown",
      "metadata": {
        "id": "22QDv0FZnlhQ"
      },
      "source": [
        "Normal distributed values can be obtained with `torch.normal` where one can specify the mean and the standard deviation of the values.\n",
        "For example, if you want to have 6 two-dimensional normal distributed vectors with `mean` $(-3,1)$ and standard deviation `std` of $(2,1)$, you can write:"
      ]
    },
    {
      "cell_type": "code",
      "execution_count": 14,
      "metadata": {
        "colab": {
          "base_uri": "https://localhost:8080/"
        },
        "id": "MGu5xAsznlhR",
        "outputId": "72c60b4d-40f9-44d3-8ef2-9c834ea1bd2d"
      },
      "outputs": [
        {
          "name": "stdout",
          "output_type": "stream",
          "text": [
            "tensor([[-1.9606,  0.9443],\n",
            "        [-5.5221,  1.7604],\n",
            "        [-4.0747,  1.5526],\n",
            "        [-1.8007,  0.2383],\n",
            "        [-4.5127,  2.6852],\n",
            "        [-2.3927,  2.4824]])\n"
          ]
        }
      ],
      "source": [
        "normal_tensor = torch.normal(mean = torch.tensor([(-3,1.)]*6), std = torch.tensor([(2.,1.)]*6))\n",
        "print(normal_tensor)"
      ]
    },
    {
      "cell_type": "markdown",
      "metadata": {
        "id": "OyVfCQ9hnlhR"
      },
      "source": [
        "More random distributions can be found in the `torch.distributions` package, for more information check the following [link](https://pytorch.org/docs/stable/distributions.html)"
      ]
    },
    {
      "cell_type": "code",
      "execution_count": 12,
      "metadata": {
        "colab": {
          "base_uri": "https://localhost:8080/"
        },
        "id": "hA3AjgVGnlhR",
        "outputId": "ee6b8ff0-68c1-42f2-846e-17c8a73b8c17"
      },
      "outputs": [
        {
          "name": "stdout",
          "output_type": "stream",
          "text": [
            "tensor([[ 0.7272,  0.1835],\n",
            "        [-1.8446,  1.4076],\n",
            "        [-5.3543,  0.7851]])\n",
            "tensor([[1., 1., 1.],\n",
            "        [1., 1., 1.],\n",
            "        [1., 1., 1.],\n",
            "        [1., 1., 1.]])\n"
          ]
        }
      ],
      "source": [
        "normal_tensor = torch.distributions.normal.Normal(loc=torch.tensor((-3.,1.)), scale=torch.tensor((2.,1.))).sample([3])\n",
        "print(normal_tensor)\n",
        "\n",
        "bernoulli_tensor = torch.distributions.bernoulli.Bernoulli(probs=0.9).sample([4,3])\n",
        "print(bernoulli_tensor)"
      ]
    },
    {
      "cell_type": "markdown",
      "metadata": {
        "id": "qxmz1ymanlhS"
      },
      "source": [
        "## Task 3\n",
        "\n",
        "Create `torch.tensor`s for all our data structures from above.\n",
        "Print the shapes of all structures.\n",
        "What happens to our nested list above?"
      ]
    },
    {
      "cell_type": "code",
      "execution_count": 4,
      "metadata": {
        "id": "x7oYYsmrnlhS"
      },
      "outputs": [
        {
          "name": "stdout",
          "output_type": "stream",
          "text": [
            "torch.Size([])\n",
            "torch.Size([5])\n",
            "torch.Size([2, 4])\n"
          ]
        }
      ],
      "source": [
        "# turn all of our data structures into torch tensors\n",
        "torch_scalar = torch.tensor(1)\n",
        "torch_vector = torch.tensor([1,2,3,4,5])\n",
        "torch_matrix = torch.ones(2,4)\n",
        "torch_tensor = ...\n",
        "\n",
        "# print their shapes\n",
        "print(torch_scalar.shape)\n",
        "print(torch_vector.shape)\n",
        "print(torch_matrix.shape)\n",
        "\n",
        "# what about nested tensors of different lengths?\n",
        "torch_nested = ..."
      ]
    },
    {
      "cell_type": "markdown",
      "metadata": {
        "id": "VPbpdj13nlhS"
      },
      "source": [
        "## Tensor Operations\n",
        "All mathematical operations can also be applied to tensors, and we can use the default python operators `+, -, *, /, //, %, **`.\n",
        "You can also modify tensors inplace using `+=, -=, /=, //=, %=, **=`.\n",
        "By default, all operations are just done element-wise.\n",
        "This is possible when the dimensionality of the operands are identical:"
      ]
    },
    {
      "cell_type": "code",
      "execution_count": 6,
      "metadata": {
        "colab": {
          "base_uri": "https://localhost:8080/"
        },
        "id": "HlLMP35OnlhS",
        "outputId": "e0c2217b-f95f-4277-f1b3-0910fdf9063f"
      },
      "outputs": [
        {
          "name": "stdout",
          "output_type": "stream",
          "text": [
            "tensor([[-1., -1.],\n",
            "        [-1., -1.],\n",
            "        [-1., -1.]])\n"
          ]
        }
      ],
      "source": [
        "negatives = torch.zeros((3,2)) - torch.ones((3,2))\n",
        "print(negatives)"
      ]
    },
    {
      "cell_type": "markdown",
      "metadata": {
        "id": "JpwvSyQpnlhS"
      },
      "source": [
        "Mathematical operations can also be **broadcasted**, i.e., dimensionalities are automatically adapted.\n",
        "The most simple broadcasting is via a scalar, but more complicated broadcasts can be done."
      ]
    },
    {
      "cell_type": "code",
      "execution_count": 17,
      "metadata": {
        "colab": {
          "base_uri": "https://localhost:8080/"
        },
        "id": "r6Ihg41DnlhT",
        "outputId": "a6377b46-61dd-44d4-b981-20032c52f572"
      },
      "outputs": [
        {
          "name": "stdout",
          "output_type": "stream",
          "text": [
            "tensor([[ 3.8063, -3.6384],\n",
            "        [ 4.8715,  3.0989],\n",
            "        [-3.7402,  0.2399],\n",
            "        [ 1.6542,  0.3683]])\n",
            "tensor([[-1.,  3.],\n",
            "        [-1.,  3.],\n",
            "        [-1.,  3.]])\n"
          ]
        }
      ],
      "source": [
        "random_range = torch.rand((4,2)) * 10. - 5.\n",
        "print(random_range)\n",
        "\n",
        "mixes = torch.ones((3,2)) * torch.tensor([-1,3])\n",
        "print(mixes)"
      ]
    },
    {
      "cell_type": "markdown",
      "metadata": {
        "id": "_wo44zSnnlhT"
      },
      "source": [
        "Comparison of tensors can be done using the default comparison operators `>, >=, <, <=, ==`.\n",
        "These operations are applied element-wise and result in boolean tensors.\n",
        "If you want to reduce these to a single value (to be used in an `if` condition), you can use the `all` or `any` functions.\n",
        "Broadcasting applies for comparison operators as well:"
      ]
    },
    {
      "cell_type": "code",
      "execution_count": 18,
      "metadata": {
        "colab": {
          "base_uri": "https://localhost:8080/"
        },
        "id": "b00H7Uv1nlhT",
        "outputId": "b0da5faa-9aa7-442b-e7c9-222ea7a3764d"
      },
      "outputs": [
        {
          "name": "stdout",
          "output_type": "stream",
          "text": [
            "tensor([[ True, False],\n",
            "        [ True,  True],\n",
            "        [False,  True],\n",
            "        [ True,  True]])\n",
            "tensor(False)\n",
            "tensor(True)\n"
          ]
        }
      ],
      "source": [
        "random_positives = random_range > 0\n",
        "print(random_positives)\n",
        "print(random_positives.all())\n",
        "print(random_positives.any())"
      ]
    },
    {
      "cell_type": "markdown",
      "metadata": {
        "id": "9OqIC1E3nlhT"
      },
      "source": [
        "Also, other mathematical operations are applied element-wise:"
      ]
    },
    {
      "cell_type": "code",
      "execution_count": 19,
      "metadata": {
        "colab": {
          "base_uri": "https://localhost:8080/"
        },
        "id": "BAhsBk64nlhT",
        "outputId": "40c30b45-1b96-4e81-faa4-1c7ae2bfd641"
      },
      "outputs": [
        {
          "name": "stdout",
          "output_type": "stream",
          "text": [
            "tensor([  2.7183,   7.3891,  20.0855,  54.5981, 148.4132])\n",
            "tensor([ 0.8415,  0.9093,  0.1411, -0.7568, -0.9589])\n",
            "tensor([0.0000, 0.6931, 1.0986, 1.3863, 1.6094])\n"
          ]
        }
      ],
      "source": [
        "x = torch.tensor([1.,2.,3.,4.,5.])\n",
        "print(torch.exp(x))\n",
        "print(torch.sin(x))\n",
        "print(torch.log(x))"
      ]
    },
    {
      "cell_type": "markdown",
      "metadata": {
        "id": "1JA-bqmxnlhT"
      },
      "source": [
        "Tensors can also be combined using `torch` functionality.\n",
        "For example, `torch.concat` will concatenate two tensors (where the all but the first level must be identically shaped), while `torch.stack` will produce a new dimension (all dimensions must be identically shaped):"
      ]
    },
    {
      "cell_type": "code",
      "execution_count": 20,
      "metadata": {
        "colab": {
          "base_uri": "https://localhost:8080/"
        },
        "id": "47vIjQB4nlhT",
        "outputId": "8554b975-aedc-4458-be52-1cd778953184"
      },
      "outputs": [
        {
          "name": "stdout",
          "output_type": "stream",
          "text": [
            "tensor([[0., 0., 0., 0.],\n",
            "        [0., 0., 0., 0.],\n",
            "        [1., 1., 1., 1.],\n",
            "        [1., 1., 1., 1.],\n",
            "        [1., 1., 1., 1.]])\n",
            "tensor([[[0., 0., 0., 0.],\n",
            "         [0., 0., 0., 0.]],\n",
            "\n",
            "        [[1., 1., 1., 1.],\n",
            "         [1., 1., 1., 1.]]])\n"
          ]
        }
      ],
      "source": [
        "concatenated = torch.concat((torch.zeros((2,4)), torch.ones((3,4))))\n",
        "print(concatenated)\n",
        "\n",
        "stacked = torch.stack((torch.zeros((2,4)), torch.ones((2,4))))\n",
        "print(stacked)"
      ]
    },
    {
      "cell_type": "markdown",
      "metadata": {
        "id": "dPK9NYtknlhT"
      },
      "source": [
        "### Indexing Tensors\n",
        "Tensors can be indexed in several ways, typically using the index `[]` operator.\n",
        "To obtain a certain value, you can specify the exact index.\n",
        "Indexing starts at 0 and negative indexes work similarly as with python lists.\n",
        "Other than for python lists, indexes can contain tuples:"
      ]
    },
    {
      "cell_type": "code",
      "execution_count": 21,
      "metadata": {},
      "outputs": [
        {
          "data": {
            "text/plain": [
              "tensor([[-1.9606,  0.9443],\n",
              "        [-5.5221,  1.7604],\n",
              "        [-4.0747,  1.5526],\n",
              "        [-1.8007,  0.2383],\n",
              "        [-4.5127,  2.6852],\n",
              "        [-2.3927,  2.4824]])"
            ]
          },
          "execution_count": 21,
          "metadata": {},
          "output_type": "execute_result"
        }
      ],
      "source": [
        "normal_tensor"
      ]
    },
    {
      "cell_type": "code",
      "execution_count": 22,
      "metadata": {
        "colab": {
          "base_uri": "https://localhost:8080/"
        },
        "id": "kNuU3O1_nlhT",
        "outputId": "ae06a6ba-ff38-4ac5-b4d9-ca8be580bfd1"
      },
      "outputs": [
        {
          "name": "stdout",
          "output_type": "stream",
          "text": [
            "tensor(0.2383)\n",
            "tensor(0.2383)\n"
          ]
        }
      ],
      "source": [
        "print(normal_tensor[3][1])\n",
        "print(normal_tensor[3,1])"
      ]
    },
    {
      "cell_type": "markdown",
      "metadata": {
        "id": "jSHWj4xjnlhU"
      },
      "source": [
        "As you can see, when using the index operator, a scalar value is returned, which is defined as a `torch.tensor` with a single value.\n",
        "If you want to obtain the raw data, you can use the `.item()` function on the tensor; note that this only works for scalars, not for vectors, matrices or higher-order tensors."
      ]
    },
    {
      "cell_type": "code",
      "execution_count": 23,
      "metadata": {
        "colab": {
          "base_uri": "https://localhost:8080/"
        },
        "id": "w0qVkdkQnlhU",
        "outputId": "85283e40-2f0b-41cf-9439-061fa5c30aee"
      },
      "outputs": [
        {
          "name": "stdout",
          "output_type": "stream",
          "text": [
            "0.23827695846557617\n"
          ]
        }
      ],
      "source": [
        "print(normal_tensor[3,1].item())"
      ]
    },
    {
      "cell_type": "code",
      "execution_count": 47,
      "metadata": {},
      "outputs": [
        {
          "data": {
            "text/plain": [
              "tensor([[-3.8063, -3.6384],\n",
              "        [-4.8715, -3.0989],\n",
              "        [-3.7402, -0.2399],\n",
              "        [-1.6542, -0.3683]])"
            ]
          },
          "execution_count": 47,
          "metadata": {},
          "output_type": "execute_result"
        }
      ],
      "source": [
        "random_range"
      ]
    },
    {
      "cell_type": "markdown",
      "metadata": {
        "id": "sh_i1XwjnlhU"
      },
      "source": [
        "You can also use boolean tensors for indexing.\n",
        "Note that also integral tensors are allowed, but results might be different from what you expect."
      ]
    },
    {
      "cell_type": "code",
      "execution_count": 24,
      "metadata": {
        "colab": {
          "base_uri": "https://localhost:8080/"
        },
        "id": "xapCV595nlhU",
        "outputId": "2eb1abbf-129a-450e-9eff-8c55efa910d9"
      },
      "outputs": [
        {
          "name": "stdout",
          "output_type": "stream",
          "text": [
            "tensor([[-3.8063, -3.6384],\n",
            "        [-4.8715, -3.0989],\n",
            "        [-3.7402, -0.2399],\n",
            "        [-1.6542, -0.3683]])\n",
            "tensor(True)\n"
          ]
        }
      ],
      "source": [
        "random_range[random_positives] *= -1\n",
        "print(random_range)\n",
        "print(torch.all(random_range <= 0))"
      ]
    },
    {
      "cell_type": "markdown",
      "metadata": {
        "id": "KBDtYSGMnlhU"
      },
      "source": [
        "When indexing tensors with fewer entries than levels, sub-tensors are returned.\n",
        "Indexing always starts at the first level, missing levels are assumed to be all elements:"
      ]
    },
    {
      "cell_type": "code",
      "execution_count": 25,
      "metadata": {
        "colab": {
          "base_uri": "https://localhost:8080/"
        },
        "id": "BBcMC-P8nlhU",
        "outputId": "32355496-0417-4846-8026-a9df80d50d4b"
      },
      "outputs": [
        {
          "name": "stdout",
          "output_type": "stream",
          "text": [
            "tensor([0., 0., 0., 0.])\n",
            "tensor([0., 0., 0., 0.])\n",
            "tensor([-1.9606,  0.9443])\n",
            "tensor(1.)\n"
          ]
        }
      ],
      "source": [
        "print(zero_matrix[0])\n",
        "print(zero_matrix[1])\n",
        "print(normal_tensor[0])\n",
        "print(bernoulli_tensor[0,2])"
      ]
    },
    {
      "cell_type": "markdown",
      "metadata": {
        "id": "Yyofb8yCnlhU"
      },
      "source": [
        "You can also use `start:end` to define ranges, where `:` just represents all elements as this level. \n",
        "Similarly, you can define `start:end:step` to define slices.\n",
        "This can be useful, when you actually want to index the second level only.\n",
        "Note that negative `step`s are not allowed in PyTorch (in `numpy`, they are allowed)."
      ]
    },
    {
      "cell_type": "code",
      "execution_count": 26,
      "metadata": {
        "colab": {
          "base_uri": "https://localhost:8080/"
        },
        "id": "boeZYOZdnlhU",
        "outputId": "a722648f-d9a9-427f-9631-1be572d2b7e1"
      },
      "outputs": [
        {
          "name": "stdout",
          "output_type": "stream",
          "text": [
            "tensor(5.)\n",
            "tensor([0.9443, 1.7604, 1.5526, 0.2383, 2.6852, 2.4824])\n",
            "tensor([[1., 1.]])\n"
          ]
        }
      ],
      "source": [
        "print(x[-1])\n",
        "print(normal_tensor[:,1])\n",
        "print(bernoulli_tensor[0:2:2,::2])"
      ]
    },
    {
      "cell_type": "markdown",
      "metadata": {
        "id": "gN9VWaYHnlhU"
      },
      "source": [
        "## Task 4\n",
        "Generate a random tensor of dimension `(5,4)`, where the values are in range $[-2, 4]$.\n",
        "Multiply all negative values with 4, divide all positive values by 4.\n",
        "Print the tensor.\n",
        "Compute and print the sum of all elements in the tensor."
      ]
    },
    {
      "cell_type": "code",
      "execution_count": 58,
      "metadata": {
        "colab": {
          "base_uri": "https://localhost:8080/"
        },
        "id": "taD0-QkznlhU",
        "outputId": "7b106a29-1a59-44e0-c6f9-7a3233d47912"
      },
      "outputs": [
        {
          "name": "stdout",
          "output_type": "stream",
          "text": [
            "tensor([[-1.3473,  0.6077, -1.6333,  2.3376],\n",
            "        [-0.2168,  2.6759,  2.6606,  3.6538],\n",
            "        [ 1.9698,  3.2198,  0.6060,  0.6184],\n",
            "        [ 1.5184,  0.5915,  2.7466,  3.5615],\n",
            "        [ 3.5121,  0.3388, -1.5632,  2.6607]])\n",
            "tensor([[5.3892, 0.6077, 6.5334, 2.3376],\n",
            "        [0.8673, 2.6759, 2.6606, 3.6538],\n",
            "        [1.9698, 3.2198, 0.6060, 0.6184],\n",
            "        [1.5184, 0.5915, 2.7466, 3.5615],\n",
            "        [3.5121, 0.3388, 6.2528, 2.6607]])\n",
            "tensor([[1.3473, 0.1519, 1.6333, 0.5844],\n",
            "        [0.2168, 0.6690, 0.6651, 0.9134],\n",
            "        [0.4925, 0.8049, 0.1515, 0.1546],\n",
            "        [0.3796, 0.1479, 0.6866, 0.8904],\n",
            "        [0.8780, 0.0847, 1.5632, 0.6652]])\n",
            "tensor(13.0805)\n"
          ]
        }
      ],
      "source": [
        "# generate random tensor in range [-2,4] with shape (5,4)\n",
        "random_tensor = torch.rand((5,4),) * ((-2) - 4) + 4\n",
        "print(random_tensor)\n",
        "# multiply negative values with 4\n",
        "random_tensor[random_tensor < 0] *= (-4)\n",
        "print(random_tensor)\n",
        "# divide positive values by 4\n",
        "random_tensor[random_tensor > 0] /= 4\n",
        "# print the tensor\n",
        "print(random_tensor)\n",
        "\n",
        "# compute and print the sum of the elements in the tensor\n",
        "print(torch.sum(random_tensor))"
      ]
    },
    {
      "cell_type": "markdown",
      "metadata": {
        "id": "iIued76NnlhU"
      },
      "source": [
        "## Sorting Tensors\n",
        "Several times, you will need to sort your tensors ascendingly.\n",
        "Similarly to the `sorted` function in python, you can sort a tensor using `torch.sort`.\n",
        "Note that this function returns two values: the sorted tensor, and the indexes that -- applied to the original unsorted tensor -- will provide the sorted tensor:"
      ]
    },
    {
      "cell_type": "code",
      "execution_count": 29,
      "metadata": {
        "colab": {
          "base_uri": "https://localhost:8080/"
        },
        "id": "VkFgGxvsnlhU",
        "outputId": "3fcbfa57-215f-477e-f272-b45ce9c74766"
      },
      "outputs": [
        {
          "name": "stdout",
          "output_type": "stream",
          "text": [
            "tensor([-5, -4,  0,  3,  4,  6,  7])\n",
            "tensor([3, 0, 4, 1, 6, 5, 2])\n",
            "tensor([-5, -4,  0,  3,  4,  6,  7])\n"
          ]
        }
      ],
      "source": [
        "unsorted = torch.tensor([-4, 3, 7, -5, 0, 6, 4])\n",
        "sorted_tensor, sorted_indexes = torch.sort(unsorted)\n",
        "print(sorted_tensor)\n",
        "print(sorted_indexes)\n",
        "print(unsorted[sorted_indexes])"
      ]
    },
    {
      "cell_type": "markdown",
      "metadata": {
        "id": "oYH8vrNDnlhV"
      },
      "source": [
        "## Matrix Operations\n",
        "As mentioned above, by default all tensor operations are performed element-wise.\n",
        "Mathematical matrix operations can be applied using `torch` functionality.\n",
        "For example, the dot product between two tensors (matrices, vectors) can be performed via `torch.matmul`.\n",
        "Vector operations are, for example, `torch.inner`, `torch.outer`.\n",
        "Matrices can be transposed using `torch.transpose` or quickly the `.T` member."
      ]
    },
    {
      "cell_type": "code",
      "execution_count": 30,
      "metadata": {
        "colab": {
          "base_uri": "https://localhost:8080/"
        },
        "id": "ekUfZBaOnlhV",
        "outputId": "bcad6532-deac-41ba-fd38-46c56f45edfa"
      },
      "outputs": [
        {
          "name": "stdout",
          "output_type": "stream",
          "text": [
            "tensor([1.2787, 1.2290, 0.7449])\n",
            "tensor([1.2787, 1.2290, 0.7449])\n"
          ]
        }
      ],
      "source": [
        "vector = torch.rand((4))\n",
        "matrix = torch.rand((3,4))\n",
        "print(torch.matmul(matrix, vector))\n",
        "print(torch.matmul(vector, matrix.T))"
      ]
    },
    {
      "cell_type": "markdown",
      "metadata": {
        "id": "RXZPFj3-nlhV"
      },
      "source": [
        "We can also reduce matrices by computing min, max, mean and standard deviation across a specific dimension `dim`.\n",
        "Please note that `torch.max` additionally returns the indexes across the given `dim` when a `dim` is specified."
      ]
    },
    {
      "cell_type": "code",
      "execution_count": 31,
      "metadata": {
        "colab": {
          "base_uri": "https://localhost:8080/"
        },
        "id": "wPZnHvGonlhV",
        "outputId": "259b87c8-423c-43db-e6da-a62b075f5fa2"
      },
      "outputs": [
        {
          "name": "stdout",
          "output_type": "stream",
          "text": [
            "tensor(-23.8549)\n",
            "torch.return_types.max(\n",
            "values=tensor([17.5845, 28.8226]),\n",
            "indices=tensor([186, 210]))\n",
            "tensor([-3.1185,  4.3945])\n",
            "tensor([6.1851, 6.8541])\n"
          ]
        }
      ],
      "source": [
        "normal_tensor = torch.distributions.normal.Normal(torch.tensor((-3,4.)), torch.tensor((6.,7.))).sample([1000])\n",
        "print(torch.min(normal_tensor))\n",
        "print(torch.max(normal_tensor, dim=0))\n",
        "print(torch.mean(normal_tensor, dim=0))\n",
        "print(torch.std(normal_tensor, dim=0))"
      ]
    },
    {
      "cell_type": "markdown",
      "metadata": {
        "id": "HVEZVPuhnlhV"
      },
      "source": [
        "We can also quickly compute norms of vectors and matrices, or invert matrices:"
      ]
    },
    {
      "cell_type": "code",
      "execution_count": 32,
      "metadata": {
        "colab": {
          "base_uri": "https://localhost:8080/"
        },
        "id": "43sbGFERnlhV",
        "outputId": "f4d0c541-74e8-4b33-f28a-8ed37bd29f19"
      },
      "outputs": [
        {
          "name": "stdout",
          "output_type": "stream",
          "text": [
            "1.5159059762954712\n",
            "tensor([[ 0.5000,  0.0000],\n",
            "        [ 0.0000, -0.5000]])\n"
          ]
        }
      ],
      "source": [
        "print(torch.norm(vector).item())\n",
        "print(torch.inverse(torch.tensor([[2.,0.], [0.,-2.]])))\n"
      ]
    },
    {
      "cell_type": "markdown",
      "metadata": {
        "id": "lwr2rrEonlhV"
      },
      "source": [
        " Since torch is optimized for parallel processing, distance computations are not as straightforward.\n",
        " We first need to instantiate a distance object, and then we can compute distances: "
      ]
    },
    {
      "cell_type": "code",
      "execution_count": 33,
      "metadata": {
        "colab": {
          "base_uri": "https://localhost:8080/"
        },
        "id": "-k6No5kInlhV",
        "outputId": "024d2027-0488-4098-ded7-295f77031238"
      },
      "outputs": [
        {
          "name": "stdout",
          "output_type": "stream",
          "text": [
            "4.000001907348633\n",
            "0.8189029693603516\n"
          ]
        }
      ],
      "source": [
        "euclidean = torch.nn.PairwiseDistance(p=2)\n",
        "print(euclidean(vector, vector-2).item())\n",
        "\n",
        "cosine = torch.nn.CosineSimilarity(dim=0)\n",
        "print(cosine(vector, matrix[0]).item())"
      ]
    },
    {
      "cell_type": "markdown",
      "metadata": {
        "id": "I5ucb8_inlhV"
      },
      "source": [
        "# Part III - Plotting with matplotlib\n",
        "\n",
        "Plotting is usually done with `matplotlib`, which typically handles `torch.tensor`s as expected.\n",
        "Here, we describe only the standard functionality, much more can be done otherwise.\n",
        "All plots in the slides are generated with `matplotlib`. We import the package by running:\n"
      ]
    },
    {
      "cell_type": "code",
      "execution_count": 34,
      "metadata": {
        "id": "pN2jz7FMnlhV"
      },
      "outputs": [],
      "source": [
        "from matplotlib import pyplot"
      ]
    },
    {
      "cell_type": "markdown",
      "metadata": {
        "id": "AAsJJyKDnlhW"
      },
      "source": [
        "\n",
        "## Line plotting\n",
        "There are several ways of plotting a line in `matplotlib`.\n",
        "A straight line can be defined by a start and an end point.\n",
        "The `pyplot.plot` function will take all x-positions and y-positions in a list/array/tensor.\n",
        "How the line is plotted is defined using a `format` option, which combines color `rgbkmcy` and style `.+*xosd-:`.\n",
        "A blue line is plotted with format `b-`:"
      ]
    },
    {
      "cell_type": "code",
      "execution_count": 35,
      "metadata": {
        "colab": {
          "base_uri": "https://localhost:8080/",
          "height": 105
        },
        "id": "7leuxVDxnlhW",
        "outputId": "608bce93-3894-4467-fbc6-c13578f4aa28"
      },
      "outputs": [
        {
          "data": {
            "text/plain": [
              "[<matplotlib.lines.Line2D at 0x7fc0d4129f10>]"
            ]
          },
          "execution_count": 35,
          "metadata": {},
          "output_type": "execute_result"
        },
        {
          "data": {
            "image/png": "[encoded data removed]",
            "text/plain": [
              "<Figure size 432x288 with 1 Axes>"
            ]
          },
          "metadata": {
            "needs_background": "light"
          },
          "output_type": "display_data"
        }
      ],
      "source": [
        "two_points = torch.tensor([\n",
        "  (-1,1),\n",
        "  (2,-2)\n",
        "])\n",
        "pyplot.plot(two_points[0], two_points[1], \"b-\")"
      ]
    },
    {
      "cell_type": "markdown",
      "metadata": {
        "id": "JM33eNgRnlhW"
      },
      "source": [
        "Generally, `matplotlib` plots points connected with straight lines. \n",
        "To be more fine-grained, use more offset positions."
      ]
    },
    {
      "cell_type": "code",
      "execution_count": 36,
      "metadata": {
        "colab": {
          "base_uri": "https://localhost:8080/",
          "height": 105
        },
        "id": "rf2Nol4XnlhW",
        "outputId": "380542db-59b2-45a5-b026-dc4a6c6aaed3"
      },
      "outputs": [
        {
          "data": {
            "text/plain": [
              "[<matplotlib.lines.Line2D at 0x7fc0d3c29750>]"
            ]
          },
          "execution_count": 36,
          "metadata": {},
          "output_type": "execute_result"
        },
        {
          "data": {
            "image/png": "[encoded data removed]",
            "text/plain": [
              "<Figure size 432x288 with 1 Axes>"
            ]
          },
          "metadata": {
            "needs_background": "light"
          },
          "output_type": "display_data"
        }
      ],
      "source": [
        "x = torch.arange(0,6.001,2)\n",
        "pyplot.plot(x,torch.exp(x), \"r-\")\n",
        "\n",
        "x = torch.arange(0,6.001,0.01)\n",
        "pyplot.plot(x,torch.exp(x), \"g-\")"
      ]
    },
    {
      "cell_type": "markdown",
      "metadata": {
        "id": "NfQJxJBDnlhW"
      },
      "source": [
        "You can also add labels, axis labels, and more:"
      ]
    },
    {
      "cell_type": "code",
      "execution_count": 37,
      "metadata": {
        "colab": {
          "base_uri": "https://localhost:8080/",
          "height": 105
        },
        "id": "d7ZkbA7WnlhW",
        "outputId": "80b435c4-ec4d-421b-fb62-27a816e3a41e"
      },
      "outputs": [
        {
          "data": {
            "text/plain": [
              "Text(0, 0.5, 'y')"
            ]
          },
          "execution_count": 37,
          "metadata": {},
          "output_type": "execute_result"
        },
        {
          "data": {
            "image/png": "[encoded data removed]",
            "text/plain": [
              "<Figure size 432x288 with 1 Axes>"
            ]
          },
          "metadata": {
            "needs_background": "light"
          },
          "output_type": "display_data"
        }
      ],
      "source": [
        "pyplot.plot(torch.cos(x), \"g:\", label=\"cos\")\n",
        "pyplot.plot(torch.sin(x), \"r--\", label=\"sin\")\n",
        "pyplot.legend()\n",
        "pyplot.xlabel(\"x\")\n",
        "pyplot.ylabel(\"y\")"
      ]
    },
    {
      "cell_type": "markdown",
      "metadata": {
        "id": "odDFpELznlhW"
      },
      "source": [
        "## Plotting Points\n",
        "Points can be plotted in various ways. \n",
        "For example, you can select a different marker instead of a line:"
      ]
    },
    {
      "cell_type": "code",
      "execution_count": 38,
      "metadata": {
        "colab": {
          "base_uri": "https://localhost:8080/",
          "height": 105
        },
        "id": "rLkrLS18nlhW",
        "outputId": "40ad2723-b5c2-4396-be1c-71c97381c707"
      },
      "outputs": [
        {
          "data": {
            "text/plain": [
              "Text(0, 0.5, 'y')"
            ]
          },
          "execution_count": 38,
          "metadata": {},
          "output_type": "execute_result"
        },
        {
          "data": {
            "image/png": "[encoded data removed]",
            "text/plain": [
              "<Figure size 432x288 with 1 Axes>"
            ]
          },
          "metadata": {
            "needs_background": "light"
          },
          "output_type": "display_data"
        }
      ],
      "source": [
        "x = torch.arange(0, 6.01, 0.5)\n",
        "pyplot.plot(x, x**2, \"gx\", label=\"$x^2$\")\n",
        "pyplot.plot(x, 2**x, \"mo\", label=\"$2^x$\")\n",
        "pyplot.legend()\n",
        "pyplot.xlabel(\"x\")\n",
        "pyplot.ylabel(\"y\")"
      ]
    },
    {
      "cell_type": "markdown",
      "metadata": {
        "id": "r997wAnenlhW"
      },
      "source": [
        "Note that the points do not need to be related in any way:"
      ]
    },
    {
      "cell_type": "code",
      "execution_count": 39,
      "metadata": {
        "colab": {
          "base_uri": "https://localhost:8080/",
          "height": 105
        },
        "id": "CBgxC-PLnlhW",
        "outputId": "e8e9b93d-193e-45b7-a132-e7f86bcba8bb"
      },
      "outputs": [
        {
          "data": {
            "text/plain": [
              "[<matplotlib.lines.Line2D at 0x7fc0d4103410>]"
            ]
          },
          "execution_count": 39,
          "metadata": {},
          "output_type": "execute_result"
        },
        {
          "data": {
            "image/png": "[encoded data removed]",
            "text/plain": [
              "<Figure size 432x288 with 1 Axes>"
            ]
          },
          "metadata": {
            "needs_background": "light"
          },
          "output_type": "display_data"
        }
      ],
      "source": [
        "points = torch.rand(size=(100,2))\n",
        "pyplot.plot(points[:,0], points[:,1], \"rs\")"
      ]
    },
    {
      "cell_type": "markdown",
      "metadata": {
        "id": "BlLRYGCmnlhX"
      },
      "source": [
        "## Task 5\n",
        "Create equidistant and sorted input values $-4\\leq x \\leq4$. (Hint: as shown prior you can do this with [torch.arange()](https://pytorch.org/docs/stable/generated/torch.arange.html))\n",
        "\n",
        "Compute the function $y = f(x)=2 x^2 + 10\\cos(x)$.\n",
        "\n",
        "Plot the function $(x,y)$ as a green line plot and label `function`. (Hint: look how prior plots where done with matplotlib)\n",
        "\n",
        "Add noise to your output $t = y + \\mathcal N(0,3)$.\n",
        "\n",
        "Plot the points $(x,t)$ as separate points with start shape and red color and label `points`."
      ]
    },
    {
      "cell_type": "code",
      "execution_count": 40,
      "metadata": {
        "colab": {
          "base_uri": "https://localhost:8080/"
        },
        "id": "NRx1rhLWnlhX",
        "outputId": "44dacbde-7f29-4214-c859-3c9cc5a83f63"
      },
      "outputs": [
        {
          "data": {
            "text/plain": [
              "Ellipsis"
            ]
          },
          "execution_count": 40,
          "metadata": {},
          "output_type": "execute_result"
        }
      ],
      "source": [
        "# create equidistant input values x in range [-4, 4]\n",
        "x = ...\n",
        "# compute function y = 2x^2 + 10 cos(x)\n",
        "y = ...\n",
        "\n",
        "# plot function by providing points for x and y, with the label \"function\"\n",
        "...\n",
        "\n",
        "# select our targets t to be the function y with some additional Gaussian-distributed noise with mean 0 and std 3.\n",
        "t = ...\n",
        "\n",
        "# plot the points with a star marker with the label (\"points\")\n",
        "...\n",
        "\n",
        "# add the label using .legend() function\n",
        "..."
      ]
    }
  ],
  "metadata": {
    "colab": {
      "collapsed_sections": [
        "ZgZFNoe7xwnm",
        "CRZl0gYAJKxU",
        "0axkrgW4nlhK",
        "4dKpDVr8nlhN",
        "58HkeKYonlhN",
        "qxmz1ymanlhS",
        "VPbpdj13nlhS",
        "gN9VWaYHnlhU",
        "iIued76NnlhU",
        "oYH8vrNDnlhV",
        "AAsJJyKDnlhW",
        "odDFpELznlhW"
      ],
      "provenance": []
    },
    "kernelspec": {
      "display_name": ".venv",
      "language": "python",
      "name": "python3"
    },
    "language_info": {
      "codemirror_mode": {
        "name": "ipython",
        "version": 3
      },
      "file_extension": ".py",
      "mimetype": "text/x-python",
      "name": "python",
      "nbconvert_exporter": "python",
      "pygments_lexer": "ipython3",
      "version": "3.11.7"
    },
    "orig_nbformat": 4
  },
  "nbformat": 4,
  "nbformat_minor": 0
}
