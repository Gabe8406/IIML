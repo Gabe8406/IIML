{
 "cells": [
  {
   "cell_type": "markdown",
   "metadata": {},
   "source": [
    "# Welcome to Machine Learning -- An Interdisciplinary Introduction\n",
    "\n",
    "In our hands-on sessions, we will introduce and utilize several machine learning techniques.\n",
    " \n",
    "\n"
   ]
  },
  {
   "cell_type": "markdown",
   "metadata": {},
   "source": [
    "## Introduction\n",
    "\n",
    "### Simple Data Structures\n",
    "This first JuPyter notebook explains the basics of machine learning, which is a Multi-Dimensional Array structure.\n",
    "Many of you are surely familiar with scalar value. \n",
    "These are just single numbers that have a specific value."
   ]
  },
  {
   "cell_type": "markdown",
   "metadata": {},
   "source": [
    "### Array Operations\n",
    "All mathematical operations can be applied to matrices, and we can use the default python operators `+, -, *, /, //, %, **`.\n",
    "You can also modify matrices inplace using `+=, -=, /=, //=, %=, **=`.\n",
    "By default, all operations are just done element-wise.\n",
    "This is only possible when the dimensionality of the operands are identical:"
   ]
  },
  {
   "cell_type": "code",
   "execution_count": 2,
   "metadata": {},
   "outputs": [],
   "source": [
    "scalar = 0.5"
   ]
  },
  {
   "cell_type": "markdown",
   "metadata": {},
   "source": [
    "This morning you have learned about other data structures.\n",
    "One of these structures was a list, which can contain various different python objects."
   ]
  },
  {
   "cell_type": "code",
   "execution_count": 3,
   "metadata": {},
   "outputs": [],
   "source": [
    "import math\n",
    "values = [0, 1., 1e-4, True, \"Wednesday\", None, math]"
   ]
  },
  {
   "cell_type": "markdown",
   "metadata": {},
   "source": [
    "In machine learning, we typically rely on numerical data only; how other types of data are handled will be discussed later this week.\n",
    "Any list of numerical values can be represented as a mathematical vector:"
   ]
  },
  {
   "cell_type": "code",
   "execution_count": 4,
   "metadata": {},
   "outputs": [],
   "source": [
    "vector = [0.,1.,2.,3.,4.]"
   ]
  },
  {
   "cell_type": "markdown",
   "metadata": {},
   "source": [
    "Now, since a list can contain any type of objects, lists can also contain lists, in which case we talk about nested lists."
   ]
  },
  {
   "cell_type": "code",
   "execution_count": 5,
   "metadata": {},
   "outputs": [],
   "source": [
    "nested = [\n",
    "  [0.,1.,2.,3.,4.],\n",
    "  [6.,7.,8.,9.],\n",
    "  [11.,12.,13.]\n",
    "]"
   ]
  },
  {
   "cell_type": "markdown",
   "metadata": {},
   "source": [
    "When all of the nested lists have the same number of element (the same dimensionality), they build the mathematical concept of a matrix."
   ]
  },
  {
   "cell_type": "code",
   "execution_count": 6,
   "metadata": {},
   "outputs": [],
   "source": [
    "matrix = [\n",
    "  [0.,1.,2.,3.,4.],\n",
    "  [6.,7.,8.,9.,10.],\n",
    "  [11.,12.,13.,14.,15.]\n",
    "]"
   ]
  },
  {
   "cell_type": "markdown",
   "metadata": {},
   "source": [
    "In the above example, the matrix has three rows and 5 columns.\n",
    "Similarly, we can extend this idea to build a tensor, which is basically adding another layer of nesting."
   ]
  },
  {
   "cell_type": "code",
   "execution_count": 7,
   "metadata": {},
   "outputs": [],
   "source": [
    "tensor = [\n",
    "  [[0.,1.], [2.,3.], [4.,5.], [6.,7.]],\n",
    "  [[8.,9.], [10.,11.], [12.,13.], [14.,15.]],\n",
    "  [[16.,17.], [18.,19.], [20.,21.], [22.,23.]]\n",
    "]"
   ]
  },
  {
   "cell_type": "markdown",
   "metadata": {},
   "source": [
    "The above tensor has the dimensionality of $3\\times4\\times2$.\n",
    "Factually, also the scalars, vectors and matrices are specializations of tensors with zero, one or two levels.\n",
    "Also, tensors are not limited to three levels, but larger structures are also possible -- for example, deep learning systems usually use four level tensors.\n",
    "\n",
    "## Task 1 (2 minutes)\n",
    "\n",
    "Obtain the dimensionality of the above data structures.\n",
    "The length of a list can be obtained using the `len` function in python.\n",
    "To index an element in python, you can use the index operators, e.g., `values[1]`.\n",
    "For the vector, the matrix and the tensor, obtain the dimensionality of these data structures."
   ]
  },
  {
   "cell_type": "code",
   "execution_count": 8,
   "metadata": {},
   "outputs": [
    {
     "name": "stdout",
     "output_type": "stream",
     "text": [
      "5\n",
      "3 5\n",
      "3 4 2\n"
     ]
    }
   ],
   "source": [
    "# print the length of the vector\n",
    "print(len(vector))\n",
    "# print the dimensionality of the matrix\n",
    "print(len(matrix), len(matrix[0]))\n",
    "# print the dimensionality of the tensor\n",
    "print(len(tensor), len(tensor[0]), len(tensor[0][0]))"
   ]
  },
  {
   "cell_type": "markdown",
   "metadata": {},
   "source": [
    "\n",
    "### Numpy Arrays\n",
    "While it is possible to work with these types of nested lists, it is often easier and faster to work with a dedicated data structure for numerical data.\n",
    "Such a data structure is provided in the `torch` python library.\n",
    "The basic data structure represents any multidimensional mathematical tensor, therefore the data structure is called `torch.tensor`.\n",
    "A `torch.tensor` is a Python class and can be constructed in various different ways.\n",
    "\n",
    "The easiest way of defining `torch.tensor`s is to construct them from data:"
   ]
  },
  {
   "cell_type": "code",
   "execution_count": 9,
   "metadata": {},
   "outputs": [],
   "source": [
    "import torch\n",
    "my_array = torch.tensor([\n",
    "  [-1., 2., 3],\n",
    "  [3., -4., 1e-4]\n",
    "])"
   ]
  },
  {
   "cell_type": "markdown",
   "metadata": {},
   "source": [
    "We can print the contents of the array using pythons built-in `print` function.\n",
    "We can also obtain the dimensionality of the array by asking for its `shape`:"
   ]
  },
  {
   "cell_type": "code",
   "execution_count": 10,
   "metadata": {},
   "outputs": [
    {
     "name": "stdout",
     "output_type": "stream",
     "text": [
      "tensor([[-1.0000e+00,  2.0000e+00,  3.0000e+00],\n",
      "        [ 3.0000e+00, -4.0000e+00,  1.0000e-04]])\n",
      "torch.Size([2, 3])\n"
     ]
    }
   ],
   "source": [
    "print(my_array)\n",
    "print(my_array.shape)"
   ]
  },
  {
   "cell_type": "markdown",
   "metadata": {},
   "source": [
    "## Task 2 (3 minutes)\n",
    "\n",
    "Create `torch.tensor`s for all our data structures from above.\n",
    "Print the shapes of all structures.\n",
    "What happens to our nested list above?"
   ]
  },
  {
   "cell_type": "code",
   "execution_count": 1,
   "metadata": {},
   "outputs": [
    {
     "ename": "NameError",
     "evalue": "name 'scalar' is not defined",
     "output_type": "error",
     "traceback": [
      "\u001b[0;31m---------------------------------------------------------------------------\u001b[0m",
      "\u001b[0;31mNameError\u001b[0m                                 Traceback (most recent call last)",
      "\u001b[1;32m/home/janzz44/Documents/ML_theory/Machine-Learning-An-Interdisciplinary-Introduction/Lecture 01 Introduction/Solution-01-Tensors.ipynb Cell 22\u001b[0m line \u001b[0;36m3\n\u001b[1;32m      <a href='vscode-notebook-cell:/home/janzz44/Documents/ML_theory/Machine-Learning-An-Interdisciplinary-Introduction/Lecture%2001%20Introduction/Solution-01-Tensors.ipynb#X30sZmlsZQ%3D%3D?line=0'>1</a>\u001b[0m \u001b[39mimport\u001b[39;00m \u001b[39mtorch\u001b[39;00m \n\u001b[1;32m      <a href='vscode-notebook-cell:/home/janzz44/Documents/ML_theory/Machine-Learning-An-Interdisciplinary-Introduction/Lecture%2001%20Introduction/Solution-01-Tensors.ipynb#X30sZmlsZQ%3D%3D?line=1'>2</a>\u001b[0m \u001b[39m# turn all of our data structures into numpy arrays\u001b[39;00m\n\u001b[0;32m----> <a href='vscode-notebook-cell:/home/janzz44/Documents/ML_theory/Machine-Learning-An-Interdisciplinary-Introduction/Lecture%2001%20Introduction/Solution-01-Tensors.ipynb#X30sZmlsZQ%3D%3D?line=2'>3</a>\u001b[0m scalar_array \u001b[39m=\u001b[39m torch\u001b[39m.\u001b[39mtensor(scalar)\n\u001b[1;32m      <a href='vscode-notebook-cell:/home/janzz44/Documents/ML_theory/Machine-Learning-An-Interdisciplinary-Introduction/Lecture%2001%20Introduction/Solution-01-Tensors.ipynb#X30sZmlsZQ%3D%3D?line=3'>4</a>\u001b[0m vector_array \u001b[39m=\u001b[39m torch\u001b[39m.\u001b[39mtensor(vector)\n\u001b[1;32m      <a href='vscode-notebook-cell:/home/janzz44/Documents/ML_theory/Machine-Learning-An-Interdisciplinary-Introduction/Lecture%2001%20Introduction/Solution-01-Tensors.ipynb#X30sZmlsZQ%3D%3D?line=4'>5</a>\u001b[0m matrix_array \u001b[39m=\u001b[39m torch\u001b[39m.\u001b[39mtensor(matrix)\n",
      "\u001b[0;31mNameError\u001b[0m: name 'scalar' is not defined"
     ]
    }
   ],
   "source": [
    "import torch \n",
    "# turn all of our data structures into numpy arrays\n",
    "scalar_array = torch.tensor(scalar)\n",
    "vector_array = torch.tensor(vector)\n",
    "matrix_array = torch.tensor(matrix)\n",
    "tensor_array = torch.tensor(tensor)\n",
    "\n",
    "# print their shape\n",
    "print(scalar_array.shape)\n",
    "print(vector_array.shape)\n",
    "print(matrix_array.shape)\n",
    "print(tensor_array.shape)\n",
    "\n",
    "# what about nested arrays of different lengths?\n",
    "nested_array = torch.tensor(nested)\n",
    "print(nested_array.shape)\n"
   ]
  },
  {
   "cell_type": "markdown",
   "metadata": {},
   "source": [
    "Another way of defining `torch.tensor`s is by defining their `shape`.\n",
    "The function to create an empty array is the `numpy.ndarray` function (not to be confused with the `torch.tensor` class), or the `torch.empty` function.\n",
    "A specific data type can be specified using the `dtype` argument, which can take various types, such as `float` (the default), `ìnt`, `bool`, `complex` and alike.\n",
    "The data is usually **uninitialized** and contain anything that resides in that region of the RAM:"
   ]
  },
  {
   "cell_type": "code",
   "execution_count": null,
   "metadata": {},
   "outputs": [
    {
     "name": "stdout",
     "output_type": "stream",
     "text": [
      "tensor([[1.1433e-17, 1.4013e-45, 6.3522e-29, 1.4013e-45, 4.2049e-29, 1.4013e-45,\n",
      "         1.4013e-45],\n",
      "        [0.0000e+00, 8.4078e-45, 0.0000e+00, 0.0000e+00, 0.0000e+00, 0.0000e+00,\n",
      "         0.0000e+00],\n",
      "        [0.0000e+00, 0.0000e+00, 0.0000e+00, 0.0000e+00, 1.4013e-45, 0.0000e+00,\n",
      "         0.0000e+00],\n",
      "        [0.0000e+00, 0.0000e+00, 0.0000e+00, 0.0000e+00, 0.0000e+00, 0.0000e+00,\n",
      "         0.0000e+00]])\n",
      "tensor([[0, 0, 0],\n",
      "        [0, 0, 0]], dtype=torch.uint8)\n",
      "tensor([[ True, False, False],\n",
      "        [False, False, False]])\n"
     ]
    }
   ],
   "source": [
    "empty_array = torch.empty((4,7), dtype=torch.float32)\n",
    "print(empty_array)\n",
    "int_array = torch.empty((2,3), dtype=torch.uint8)\n",
    "print(int_array)\n",
    "bool_array = torch.empty((2,3), dtype=torch.bool)\n",
    "print(bool_array)"
   ]
  },
  {
   "cell_type": "markdown",
   "metadata": {},
   "source": [
    "In order to initialize the data, you can use various functions.\n",
    "For examples, you can initialize with `0`, `1` or alike:"
   ]
  },
  {
   "cell_type": "code",
   "execution_count": null,
   "metadata": {},
   "outputs": [
    {
     "name": "stdout",
     "output_type": "stream",
     "text": [
      "tensor([[0., 0., 0., 0.],\n",
      "        [0., 0., 0., 0.],\n",
      "        [0., 0., 0., 0.]])\n",
      "tensor([[[1, 1, 1],\n",
      "         [1, 1, 1],\n",
      "         [1, 1, 1],\n",
      "         [1, 1, 1]],\n",
      "\n",
      "        [[1, 1, 1],\n",
      "         [1, 1, 1],\n",
      "         [1, 1, 1],\n",
      "         [1, 1, 1]]], dtype=torch.int32)\n"
     ]
    }
   ],
   "source": [
    "zero_matrix = torch.zeros((3,4))\n",
    "print(zero_matrix)\n",
    "\n",
    "one_matrix = torch.ones((2,4,3), dtype=torch.int)\n",
    "print(one_matrix)"
   ]
  },
  {
   "cell_type": "markdown",
   "metadata": {},
   "source": [
    "Another option is to create random data using functionality from `torch`.\n",
    "Random values between 0 and 1 are obtained using `torch.rand`."
   ]
  },
  {
   "cell_type": "code",
   "execution_count": null,
   "metadata": {},
   "outputs": [
    {
     "name": "stdout",
     "output_type": "stream",
     "text": [
      "tensor([[0.9349, 0.7415, 0.5557, 0.5004],\n",
      "        [0.8203, 0.0867, 0.5626, 0.3521]])\n"
     ]
    }
   ],
   "source": [
    "random_array = torch.rand((2,4))\n",
    "print(random_array)"
   ]
  },
  {
   "cell_type": "markdown",
   "metadata": {},
   "source": [
    "Normal distributed values can be obtained with `torch.normal` where one can specify the mean and the standard deviation of the values.\n",
    "For example, if you want to have 6 two-dimensional normal distributed vectors with mean $(-3,1)$ and standard deviation of $(2,1)$, you can write:"
   ]
  },
  {
   "cell_type": "code",
   "execution_count": null,
   "metadata": {},
   "outputs": [
    {
     "name": "stdout",
     "output_type": "stream",
     "text": [
      "tensor([[-3.7408,  2.0756],\n",
      "        [-4.8404, -1.6297],\n",
      "        [-1.8373,  0.1598],\n",
      "        [-2.0926,  1.5099],\n",
      "        [-2.3911,  1.6957],\n",
      "        [-0.4435,  0.6035]])\n"
     ]
    }
   ],
   "source": [
    "normal_array = torch.normal(mean = torch.tensor([(-3,1.)]*6), std = torch.tensor([(2.,1.)]*6))\n",
    "print(normal_array)"
   ]
  },
  {
   "cell_type": "markdown",
   "metadata": {},
   "source": [
    "More random distributions can be found in the `torch.distributions` package, for example:"
   ]
  },
  {
   "cell_type": "code",
   "execution_count": null,
   "metadata": {},
   "outputs": [
    {
     "name": "stdout",
     "output_type": "stream",
     "text": [
      "tensor([[-2.7228,  2.2897],\n",
      "        [-6.3658,  1.6334],\n",
      "        [-1.2010,  2.5581],\n",
      "        [-4.8419,  2.1141],\n",
      "        [-1.7476,  0.0422],\n",
      "        [-1.4488,  1.1852]])\n",
      "tensor([[1., 1., 1.],\n",
      "        [0., 1., 1.],\n",
      "        [0., 0., 0.],\n",
      "        [0., 1., 0.]])\n"
     ]
    }
   ],
   "source": [
    "normal_array = torch.distributions.normal.Normal(loc=torch.tensor((-3.,1.)), scale=torch.tensor((2.,1.))).sample([6])\n",
    "print(normal_array)\n",
    "\n",
    "bernoulli_array = torch.distributions.bernoulli.Bernoulli(probs=0.5).sample([4,3])\n",
    "print(bernoulli_array)"
   ]
  },
  {
   "cell_type": "markdown",
   "metadata": {},
   "source": [
    "Arrays can also be combined using `torch` functionality.\n",
    "For example, `torch.concat` will concatenate two arrays (where the all but the first level must be identically shaped), while `torch.stack` will produce a new dimension (all dimensions must be identically shaped):"
   ]
  },
  {
   "cell_type": "code",
   "execution_count": null,
   "metadata": {},
   "outputs": [
    {
     "name": "stdout",
     "output_type": "stream",
     "text": [
      "tensor([[0., 0., 0., 0.],\n",
      "        [0., 0., 0., 0.],\n",
      "        [1., 1., 1., 1.],\n",
      "        [1., 1., 1., 1.],\n",
      "        [1., 1., 1., 1.]]) torch.Size([5, 4])\n",
      "tensor([[[0., 0., 0., 0.],\n",
      "         [0., 0., 0., 0.]],\n",
      "\n",
      "        [[1., 1., 1., 1.],\n",
      "         [1., 1., 1., 1.]]]) torch.Size([2, 2, 4])\n"
     ]
    }
   ],
   "source": [
    "concatenated = torch.concat((torch.zeros((2,4)), torch.ones((3,4))))\n",
    "print(concatenated, concatenated.shape)\n",
    "\n",
    "stacked = torch.stack((torch.zeros((2,4)), torch.ones((2,4))))\n",
    "print(stacked, stacked.shape)"
   ]
  },
  {
   "cell_type": "code",
   "execution_count": null,
   "metadata": {},
   "outputs": [
    {
     "name": "stdout",
     "output_type": "stream",
     "text": [
      "tensor([[-1., -1.],\n",
      "        [-1., -1.],\n",
      "        [-1., -1.]])\n"
     ]
    }
   ],
   "source": [
    "negatives = torch.zeros((3,2)) - torch.ones((3,2))\n",
    "print(negatives)"
   ]
  },
  {
   "cell_type": "markdown",
   "metadata": {},
   "source": [
    "Mathematical operations can also be **broadcasted**, i.e., dimensionalities are automatically adapted.\n",
    "The most simple broadcasting is via a scalar, but more complicated broadcasts can be done."
   ]
  },
  {
   "cell_type": "code",
   "execution_count": null,
   "metadata": {},
   "outputs": [
    {
     "name": "stdout",
     "output_type": "stream",
     "text": [
      "tensor([[ 1.9678, -0.7754],\n",
      "        [ 3.6610, -1.5514],\n",
      "        [-4.0785, -4.0966],\n",
      "        [ 3.0049,  3.8306]])\n",
      "tensor([[-1.,  3.],\n",
      "        [-1.,  3.],\n",
      "        [-1.,  3.]])\n"
     ]
    }
   ],
   "source": [
    "random_range = torch.rand((4,2)) * 10. - 5.\n",
    "print(random_range)\n",
    "\n",
    "mixes = torch.ones((3,2)) * torch.tensor([-1,3])\n",
    "print(mixes)"
   ]
  },
  {
   "cell_type": "markdown",
   "metadata": {},
   "source": [
    "Comparison of matrices can be done using the default comparison operators `>, >=, <, <=, ==`.\n",
    "These operations are applied element-wise and result in boolean arrays.\n",
    "If you want to reduce these to a single value (to be used in an `if` condition), you can use the `all` or `any` functions.\n",
    "Broadcasting applies for operators as well:"
   ]
  },
  {
   "cell_type": "code",
   "execution_count": null,
   "metadata": {},
   "outputs": [
    {
     "name": "stdout",
     "output_type": "stream",
     "text": [
      "tensor([[ True, False],\n",
      "        [ True, False],\n",
      "        [False, False],\n",
      "        [ True,  True]])\n",
      "tensor(False)\n",
      "tensor(True)\n"
     ]
    }
   ],
   "source": [
    "random_positives = random_range > 0\n",
    "print(random_positives)\n",
    "print(random_positives.all())\n",
    "print(random_positives.any())"
   ]
  },
  {
   "cell_type": "markdown",
   "metadata": {},
   "source": [
    "Also, other mathematical operations are applied element-wise:"
   ]
  },
  {
   "cell_type": "code",
   "execution_count": null,
   "metadata": {},
   "outputs": [
    {
     "name": "stdout",
     "output_type": "stream",
     "text": [
      "tensor([  2.7183,   7.3891,  20.0855,  54.5981, 148.4132])\n",
      "tensor([ 0.8415,  0.9093,  0.1411, -0.7568, -0.9589])\n",
      "tensor([0.0000, 0.6931, 1.0986, 1.3863, 1.6094])\n"
     ]
    }
   ],
   "source": [
    "x = torch.tensor([1.,2.,3.,4.,5.])\n",
    "print(torch.exp(x))\n",
    "print(torch.sin(x))\n",
    "print(torch.log(x))"
   ]
  },
  {
   "cell_type": "markdown",
   "metadata": {},
   "source": [
    "### Indexing Arrays\n",
    "Arrays can be indexed in several ways, typically using the index `[]` operator.\n",
    "To obtain a certain value, you can specify the exact index.\n",
    "Indexing starts at 0 and negative indexes work similarly as with python lists.\n",
    "Other than for python lists, indexes can contain tuples:"
   ]
  },
  {
   "cell_type": "code",
   "execution_count": null,
   "metadata": {},
   "outputs": [
    {
     "name": "stdout",
     "output_type": "stream",
     "text": [
      "tensor(2.1141)\n",
      "tensor(2.1141)\n"
     ]
    }
   ],
   "source": [
    "print(normal_array[3][1])\n",
    "print(normal_array[3,1])"
   ]
  },
  {
   "cell_type": "markdown",
   "metadata": {},
   "source": [
    "As you can see, when using the index operator, a scalar value is returned, which is defined as a `torch.tensor` with 1 value.\n",
    "If you want to obtain the raw data, you can use the `.item()` function on the tensor; note that this only works for scalars, not for vectors, matrices or higher-order tensors."
   ]
  },
  {
   "cell_type": "code",
   "execution_count": null,
   "metadata": {},
   "outputs": [
    {
     "name": "stdout",
     "output_type": "stream",
     "text": [
      "2.1140713691711426\n"
     ]
    }
   ],
   "source": [
    "print(normal_array[3,1].item())"
   ]
  },
  {
   "cell_type": "markdown",
   "metadata": {},
   "source": [
    "You can also use boolean arrays for indexing.\n",
    "Note that also integral arrays are allowed, but results might be different from what you expect."
   ]
  },
  {
   "cell_type": "code",
   "execution_count": null,
   "metadata": {},
   "outputs": [
    {
     "name": "stdout",
     "output_type": "stream",
     "text": [
      "tensor([[-1.9678, -0.7754],\n",
      "        [-3.6610, -1.5514],\n",
      "        [-4.0785, -4.0966],\n",
      "        [-3.0049, -3.8306]])\n",
      "tensor(True)\n"
     ]
    }
   ],
   "source": [
    "random_range[random_positives] *= -1\n",
    "print(random_range)\n",
    "print(torch.all(random_range <= 0))"
   ]
  },
  {
   "cell_type": "markdown",
   "metadata": {},
   "source": [
    "When indexing arrays with fewer entries than levels, sub-arrays are returned.\n",
    "Indexing always starts at the first level, missing levels are assumed to be all elements:"
   ]
  },
  {
   "cell_type": "code",
   "execution_count": null,
   "metadata": {},
   "outputs": [
    {
     "name": "stdout",
     "output_type": "stream",
     "text": [
      "tensor([0., 1., 2., 3., 4.])\n",
      "tensor([ 6.,  7.,  8.,  9., 10.])\n",
      "tensor([[0., 1.],\n",
      "        [2., 3.],\n",
      "        [4., 5.],\n",
      "        [6., 7.]])\n",
      "tensor([4., 5.])\n"
     ]
    }
   ],
   "source": [
    "print(matrix_array[0])\n",
    "print(matrix_array[1])\n",
    "print(tensor_array[0])\n",
    "print(tensor_array[0,2])"
   ]
  },
  {
   "cell_type": "markdown",
   "metadata": {},
   "source": [
    "You can also use `start:end` to define ranges, where `:` just represents all elements as this level. \n",
    "Similarly, you can define `start:end:step` to define slices.\n",
    "This can be useful, when you actually want to index the second level only.\n",
    "Note that negative `step`s are not allowed in PyTorch (in `numpy`, they are allowed)."
   ]
  },
  {
   "cell_type": "code",
   "execution_count": null,
   "metadata": {},
   "outputs": [
    {
     "name": "stdout",
     "output_type": "stream",
     "text": [
      "tensor([1., 2.])\n",
      "tensor([ 1.,  7., 12.])\n",
      "tensor([[16.]])\n"
     ]
    }
   ],
   "source": [
    "print(vector_array[1:3])\n",
    "print(matrix_array[:,1])\n",
    "print(tensor_array[-1,0:2:2,::2])"
   ]
  },
  {
   "cell_type": "markdown",
   "metadata": {},
   "source": [
    "## Task 3 (5 minutes)\n",
    "Generate a random array in dimension `(5,4)`, where the values are in range $[-2, 4]$.\n",
    "Multiply all negative values with 4, divide all positive values by 4.\n",
    "Print the array.\n",
    "Compute the sum of all elements."
   ]
  },
  {
   "cell_type": "code",
   "execution_count": null,
   "metadata": {},
   "outputs": [
    {
     "data": {
      "text/plain": [
       "tensor([[ 2.6273, -0.1789,  0.7508,  0.0808],\n",
       "        [ 3.2149,  0.8047,  3.7948,  0.5431],\n",
       "        [ 2.8551,  1.8338,  1.2177,  0.8043],\n",
       "        [ 2.0217,  2.9388,  3.3041,  1.4048],\n",
       "        [ 1.7646,  3.7265,  1.7615,  0.6386]])"
      ]
     },
     "execution_count": 58,
     "metadata": {},
     "output_type": "execute_result"
    }
   ],
   "source": [
    "torch.rand((5,4)) * 6 - 2"
   ]
  },
  {
   "cell_type": "code",
   "execution_count": null,
   "metadata": {},
   "outputs": [
    {
     "data": {
      "text/plain": [
       "tensor([[0.1882, 0.1299, 0.5738, 0.0082],\n",
       "        [0.7445, 0.8127, 0.1841, 0.8225],\n",
       "        [0.9618, 0.8229, 0.0540, 0.3588],\n",
       "        [0.9688, 0.5176, 0.6209, 0.7134],\n",
       "        [0.8491, 0.9174, 0.6560, 0.2101]])"
      ]
     },
     "execution_count": 43,
     "metadata": {},
     "output_type": "execute_result"
    }
   ],
   "source": [
    "torch.rand((5,4)) "
   ]
  },
  {
   "cell_type": "code",
   "execution_count": 14,
   "metadata": {},
   "outputs": [
    {
     "name": "stdout",
     "output_type": "stream",
     "text": [
      "tensor([[ 0.0186,  0.6488, -6.8942,  0.5457],\n",
      "        [-0.8561,  0.4997,  0.1724,  0.8359],\n",
      "        [ 0.3521, -2.8437,  0.0665,  0.1432],\n",
      "        [ 0.9909,  0.4588, -0.6936,  0.7931],\n",
      "        [ 0.8081,  0.3213, -7.4993, -7.1650]]) -19.296728134155273\n"
     ]
    }
   ],
   "source": [
    "# generate random array\n",
    "random_array = torch.rand((5,4)) * 6 - 2\n",
    "# multiply negative values with 4\n",
    "random_array[random_array<0] *= 4\n",
    "# divide positive values by 4\n",
    "random_array[random_array>0] /= 4\n",
    "print(random_array, random_array.sum().item())"
   ]
  },
  {
   "cell_type": "code",
   "execution_count": null,
   "metadata": {},
   "outputs": [],
   "source": [
    "random_array *= 4"
   ]
  },
  {
   "cell_type": "code",
   "execution_count": 21,
   "metadata": {},
   "outputs": [
    {
     "data": {
      "text/plain": [
       "tensor([[   1.1924,   41.5216, -441.2318,   34.9271],\n",
       "        [ -54.7910,   31.9810,   11.0335,   53.4998],\n",
       "        [  22.5356, -181.9944,    4.2573,    9.1623],\n",
       "        [  63.4206,   29.3617,  -44.3913,   50.7593],\n",
       "        [  51.7211,   20.5612, -479.9571, -458.5592]])"
      ]
     },
     "execution_count": 21,
     "metadata": {},
     "output_type": "execute_result"
    }
   ],
   "source": [
    "random_array = random_array * 4"
   ]
  },
  {
   "cell_type": "code",
   "execution_count": 16,
   "metadata": {},
   "outputs": [
    {
     "data": {
      "text/plain": [
       "-19.296728134155273"
      ]
     },
     "execution_count": 16,
     "metadata": {},
     "output_type": "execute_result"
    }
   ],
   "source": [
    "random_array.sum().item()"
   ]
  },
  {
   "cell_type": "markdown",
   "metadata": {},
   "source": [
    "### Sorting Arrays\n",
    "Several times, you will need to sort your arrays ascendingly.\n",
    "Similarly to the `sorted` function in python, you can sort an array using `torch.sort`.\n",
    "Note that this function returns two values: the sorted array, and the indexes that -- applied to the original unsorted list -- will provide the sorted list."
   ]
  },
  {
   "cell_type": "code",
   "execution_count": null,
   "metadata": {},
   "outputs": [
    {
     "name": "stdout",
     "output_type": "stream",
     "text": [
      "tensor([-5, -4,  0,  3,  4,  6,  7])\n",
      "tensor([3, 0, 4, 1, 6, 5, 2])\n",
      "tensor([-5, -4,  0,  3,  4,  6,  7])\n"
     ]
    }
   ],
   "source": [
    "unsorted = torch.tensor([-4, 3, 7, -5, 0, 6, 4])\n",
    "sorted_array, sorted_indexes = torch.sort(unsorted)\n",
    "print(sorted_array)\n",
    "print(sorted_indexes)\n",
    "print(unsorted[sorted_indexes])"
   ]
  },
  {
   "cell_type": "markdown",
   "metadata": {},
   "source": [
    "### Matrix Operations\n",
    "As mentioned above, by default all array operations are performed element-wise.\n",
    "Mathematical matrix operations can be applied using `torch` functionality.\n",
    "For example, the dot product between two arrays (matrices, vectors) can be performed via `torch.matmul`.\n",
    "Vector operations are, for example, `torch.inner`, `torch.outer`.\n",
    "Matrices can be transposed using `torch.transpose` or quickly the `.T` member."
   ]
  },
  {
   "cell_type": "code",
   "execution_count": null,
   "metadata": {},
   "outputs": [
    {
     "name": "stdout",
     "output_type": "stream",
     "text": [
      "tensor([1.4740, 1.3518, 1.0964])\n",
      "tensor([1.4740, 1.3518, 1.0964])\n"
     ]
    }
   ],
   "source": [
    "vector = torch.rand((4))\n",
    "matrix = torch.rand((3,4))\n",
    "print(torch.matmul(matrix, vector))\n",
    "print(torch.matmul(vector, matrix.T))"
   ]
  },
  {
   "cell_type": "markdown",
   "metadata": {},
   "source": [
    "We can also reduce matrices by computing min, max, mean and standard deviation across a specific `dim`.\n",
    "Please note that `torch.max` additionally returns the indexes across the given `dim` when a `dim` is specified."
   ]
  },
  {
   "cell_type": "code",
   "execution_count": null,
   "metadata": {},
   "outputs": [
    {
     "name": "stdout",
     "output_type": "stream",
     "text": [
      "tensor(-20.9765)\n",
      "torch.return_types.max(\n",
      "values=tensor([16.1077, 28.0368]),\n",
      "indices=tensor([782, 612]))\n",
      "tensor([-3.0345,  4.2707])\n",
      "tensor([5.9078, 6.9779])\n"
     ]
    }
   ],
   "source": [
    "normal_array = torch.normal(torch.tensor([(-3,4.)]*1000), torch.tensor([(6.,7.)]*1000))\n",
    "print(torch.min(normal_array))\n",
    "print(torch.max(normal_array, dim=0))\n",
    "print(torch.mean(normal_array, dim=0))\n",
    "print(torch.std(normal_array, dim=0))"
   ]
  },
  {
   "cell_type": "markdown",
   "metadata": {},
   "source": [
    "We can also quickly compute norms of vectors and matrices, or invert matrices:"
   ]
  },
  {
   "cell_type": "code",
   "execution_count": null,
   "metadata": {},
   "outputs": [
    {
     "name": "stdout",
     "output_type": "stream",
     "text": [
      "1.4634720087051392\n",
      "tensor([[ 0.5000,  0.0000],\n",
      "        [ 0.0000, -0.5000]])\n"
     ]
    }
   ],
   "source": [
    "import scipy.spatial\n",
    "print(torch.norm(vector).item())\n",
    "print(torch.inverse(torch.tensor([[2.,0.], [0.,-2.]])))\n"
   ]
  },
  {
   "cell_type": "markdown",
   "metadata": {},
   "source": [
    " Since PyTorch is optimized for parallel processing, distance computations are not as straightforward.\n",
    " We first need to instantiate a distance object, and then we can compute distances: "
   ]
  },
  {
   "cell_type": "code",
   "execution_count": null,
   "metadata": {},
   "outputs": [
    {
     "name": "stdout",
     "output_type": "stream",
     "text": [
      "4.000001907348633\n",
      "0.8293983340263367\n"
     ]
    }
   ],
   "source": [
    "euclidean = torch.nn.PairwiseDistance(p=2)\n",
    "print(euclidean(vector, vector-2).item())\n",
    "cosine = torch.nn.CosineSimilarity(dim=0)\n",
    "print(cosine(vector, matrix[0]).item())"
   ]
  },
  {
   "cell_type": "markdown",
   "metadata": {},
   "source": [
    "### Plotting with matplotlib\n",
    "\n",
    "Plotting is usually done with `matplotlib`, which typically handles `torch.tensor`s as expected.\n",
    "Here, we describe only standard functionality, much more can be done otherwise.\n",
    "All plots in the slides are generated with `matplotlib`.\n",
    "\n",
    "### Line plotting\n",
    "There are several ways of plotting a line in `matplotlib`.\n",
    "A straight line can be defined by a start and an end point.\n",
    "The `pyplot.plot` function will take all x-positions and y-positions in a list/array.\n",
    "How the line is plotted is defined using a `format` option, which combines color `rgbkmcy` and style `.+*xosd-:`.\n",
    "A blue line is plotted with format `b-`:"
   ]
  },
  {
   "cell_type": "code",
   "execution_count": 27,
   "metadata": {},
   "outputs": [
    {
     "data": {
      "text/plain": [
       "[<matplotlib.lines.Line2D at 0x16abb0fa0>]"
      ]
     },
     "execution_count": 27,
     "metadata": {},
     "output_type": "execute_result"
    },
    {
     "data": {
      "image/png": "[encoded data removed]",
      "text/plain": [
       "<Figure size 432x288 with 1 Axes>"
      ]
     },
     "metadata": {
      "needs_background": "light"
     },
     "output_type": "display_data"
    }
   ],
   "source": [
    "from matplotlib import pyplot\n",
    "two_points = torch.tensor([\n",
    "  (-1,1),\n",
    "  (2,-2)\n",
    "])\n",
    "pyplot.plot(two_points[0], two_points[1], \"b-\")"
   ]
  },
  {
   "cell_type": "markdown",
   "metadata": {},
   "source": [
    "Generally, `matplotlib` plots points connected with straight lines. \n",
    "To be more fine-grained, use more offset positions."
   ]
  },
  {
   "cell_type": "code",
   "execution_count": null,
   "metadata": {},
   "outputs": [
    {
     "data": {
      "text/plain": [
       "[<matplotlib.lines.Line2D at 0x1414df400>]"
      ]
     },
     "execution_count": 61,
     "metadata": {},
     "output_type": "execute_result"
    },
    {
     "data": {
      "image/png": "[encoded data removed]",
      "text/plain": [
       "<Figure size 432x288 with 1 Axes>"
      ]
     },
     "metadata": {
      "needs_background": "light"
     },
     "output_type": "display_data"
    }
   ],
   "source": [
    "x = torch.arange(0,6.001,2)\n",
    "pyplot.plot(x,torch.exp(x), \"r-\")\n",
    "x = torch.arange(0,6.001,0.01)\n",
    "pyplot.plot(x,torch.exp(x), \"g-\")"
   ]
  },
  {
   "cell_type": "markdown",
   "metadata": {},
   "source": [
    "You can also add labels, axis labels, and more."
   ]
  },
  {
   "cell_type": "code",
   "execution_count": null,
   "metadata": {},
   "outputs": [
    {
     "data": {
      "text/plain": [
       "Text(0, 0.5, 'y')"
      ]
     },
     "execution_count": 62,
     "metadata": {},
     "output_type": "execute_result"
    },
    {
     "data": {
      "image/png": "[encoded data removed]",
      "text/plain": [
       "<Figure size 432x288 with 1 Axes>"
      ]
     },
     "metadata": {
      "needs_background": "light"
     },
     "output_type": "display_data"
    }
   ],
   "source": [
    "pyplot.plot(torch.cos(x), \"g:\", label=\"cos\")\n",
    "pyplot.plot(torch.sin(x), \"r--\", label=\"sin\")\n",
    "pyplot.legend()\n",
    "pyplot.xlabel(\"x\")\n",
    "pyplot.ylabel(\"y\")"
   ]
  },
  {
   "cell_type": "markdown",
   "metadata": {},
   "source": [
    "### Plotting Points\n",
    "Points can be plotted in various ways. \n",
    "For example, you can select a different marker instead of a line:"
   ]
  },
  {
   "cell_type": "code",
   "execution_count": null,
   "metadata": {},
   "outputs": [
    {
     "data": {
      "text/plain": [
       "Text(0, 0.5, 'y')"
      ]
     },
     "execution_count": 63,
     "metadata": {},
     "output_type": "execute_result"
    },
    {
     "data": {
      "image/png": "[encoded data removed]",
      "text/plain": [
       "<Figure size 432x288 with 1 Axes>"
      ]
     },
     "metadata": {
      "needs_background": "light"
     },
     "output_type": "display_data"
    }
   ],
   "source": [
    "x = torch.arange(0, 6.01, 0.5)\n",
    "pyplot.plot(x, x**2, \"gx\", label=\"$x^2$\")\n",
    "pyplot.plot(x, 2**x, \"mo\", label=\"$2^x$\")\n",
    "pyplot.legend()\n",
    "pyplot.xlabel(\"x\")\n",
    "pyplot.ylabel(\"y\")"
   ]
  },
  {
   "cell_type": "markdown",
   "metadata": {},
   "source": [
    "Note that the points do not need to be related in any way:"
   ]
  },
  {
   "cell_type": "code",
   "execution_count": null,
   "metadata": {},
   "outputs": [
    {
     "data": {
      "text/plain": [
       "[<matplotlib.lines.Line2D at 0x1471d5cd0>]"
      ]
     },
     "execution_count": 64,
     "metadata": {},
     "output_type": "execute_result"
    },
    {
     "data": {
      "image/png": "[encoded data removed]",
      "text/plain": [
       "<Figure size 432x288 with 1 Axes>"
      ]
     },
     "metadata": {
      "needs_background": "light"
     },
     "output_type": "display_data"
    }
   ],
   "source": [
    "points = torch.rand(size=(100,2))\n",
    "pyplot.plot(points[:,0], points[:,1], \"rs\")"
   ]
  },
  {
   "cell_type": "markdown",
   "metadata": {},
   "source": []
  },
  {
   "cell_type": "markdown",
   "metadata": {},
   "source": [
    "## Task 4 (7 minutes)\n",
    "Create equidistant and sorted input values $-4\\leq x \\leq4$.\n",
    "Compute the function $y = f(x)=2 x^2 + \\cos(x)$.\n",
    "Plot the function $(x,y)$ as a green line plot and label `line`.\n",
    "\n",
    "Add noise to your output $t = y + \\mathcal N(0,3)$\n",
    "Plot the points $(x,t)$ as separate points with start shape and red color and label `points`."
   ]
  },
  {
   "cell_type": "code",
   "execution_count": 24,
   "metadata": {},
   "outputs": [],
   "source": [
    "x = torch.arange(-4,4.01,0.1)"
   ]
  },
  {
   "cell_type": "code",
   "execution_count": 29,
   "metadata": {},
   "outputs": [],
   "source": [
    "y = 2*x**2 + torch.cos(x)"
   ]
  },
  {
   "cell_type": "code",
   "execution_count": 37,
   "metadata": {},
   "outputs": [
    {
     "data": {
      "text/plain": [
       "[<matplotlib.lines.Line2D at 0x140a71430>]"
      ]
     },
     "execution_count": 37,
     "metadata": {},
     "output_type": "execute_result"
    },
    {
     "data": {
      "image/png": "[encoded data removed]",
      "text/plain": [
       "<Figure size 432x288 with 1 Axes>"
      ]
     },
     "metadata": {
      "needs_background": "light"
     },
     "output_type": "display_data"
    }
   ],
   "source": [
    "pyplot.plot(x,y,\"g*\", label=\"line\")"
   ]
  },
  {
   "cell_type": "code",
   "execution_count": 34,
   "metadata": {},
   "outputs": [],
   "source": [
    "t = y + torch.normal(0,3,x.shape)"
   ]
  },
  {
   "cell_type": "code",
   "execution_count": 41,
   "metadata": {},
   "outputs": [
    {
     "data": {
      "text/plain": [
       "tensor([-4.0000, -3.9000, -3.8000, -3.7000, -3.6000, -3.5000, -3.4000, -3.3000,\n",
       "        -3.2000, -3.1000, -3.0000, -2.9000, -2.8000, -2.7000, -2.6000, -2.5000,\n",
       "        -2.4000, -2.3000, -2.2000, -2.1000, -2.0000, -1.9000, -1.8000, -1.7000,\n",
       "        -1.6000, -1.5000, -1.4000, -1.3000, -1.2000, -1.1000, -1.0000, -0.9000,\n",
       "        -0.8000, -0.7000, -0.6000, -0.5000, -0.4000, -0.3000, -0.2000, -0.1000,\n",
       "         0.0000,  0.1000,  0.2000,  0.3000,  0.4000,  0.5000,  0.6000,  0.7000,\n",
       "         0.8000,  0.9000,  1.0000,  1.1000,  1.2000,  1.3000,  1.4000,  1.5000,\n",
       "         1.6000,  1.7000,  1.8000,  1.9000,  2.0000,  2.1000,  2.2000,  2.3000,\n",
       "         2.4000,  2.5000,  2.6000,  2.7000,  2.8000,  2.9000,  3.0000,  3.1000,\n",
       "         3.2000,  3.3000,  3.4000,  3.5000,  3.6000,  3.7000,  3.8000,  3.9000,\n",
       "         4.0000,  4.1000,  4.2000,  4.3000,  4.4000,  4.5000,  4.6000,  4.7000,\n",
       "         4.8000,  4.9000,  5.0000])"
      ]
     },
     "execution_count": 41,
     "metadata": {},
     "output_type": "execute_result"
    }
   ],
   "source": [
    "torch.arange(-4,5.1,0.1)"
   ]
  },
  {
   "cell_type": "code",
   "execution_count": 35,
   "metadata": {},
   "outputs": [
    {
     "data": {
      "text/plain": [
       "[<matplotlib.lines.Line2D at 0x16adb4250>]"
      ]
     },
     "execution_count": 35,
     "metadata": {},
     "output_type": "execute_result"
    },
    {
     "data": {
      "image/png": "[encoded data removed]",
      "text/plain": [
       "<Figure size 432x288 with 1 Axes>"
      ]
     },
     "metadata": {
      "needs_background": "light"
     },
     "output_type": "display_data"
    }
   ],
   "source": [
    "pyplot.plot(x,t,\"r*\", label=\"points\")"
   ]
  },
  {
   "cell_type": "code",
   "execution_count": null,
   "metadata": {},
   "outputs": [
    {
     "data": {
      "text/plain": [
       "<matplotlib.legend.Legend at 0x1239b4df0>"
      ]
     },
     "execution_count": 65,
     "metadata": {},
     "output_type": "execute_result"
    },
    {
     "data": {
      "image/png": "[encoded data removed]",
      "text/plain": [
       "<Figure size 432x288 with 1 Axes>"
      ]
     },
     "metadata": {
      "needs_background": "light"
     },
     "output_type": "display_data"
    }
   ],
   "source": [
    "# create input values x\n",
    "x = torch.arange(-4,4.01,0.1)\n",
    "# compute function y\n",
    "y = 2*x**2 + torch.cos(x)\n",
    "# plot function\n",
    "pyplot.plot(x,y,\"g-\", label=\"line\")\n",
    "\n",
    "# add noise to y\n",
    "t = y + torch.normal(0,3,size=x.shape)\n",
    "# plot the points\n",
    "pyplot.plot(x,t,\"r*\", label=\"points\")\n",
    "\n",
    "# anything else?\n",
    "pyplot.legend()"
   ]
  },
  {
   "cell_type": "code",
   "execution_count": 42,
   "metadata": {},
   "outputs": [
    {
     "data": {
      "text/plain": [
       "torch.Size([81])"
      ]
     },
     "execution_count": 42,
     "metadata": {},
     "output_type": "execute_result"
    }
   ],
   "source": [
    "x.shape"
   ]
  },
  {
   "cell_type": "code",
   "execution_count": 49,
   "metadata": {},
   "outputs": [
    {
     "data": {
      "text/plain": [
       "tensor([-2.2139,  3.5294, -0.8874, -5.6832, -1.4801, -1.3974, -2.4857, -1.2699,\n",
       "        -0.5501,  4.9809, -4.8852,  1.6656, -0.9810, -1.4949,  1.0011, -3.7334,\n",
       "        -0.7594, -1.0183, -1.9462, -0.2748, -0.5603, -5.9098, -1.0039,  2.7045,\n",
       "        -0.4579,  0.9013,  2.9399,  0.4836,  0.6752,  0.8697,  0.6972, -0.2629,\n",
       "        -2.7206,  0.6512, -6.1453,  4.9357,  3.5237, -3.8797, -1.3738, -0.2721,\n",
       "        -4.0337, -1.1112,  5.5473,  4.5185,  3.4516,  4.6797, -1.5200, -2.7239,\n",
       "        -0.6636,  3.6285, -3.3177, -5.6164, -0.6915, -1.0135,  0.2548,  0.1713,\n",
       "         2.2560, -1.2035, -1.1510,  0.5205, -2.2073, -0.7809,  1.4455,  0.8971,\n",
       "         2.6546, -1.6406,  1.1529,  4.9779,  0.1527, -0.4933, -0.6505, -6.2210,\n",
       "         2.4983,  0.3453, -2.1904,  0.4053, -0.4715, -0.4500,  3.7034, -5.0177,\n",
       "         4.0982])"
      ]
     },
     "execution_count": 49,
     "metadata": {},
     "output_type": "execute_result"
    }
   ],
   "source": [
    "torch.normal(0,3,size=x.shape)"
   ]
  },
  {
   "cell_type": "code",
   "execution_count": null,
   "metadata": {},
   "outputs": [],
   "source": []
  }
 ],
 "metadata": {
  "kernelspec": {
   "display_name": "Python 3.9.13 ('telegram')",
   "language": "python",
   "name": "python3"
  },
  "language_info": {
   "codemirror_mode": {
    "name": "ipython",
    "version": 3
   },
   "file_extension": ".py",
   "mimetype": "text/x-python",
   "name": "python",
   "nbconvert_exporter": "python",
   "pygments_lexer": "ipython3",
   "version": "3.9.18"
  },
  "orig_nbformat": 4,
  "vscode": {
   "interpreter": {
    "hash": "d2386c381fab908a4e48f3c5849d193fc799b9f792c037a48abb7a588aa93a14"
   }
  }
 },
 "nbformat": 4,
 "nbformat_minor": 2
}
