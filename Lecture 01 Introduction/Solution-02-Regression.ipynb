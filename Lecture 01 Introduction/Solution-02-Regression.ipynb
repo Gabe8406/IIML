{
 "cells": [
  {
   "cell_type": "markdown",
   "metadata": {},
   "source": [
    "# Welcome to Machine Learning -- An Interdisciplinary Introduction\n",
    "\n",
    "## Linear Regression\n",
    "\n",
    "\n",
    "The task in linear regression is to fit a line:\n",
    "$$y = a\\cdot x + b$$\n",
    "through a list of $N$ data points:\n",
    "$$X = \\{(x_n, t_n) \\mid 0\\leq n < N\\}$$\n",
    "by adapting the parameters $a$ and $b$ such that they minimize a loss function: \n",
    "$$\\argmin\\limits_{a,b} \\frac1N\\sum\\limits_{n=0}^{N-1} (y_n - t_n)^2 = \\frac1N\\sum\\limits_{n=0}^{N-1} (a\\cdot x_n + b - t_n)^2$$\n",
    "\n",
    "Analytically, this can be achieved by deriving the above equation to $a$ and to $b$ and setting the gradient to 0.\n",
    "Afterward, we can calculate $a$ and $b$ as follows:\n",
    "$$a = \\frac{\\sum\\limits_{n=0}^{N-1}(x_n - \\overline x) (t_n - \\overline t)}{\\sum\\limits_{n=0}^{N-1} (x_n - \\overline x)^2} \\qquad b = \\overline t - a\\overline x$$\n",
    "where $\\overline x$ and $\\overline t$ are the simple arithmetic means of $x_n$ and $t_n$, respectively:\n",
    "$$\\overline x = \\frac1N \\sum\\limits_{n=0}^{N-1} x_n \\qquad \\overline t = \\frac1N \\sum\\limits_{n=0}^{N-1} t_n$$\n",
    "\n",
    "\n",
    "## Task 1: Regression Function\n",
    "\n",
    "Implement a function that takes a list of samples $X$ and computes the regression line coordinates.\n"
   ]
  },
  {
   "cell_type": "markdown",
   "metadata": {},
   "source": [
    "Good Work. However, you made your life way too difficult. Try to utilise the function that torch provides nothing more is needed to expect matplotlip for plotting. x_bar = torch.mean(X) and t_bar = torch.mean(T) can be calculated like this from there it is only writing the equations as shown, hint check out torch.sum() (TASK 1)\n",
    "\n",
    "Moreover, the data generation in the function noisy data is wrong, try to use the noise parameter e.g. torch.distributions.uniform.Uniform(-noise, noise).sample(x.shape) Similar the input data can be generated torch.distributions.uniform.Uniform(-5,5).sample([50]) (TASK 2) \n",
    "As you generated the data wrong you had problems in the subsequent tasks 3,4. Task 5 seems to be solved alright"
   ]
  },
  {
   "cell_type": "code",
   "execution_count": 1,
   "metadata": {},
   "outputs": [],
   "source": [
    "import torch\n",
    "\n",
    "def regression(X, T):\n",
    "  \"\"\"Performs linear regression for the given input and target values.\n",
    "  For the optimal line y=a*x+b, it returns the parameters a and b\"\"\"\n",
    "  # compute means of the inputs and the targets\n",
    "  x_bar = torch.mean(X) \n",
    "  t_bar = torch.mean(T)\n",
    "\n",
    "  # compute variables a and b according to the above equations\n",
    "  a = torch.sum((X - x_bar) * (T - t_bar)) / torch.sum((X - x_bar) ** 2)\n",
    "  b = t_bar - a * x_bar\n",
    "\n",
    "  # return the two variables\n",
    "  return a, b\n"
   ]
  },
  {
   "cell_type": "markdown",
   "metadata": {},
   "source": [
    "## Task 2: Linear Data\n",
    "\n",
    "Generate some noisy linear data:\n",
    "$$t_n = a^* \\cdot x_n + b^* + \\xi$$\n",
    "where the noise is uniformly distributed $\\xi\\in[-.4,.4]$, and $a$ and $b$ can be chosen arbitrarily.\n",
    "\n",
    "In total, select $N=50$ samples with $x_n$ uniformly distributed in range $[-5,5]$.\n",
    "Compute the according noisy targets $t_n$.\n",
    "You can choose $a^*=0.3$ and $b^*=20$, or parameters of your own choice."
   ]
  },
  {
   "cell_type": "code",
   "execution_count": 9,
   "metadata": {},
   "outputs": [],
   "source": [
    "def line(x, a, b):\n",
    "  \"\"\"Returns the output a * x + b for the given parameters\"\"\"\n",
    "  return a * x + b\n",
    "\n",
    "def noisy_data(x, a_star, b_star, noise = .4):\n",
    "  \"\"\"Returns the noisy target data by \n",
    "  - first computing the line according to parameters a_star and b_star, \n",
    "  - and second adding uniformly distributed noise\"\"\"\n",
    "  return line(x,a_star,b_star) + torch.distributions.uniform.Uniform(-noise, noise).sample(x.shape)\n",
    "\n",
    "# sample uniformly values for X\n",
    "X = torch.distributions.uniform.Uniform(-5,5).sample([50])\n",
    "# generate the noisy target data for these input samples\n",
    "T = noisy_data(X, .3, 20)"
   ]
  },
  {
   "cell_type": "code",
   "execution_count": 12,
   "metadata": {},
   "outputs": [
    {
     "data": {
      "text/plain": [
       "tensor([19.4405, 19.2338, 19.9876, 19.6439, 20.5148, 21.4032, 18.6297, 19.6612,\n",
       "        20.5299, 21.1482, 20.1704, 20.9917, 20.6986, 19.0877, 21.4348, 20.3374,\n",
       "        19.7823, 20.8694, 18.4731, 20.4581, 20.4053, 19.0391, 19.8846, 19.1593,\n",
       "        18.9241, 21.2755, 19.9453, 19.3123, 21.0421, 21.1228, 20.9367, 19.7844,\n",
       "        19.9806, 20.8719, 20.2516, 18.5555, 20.8326, 19.6853, 19.4100, 19.6612,\n",
       "        19.3270, 20.2339, 21.1514, 19.8636, 21.4566, 20.4176, 21.0036, 21.1212,\n",
       "        18.7658, 20.8639])"
      ]
     },
     "execution_count": 12,
     "metadata": {},
     "output_type": "execute_result"
    }
   ],
   "source": [
    "T"
   ]
  },
  {
   "cell_type": "markdown",
   "metadata": {},
   "source": [
    "## Task 3: Obtain Line Parameters\n",
    "\n",
    "Compute the regression line for our data and print the resulting values for $a$ and $b$.\n",
    "How much do these values deviate from the values $a^*$ and $b^*$ selected to compute the noisy data above?"
   ]
  },
  {
   "cell_type": "code",
   "execution_count": 10,
   "metadata": {},
   "outputs": [
    {
     "name": "stdout",
     "output_type": "stream",
     "text": [
      "The optimal line is a=0.28536, and b=20.02734\n"
     ]
    }
   ],
   "source": [
    "a, b = regression(X, T)\n",
    "\n",
    "print (f\"The optimal line is a={a:2.5f}, and b={b:2.5f}\")"
   ]
  },
  {
   "cell_type": "markdown",
   "metadata": {},
   "source": [
    "## Task 4: Plot Data and Lines\n",
    "\n",
    "Obtain the values of the line according to the optimized parameters.\n",
    "Plot the line and the data points together in one plot."
   ]
  },
  {
   "cell_type": "code",
   "execution_count": 11,
   "metadata": {},
   "outputs": [
    {
     "data": {
      "text/plain": [
       "[<matplotlib.lines.Line2D at 0x169941070>]"
      ]
     },
     "execution_count": 11,
     "metadata": {},
     "output_type": "execute_result"
    },
    {
     "data": {
      "image/png": "[encoded data removed]",
      "text/plain": [
       "<Figure size 432x288 with 1 Axes>"
      ]
     },
     "metadata": {
      "needs_background": "light"
     },
     "output_type": "display_data"
    }
   ],
   "source": [
    "from matplotlib import pyplot\n",
    "\n",
    "# obtain the points of the line according to the estimated parameters a and b\n",
    "Y = line(X, a, b)\n",
    "\n",
    "# plot the optimized line\n",
    "pyplot.plot(X, Y, \"r-\")\n",
    "\n",
    "# plot the data points\n",
    "pyplot.plot(X, T, \"kx\")"
   ]
  },
  {
   "cell_type": "markdown",
   "metadata": {},
   "source": [
    "## Task 4: Non-linear Data\n",
    "\n",
    "Create target values that do not follow a line, for example:\n",
    "\n",
    "$$t_n = \\sin(x_n)$$\n",
    "\n",
    "Compute the line parameters and plot the data and the estimated line into one plot."
   ]
  },
  {
   "cell_type": "code",
   "execution_count": 5,
   "metadata": {},
   "outputs": [
    {
     "data": {
      "text/plain": [
       "[<matplotlib.lines.Line2D at 0x1697e7ac0>]"
      ]
     },
     "execution_count": 5,
     "metadata": {},
     "output_type": "execute_result"
    },
    {
     "data": {
      "image/png": "[encoded data removed]",
      "text/plain": [
       "<Figure size 432x288 with 1 Axes>"
      ]
     },
     "metadata": {
      "needs_background": "light"
     },
     "output_type": "display_data"
    }
   ],
   "source": [
    "T = torch.sin(X)\n",
    "a, b = regression(X, T)\n",
    "\n",
    "# plot the line\n",
    "Y = line(X, a, b)\n",
    "pyplot.plot(X, Y, \"r-\")\n",
    "\n",
    "# plot the points\n",
    "pyplot.plot(X, T, \"kx\")\n"
   ]
  },
  {
   "cell_type": "code",
   "execution_count": null,
   "metadata": {},
   "outputs": [],
   "source": []
  }
 ],
 "metadata": {
  "kernelspec": {
   "display_name": "Python 3.9.13 ('telegram')",
   "language": "python",
   "name": "python3"
  },
  "language_info": {
   "codemirror_mode": {
    "name": "ipython",
    "version": 3
   },
   "file_extension": ".py",
   "mimetype": "text/x-python",
   "name": "python",
   "nbconvert_exporter": "python",
   "pygments_lexer": "ipython3",
   "version": "3.9.13"
  },
  "orig_nbformat": 4,
  "vscode": {
   "interpreter": {
    "hash": "d2386c381fab908a4e48f3c5849d193fc799b9f792c037a48abb7a588aa93a14"
   }
  }
 },
 "nbformat": 4,
 "nbformat_minor": 2
}
